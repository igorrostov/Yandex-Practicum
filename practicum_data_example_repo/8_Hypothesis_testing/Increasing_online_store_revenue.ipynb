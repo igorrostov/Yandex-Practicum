{
 "cells": [
  {
   "cell_type": "markdown",
   "metadata": {},
   "source": [
    "### Часть 1. Приоритизация гипотез."
   ]
  },
  {
   "cell_type": "code",
   "execution_count": 48,
   "metadata": {},
   "outputs": [],
   "source": [
    "# Импортирум необходимые библиотеки\n",
    "import pandas as pd\n",
    "import datetime as dt\n",
    "import numpy as np\n",
    "import scipy.stats as stats\n",
    "import matplotlib.pyplot as plt\n",
    "from pandas.plotting import register_matplotlib_converters\n",
    "import warnings\n",
    "# конвертеры, которые позволяют использовать типы pandas в matplotlib  \n",
    "register_matplotlib_converters()\n",
    "\n",
    "# Опция 'max_colwidth' помогает увидеть неусеченную \n",
    "# форму вывода на экран каждого столбца\n",
    "pd.set_option('display.max_colwidth', 200)"
   ]
  },
  {
   "cell_type": "code",
   "execution_count": 49,
   "metadata": {},
   "outputs": [],
   "source": [
    "# Загрузим датасет\n",
    "try:\n",
    "    hypothesis = pd.read_csv('/datasets/hypothesis.csv')\n",
    "except:\n",
    "    hypothesis = pd.read_csv(r'C:\\Users\\User\\OneDrive\\Education\\1_Ya_DA\\13_decision_making_in_business\\project_a_b_test\\hypothesis.csv')"
   ]
  },
  {
   "cell_type": "code",
   "execution_count": 50,
   "metadata": {},
   "outputs": [
    {
     "data": {
      "text/html": [
       "<div>\n",
       "<style scoped>\n",
       "    .dataframe tbody tr th:only-of-type {\n",
       "        vertical-align: middle;\n",
       "    }\n",
       "\n",
       "    .dataframe tbody tr th {\n",
       "        vertical-align: top;\n",
       "    }\n",
       "\n",
       "    .dataframe thead th {\n",
       "        text-align: right;\n",
       "    }\n",
       "</style>\n",
       "<table border=\"1\" class=\"dataframe\">\n",
       "  <thead>\n",
       "    <tr style=\"text-align: right;\">\n",
       "      <th></th>\n",
       "      <th>Hypothesis</th>\n",
       "      <th>Reach</th>\n",
       "      <th>Impact</th>\n",
       "      <th>Confidence</th>\n",
       "      <th>Efforts</th>\n",
       "    </tr>\n",
       "  </thead>\n",
       "  <tbody>\n",
       "    <tr>\n",
       "      <th>0</th>\n",
       "      <td>Добавить два новых канала привлечения трафика, что позволит привлекать на 30% больше пользователей</td>\n",
       "      <td>3</td>\n",
       "      <td>10</td>\n",
       "      <td>8</td>\n",
       "      <td>6</td>\n",
       "    </tr>\n",
       "    <tr>\n",
       "      <th>1</th>\n",
       "      <td>Запустить собственную службу доставки, что сократит срок доставки заказов</td>\n",
       "      <td>2</td>\n",
       "      <td>5</td>\n",
       "      <td>4</td>\n",
       "      <td>10</td>\n",
       "    </tr>\n",
       "    <tr>\n",
       "      <th>2</th>\n",
       "      <td>Добавить блоки рекомендаций товаров на сайт интернет магазина, чтобы повысить конверсию и средний чек заказа</td>\n",
       "      <td>8</td>\n",
       "      <td>3</td>\n",
       "      <td>7</td>\n",
       "      <td>3</td>\n",
       "    </tr>\n",
       "    <tr>\n",
       "      <th>3</th>\n",
       "      <td>Изменить структура категорий, что увеличит конверсию, т.к. пользователи быстрее найдут нужный товар</td>\n",
       "      <td>8</td>\n",
       "      <td>3</td>\n",
       "      <td>3</td>\n",
       "      <td>8</td>\n",
       "    </tr>\n",
       "    <tr>\n",
       "      <th>4</th>\n",
       "      <td>Изменить цвет фона главной страницы, чтобы увеличить вовлеченность пользователей</td>\n",
       "      <td>3</td>\n",
       "      <td>1</td>\n",
       "      <td>1</td>\n",
       "      <td>1</td>\n",
       "    </tr>\n",
       "    <tr>\n",
       "      <th>5</th>\n",
       "      <td>Добавить страницу отзывов клиентов о магазине, что позволит увеличить количество заказов</td>\n",
       "      <td>3</td>\n",
       "      <td>2</td>\n",
       "      <td>2</td>\n",
       "      <td>3</td>\n",
       "    </tr>\n",
       "    <tr>\n",
       "      <th>6</th>\n",
       "      <td>Показать на главной странице баннеры с актуальными акциями и распродажами, чтобы увеличить конверсию</td>\n",
       "      <td>5</td>\n",
       "      <td>3</td>\n",
       "      <td>8</td>\n",
       "      <td>3</td>\n",
       "    </tr>\n",
       "    <tr>\n",
       "      <th>7</th>\n",
       "      <td>Добавить форму подписки на все основные страницы, чтобы собрать базу клиентов для email-рассылок</td>\n",
       "      <td>10</td>\n",
       "      <td>7</td>\n",
       "      <td>8</td>\n",
       "      <td>5</td>\n",
       "    </tr>\n",
       "    <tr>\n",
       "      <th>8</th>\n",
       "      <td>Запустить акцию, дающую скидку на товар в день рождения</td>\n",
       "      <td>1</td>\n",
       "      <td>9</td>\n",
       "      <td>9</td>\n",
       "      <td>5</td>\n",
       "    </tr>\n",
       "  </tbody>\n",
       "</table>\n",
       "</div>"
      ],
      "text/plain": [
       "                                                                                                     Hypothesis  \\\n",
       "0            Добавить два новых канала привлечения трафика, что позволит привлекать на 30% больше пользователей   \n",
       "1                                     Запустить собственную службу доставки, что сократит срок доставки заказов   \n",
       "2  Добавить блоки рекомендаций товаров на сайт интернет магазина, чтобы повысить конверсию и средний чек заказа   \n",
       "3           Изменить структура категорий, что увеличит конверсию, т.к. пользователи быстрее найдут нужный товар   \n",
       "4                              Изменить цвет фона главной страницы, чтобы увеличить вовлеченность пользователей   \n",
       "5                      Добавить страницу отзывов клиентов о магазине, что позволит увеличить количество заказов   \n",
       "6          Показать на главной странице баннеры с актуальными акциями и распродажами, чтобы увеличить конверсию   \n",
       "7              Добавить форму подписки на все основные страницы, чтобы собрать базу клиентов для email-рассылок   \n",
       "8                                                       Запустить акцию, дающую скидку на товар в день рождения   \n",
       "\n",
       "   Reach  Impact  Confidence  Efforts  \n",
       "0      3      10           8        6  \n",
       "1      2       5           4       10  \n",
       "2      8       3           7        3  \n",
       "3      8       3           3        8  \n",
       "4      3       1           1        1  \n",
       "5      3       2           2        3  \n",
       "6      5       3           8        3  \n",
       "7     10       7           8        5  \n",
       "8      1       9           9        5  "
      ]
     },
     "execution_count": 50,
     "metadata": {},
     "output_type": "execute_result"
    }
   ],
   "source": [
    "# Посмотрим первые десять строк датасета\n",
    "hypothesis.head(10)"
   ]
  },
  {
   "cell_type": "code",
   "execution_count": 51,
   "metadata": {},
   "outputs": [
    {
     "name": "stdout",
     "output_type": "stream",
     "text": [
      "<class 'pandas.core.frame.DataFrame'>\n",
      "RangeIndex: 9 entries, 0 to 8\n",
      "Data columns (total 5 columns):\n",
      " #   Column      Non-Null Count  Dtype \n",
      "---  ------      --------------  ----- \n",
      " 0   Hypothesis  9 non-null      object\n",
      " 1   Reach       9 non-null      int64 \n",
      " 2   Impact      9 non-null      int64 \n",
      " 3   Confidence  9 non-null      int64 \n",
      " 4   Efforts     9 non-null      int64 \n",
      "dtypes: int64(4), object(1)\n",
      "memory usage: 488.0+ bytes\n"
     ]
    }
   ],
   "source": [
    "# Выведем статистику датасета\n",
    "hypothesis.info()"
   ]
  },
  {
   "cell_type": "code",
   "execution_count": 52,
   "metadata": {},
   "outputs": [],
   "source": [
    "# Приведём названия колонок к нижнему регистру в соответствии с хорошим стилем\n",
    "hypothesis.columns = hypothesis.columns.str.lower()"
   ]
  },
  {
   "cell_type": "code",
   "execution_count": 53,
   "metadata": {
    "scrolled": true
   },
   "outputs": [
    {
     "data": {
      "text/html": [
       "<div>\n",
       "<style scoped>\n",
       "    .dataframe tbody tr th:only-of-type {\n",
       "        vertical-align: middle;\n",
       "    }\n",
       "\n",
       "    .dataframe tbody tr th {\n",
       "        vertical-align: top;\n",
       "    }\n",
       "\n",
       "    .dataframe thead th {\n",
       "        text-align: right;\n",
       "    }\n",
       "</style>\n",
       "<table border=\"1\" class=\"dataframe\">\n",
       "  <thead>\n",
       "    <tr style=\"text-align: right;\">\n",
       "      <th></th>\n",
       "      <th>hypothesis</th>\n",
       "      <th>reach</th>\n",
       "      <th>impact</th>\n",
       "      <th>confidence</th>\n",
       "      <th>efforts</th>\n",
       "    </tr>\n",
       "  </thead>\n",
       "  <tbody>\n",
       "    <tr>\n",
       "      <th>Гипотеза 1</th>\n",
       "      <td>Добавить два новых канала привлечения трафика, что позволит привлекать на 30% больше пользователей</td>\n",
       "      <td>3</td>\n",
       "      <td>10</td>\n",
       "      <td>8</td>\n",
       "      <td>6</td>\n",
       "    </tr>\n",
       "    <tr>\n",
       "      <th>Гипотеза 2</th>\n",
       "      <td>Запустить собственную службу доставки, что сократит срок доставки заказов</td>\n",
       "      <td>2</td>\n",
       "      <td>5</td>\n",
       "      <td>4</td>\n",
       "      <td>10</td>\n",
       "    </tr>\n",
       "    <tr>\n",
       "      <th>Гипотеза 3</th>\n",
       "      <td>Добавить блоки рекомендаций товаров на сайт интернет магазина, чтобы повысить конверсию и средний чек заказа</td>\n",
       "      <td>8</td>\n",
       "      <td>3</td>\n",
       "      <td>7</td>\n",
       "      <td>3</td>\n",
       "    </tr>\n",
       "    <tr>\n",
       "      <th>Гипотеза 4</th>\n",
       "      <td>Изменить структура категорий, что увеличит конверсию, т.к. пользователи быстрее найдут нужный товар</td>\n",
       "      <td>8</td>\n",
       "      <td>3</td>\n",
       "      <td>3</td>\n",
       "      <td>8</td>\n",
       "    </tr>\n",
       "    <tr>\n",
       "      <th>Гипотеза 5</th>\n",
       "      <td>Изменить цвет фона главной страницы, чтобы увеличить вовлеченность пользователей</td>\n",
       "      <td>3</td>\n",
       "      <td>1</td>\n",
       "      <td>1</td>\n",
       "      <td>1</td>\n",
       "    </tr>\n",
       "    <tr>\n",
       "      <th>Гипотеза 6</th>\n",
       "      <td>Добавить страницу отзывов клиентов о магазине, что позволит увеличить количество заказов</td>\n",
       "      <td>3</td>\n",
       "      <td>2</td>\n",
       "      <td>2</td>\n",
       "      <td>3</td>\n",
       "    </tr>\n",
       "    <tr>\n",
       "      <th>Гипотеза 7</th>\n",
       "      <td>Показать на главной странице баннеры с актуальными акциями и распродажами, чтобы увеличить конверсию</td>\n",
       "      <td>5</td>\n",
       "      <td>3</td>\n",
       "      <td>8</td>\n",
       "      <td>3</td>\n",
       "    </tr>\n",
       "    <tr>\n",
       "      <th>Гипотеза 8</th>\n",
       "      <td>Добавить форму подписки на все основные страницы, чтобы собрать базу клиентов для email-рассылок</td>\n",
       "      <td>10</td>\n",
       "      <td>7</td>\n",
       "      <td>8</td>\n",
       "      <td>5</td>\n",
       "    </tr>\n",
       "    <tr>\n",
       "      <th>Гипотеза 9</th>\n",
       "      <td>Запустить акцию, дающую скидку на товар в день рождения</td>\n",
       "      <td>1</td>\n",
       "      <td>9</td>\n",
       "      <td>9</td>\n",
       "      <td>5</td>\n",
       "    </tr>\n",
       "  </tbody>\n",
       "</table>\n",
       "</div>"
      ],
      "text/plain": [
       "                                                                                                              hypothesis  \\\n",
       "Гипотеза 1            Добавить два новых канала привлечения трафика, что позволит привлекать на 30% больше пользователей   \n",
       "Гипотеза 2                                     Запустить собственную службу доставки, что сократит срок доставки заказов   \n",
       "Гипотеза 3  Добавить блоки рекомендаций товаров на сайт интернет магазина, чтобы повысить конверсию и средний чек заказа   \n",
       "Гипотеза 4           Изменить структура категорий, что увеличит конверсию, т.к. пользователи быстрее найдут нужный товар   \n",
       "Гипотеза 5                              Изменить цвет фона главной страницы, чтобы увеличить вовлеченность пользователей   \n",
       "Гипотеза 6                      Добавить страницу отзывов клиентов о магазине, что позволит увеличить количество заказов   \n",
       "Гипотеза 7          Показать на главной странице баннеры с актуальными акциями и распродажами, чтобы увеличить конверсию   \n",
       "Гипотеза 8              Добавить форму подписки на все основные страницы, чтобы собрать базу клиентов для email-рассылок   \n",
       "Гипотеза 9                                                       Запустить акцию, дающую скидку на товар в день рождения   \n",
       "\n",
       "            reach  impact  confidence  efforts  \n",
       "Гипотеза 1      3      10           8        6  \n",
       "Гипотеза 2      2       5           4       10  \n",
       "Гипотеза 3      8       3           7        3  \n",
       "Гипотеза 4      8       3           3        8  \n",
       "Гипотеза 5      3       1           1        1  \n",
       "Гипотеза 6      3       2           2        3  \n",
       "Гипотеза 7      5       3           8        3  \n",
       "Гипотеза 8     10       7           8        5  \n",
       "Гипотеза 9      1       9           9        5  "
      ]
     },
     "execution_count": 53,
     "metadata": {},
     "output_type": "execute_result"
    }
   ],
   "source": [
    "# Добавим наименование гипотезы для наглядности\n",
    "hypothesis = hypothesis.rename(index = lambda x: x+1)\n",
    "hypothesis.index = 'Гипотеза ' + hypothesis.index.astype(str)\n",
    "hypothesis"
   ]
  },
  {
   "cell_type": "code",
   "execution_count": 54,
   "metadata": {},
   "outputs": [
    {
     "data": {
      "text/html": [
       "<div>\n",
       "<style scoped>\n",
       "    .dataframe tbody tr th:only-of-type {\n",
       "        vertical-align: middle;\n",
       "    }\n",
       "\n",
       "    .dataframe tbody tr th {\n",
       "        vertical-align: top;\n",
       "    }\n",
       "\n",
       "    .dataframe thead th {\n",
       "        text-align: right;\n",
       "    }\n",
       "</style>\n",
       "<table border=\"1\" class=\"dataframe\">\n",
       "  <thead>\n",
       "    <tr style=\"text-align: right;\">\n",
       "      <th></th>\n",
       "      <th>hypothesis</th>\n",
       "      <th>ice</th>\n",
       "    </tr>\n",
       "  </thead>\n",
       "  <tbody>\n",
       "    <tr>\n",
       "      <th>Гипотеза 9</th>\n",
       "      <td>Запустить акцию, дающую скидку на товар в день рождения</td>\n",
       "      <td>16.20</td>\n",
       "    </tr>\n",
       "    <tr>\n",
       "      <th>Гипотеза 1</th>\n",
       "      <td>Добавить два новых канала привлечения трафика, что позволит привлекать на 30% больше пользователей</td>\n",
       "      <td>13.33</td>\n",
       "    </tr>\n",
       "    <tr>\n",
       "      <th>Гипотеза 8</th>\n",
       "      <td>Добавить форму подписки на все основные страницы, чтобы собрать базу клиентов для email-рассылок</td>\n",
       "      <td>11.20</td>\n",
       "    </tr>\n",
       "    <tr>\n",
       "      <th>Гипотеза 7</th>\n",
       "      <td>Показать на главной странице баннеры с актуальными акциями и распродажами, чтобы увеличить конверсию</td>\n",
       "      <td>8.00</td>\n",
       "    </tr>\n",
       "    <tr>\n",
       "      <th>Гипотеза 3</th>\n",
       "      <td>Добавить блоки рекомендаций товаров на сайт интернет магазина, чтобы повысить конверсию и средний чек заказа</td>\n",
       "      <td>7.00</td>\n",
       "    </tr>\n",
       "    <tr>\n",
       "      <th>Гипотеза 2</th>\n",
       "      <td>Запустить собственную службу доставки, что сократит срок доставки заказов</td>\n",
       "      <td>2.00</td>\n",
       "    </tr>\n",
       "    <tr>\n",
       "      <th>Гипотеза 6</th>\n",
       "      <td>Добавить страницу отзывов клиентов о магазине, что позволит увеличить количество заказов</td>\n",
       "      <td>1.33</td>\n",
       "    </tr>\n",
       "    <tr>\n",
       "      <th>Гипотеза 4</th>\n",
       "      <td>Изменить структура категорий, что увеличит конверсию, т.к. пользователи быстрее найдут нужный товар</td>\n",
       "      <td>1.12</td>\n",
       "    </tr>\n",
       "    <tr>\n",
       "      <th>Гипотеза 5</th>\n",
       "      <td>Изменить цвет фона главной страницы, чтобы увеличить вовлеченность пользователей</td>\n",
       "      <td>1.00</td>\n",
       "    </tr>\n",
       "  </tbody>\n",
       "</table>\n",
       "</div>"
      ],
      "text/plain": [
       "                                                                                                              hypothesis  \\\n",
       "Гипотеза 9                                                       Запустить акцию, дающую скидку на товар в день рождения   \n",
       "Гипотеза 1            Добавить два новых канала привлечения трафика, что позволит привлекать на 30% больше пользователей   \n",
       "Гипотеза 8              Добавить форму подписки на все основные страницы, чтобы собрать базу клиентов для email-рассылок   \n",
       "Гипотеза 7          Показать на главной странице баннеры с актуальными акциями и распродажами, чтобы увеличить конверсию   \n",
       "Гипотеза 3  Добавить блоки рекомендаций товаров на сайт интернет магазина, чтобы повысить конверсию и средний чек заказа   \n",
       "Гипотеза 2                                     Запустить собственную службу доставки, что сократит срок доставки заказов   \n",
       "Гипотеза 6                      Добавить страницу отзывов клиентов о магазине, что позволит увеличить количество заказов   \n",
       "Гипотеза 4           Изменить структура категорий, что увеличит конверсию, т.к. пользователи быстрее найдут нужный товар   \n",
       "Гипотеза 5                              Изменить цвет фона главной страницы, чтобы увеличить вовлеченность пользователей   \n",
       "\n",
       "              ice  \n",
       "Гипотеза 9  16.20  \n",
       "Гипотеза 1  13.33  \n",
       "Гипотеза 8  11.20  \n",
       "Гипотеза 7   8.00  \n",
       "Гипотеза 3   7.00  \n",
       "Гипотеза 2   2.00  \n",
       "Гипотеза 6   1.33  \n",
       "Гипотеза 4   1.12  \n",
       "Гипотеза 5   1.00  "
      ]
     },
     "execution_count": 54,
     "metadata": {},
     "output_type": "execute_result"
    }
   ],
   "source": [
    "# Применим фреймворк ICE для приоритизации гипотез. Отсортируем их по убыванию приоритета.\n",
    "hypothesis['ice'] = hypothesis['impact'] * hypothesis['confidence'] / hypothesis['efforts']\n",
    "round(hypothesis[['hypothesis', 'ice']].sort_values('ice', ascending=False), 2)                "
   ]
  },
  {
   "cell_type": "code",
   "execution_count": 55,
   "metadata": {},
   "outputs": [
    {
     "data": {
      "text/html": [
       "<div>\n",
       "<style scoped>\n",
       "    .dataframe tbody tr th:only-of-type {\n",
       "        vertical-align: middle;\n",
       "    }\n",
       "\n",
       "    .dataframe tbody tr th {\n",
       "        vertical-align: top;\n",
       "    }\n",
       "\n",
       "    .dataframe thead th {\n",
       "        text-align: right;\n",
       "    }\n",
       "</style>\n",
       "<table border=\"1\" class=\"dataframe\">\n",
       "  <thead>\n",
       "    <tr style=\"text-align: right;\">\n",
       "      <th></th>\n",
       "      <th>hypothesis</th>\n",
       "      <th>rice</th>\n",
       "    </tr>\n",
       "  </thead>\n",
       "  <tbody>\n",
       "    <tr>\n",
       "      <th>Гипотеза 8</th>\n",
       "      <td>Добавить форму подписки на все основные страницы, чтобы собрать базу клиентов для email-рассылок</td>\n",
       "      <td>112.0</td>\n",
       "    </tr>\n",
       "    <tr>\n",
       "      <th>Гипотеза 3</th>\n",
       "      <td>Добавить блоки рекомендаций товаров на сайт интернет магазина, чтобы повысить конверсию и средний чек заказа</td>\n",
       "      <td>56.0</td>\n",
       "    </tr>\n",
       "    <tr>\n",
       "      <th>Гипотеза 1</th>\n",
       "      <td>Добавить два новых канала привлечения трафика, что позволит привлекать на 30% больше пользователей</td>\n",
       "      <td>40.0</td>\n",
       "    </tr>\n",
       "    <tr>\n",
       "      <th>Гипотеза 7</th>\n",
       "      <td>Показать на главной странице баннеры с актуальными акциями и распродажами, чтобы увеличить конверсию</td>\n",
       "      <td>40.0</td>\n",
       "    </tr>\n",
       "    <tr>\n",
       "      <th>Гипотеза 9</th>\n",
       "      <td>Запустить акцию, дающую скидку на товар в день рождения</td>\n",
       "      <td>16.2</td>\n",
       "    </tr>\n",
       "    <tr>\n",
       "      <th>Гипотеза 4</th>\n",
       "      <td>Изменить структура категорий, что увеличит конверсию, т.к. пользователи быстрее найдут нужный товар</td>\n",
       "      <td>9.0</td>\n",
       "    </tr>\n",
       "    <tr>\n",
       "      <th>Гипотеза 2</th>\n",
       "      <td>Запустить собственную службу доставки, что сократит срок доставки заказов</td>\n",
       "      <td>4.0</td>\n",
       "    </tr>\n",
       "    <tr>\n",
       "      <th>Гипотеза 6</th>\n",
       "      <td>Добавить страницу отзывов клиентов о магазине, что позволит увеличить количество заказов</td>\n",
       "      <td>4.0</td>\n",
       "    </tr>\n",
       "    <tr>\n",
       "      <th>Гипотеза 5</th>\n",
       "      <td>Изменить цвет фона главной страницы, чтобы увеличить вовлеченность пользователей</td>\n",
       "      <td>3.0</td>\n",
       "    </tr>\n",
       "  </tbody>\n",
       "</table>\n",
       "</div>"
      ],
      "text/plain": [
       "                                                                                                              hypothesis  \\\n",
       "Гипотеза 8              Добавить форму подписки на все основные страницы, чтобы собрать базу клиентов для email-рассылок   \n",
       "Гипотеза 3  Добавить блоки рекомендаций товаров на сайт интернет магазина, чтобы повысить конверсию и средний чек заказа   \n",
       "Гипотеза 1            Добавить два новых канала привлечения трафика, что позволит привлекать на 30% больше пользователей   \n",
       "Гипотеза 7          Показать на главной странице баннеры с актуальными акциями и распродажами, чтобы увеличить конверсию   \n",
       "Гипотеза 9                                                       Запустить акцию, дающую скидку на товар в день рождения   \n",
       "Гипотеза 4           Изменить структура категорий, что увеличит конверсию, т.к. пользователи быстрее найдут нужный товар   \n",
       "Гипотеза 2                                     Запустить собственную службу доставки, что сократит срок доставки заказов   \n",
       "Гипотеза 6                      Добавить страницу отзывов клиентов о магазине, что позволит увеличить количество заказов   \n",
       "Гипотеза 5                              Изменить цвет фона главной страницы, чтобы увеличить вовлеченность пользователей   \n",
       "\n",
       "             rice  \n",
       "Гипотеза 8  112.0  \n",
       "Гипотеза 3   56.0  \n",
       "Гипотеза 1   40.0  \n",
       "Гипотеза 7   40.0  \n",
       "Гипотеза 9   16.2  \n",
       "Гипотеза 4    9.0  \n",
       "Гипотеза 2    4.0  \n",
       "Гипотеза 6    4.0  \n",
       "Гипотеза 5    3.0  "
      ]
     },
     "execution_count": 55,
     "metadata": {},
     "output_type": "execute_result"
    }
   ],
   "source": [
    "# Применим фреймворк RICE для приоритизации гипотез. Отсортируем их по убыванию приоритета.\n",
    "hypothesis['rice'] = hypothesis['reach'] * hypothesis['impact'] * hypothesis['confidence'] / hypothesis['efforts']\n",
    "hypothesis[['hypothesis', 'rice']].sort_values('rice', ascending=False)                   "
   ]
  },
  {
   "cell_type": "markdown",
   "metadata": {},
   "source": [
    "Вывод\n",
    "\n",
    "При применении фреймворка ICE на первых трёх местах оказались:\n",
    "- гипотеза 9 - запустить акцию, дающую скидку на товар в день рождения;\n",
    "- гипотеза 1 - добавить два новых канала привлечения трафика, что позволит привлекать на 30% больше пользователей;\n",
    "- гипотеза 8- добавить форму подписки на все основные страницы, чтобы собрать базу клиентов для email-рассылок.\n",
    "\n",
    "При применении фреймворка RICE на первых трёх местах: \n",
    "- гипотеза 8 - добавить форму подписки на все основные страницы, чтобы собрать базу клиентов для email-рассылок;\n",
    "- гипотеза 3 - добавить блоки рекомендаций товаров на сайт интернет магазина, чтобы повысить конверсию и средний чек заказа;\n",
    "- гипотеза 1 - добавить два новых канала привлечения трафика, что позволит привлекать на 30% больше пользователей.\n",
    "\n",
    "Фреймворк RICE в отличае от фреймворка ICE, включает в себя параметр 'reach' (охват), который измеряется количеством людей/событий за период времени. При оценке гипотез фреймворком RICE, на первом месте гипотеза 8, её оценка более чем в два раза больше гипотезы 3, которая на втором месте. Предположу, что это явилось результатом применения параметра \"reach\". В фреймворке ICE параметр 'reach' не учитывается, поэтому гипотеза 8 оказалась на третьем месте.  \n",
    "Приоритетными будут гипотезы 8, 3, 1."
   ]
  },
  {
   "cell_type": "markdown",
   "metadata": {},
   "source": [
    "### Часть 2. Анализ А/В-теста."
   ]
  },
  {
   "cell_type": "code",
   "execution_count": 56,
   "metadata": {},
   "outputs": [],
   "source": [
    "# Загрузим датасеты\n",
    "try:\n",
    "    orders, visitors = (\n",
    "        pd.read_csv('/datasets/orders.csv'),\n",
    "        pd.read_csv('/datasets/visitors.csv')\n",
    "    )\n",
    "except:\n",
    "    orders, visitors = (\n",
    "        pd.read_csv(r'C:\\Users\\User\\OneDrive\\Education\\1_Ya_DA\\13_decision_making_in_business\\project_a_b_test\\orders.csv'),\n",
    "        pd.read_csv(r'C:\\Users\\User\\OneDrive\\Education\\1_Ya_DA\\13_decision_making_in_business\\project_a_b_test\\visitors.csv')\n",
    "    )"
   ]
  },
  {
   "cell_type": "code",
   "execution_count": 57,
   "metadata": {},
   "outputs": [
    {
     "data": {
      "text/html": [
       "<div>\n",
       "<style scoped>\n",
       "    .dataframe tbody tr th:only-of-type {\n",
       "        vertical-align: middle;\n",
       "    }\n",
       "\n",
       "    .dataframe tbody tr th {\n",
       "        vertical-align: top;\n",
       "    }\n",
       "\n",
       "    .dataframe thead th {\n",
       "        text-align: right;\n",
       "    }\n",
       "</style>\n",
       "<table border=\"1\" class=\"dataframe\">\n",
       "  <thead>\n",
       "    <tr style=\"text-align: right;\">\n",
       "      <th></th>\n",
       "      <th>transactionId</th>\n",
       "      <th>visitorId</th>\n",
       "      <th>date</th>\n",
       "      <th>revenue</th>\n",
       "      <th>group</th>\n",
       "    </tr>\n",
       "  </thead>\n",
       "  <tbody>\n",
       "    <tr>\n",
       "      <th>0</th>\n",
       "      <td>3667963787</td>\n",
       "      <td>3312258926</td>\n",
       "      <td>2019-08-15</td>\n",
       "      <td>1650</td>\n",
       "      <td>B</td>\n",
       "    </tr>\n",
       "    <tr>\n",
       "      <th>1</th>\n",
       "      <td>2804400009</td>\n",
       "      <td>3642806036</td>\n",
       "      <td>2019-08-15</td>\n",
       "      <td>730</td>\n",
       "      <td>B</td>\n",
       "    </tr>\n",
       "    <tr>\n",
       "      <th>2</th>\n",
       "      <td>2961555356</td>\n",
       "      <td>4069496402</td>\n",
       "      <td>2019-08-15</td>\n",
       "      <td>400</td>\n",
       "      <td>A</td>\n",
       "    </tr>\n",
       "    <tr>\n",
       "      <th>3</th>\n",
       "      <td>3797467345</td>\n",
       "      <td>1196621759</td>\n",
       "      <td>2019-08-15</td>\n",
       "      <td>9759</td>\n",
       "      <td>B</td>\n",
       "    </tr>\n",
       "    <tr>\n",
       "      <th>4</th>\n",
       "      <td>2282983706</td>\n",
       "      <td>2322279887</td>\n",
       "      <td>2019-08-15</td>\n",
       "      <td>2308</td>\n",
       "      <td>B</td>\n",
       "    </tr>\n",
       "  </tbody>\n",
       "</table>\n",
       "</div>"
      ],
      "text/plain": [
       "   transactionId   visitorId        date  revenue group\n",
       "0     3667963787  3312258926  2019-08-15     1650     B\n",
       "1     2804400009  3642806036  2019-08-15      730     B\n",
       "2     2961555356  4069496402  2019-08-15      400     A\n",
       "3     3797467345  1196621759  2019-08-15     9759     B\n",
       "4     2282983706  2322279887  2019-08-15     2308     B"
      ]
     },
     "execution_count": 57,
     "metadata": {},
     "output_type": "execute_result"
    }
   ],
   "source": [
    "orders.head()"
   ]
  },
  {
   "cell_type": "code",
   "execution_count": 58,
   "metadata": {},
   "outputs": [
    {
     "name": "stdout",
     "output_type": "stream",
     "text": [
      "<class 'pandas.core.frame.DataFrame'>\n",
      "RangeIndex: 1197 entries, 0 to 1196\n",
      "Data columns (total 5 columns):\n",
      " #   Column         Non-Null Count  Dtype \n",
      "---  ------         --------------  ----- \n",
      " 0   transactionId  1197 non-null   int64 \n",
      " 1   visitorId      1197 non-null   int64 \n",
      " 2   date           1197 non-null   object\n",
      " 3   revenue        1197 non-null   int64 \n",
      " 4   group          1197 non-null   object\n",
      "dtypes: int64(3), object(2)\n",
      "memory usage: 46.9+ KB\n"
     ]
    }
   ],
   "source": [
    "orders.info()"
   ]
  },
  {
   "cell_type": "code",
   "execution_count": 59,
   "metadata": {},
   "outputs": [
    {
     "data": {
      "text/plain": [
       "transactionId    0\n",
       "visitorId        0\n",
       "date             0\n",
       "revenue          0\n",
       "group            0\n",
       "dtype: int64"
      ]
     },
     "execution_count": 59,
     "metadata": {},
     "output_type": "execute_result"
    }
   ],
   "source": [
    "# Проверим датасет на наличие пропущенных значений\n",
    "orders.isna().sum()"
   ]
  },
  {
   "cell_type": "code",
   "execution_count": 60,
   "metadata": {},
   "outputs": [
    {
     "data": {
      "text/plain": [
       "0"
      ]
     },
     "execution_count": 60,
     "metadata": {},
     "output_type": "execute_result"
    }
   ],
   "source": [
    "# Проверим датасет на наличие дубликатов\n",
    "orders.duplicated().sum()"
   ]
  },
  {
   "cell_type": "code",
   "execution_count": 61,
   "metadata": {},
   "outputs": [
    {
     "data": {
      "text/html": [
       "<div>\n",
       "<style scoped>\n",
       "    .dataframe tbody tr th:only-of-type {\n",
       "        vertical-align: middle;\n",
       "    }\n",
       "\n",
       "    .dataframe tbody tr th {\n",
       "        vertical-align: top;\n",
       "    }\n",
       "\n",
       "    .dataframe thead th {\n",
       "        text-align: right;\n",
       "    }\n",
       "</style>\n",
       "<table border=\"1\" class=\"dataframe\">\n",
       "  <thead>\n",
       "    <tr style=\"text-align: right;\">\n",
       "      <th></th>\n",
       "      <th>date</th>\n",
       "      <th>group</th>\n",
       "      <th>visitors</th>\n",
       "    </tr>\n",
       "  </thead>\n",
       "  <tbody>\n",
       "    <tr>\n",
       "      <th>0</th>\n",
       "      <td>2019-08-01</td>\n",
       "      <td>A</td>\n",
       "      <td>719</td>\n",
       "    </tr>\n",
       "    <tr>\n",
       "      <th>1</th>\n",
       "      <td>2019-08-02</td>\n",
       "      <td>A</td>\n",
       "      <td>619</td>\n",
       "    </tr>\n",
       "    <tr>\n",
       "      <th>2</th>\n",
       "      <td>2019-08-03</td>\n",
       "      <td>A</td>\n",
       "      <td>507</td>\n",
       "    </tr>\n",
       "    <tr>\n",
       "      <th>3</th>\n",
       "      <td>2019-08-04</td>\n",
       "      <td>A</td>\n",
       "      <td>717</td>\n",
       "    </tr>\n",
       "    <tr>\n",
       "      <th>4</th>\n",
       "      <td>2019-08-05</td>\n",
       "      <td>A</td>\n",
       "      <td>756</td>\n",
       "    </tr>\n",
       "  </tbody>\n",
       "</table>\n",
       "</div>"
      ],
      "text/plain": [
       "         date group  visitors\n",
       "0  2019-08-01     A       719\n",
       "1  2019-08-02     A       619\n",
       "2  2019-08-03     A       507\n",
       "3  2019-08-04     A       717\n",
       "4  2019-08-05     A       756"
      ]
     },
     "execution_count": 61,
     "metadata": {},
     "output_type": "execute_result"
    }
   ],
   "source": [
    "visitors.head()"
   ]
  },
  {
   "cell_type": "code",
   "execution_count": 62,
   "metadata": {},
   "outputs": [
    {
     "name": "stdout",
     "output_type": "stream",
     "text": [
      "<class 'pandas.core.frame.DataFrame'>\n",
      "RangeIndex: 62 entries, 0 to 61\n",
      "Data columns (total 3 columns):\n",
      " #   Column    Non-Null Count  Dtype \n",
      "---  ------    --------------  ----- \n",
      " 0   date      62 non-null     object\n",
      " 1   group     62 non-null     object\n",
      " 2   visitors  62 non-null     int64 \n",
      "dtypes: int64(1), object(2)\n",
      "memory usage: 1.6+ KB\n"
     ]
    }
   ],
   "source": [
    "visitors.info()"
   ]
  },
  {
   "cell_type": "code",
   "execution_count": 63,
   "metadata": {},
   "outputs": [
    {
     "data": {
      "text/plain": [
       "date        0\n",
       "group       0\n",
       "visitors    0\n",
       "dtype: int64"
      ]
     },
     "execution_count": 63,
     "metadata": {},
     "output_type": "execute_result"
    }
   ],
   "source": [
    "visitors.isna().sum()"
   ]
  },
  {
   "cell_type": "code",
   "execution_count": 64,
   "metadata": {},
   "outputs": [
    {
     "data": {
      "text/plain": [
       "0"
      ]
     },
     "execution_count": 64,
     "metadata": {},
     "output_type": "execute_result"
    }
   ],
   "source": [
    "visitors.duplicated().sum()"
   ]
  },
  {
   "cell_type": "code",
   "execution_count": 65,
   "metadata": {},
   "outputs": [],
   "source": [
    "# Преобразуем в колонке \"date\" временные данные\n",
    "orders['date'] = orders['date'].map(lambda x: dt.datetime.strptime(x, '%Y-%m-%d'))\n",
    "visitors['date'] = visitors['date'].map(lambda x: dt.datetime.strptime(x, '%Y-%m-%d'))"
   ]
  },
  {
   "cell_type": "markdown",
   "metadata": {},
   "source": [
    "Посмотрим, есть ли одни и те же пользователи в обеих группах датасета orders. Отфильтруем группы, найдём пользователей на пересечении групп, исключим их из датасета, чтобы не \"портили\" статистику."
   ]
  },
  {
   "cell_type": "code",
   "execution_count": 66,
   "metadata": {},
   "outputs": [],
   "source": [
    "# Отфильтруем группы методом query\n",
    "groupA = orders.query('group == \"A\"')\n",
    "groupB = orders.query('group == \"B\"')"
   ]
  },
  {
   "cell_type": "code",
   "execution_count": 67,
   "metadata": {},
   "outputs": [
    {
     "data": {
      "text/plain": [
       "58"
      ]
     },
     "execution_count": 67,
     "metadata": {},
     "output_type": "execute_result"
    }
   ],
   "source": [
    "# Посмотрим, какое количество пользователей находится на пересечении обоих групп\n",
    "groupIntersection = list(np.intersect1d(groupA['visitorId'], groupB['visitorId']))\n",
    "len(groupIntersection)"
   ]
  },
  {
   "cell_type": "code",
   "execution_count": 68,
   "metadata": {},
   "outputs": [],
   "source": [
    "# Исключим пользователей находящихся в обоих группах\n",
    "orders = orders.query('visitorId not in @groupIntersection')"
   ]
  },
  {
   "cell_type": "markdown",
   "metadata": {},
   "source": [
    "Вывод\n",
    "\n",
    "Загрузили данные, посмотрели первичную статистику - пропусков и дубликатов не обнаружили. Выявили 58 пользователей находящихся в обоих группах, исключили их. Переходим к анализу А/В теста."
   ]
  },
  {
   "cell_type": "markdown",
   "metadata": {},
   "source": [
    "#### Стабильность кумулятивных метрик\n",
    "Чтобы исключить проблему подсматривания, проанализируем графики метрик. Изучим графики кумулятивных, или накапливаемых данных. По графику кумулятивных метрик определим, стоит останавливать тест или нет. "
   ]
  },
  {
   "cell_type": "code",
   "execution_count": 69,
   "metadata": {},
   "outputs": [],
   "source": [
    "# Создадим датафрейм datesGroups с уникальными парами значений 'date' и 'group', \n",
    "# таблицы orders. Избавимся от дубликатов методом drop_duplicates().\n",
    "datesGroups = orders[['date', 'group']].drop_duplicates()"
   ]
  },
  {
   "cell_type": "code",
   "execution_count": 70,
   "metadata": {},
   "outputs": [
    {
     "data": {
      "text/html": [
       "<div>\n",
       "<style scoped>\n",
       "    .dataframe tbody tr th:only-of-type {\n",
       "        vertical-align: middle;\n",
       "    }\n",
       "\n",
       "    .dataframe tbody tr th {\n",
       "        vertical-align: top;\n",
       "    }\n",
       "\n",
       "    .dataframe thead th {\n",
       "        text-align: right;\n",
       "    }\n",
       "</style>\n",
       "<table border=\"1\" class=\"dataframe\">\n",
       "  <thead>\n",
       "    <tr style=\"text-align: right;\">\n",
       "      <th></th>\n",
       "      <th>transactionId</th>\n",
       "      <th>visitorId</th>\n",
       "      <th>date</th>\n",
       "      <th>revenue</th>\n",
       "      <th>group</th>\n",
       "    </tr>\n",
       "  </thead>\n",
       "  <tbody>\n",
       "    <tr>\n",
       "      <th>0</th>\n",
       "      <td>3667963787</td>\n",
       "      <td>3312258926</td>\n",
       "      <td>2019-08-15</td>\n",
       "      <td>1650</td>\n",
       "      <td>B</td>\n",
       "    </tr>\n",
       "    <tr>\n",
       "      <th>1</th>\n",
       "      <td>2804400009</td>\n",
       "      <td>3642806036</td>\n",
       "      <td>2019-08-15</td>\n",
       "      <td>730</td>\n",
       "      <td>B</td>\n",
       "    </tr>\n",
       "    <tr>\n",
       "      <th>3</th>\n",
       "      <td>3797467345</td>\n",
       "      <td>1196621759</td>\n",
       "      <td>2019-08-15</td>\n",
       "      <td>9759</td>\n",
       "      <td>B</td>\n",
       "    </tr>\n",
       "    <tr>\n",
       "      <th>4</th>\n",
       "      <td>2282983706</td>\n",
       "      <td>2322279887</td>\n",
       "      <td>2019-08-15</td>\n",
       "      <td>2308</td>\n",
       "      <td>B</td>\n",
       "    </tr>\n",
       "    <tr>\n",
       "      <th>5</th>\n",
       "      <td>182168103</td>\n",
       "      <td>935554773</td>\n",
       "      <td>2019-08-15</td>\n",
       "      <td>2210</td>\n",
       "      <td>B</td>\n",
       "    </tr>\n",
       "  </tbody>\n",
       "</table>\n",
       "</div>"
      ],
      "text/plain": [
       "   transactionId   visitorId       date  revenue group\n",
       "0     3667963787  3312258926 2019-08-15     1650     B\n",
       "1     2804400009  3642806036 2019-08-15      730     B\n",
       "3     3797467345  1196621759 2019-08-15     9759     B\n",
       "4     2282983706  2322279887 2019-08-15     2308     B\n",
       "5      182168103   935554773 2019-08-15     2210     B"
      ]
     },
     "execution_count": 70,
     "metadata": {},
     "output_type": "execute_result"
    }
   ],
   "source": [
    "orders.head()"
   ]
  },
  {
   "cell_type": "code",
   "execution_count": 71,
   "metadata": {},
   "outputs": [],
   "source": [
    "# Объявим переменную ordersAggregated, содержащую: дату, группу A/B-теста и т.д.\n",
    "ordersAggregated = (datesGroups\n",
    "    .apply(\n",
    "        lambda x: orders[np.logical_and(\n",
    "            orders['date'] <= x['date'], orders['group'] == x['group'])]\n",
    "    .agg(\n",
    "        {'date': 'max'\n",
    "        , 'group': 'max'\n",
    "        , 'transactionId': 'nunique'\n",
    "        , 'visitorId': 'nunique'\n",
    "        , 'revenue': 'sum'}), axis=1)\n",
    "    .sort_values(by=['date', 'group'])\n",
    "    )"
   ]
  },
  {
   "cell_type": "code",
   "execution_count": 72,
   "metadata": {},
   "outputs": [],
   "source": [
    "# Объявим переменную visitorsAggregated, содержащую: дату; группу A/B-теста и т.д.\n",
    "visitorsAggregated = (datesGroups\n",
    "    .apply(\n",
    "        lambda x: visitors[np.logical_and(\n",
    "            visitors['date'] <= x['date'], visitors['group'] == x['group'])]\n",
    "    .agg(\n",
    "        {'date': 'max'\n",
    "        , 'group': 'max'\n",
    "        , 'visitors': 'sum'}), axis=1)\n",
    "    .sort_values(by=['date', 'group'])\n",
    "    )"
   ]
  },
  {
   "cell_type": "code",
   "execution_count": 73,
   "metadata": {},
   "outputs": [],
   "source": [
    "#  Определим переменную cumulativeData, объединив ordersAggregated и visitorsAggregated \n",
    "# по колонкам 'date', 'group' методом merge()\n",
    "cumulativeData = (ordersAggregated\n",
    "    .merge(visitorsAggregated, left_on=['date', 'group'], right_on=['date', 'group'])\n",
    "    )\n",
    "# Добавим столбцы\n",
    "cumulativeData.columns = [\n",
    "    'date'\n",
    "    , 'group'\n",
    "    , 'orders'\n",
    "    , 'buyers'\n",
    "    , 'revenue'\n",
    "    , 'visitors'\n",
    "]\n"
   ]
  },
  {
   "cell_type": "markdown",
   "metadata": {},
   "source": [
    "Получили датасет `cumulativeData` с колонками:\n",
    "- `date` - дата;\n",
    "- `group` - группа А/В-теста;\n",
    "- `orders` - кумулятивное количество заказов на указанную дату включительно;\n",
    "- `buyers` - кумулятивное количество уникальных  пользователей, совершивших хотя бы один заказ в группе, на указанную дату включительно;\n",
    "- `revenue` - кумулятивная выручка заказов в группе по указанную дату включительно;\n",
    "- `visitors` - кумулятивное количество посетителей интернет-магазина на указанную дату включительно."
   ]
  },
  {
   "cell_type": "markdown",
   "metadata": {},
   "source": [
    "### Часть 2. Анализ A/B-теста"
   ]
  },
  {
   "cell_type": "markdown",
   "metadata": {},
   "source": [
    "1. Построим график кумулятивной выручки по группам."
   ]
  },
  {
   "cell_type": "code",
   "execution_count": 74,
   "metadata": {},
   "outputs": [
    {
     "data": {
      "text/plain": [
       "<matplotlib.legend.Legend at 0x1fa8ddc7220>"
      ]
     },
     "execution_count": 74,
     "metadata": {},
     "output_type": "execute_result"
    },
    {
     "data": {
      "image/png": "[encoded data removed]",
      "text/plain": [
       "<Figure size 900x500 with 1 Axes>"
      ]
     },
     "metadata": {},
     "output_type": "display_data"
    }
   ],
   "source": [
    "# Датафрейм с накопительным количеством заказов и накопительной выручкой \n",
    "# по дням в группе \"А\"\n",
    "cumulativeRevenueA = cumulativeData[cumulativeData['group'] == 'A'][\n",
    "    ['date', 'revenue', 'orders']\n",
    "    ]\n",
    "\n",
    "# Датафрейм с накопительным количеством заказов и накопительной выручкой \n",
    "# по дням в группе \"B\"\n",
    "cumulativeRevenueB = cumulativeData[cumulativeData['group'] == 'B'][\n",
    "    ['date', 'revenue', 'orders']\n",
    "    ]\n",
    "    \n",
    "plt.figure(figsize=(9, 5))\n",
    "\n",
    "plt.plot(cumulativeRevenueA['date'], cumulativeRevenueA['revenue'], label='A')\n",
    "plt.plot(cumulativeRevenueB['date'], cumulativeRevenueB['revenue'], label='B')\n",
    "plt.xlabel('Дата')\n",
    "plt.ylabel('Выручка в млн. руб.')\n",
    "plt.legend()"
   ]
  },
  {
   "cell_type": "markdown",
   "metadata": {},
   "source": [
    "Вывод\n",
    "\n",
    "Выручка группы В больше выручки группы А. Выручка группы А растёт равномерно, выручка группы В растёт равномерно до определённого момента, далее резко вырастает и переходит в стабильный рост. \"Взрывной\" рост выручки группы В может сигнализировать нам о росте числа заказов, либо о появлении очень дорогих заказов в рассматриваемом периоде."
   ]
  },
  {
   "cell_type": "markdown",
   "metadata": {},
   "source": [
    "2. Построим график кумулятивного среднего чека по группам. "
   ]
  },
  {
   "cell_type": "code",
   "execution_count": 75,
   "metadata": {},
   "outputs": [
    {
     "data": {
      "text/plain": [
       "<matplotlib.legend.Legend at 0x1fa8f609b80>"
      ]
     },
     "execution_count": 75,
     "metadata": {},
     "output_type": "execute_result"
    },
    {
     "data": {
      "image/png": "[encoded data removed]",
      "text/plain": [
       "<Figure size 900x500 with 1 Axes>"
      ]
     },
     "metadata": {},
     "output_type": "display_data"
    }
   ],
   "source": [
    "plt.figure(figsize=(9,5))\n",
    "\n",
    "plt.plot(cumulativeRevenueA['date'], cumulativeRevenueA['revenue'] / \n",
    "cumulativeRevenueA['orders'], label='A')\n",
    "plt.plot(cumulativeRevenueB['date'], cumulativeRevenueB['revenue'] / \n",
    "cumulativeRevenueB['orders'], label='B')\n",
    "plt.xlabel('Дата')\n",
    "plt.ylabel('Средний чек в тыс. руб.')\n",
    "plt.legend()"
   ]
  },
  {
   "cell_type": "markdown",
   "metadata": {},
   "source": [
    "Вывод\n",
    "\n",
    "Средний чек группы А показывает падение вначале и рост в середине тренда, после чего умеренное движение к росту. Средний чек группы В показывает рост вначале и всплеск в середине тренда (крупные заказы). Нужно посмотреть детальнее на данные, что мы и сделаем на следующем графике."
   ]
  },
  {
   "cell_type": "markdown",
   "metadata": {},
   "source": [
    "3. Построим график относительного изменения кумулятивного среднего чека группы B к группе A."
   ]
  },
  {
   "cell_type": "code",
   "execution_count": 76,
   "metadata": {},
   "outputs": [
    {
     "data": {
      "text/plain": [
       "Text(0, 0.5, 'Отношение кумулятивного среднего чека группы \"В\" к группе \"А\"')"
      ]
     },
     "execution_count": 76,
     "metadata": {},
     "output_type": "execute_result"
    },
    {
     "data": {
      "image/png": "[encoded data removed]",
      "text/plain": [
       "<Figure size 900x500 with 1 Axes>"
      ]
     },
     "metadata": {},
     "output_type": "display_data"
    }
   ],
   "source": [
    "# Объединим таблицы методом merge() и сохраним в переменной mergedCumulativeRevenue\n",
    "mergedCumulativeRevenue = (cumulativeRevenueA\n",
    "    .merge(cumulativeRevenueB\n",
    "        , left_on='date'\n",
    "        , right_on='date'\n",
    "        , how='left'\n",
    "        , suffixes=['A', 'B'])\n",
    "        )\n",
    "\n",
    "plt.figure(figsize=(9, 5))\n",
    "\n",
    "plt.plot(mergedCumulativeRevenue['date'], \n",
    "    (mergedCumulativeRevenue['revenueB'] / mergedCumulativeRevenue['ordersB']) / \n",
    "    (mergedCumulativeRevenue['revenueA'] / mergedCumulativeRevenue['ordersA']) - 1\n",
    "    )\n",
    "\n",
    "plt.axhline(y=0, color='black', linestyle='--')\n",
    "plt.xlabel('Дата')\n",
    "plt.ylabel('Отношение кумулятивного среднего чека группы \"В\" к группе \"А\"')"
   ]
  },
  {
   "cell_type": "markdown",
   "metadata": {},
   "source": [
    "Вывод\n",
    "\n",
    "График подтверждает предыдущий вывод: по соотношению среднего чека видно, что в группу \"В\" попали крупные заказы - резкий рост в середине тренда."
   ]
  },
  {
   "cell_type": "markdown",
   "metadata": {},
   "source": [
    "4. Построим график кумулятивного среднего количества заказов на посетителя по группам."
   ]
  },
  {
   "cell_type": "code",
   "execution_count": 77,
   "metadata": {},
   "outputs": [
    {
     "data": {
      "text/plain": [
       "<matplotlib.legend.Legend at 0x1fa8f63e370>"
      ]
     },
     "execution_count": 77,
     "metadata": {},
     "output_type": "execute_result"
    },
    {
     "data": {
      "image/png": "[encoded data removed]",
      "text/plain": [
       "<Figure size 900x500 with 1 Axes>"
      ]
     },
     "metadata": {},
     "output_type": "display_data"
    }
   ],
   "source": [
    "cumulativeVisitorsA = cumulativeData[cumulativeData['group'] == 'A'][\n",
    "    ['date', 'visitors', 'orders']\n",
    "    ]\n",
    "\n",
    "cumulativeVisitorsB = cumulativeData[cumulativeData['group'] == 'B'][\n",
    "    ['date', 'visitors', 'orders']\n",
    "    ]\n",
    "\n",
    "\n",
    "plt.figure(figsize=(9,5))\n",
    "\n",
    "plt.plot(cumulativeVisitorsA['date'], cumulativeVisitorsA['orders'] / \n",
    "cumulativeVisitorsA['visitors'], label='A')\n",
    "plt.plot(cumulativeVisitorsB['date'], cumulativeVisitorsB['orders'] / \n",
    "cumulativeVisitorsB['visitors'], label='B')\n",
    "plt.xlabel('Дата')\n",
    "plt.ylabel('Среднее количество заказов на посетителя')\n",
    "plt.legend()"
   ]
  },
  {
   "cell_type": "markdown",
   "metadata": {},
   "source": [
    "Видим всплеск вначале и пересечение групп в одной точке, после чего группа В \"ушла в рост\" с незначительными колебаниями и понижением тренда в конце, в то время как группа А \"пошла на понижение\" тренда с незначительными колебаниями и понижением тренда более глубоким чем у группы А. Посмотрим на относительные изменения на следующем графике."
   ]
  },
  {
   "cell_type": "markdown",
   "metadata": {},
   "source": [
    "5. Построим график относительного изменения кумулятивного среднего количества заказов на посетителя группы B к группе A."
   ]
  },
  {
   "cell_type": "code",
   "execution_count": 78,
   "metadata": {},
   "outputs": [
    {
     "data": {
      "text/plain": [
       "Text(0, 0.5, 'Отношение зказов группы \"В\" к группе \"А\"')"
      ]
     },
     "execution_count": 78,
     "metadata": {},
     "output_type": "execute_result"
    },
    {
     "data": {
      "image/png": "[encoded data removed]",
      "text/plain": [
       "<Figure size 900x500 with 1 Axes>"
      ]
     },
     "metadata": {},
     "output_type": "display_data"
    }
   ],
   "source": [
    "mergedCumulativeVisitors = (cumulativeVisitorsA\n",
    "    .merge(cumulativeVisitorsB\n",
    "        , left_on='date'\n",
    "        , right_on='date'\n",
    "        , how='left'\n",
    "        , suffixes=['A', 'B'])\n",
    "        )\n",
    "\n",
    "plt.figure(figsize=(9, 5))\n",
    "\n",
    "plt.plot(mergedCumulativeVisitors['date'], \n",
    "    (mergedCumulativeVisitors['ordersB'] / mergedCumulativeVisitors['visitorsB']) / \n",
    "    (mergedCumulativeVisitors['ordersA'] / mergedCumulativeVisitors['visitorsA']) - 1\n",
    "    )\n",
    "\n",
    "plt.axhline(y=0, color='black', linestyle='--')\n",
    "plt.xlabel('Дата')\n",
    "plt.ylabel('Отношение зказов группы \"В\" к группе \"А\"')"
   ]
  },
  {
   "cell_type": "markdown",
   "metadata": {},
   "source": [
    "Вывод\n",
    "\n",
    "График подтверждает предположение предыдущего вывода о преобладании среднего количества заказов на посетителя группы B к группе A. Посмотрим на аномалии, возможно, они изменят картину."
   ]
  },
  {
   "cell_type": "markdown",
   "metadata": {},
   "source": [
    "6. Постройте точечный график количества заказов по пользователям."
   ]
  },
  {
   "cell_type": "code",
   "execution_count": 79,
   "metadata": {},
   "outputs": [],
   "source": [
    "# Вернём в переменную результат работы методов группировки, аггрегации, \n",
    "# переименования, сортировки таблицы orders\n",
    "ordersByUsers = (orders\n",
    "    .groupby('visitorId', as_index=False)\n",
    "    .agg({'transactionId': 'nunique'})\n",
    "    .rename(columns={'visitorId': 'users', 'transactionId': 'orders'})\n",
    "    .sort_values(by='orders', ascending=False)\n",
    "    )"
   ]
  },
  {
   "cell_type": "code",
   "execution_count": 80,
   "metadata": {},
   "outputs": [
    {
     "data": {
      "text/plain": [
       "Text(0.5, 1.0, 'График количества заказов по пользователям')"
      ]
     },
     "execution_count": 80,
     "metadata": {},
     "output_type": "execute_result"
    },
    {
     "data": {
      "image/png": "[encoded data removed]",
      "text/plain": [
       "<Figure size 900x500 with 1 Axes>"
      ]
     },
     "metadata": {},
     "output_type": "display_data"
    }
   ],
   "source": [
    "# Переменная с результатом работы серии из чисел от 0 до \n",
    "# количества наблюдений в ordersByUsers\n",
    "x_values = pd.Series(range(0, len(ordersByUsers)))\n",
    "\n",
    "plt.figure(figsize=(9, 5))\n",
    "\n",
    "plt.scatter(x_values, ordersByUsers['orders'])\n",
    "plt.title('График количества заказов по пользователям')"
   ]
  },
  {
   "cell_type": "markdown",
   "metadata": {},
   "source": [
    "Вывод\n",
    "\n",
    "Большинство пользователей делает один заказ, немногие пользователи делают два - три заказа."
   ]
  },
  {
   "cell_type": "markdown",
   "metadata": {},
   "source": [
    "7. Посчитайте 95-й и 99-й перцентили количества заказов на пользователя. Выберите границу для определения аномальных пользователей"
   ]
  },
  {
   "cell_type": "code",
   "execution_count": 81,
   "metadata": {},
   "outputs": [
    {
     "data": {
      "text/plain": [
       "array([1., 2.])"
      ]
     },
     "execution_count": 81,
     "metadata": {},
     "output_type": "execute_result"
    }
   ],
   "source": [
    "np.percentile(ordersByUsers['orders'], [95, 99])\n"
   ]
  },
  {
   "cell_type": "markdown",
   "metadata": {},
   "source": [
    "Вывод\n",
    "\n",
    "Не более пяти процентов пользователей делают два заказа и не более одного процента пользователей делают три заказа. \n",
    "\n",
    "Выберем два заказа как границу для определения аномальных пользователей."
   ]
  },
  {
   "cell_type": "markdown",
   "metadata": {},
   "source": [
    "8. Постройте точечный график стоимостей заказов."
   ]
  },
  {
   "cell_type": "code",
   "execution_count": 82,
   "metadata": {},
   "outputs": [
    {
     "data": {
      "text/plain": [
       "Text(0.5, 1.0, 'График стоимостей заказов')"
      ]
     },
     "execution_count": 82,
     "metadata": {},
     "output_type": "execute_result"
    },
    {
     "data": {
      "image/png": "[encoded data removed]",
      "text/plain": [
       "<Figure size 900x500 with 1 Axes>"
      ]
     },
     "metadata": {},
     "output_type": "display_data"
    }
   ],
   "source": [
    "x_values = pd.Series(range(0, len(orders['revenue'])))\n",
    "\n",
    "plt.figure(figsize=(9, 5))\n",
    "\n",
    "plt.scatter(x_values, orders['revenue'])\n",
    "plt.title('График стоимостей заказов')"
   ]
  },
  {
   "cell_type": "markdown",
   "metadata": {},
   "source": [
    "Вывод\n",
    "\n",
    "В основном, сумма заказа не превышает 10 000 у. е., есть исключения в ~ 20 000 у. е. и более."
   ]
  },
  {
   "cell_type": "markdown",
   "metadata": {},
   "source": [
    "9. Посчитайте 95-й и 99-й перцентили стоимости заказов. Выберите границу для определения аномальных заказов."
   ]
  },
  {
   "cell_type": "code",
   "execution_count": 83,
   "metadata": {},
   "outputs": [
    {
     "data": {
      "text/plain": [
       "array([26785., 53904.])"
      ]
     },
     "execution_count": 83,
     "metadata": {},
     "output_type": "execute_result"
    }
   ],
   "source": [
    "np.percentile(orders['revenue'], [95, 99])"
   ]
  },
  {
   "cell_type": "markdown",
   "metadata": {},
   "source": [
    "Вывод\n",
    "\n",
    "Пять процентов заказов не превышают сумму в 26 785 у. е. и один процент заказов не превышает сумму 53 904 у. е.\n",
    "\n",
    "Выберем 53 904 у. е. как границу для опраеделения аномальных заазов."
   ]
  },
  {
   "cell_type": "markdown",
   "metadata": {},
   "source": [
    "10. Посчитаем статистическую значимость различий в среднем количестве заказов на посетителя между группами по «сырым» данным.\n",
    "\n",
    "Подготовим данные для статистических тестов.  "
   ]
  },
  {
   "cell_type": "code",
   "execution_count": 84,
   "metadata": {},
   "outputs": [],
   "source": [
    "# Сгруппируем посетителей по дням и получим кумулятивные данные о посетителях \n",
    "# по группе А \n",
    "visitorsADaily = visitors[visitors['group'] == 'A'][['date', 'visitors']]\n",
    "visitorsADaily.columns = ['date', 'visitorsPerDateA']\n",
    "\n",
    "visitorsACummulative = visitorsADaily.apply(\n",
    "    lambda x: visitorsADaily[visitorsADaily['date'] <= x['date']].agg(\n",
    "        {'date': 'max', 'visitorsPerDateA': 'sum'}\n",
    "    ),\n",
    "    axis=1,\n",
    ")\n",
    "\n",
    "visitorsACummulative.columns = ['date', 'visitorsCummulativeA']"
   ]
  },
  {
   "cell_type": "code",
   "execution_count": 85,
   "metadata": {},
   "outputs": [],
   "source": [
    "# Сгруппируем посетителей по дням и получим кумулятивные данные о посетителях \n",
    "# по группе В \n",
    "visitorsBDaily = visitors[visitors['group'] == 'B'][['date', 'visitors']]\n",
    "visitorsBDaily.columns = ['date', 'visitorsPerDateB']\n",
    "\n",
    "visitorsBCummulative = visitorsBDaily.apply(\n",
    "    lambda x: visitorsBDaily[visitorsBDaily['date'] <= x['date']]\n",
    "    .agg(\n",
    "        {'date': 'max', 'visitorsPerDateB': 'sum'}\n",
    "    ),\n",
    "    axis=1,\n",
    ")\n",
    "visitorsBCummulative.columns = ['date', 'visitorsCummulativeB']"
   ]
  },
  {
   "cell_type": "code",
   "execution_count": 86,
   "metadata": {},
   "outputs": [],
   "source": [
    "# Сгруппируем количество заказов и выручку по дням и получим кумулятивные данные \n",
    "# по группе А \n",
    "ordersADaily = (orders\n",
    "                .query('group == \"A\"')\n",
    "                 .groupby('date', as_index=False)\n",
    "                 .agg({'transactionId': pd.Series.nunique, 'revenue': 'sum'}))\n",
    "ordersADaily.columns = ['date', 'ordersPerDateA', 'revenuePerDateA']\n",
    "\n",
    "ordersACummulative = ordersADaily.apply(\n",
    "    lambda x: ordersADaily[ordersADaily['date'] <= x['date']]\n",
    "    .agg(\n",
    "        {'date': 'max', 'ordersPerDateA': 'sum', 'revenuePerDateA': 'sum'}\n",
    "    ),\n",
    "    axis=1,\n",
    ").sort_values(by=['date'])\n",
    "\n",
    "ordersACummulative.columns = ['date','ordersCummulativeA','revenueCummulativeA']"
   ]
  },
  {
   "cell_type": "code",
   "execution_count": 87,
   "metadata": {},
   "outputs": [],
   "source": [
    "# сгруппируем количество заказов и выручку по дням и получим кумулятивные данные \n",
    "# по группе B\n",
    "ordersBDaily = (orders\n",
    "                .query('group == \"B\"')\n",
    "                 .groupby('date', as_index=False)\n",
    "                 .agg({'transactionId': pd.Series.nunique, 'revenue': 'sum'}))\n",
    "ordersBDaily.columns = ['date', 'ordersPerDateB', 'revenuePerDateB']\n",
    "\n",
    "ordersBCummulative = ordersBDaily.apply(\n",
    "    lambda x: ordersBDaily[ordersBDaily['date'] <= x['date']]\n",
    "    .agg(\n",
    "        {'date': 'max', 'ordersPerDateB': 'sum', 'revenuePerDateB': 'sum'}\n",
    "    ),\n",
    "    axis=1,\n",
    ").sort_values(by=['date'])\n",
    "ordersBCummulative.columns = ['date','ordersCummulativeB','revenueCummulativeB']"
   ]
  },
  {
   "cell_type": "markdown",
   "metadata": {},
   "source": [
    "Объединим данные в единую таблицу, где:\n",
    "\n",
    "- `date` — дата;\n",
    "- `ordersPerDateA` — количество заказов в выбранную дату в группе A;\n",
    "- `revenuePerDateA` — суммарная выручка в выбранную дату в группе A;\n",
    "- `ordersPerDateB` — количество заказов в выбранную дату в группе B;\n",
    "- `revenuePerDateB` — суммарная выручка в выбранную дату в группе B;\n",
    "- `ordersCummulativeA` — суммарное число заказов до выбранной даты включительно в группе A;\n",
    "- `revenueCummulativeA` — суммарная выручка до выбранной даты включительно в группе A;\n",
    "- `ordersCummulativeB` — суммарное количество заказов до выбранной даты включительно в группе B;\n",
    "- `revenueCummulativeB` — суммарная выручка до выбранной даты включительно в группе B;\n",
    "- `visitorsPerDateA` — количество пользователей в выбранную дату в группе A;\n",
    "- `visitorsPerDateB` — количество пользователей в выбранную дату в группе B;\n",
    "- `visitorsCummulativeA` — количество пользователей до выбранной даты включительно в группе A;\n",
    "- `visitorsCummulativeB` — количество пользователей до выбранной даты включительно в группе B."
   ]
  },
  {
   "cell_type": "code",
   "execution_count": 88,
   "metadata": {},
   "outputs": [
    {
     "data": {
      "text/html": [
       "<div>\n",
       "<style scoped>\n",
       "    .dataframe tbody tr th:only-of-type {\n",
       "        vertical-align: middle;\n",
       "    }\n",
       "\n",
       "    .dataframe tbody tr th {\n",
       "        vertical-align: top;\n",
       "    }\n",
       "\n",
       "    .dataframe thead th {\n",
       "        text-align: right;\n",
       "    }\n",
       "</style>\n",
       "<table border=\"1\" class=\"dataframe\">\n",
       "  <thead>\n",
       "    <tr style=\"text-align: right;\">\n",
       "      <th></th>\n",
       "      <th>date</th>\n",
       "      <th>ordersPerDateA</th>\n",
       "      <th>revenuePerDateA</th>\n",
       "      <th>ordersPerDateB</th>\n",
       "      <th>revenuePerDateB</th>\n",
       "      <th>ordersCummulativeA</th>\n",
       "      <th>revenueCummulativeA</th>\n",
       "      <th>ordersCummulativeB</th>\n",
       "      <th>revenueCummulativeB</th>\n",
       "      <th>visitorsPerDateA</th>\n",
       "      <th>visitorsPerDateB</th>\n",
       "      <th>visitorsCummulativeA</th>\n",
       "      <th>visitorsCummulativeB</th>\n",
       "    </tr>\n",
       "  </thead>\n",
       "  <tbody>\n",
       "    <tr>\n",
       "      <th>0</th>\n",
       "      <td>2019-08-01</td>\n",
       "      <td>23</td>\n",
       "      <td>142779</td>\n",
       "      <td>17</td>\n",
       "      <td>59758</td>\n",
       "      <td>23</td>\n",
       "      <td>142779</td>\n",
       "      <td>17</td>\n",
       "      <td>59758</td>\n",
       "      <td>719</td>\n",
       "      <td>713</td>\n",
       "      <td>719</td>\n",
       "      <td>713</td>\n",
       "    </tr>\n",
       "    <tr>\n",
       "      <th>1</th>\n",
       "      <td>2019-08-02</td>\n",
       "      <td>19</td>\n",
       "      <td>91602</td>\n",
       "      <td>23</td>\n",
       "      <td>162043</td>\n",
       "      <td>42</td>\n",
       "      <td>234381</td>\n",
       "      <td>40</td>\n",
       "      <td>221801</td>\n",
       "      <td>619</td>\n",
       "      <td>581</td>\n",
       "      <td>1338</td>\n",
       "      <td>1294</td>\n",
       "    </tr>\n",
       "    <tr>\n",
       "      <th>2</th>\n",
       "      <td>2019-08-03</td>\n",
       "      <td>24</td>\n",
       "      <td>112473</td>\n",
       "      <td>14</td>\n",
       "      <td>67049</td>\n",
       "      <td>66</td>\n",
       "      <td>346854</td>\n",
       "      <td>54</td>\n",
       "      <td>288850</td>\n",
       "      <td>507</td>\n",
       "      <td>509</td>\n",
       "      <td>1845</td>\n",
       "      <td>1803</td>\n",
       "    </tr>\n",
       "    <tr>\n",
       "      <th>3</th>\n",
       "      <td>2019-08-04</td>\n",
       "      <td>11</td>\n",
       "      <td>41176</td>\n",
       "      <td>14</td>\n",
       "      <td>96890</td>\n",
       "      <td>77</td>\n",
       "      <td>388030</td>\n",
       "      <td>68</td>\n",
       "      <td>385740</td>\n",
       "      <td>717</td>\n",
       "      <td>770</td>\n",
       "      <td>2562</td>\n",
       "      <td>2573</td>\n",
       "    </tr>\n",
       "    <tr>\n",
       "      <th>4</th>\n",
       "      <td>2019-08-05</td>\n",
       "      <td>22</td>\n",
       "      <td>86383</td>\n",
       "      <td>21</td>\n",
       "      <td>89908</td>\n",
       "      <td>99</td>\n",
       "      <td>474413</td>\n",
       "      <td>89</td>\n",
       "      <td>475648</td>\n",
       "      <td>756</td>\n",
       "      <td>707</td>\n",
       "      <td>3318</td>\n",
       "      <td>3280</td>\n",
       "    </tr>\n",
       "  </tbody>\n",
       "</table>\n",
       "</div>"
      ],
      "text/plain": [
       "        date  ordersPerDateA  revenuePerDateA  ordersPerDateB  \\\n",
       "0 2019-08-01              23           142779              17   \n",
       "1 2019-08-02              19            91602              23   \n",
       "2 2019-08-03              24           112473              14   \n",
       "3 2019-08-04              11            41176              14   \n",
       "4 2019-08-05              22            86383              21   \n",
       "\n",
       "   revenuePerDateB  ordersCummulativeA  revenueCummulativeA  \\\n",
       "0            59758                  23               142779   \n",
       "1           162043                  42               234381   \n",
       "2            67049                  66               346854   \n",
       "3            96890                  77               388030   \n",
       "4            89908                  99               474413   \n",
       "\n",
       "   ordersCummulativeB  revenueCummulativeB  visitorsPerDateA  \\\n",
       "0                  17                59758               719   \n",
       "1                  40               221801               619   \n",
       "2                  54               288850               507   \n",
       "3                  68               385740               717   \n",
       "4                  89               475648               756   \n",
       "\n",
       "   visitorsPerDateB  visitorsCummulativeA  visitorsCummulativeB  \n",
       "0               713                   719                   713  \n",
       "1               581                  1338                  1294  \n",
       "2               509                  1845                  1803  \n",
       "3               770                  2562                  2573  \n",
       "4               707                  3318                  3280  "
      ]
     },
     "execution_count": 88,
     "metadata": {},
     "output_type": "execute_result"
    }
   ],
   "source": [
    "# Объединим данные в единую таблицу\n",
    "data = (\n",
    "    ordersADaily\n",
    "    .merge(\n",
    "        ordersBDaily, left_on='date', right_on='date', how='left'\n",
    "    )\n",
    "    .merge(ordersACummulative, left_on='date', right_on='date', how='left')\n",
    "    .merge(ordersBCummulative, left_on='date', right_on='date', how='left')\n",
    "    .merge(visitorsADaily, left_on='date', right_on='date', how='left')\n",
    "    .merge(visitorsBDaily, left_on='date', right_on='date', how='left')\n",
    "    .merge(visitorsACummulative, left_on='date', right_on='date', how='left')\n",
    "    .merge(visitorsBCummulative, left_on='date', right_on='date', how='left')\n",
    ")\n",
    "data.head()"
   ]
  },
  {
   "cell_type": "markdown",
   "metadata": {},
   "source": [
    "Сформируем нулевую и альтернативную гипотезы\n",
    "- Н0: различий в среднем количестве заказов на посетителя между группами нет\n",
    "- Н1: различия в среднем количестве заказов на посетителя между группами есть"
   ]
  },
  {
   "cell_type": "code",
   "execution_count": 89,
   "metadata": {},
   "outputs": [],
   "source": [
    "# Сгруппируем заказы по пользователям для группы А\n",
    "ordersByUsersA = (\n",
    "    orders[orders['group'] == 'A']\n",
    "    .groupby('visitorId', as_index=False)\n",
    "    .agg({'transactionId': pd.Series.nunique})\n",
    ")\n",
    "ordersByUsersA.columns = ['userId', 'orders']\n",
    "\n",
    "# сгруппируем заказы по пользователям для группы В\n",
    "ordersByUsersB = (\n",
    "    orders[orders['group'] == 'B']\n",
    "    .groupby('visitorId', as_index=False)\n",
    "    .agg({'transactionId': pd.Series.nunique})\n",
    ")\n",
    "ordersByUsersB.columns = ['userId', 'orders'] "
   ]
  },
  {
   "cell_type": "code",
   "execution_count": 90,
   "metadata": {},
   "outputs": [],
   "source": [
    "# Выделим все заказы и число пользователей в том числе пользователей,\n",
    "# которые не сделали ни одного заказа\n",
    "sampleA = pd.concat(\n",
    "    [ordersByUsersA['orders'],\n",
    "     pd.Series(0, index=np.arange(data['visitorsPerDateA'].sum() - len(ordersByUsersA['orders'])\n",
    "                                 ), name='orders')\n",
    "    ],axis=0)\n",
    "\n",
    "sampleB = pd.concat(\n",
    "    [ordersByUsersB['orders'],\n",
    "     pd.Series(0, index=np.arange(data['visitorsPerDateB'].sum() - len(ordersByUsersB['orders'])\n",
    "                                 ), name='orders')\n",
    "    ],axis=0)"
   ]
  },
  {
   "cell_type": "code",
   "execution_count": 91,
   "metadata": {},
   "outputs": [
    {
     "name": "stdout",
     "output_type": "stream",
     "text": [
      "p-value: 0.011\n",
      "Отвергаем нулевую гипотезу\n",
      "Относительное изменение группы В к группе А составляет: 15.98%\n"
     ]
    }
   ],
   "source": [
    "# Выведем относительный прирост в среднем количестве заказав пользователей группы B: \n",
    "# среднее количество заказов пользователей группы B / \n",
    "# среднее количество заказов пользователей группы А - 1\n",
    "alpha = .05\n",
    "\n",
    "results = stats.mannwhitneyu(sampleA, sampleB)\n",
    "\n",
    "print('p-value: ' + '{0:.3f}'.format(results.pvalue))\n",
    "\n",
    "if results.pvalue < alpha:\n",
    "    print('Отвергаем нулевую гипотезу')\n",
    "else:\n",
    "    print('Не получилось отвергнуть нулевую гипотезу')\n",
    "    \n",
    "print('Относительное изменение группы В к группе А составляет: {:.2%}'\n",
    "      .format(sampleB.mean() / sampleA.mean() - 1))"
   ]
  },
  {
   "cell_type": "markdown",
   "metadata": {},
   "source": [
    "Вывод\n",
    "\n",
    "p-value меньше 0.05, нулевую гипотезу отвергаем, так как статистически значимые различия в среднем количестве заказов на пользователя между группами - есть. Относительный прирост в среднем количестве заказов пользователей группы В к пользователям группы А - 15.98 %."
   ]
  },
  {
   "cell_type": "markdown",
   "metadata": {},
   "source": [
    "11. Посчитаем статистическую значимость различий в среднем чеке заказа между группами по «сырым» данным."
   ]
  },
  {
   "cell_type": "code",
   "execution_count": 92,
   "metadata": {},
   "outputs": [
    {
     "name": "stdout",
     "output_type": "stream",
     "text": [
      "p-value: 0.829\n",
      "Относительное различие в среднем чеке: 28.66%\n",
      "Не получилось отвергнуть нулевую гипотезу\n"
     ]
    }
   ],
   "source": [
    "alpha = .05\n",
    "\n",
    "results = stats.mannwhitneyu(orders[orders['group']=='A']['revenue'], orders[orders['group']=='B']['revenue'])\n",
    "\n",
    "print('p-value: ' + '{0:.3f}'.format(results.pvalue))\n",
    "\n",
    "print('Относительное различие в среднем чеке: ' + '{0:.2%}'.format(\n",
    "    orders[orders['group']=='B']['revenue'].mean() / orders[orders['group'] == 'A']['revenue'].mean() - 1))\n",
    "\n",
    "if results.pvalue < alpha:\n",
    "    print(\"Отвергаем нулевую гипотезу\")\n",
    "else:\n",
    "    print(\"Не получилось отвергнуть нулевую гипотезу\")"
   ]
  },
  {
   "cell_type": "markdown",
   "metadata": {},
   "source": [
    "Вывод\n",
    "\n",
    "p-value больше 0.05, оставляем нулевую гипотезу, так как нет статистически значимых различий в среднем чеке между группами. Относительное различие среднего чека между группами 28,7 %."
   ]
  },
  {
   "cell_type": "markdown",
   "metadata": {},
   "source": [
    "12. Посчитаем статистическую значимость различий в среднем количестве заказов на посетителя между группами по «очищенным» данным."
   ]
  },
  {
   "cell_type": "markdown",
   "metadata": {},
   "source": [
    "Ранее определили границу количества аномальных заказов - 2 и границу суммы аномальных заказов - 53 904 у. е. Сделаем срезы пользователей с числом заказов больше 2 — usersWithManyOrders и пользователей, совершивших заказы на сумму больше 53 904 у. е. — usersWithExpensiveOrders. Объединим их в таблице abnormalUsers."
   ]
  },
  {
   "cell_type": "code",
   "execution_count": 93,
   "metadata": {},
   "outputs": [
    {
     "data": {
      "text/plain": [
       "array([2.])"
      ]
     },
     "execution_count": 93,
     "metadata": {},
     "output_type": "execute_result"
    }
   ],
   "source": [
    "a = np.percentile(ordersByUsers['orders'], [99])\n",
    "a"
   ]
  },
  {
   "cell_type": "code",
   "execution_count": null,
   "metadata": {
    "scrolled": true
   },
   "outputs": [],
   "source": [
    "usersWithManyOrders = pd.concat(\n",
    "    [\n",
    "        ordersByUsersA[ordersByUsersA['orders'] > np.array(a)]['userId'],\n",
    "        ordersByUsersB[ordersByUsersB['orders'] > np.array(a)]['userId'],\n",
    "    ],\n",
    "    axis=0,\n",
    ")\n",
    "usersWithExpensiveOrders = orders[orders['revenue'] > 53904]['visitorId']\n",
    "abnormalUsers = (\n",
    "    pd.concat([usersWithManyOrders, usersWithExpensiveOrders], axis=0)\n",
    "    .drop_duplicates()\n",
    "    .sort_values()\n",
    ")\n",
    "print(abnormalUsers.head())\n",
    "print(abnormalUsers.shape[0])"
   ]
  },
  {
   "cell_type": "markdown",
   "metadata": {},
   "source": [
    "Вывод\n",
    "\n",
    "16 аномальных пользователей.\n",
    "\n",
    "Посчитаем статистическую значимость различия среднего количества заказов после удаления аномальных пользователей."
   ]
  },
  {
   "cell_type": "code",
   "execution_count": null,
   "metadata": {},
   "outputs": [],
   "source": [
    "# Создадим переменные sampleAFiltered и sampleBFiltered, в которых сохраним \n",
    "# очищенные данные о заказах — не включая аномальных пользователей.  \n",
    "sampleAFiltered = pd.concat(\n",
    "    [\n",
    "        ordersByUsersA[\n",
    "            np.logical_not(ordersByUsersA['userId'].isin(abnormalUsers))\n",
    "        ]['orders'],\n",
    "        pd.Series(\n",
    "            0,\n",
    "            index=np.arange(\n",
    "                data['visitorsPerDateA'].sum() - len(ordersByUsersA['orders'])\n",
    "            ),\n",
    "            name='orders',\n",
    "        ),\n",
    "    ],\n",
    "    axis=0,\n",
    ")\n",
    "\n",
    "sampleBFiltered = pd.concat(\n",
    "    [\n",
    "        ordersByUsersB[\n",
    "            np.logical_not(ordersByUsersB['userId'].isin(abnormalUsers))\n",
    "        ]['orders'],\n",
    "        pd.Series(\n",
    "            0,\n",
    "            index=np.arange(\n",
    "                data['visitorsPerDateB'].sum() - len(ordersByUsersB['orders'])\n",
    "            ),\n",
    "            name='orders',\n",
    "        ),\n",
    "    ],\n",
    "    axis=0,\n",
    ")"
   ]
  },
  {
   "cell_type": "code",
   "execution_count": null,
   "metadata": {
    "scrolled": true
   },
   "outputs": [],
   "source": [
    "# Выведем p-value для сравнения среднего между очищенными группами. \n",
    "# Округлим p-value до пяти знаков после запятой. Выведем относительный \n",
    "# прирост среднего очищенной группы B, округлив до трёх знаков после запятой.\n",
    "# print('{0:.5f}'.format(stats.mannwhitneyu(sampleAFiltered, sampleBFiltered)[1]))\n",
    "alpha = .05\n",
    "\n",
    "results = stats.mannwhitneyu(sampleAFiltered, sampleBFiltered)\n",
    "\n",
    "print('p-value: ' + '{0:.3f}'.format(results.pvalue))\n",
    "print('Относительный прирост конверсии группы B по отношению к группе A: ' + \n",
    "      '{0:.2%}'.format(sampleBFiltered.mean()/sampleAFiltered.mean()-1))\n",
    "\n",
    "\n",
    "if results.pvalue < alpha:\n",
    "    print(\"Отвергаем нулевую гипотезу\")\n",
    "else:\n",
    "    print(\"Не получилось отвергнуть нулевую гипотезу\")"
   ]
  },
  {
   "cell_type": "markdown",
   "metadata": {},
   "source": [
    "Вывод\n",
    "\n",
    "p-value меньше 0.05 - различия есть. Как с \"сырыми\" данными так и с \"очищенными\" статистическая значимость достигнута - сегмент группы В лучше сегмента А. Относительный прирост группы В к группе А - 18,92 %."
   ]
  },
  {
   "cell_type": "markdown",
   "metadata": {},
   "source": [
    "13. Посчитаем статистическую значимость различий в среднем чеке заказа между группами по «очищенным» данным. "
   ]
  },
  {
   "cell_type": "code",
   "execution_count": null,
   "metadata": {},
   "outputs": [],
   "source": [
    "# Выведем p-value для сравнения средних чеков между очищенными группами. \n",
    "# Округлим p-value до трёх знаков после запятой. Выведем относительный прирост \n",
    "# среднего чека очищенной группы B, округлив до трёх знаков после запятой.\n",
    "result = stats.mannwhitneyu(\n",
    "    orders[\n",
    "        np.logical_and(\n",
    "            orders['group'] == \"A\",\n",
    "            np.logical_not(orders['visitorId'].isin(abnormalUsers))\n",
    "        )\n",
    "    ]['revenue'],\n",
    "    orders[\n",
    "        np.logical_and(\n",
    "            orders['group'] == \"B\",\n",
    "            np.logical_not(orders['visitorId'].isin(abnormalUsers))\n",
    "        )\n",
    "    ]['revenue'] \n",
    ")\n",
    "\n",
    "print('p-value: ' + '{0:.3f}'.format(results[1]))\n",
    "    \n",
    "print('Относительный прирост группы B относительно группы A по очищеным данным: ' +\n",
    "      '{0:.2%}'.format(\n",
    "          orders[\n",
    "              np.logical_and(\n",
    "                  orders['group'] == \"B\",\n",
    "                  np.logical_not(orders['visitorId'].isin(abnormalUsers)),\n",
    "              )\n",
    "          ]['revenue'].mean() \n",
    "          / orders[\n",
    "              np.logical_and(\n",
    "                  orders['group'] == \"A\",\n",
    "                  np.logical_not(orders['visitorId'].isin(abnormalUsers)),\n",
    "              )\n",
    "          ]['revenue'].mean() \n",
    "          - 1\n",
    "      )\n",
    ")\n",
    "    \n",
    "if result[1] < alpha:\n",
    "    print('Отвергаем нулевую гипотезу')\n",
    "else:\n",
    "    print('Не получилось отвергнуть нулевую гипотезу')"
   ]
  },
  {
   "cell_type": "markdown",
   "metadata": {},
   "source": [
    "Вывод\n",
    "\n",
    "По очищенным данным различий в средних чеках в группах A и B не значимы. Относительное различие среднего чека между группами - 3.34 %.\n",
    "\n",
    "---"
   ]
  },
  {
   "cell_type": "markdown",
   "metadata": {},
   "source": [
    "14. Принимаем решение по результатам теста. Варианты решений:\n",
    "-  Остановить тест, зафиксировать победу одной из групп.\n",
    "-  Остановить тест, зафиксировать отсутствие различий между группами.\n",
    "-  Продолжить тест.\n",
    "\n",
    "Графики кумулятивной выручки и среднего чека показали, что результаты группы В лучше группы А - выручка выше а средний чек больше.\n",
    "\n",
    "Статистическая значимость на \"сырых\" и \"очищенных\" данных показала, что есть различия в конверсии между группами, а в среднем чеке нет.\n",
    "\n",
    "Делаем вывод, что резудьтаты группы В лучше результатов группы А.   \n",
    "Фиксируем успех группы В, останавливаем тест."
   ]
  }
 ],
 "metadata": {
  "ExecuteTimeLog": [
   {
    "duration": 61,
    "start_time": "2023-01-23T09:53:23.017Z"
   },
   {
    "duration": 10,
    "start_time": "2023-01-23T09:54:14.431Z"
   },
   {
    "duration": 7,
    "start_time": "2023-01-23T09:54:37.979Z"
   },
   {
    "duration": 1456,
    "start_time": "2023-01-23T09:54:42.477Z"
   },
   {
    "duration": 80,
    "start_time": "2023-01-23T09:54:46.144Z"
   },
   {
    "duration": 12,
    "start_time": "2023-01-23T09:54:48.105Z"
   },
   {
    "duration": 13,
    "start_time": "2023-01-23T09:54:51.203Z"
   },
   {
    "duration": 4,
    "start_time": "2023-01-23T09:54:52.348Z"
   },
   {
    "duration": 12,
    "start_time": "2023-01-23T09:54:53.373Z"
   },
   {
    "duration": 68,
    "start_time": "2023-01-23T09:55:00.644Z"
   },
   {
    "duration": 15,
    "start_time": "2023-01-23T09:55:28.137Z"
   },
   {
    "duration": 120,
    "start_time": "2023-01-23T09:56:55.360Z"
   },
   {
    "duration": 13,
    "start_time": "2023-01-23T09:58:10.134Z"
   },
   {
    "duration": 171,
    "start_time": "2023-01-23T10:06:07.559Z"
   },
   {
    "duration": 161,
    "start_time": "2023-01-23T10:06:41.389Z"
   },
   {
    "duration": 9,
    "start_time": "2023-01-23T10:06:42.809Z"
   },
   {
    "duration": 11,
    "start_time": "2023-01-23T10:06:43.643Z"
   },
   {
    "duration": 8,
    "start_time": "2023-01-23T10:06:44.795Z"
   },
   {
    "duration": 6,
    "start_time": "2023-01-23T10:06:46.339Z"
   },
   {
    "duration": 8,
    "start_time": "2023-01-23T10:06:46.968Z"
   },
   {
    "duration": 11,
    "start_time": "2023-01-23T10:06:48.656Z"
   },
   {
    "duration": 6,
    "start_time": "2023-01-23T10:06:49.151Z"
   },
   {
    "duration": 8,
    "start_time": "2023-01-23T10:06:50.165Z"
   },
   {
    "duration": 13,
    "start_time": "2023-01-23T10:06:51.020Z"
   },
   {
    "duration": 8,
    "start_time": "2023-01-23T10:07:05.022Z"
   },
   {
    "duration": 6,
    "start_time": "2023-01-23T10:07:05.672Z"
   },
   {
    "duration": 6,
    "start_time": "2023-01-23T10:07:06.080Z"
   },
   {
    "duration": 76,
    "start_time": "2023-01-23T10:20:09.410Z"
   },
   {
    "duration": 10,
    "start_time": "2023-01-23T10:38:35.060Z"
   },
   {
    "duration": 8,
    "start_time": "2023-01-23T10:38:35.172Z"
   },
   {
    "duration": 197,
    "start_time": "2023-01-23T10:38:35.353Z"
   },
   {
    "duration": 133,
    "start_time": "2023-01-23T10:38:35.553Z"
   },
   {
    "duration": 15,
    "start_time": "2023-01-23T10:38:35.688Z"
   },
   {
    "duration": 338,
    "start_time": "2023-01-23T10:38:36.923Z"
   },
   {
    "duration": 225,
    "start_time": "2023-01-23T10:38:37.655Z"
   },
   {
    "duration": 395,
    "start_time": "2023-01-23T10:38:38.355Z"
   },
   {
    "duration": 226,
    "start_time": "2023-01-23T10:38:40.164Z"
   },
   {
    "duration": 292,
    "start_time": "2023-01-23T10:38:42.165Z"
   },
   {
    "duration": 7,
    "start_time": "2023-01-23T10:38:44.778Z"
   },
   {
    "duration": 162,
    "start_time": "2023-01-23T10:38:45.476Z"
   },
   {
    "duration": 6,
    "start_time": "2023-01-23T10:38:48.168Z"
   },
   {
    "duration": 168,
    "start_time": "2023-01-23T10:38:49.360Z"
   },
   {
    "duration": 5,
    "start_time": "2023-01-23T10:38:53.560Z"
   },
   {
    "duration": 56,
    "start_time": "2023-01-23T10:38:56.034Z"
   },
   {
    "duration": 62,
    "start_time": "2023-01-23T10:38:56.192Z"
   },
   {
    "duration": 76,
    "start_time": "2023-01-23T10:38:56.714Z"
   },
   {
    "duration": 82,
    "start_time": "2023-01-23T10:38:57.016Z"
   },
   {
    "duration": 29,
    "start_time": "2023-01-23T10:38:57.706Z"
   },
   {
    "duration": 161,
    "start_time": "2023-01-23T10:38:59.368Z"
   },
   {
    "duration": 7,
    "start_time": "2023-01-23T10:38:59.864Z"
   },
   {
    "duration": 27,
    "start_time": "2023-01-23T10:39:01.092Z"
   },
   {
    "duration": 30,
    "start_time": "2023-01-23T10:39:54.188Z"
   },
   {
    "duration": 100,
    "start_time": "2023-01-23T10:40:24.985Z"
   },
   {
    "duration": 35,
    "start_time": "2023-01-23T10:40:32.115Z"
   },
   {
    "duration": 23,
    "start_time": "2023-01-23T10:41:36.873Z"
   },
   {
    "duration": 84,
    "start_time": "2023-01-23T10:41:51.475Z"
   },
   {
    "duration": 21,
    "start_time": "2023-01-23T10:42:07.997Z"
   },
   {
    "duration": 21,
    "start_time": "2023-01-23T10:42:29.778Z"
   },
   {
    "duration": 28,
    "start_time": "2023-01-23T10:43:03.781Z"
   },
   {
    "duration": 20,
    "start_time": "2023-01-23T10:43:32.082Z"
   },
   {
    "duration": 99,
    "start_time": "2023-01-23T10:46:25.491Z"
   },
   {
    "duration": 100,
    "start_time": "2023-01-23T10:47:37.511Z"
   },
   {
    "duration": 120,
    "start_time": "2023-01-23T10:49:36.030Z"
   },
   {
    "duration": 106,
    "start_time": "2023-01-23T10:49:41.103Z"
   },
   {
    "duration": 80,
    "start_time": "2023-01-23T10:49:50.193Z"
   },
   {
    "duration": 104,
    "start_time": "2023-01-23T10:49:58.766Z"
   },
   {
    "duration": 22,
    "start_time": "2023-01-23T10:50:34.763Z"
   },
   {
    "duration": 16,
    "start_time": "2023-01-23T10:50:50.230Z"
   },
   {
    "duration": 32,
    "start_time": "2023-01-23T10:51:56.318Z"
   },
   {
    "duration": 23,
    "start_time": "2023-01-23T10:52:07.493Z"
   },
   {
    "duration": 86,
    "start_time": "2023-01-23T10:53:41.519Z"
   },
   {
    "duration": 1139,
    "start_time": "2023-01-23T11:01:31.382Z"
   },
   {
    "duration": 40,
    "start_time": "2023-01-23T11:01:32.523Z"
   },
   {
    "duration": 15,
    "start_time": "2023-01-23T11:01:32.565Z"
   },
   {
    "duration": 12,
    "start_time": "2023-01-23T11:01:32.582Z"
   },
   {
    "duration": 8,
    "start_time": "2023-01-23T11:01:32.595Z"
   },
   {
    "duration": 16,
    "start_time": "2023-01-23T11:01:32.605Z"
   },
   {
    "duration": 23,
    "start_time": "2023-01-23T11:01:32.623Z"
   },
   {
    "duration": 14,
    "start_time": "2023-01-23T11:01:32.648Z"
   },
   {
    "duration": 51,
    "start_time": "2023-01-23T11:01:32.665Z"
   },
   {
    "duration": 9,
    "start_time": "2023-01-23T11:01:32.720Z"
   },
   {
    "duration": 28,
    "start_time": "2023-01-23T11:01:32.731Z"
   },
   {
    "duration": 9,
    "start_time": "2023-01-23T11:01:32.761Z"
   },
   {
    "duration": 12,
    "start_time": "2023-01-23T11:01:32.772Z"
   },
   {
    "duration": 13,
    "start_time": "2023-01-23T11:01:32.785Z"
   },
   {
    "duration": 12,
    "start_time": "2023-01-23T11:01:32.799Z"
   },
   {
    "duration": 7,
    "start_time": "2023-01-23T11:01:32.813Z"
   },
   {
    "duration": 8,
    "start_time": "2023-01-23T11:01:32.821Z"
   },
   {
    "duration": 22,
    "start_time": "2023-01-23T11:01:32.836Z"
   },
   {
    "duration": 15,
    "start_time": "2023-01-23T11:01:32.859Z"
   },
   {
    "duration": 10,
    "start_time": "2023-01-23T11:01:32.875Z"
   },
   {
    "duration": 17,
    "start_time": "2023-01-23T11:01:32.887Z"
   },
   {
    "duration": 8,
    "start_time": "2023-01-23T11:01:32.906Z"
   },
   {
    "duration": 11,
    "start_time": "2023-01-23T11:01:32.916Z"
   },
   {
    "duration": 195,
    "start_time": "2023-01-23T11:01:32.928Z"
   },
   {
    "duration": 147,
    "start_time": "2023-01-23T11:01:33.126Z"
   },
   {
    "duration": 6,
    "start_time": "2023-01-23T11:01:33.275Z"
   },
   {
    "duration": 323,
    "start_time": "2023-01-23T11:01:33.283Z"
   },
   {
    "duration": 229,
    "start_time": "2023-01-23T11:01:33.610Z"
   },
   {
    "duration": 308,
    "start_time": "2023-01-23T11:01:33.847Z"
   },
   {
    "duration": 242,
    "start_time": "2023-01-23T11:01:34.157Z"
   },
   {
    "duration": 349,
    "start_time": "2023-01-23T11:01:34.401Z"
   },
   {
    "duration": 8,
    "start_time": "2023-01-23T11:01:34.752Z"
   },
   {
    "duration": 169,
    "start_time": "2023-01-23T11:01:34.762Z"
   },
   {
    "duration": 15,
    "start_time": "2023-01-23T11:01:34.932Z"
   },
   {
    "duration": 153,
    "start_time": "2023-01-23T11:01:34.949Z"
   },
   {
    "duration": 6,
    "start_time": "2023-01-23T11:01:35.103Z"
   },
   {
    "duration": 66,
    "start_time": "2023-01-23T11:01:35.110Z"
   },
   {
    "duration": 47,
    "start_time": "2023-01-23T11:01:35.178Z"
   },
   {
    "duration": 68,
    "start_time": "2023-01-23T11:01:35.235Z"
   },
   {
    "duration": 85,
    "start_time": "2023-01-23T11:01:35.306Z"
   },
   {
    "duration": 27,
    "start_time": "2023-01-23T11:01:35.393Z"
   },
   {
    "duration": 152,
    "start_time": "2023-01-23T11:01:35.422Z"
   },
   {
    "duration": 7,
    "start_time": "2023-01-23T11:01:35.575Z"
   },
   {
    "duration": 31,
    "start_time": "2023-01-23T11:01:35.583Z"
   },
   {
    "duration": 12,
    "start_time": "2023-01-23T11:01:35.616Z"
   },
   {
    "duration": 15,
    "start_time": "2023-01-23T11:01:35.629Z"
   },
   {
    "duration": 32,
    "start_time": "2023-01-23T11:01:35.646Z"
   },
   {
    "duration": 21,
    "start_time": "2023-01-23T11:01:35.679Z"
   },
   {
    "duration": 14,
    "start_time": "2023-01-23T11:01:35.701Z"
   },
   {
    "duration": 5,
    "start_time": "2023-01-23T11:11:24.299Z"
   },
   {
    "duration": 130,
    "start_time": "2023-01-23T11:11:30.834Z"
   },
   {
    "duration": 23,
    "start_time": "2023-01-23T11:12:07.234Z"
   },
   {
    "duration": 15,
    "start_time": "2023-01-23T11:12:49.064Z"
   },
   {
    "duration": 17,
    "start_time": "2023-01-23T11:13:23.758Z"
   },
   {
    "duration": 19,
    "start_time": "2023-01-23T11:17:41.383Z"
   },
   {
    "duration": 16,
    "start_time": "2023-01-23T11:18:17.696Z"
   },
   {
    "duration": 26,
    "start_time": "2023-01-23T11:18:59.620Z"
   },
   {
    "duration": 26,
    "start_time": "2023-01-23T11:22:53.362Z"
   },
   {
    "duration": 76,
    "start_time": "2023-01-23T11:23:48.457Z"
   },
   {
    "duration": 13,
    "start_time": "2023-01-23T11:23:58.557Z"
   },
   {
    "duration": 12,
    "start_time": "2023-01-23T11:24:19.297Z"
   },
   {
    "duration": 84,
    "start_time": "2023-01-23T12:03:19.116Z"
   },
   {
    "duration": 1439,
    "start_time": "2023-01-23T12:03:30.723Z"
   },
   {
    "duration": 144,
    "start_time": "2023-01-23T12:03:32.164Z"
   },
   {
    "duration": 14,
    "start_time": "2023-01-23T12:03:32.310Z"
   },
   {
    "duration": 76,
    "start_time": "2023-01-23T12:03:32.326Z"
   },
   {
    "duration": 77,
    "start_time": "2023-01-23T12:03:32.404Z"
   },
   {
    "duration": 37,
    "start_time": "2023-01-23T12:03:32.483Z"
   },
   {
    "duration": 49,
    "start_time": "2023-01-23T12:03:32.522Z"
   },
   {
    "duration": 30,
    "start_time": "2023-01-23T12:03:32.574Z"
   },
   {
    "duration": 197,
    "start_time": "2023-01-23T12:03:32.606Z"
   },
   {
    "duration": 10,
    "start_time": "2023-01-23T12:03:32.806Z"
   },
   {
    "duration": 40,
    "start_time": "2023-01-23T12:03:32.817Z"
   },
   {
    "duration": 45,
    "start_time": "2023-01-23T12:03:32.859Z"
   },
   {
    "duration": 48,
    "start_time": "2023-01-23T12:03:32.906Z"
   },
   {
    "duration": 88,
    "start_time": "2023-01-23T12:03:32.956Z"
   },
   {
    "duration": 56,
    "start_time": "2023-01-23T12:03:33.046Z"
   },
   {
    "duration": 56,
    "start_time": "2023-01-23T12:03:33.104Z"
   },
   {
    "duration": 92,
    "start_time": "2023-01-23T12:03:33.162Z"
   },
   {
    "duration": 47,
    "start_time": "2023-01-23T12:03:33.256Z"
   },
   {
    "duration": 57,
    "start_time": "2023-01-23T12:03:33.305Z"
   },
   {
    "duration": 51,
    "start_time": "2023-01-23T12:03:33.364Z"
   },
   {
    "duration": 46,
    "start_time": "2023-01-23T12:03:33.417Z"
   },
   {
    "duration": 49,
    "start_time": "2023-01-23T12:03:33.465Z"
   },
   {
    "duration": 48,
    "start_time": "2023-01-23T12:03:33.516Z"
   },
   {
    "duration": 275,
    "start_time": "2023-01-23T12:03:33.567Z"
   },
   {
    "duration": 143,
    "start_time": "2023-01-23T12:03:33.844Z"
   },
   {
    "duration": 9,
    "start_time": "2023-01-23T12:03:33.989Z"
   },
   {
    "duration": 339,
    "start_time": "2023-01-23T12:03:34.000Z"
   },
   {
    "duration": 231,
    "start_time": "2023-01-23T12:03:34.346Z"
   },
   {
    "duration": 387,
    "start_time": "2023-01-23T12:03:34.579Z"
   },
   {
    "duration": 272,
    "start_time": "2023-01-23T12:03:34.968Z"
   },
   {
    "duration": 338,
    "start_time": "2023-01-23T12:03:35.242Z"
   },
   {
    "duration": 11,
    "start_time": "2023-01-23T12:03:35.582Z"
   },
   {
    "duration": 236,
    "start_time": "2023-01-23T12:03:35.595Z"
   },
   {
    "duration": 7,
    "start_time": "2023-01-23T12:03:35.833Z"
   },
   {
    "duration": 177,
    "start_time": "2023-01-23T12:03:35.842Z"
   },
   {
    "duration": 6,
    "start_time": "2023-01-23T12:03:36.021Z"
   },
   {
    "duration": 68,
    "start_time": "2023-01-23T12:03:36.040Z"
   },
   {
    "duration": 84,
    "start_time": "2023-01-23T12:03:36.110Z"
   },
   {
    "duration": 94,
    "start_time": "2023-01-23T12:03:36.196Z"
   },
   {
    "duration": 111,
    "start_time": "2023-01-23T12:03:36.292Z"
   },
   {
    "duration": 41,
    "start_time": "2023-01-23T12:03:36.405Z"
   },
   {
    "duration": 167,
    "start_time": "2023-01-23T12:03:36.448Z"
   },
   {
    "duration": 8,
    "start_time": "2023-01-23T12:03:36.617Z"
   },
   {
    "duration": 43,
    "start_time": "2023-01-23T12:03:36.627Z"
   },
   {
    "duration": 75,
    "start_time": "2023-01-23T12:03:36.673Z"
   },
   {
    "duration": 0,
    "start_time": "2023-01-23T12:03:36.749Z"
   },
   {
    "duration": 0,
    "start_time": "2023-01-23T12:03:36.751Z"
   },
   {
    "duration": 0,
    "start_time": "2023-01-23T12:03:36.752Z"
   },
   {
    "duration": 0,
    "start_time": "2023-01-23T12:03:36.753Z"
   },
   {
    "duration": 0,
    "start_time": "2023-01-23T12:03:36.754Z"
   },
   {
    "duration": 0,
    "start_time": "2023-01-23T12:03:36.755Z"
   },
   {
    "duration": 16,
    "start_time": "2023-01-23T12:04:15.574Z"
   },
   {
    "duration": 31,
    "start_time": "2023-01-23T12:04:40.790Z"
   },
   {
    "duration": 27,
    "start_time": "2023-01-23T12:07:41.144Z"
   },
   {
    "duration": 12,
    "start_time": "2023-01-23T12:09:50.293Z"
   },
   {
    "duration": 15,
    "start_time": "2023-01-23T12:09:59.736Z"
   },
   {
    "duration": 36,
    "start_time": "2023-01-23T12:11:22.789Z"
   },
   {
    "duration": 19,
    "start_time": "2023-01-23T12:11:32.966Z"
   },
   {
    "duration": 15,
    "start_time": "2023-01-23T12:13:14.749Z"
   },
   {
    "duration": 20,
    "start_time": "2023-01-23T12:15:48.455Z"
   },
   {
    "duration": 12,
    "start_time": "2023-01-23T12:18:00.603Z"
   },
   {
    "duration": 19,
    "start_time": "2023-01-23T12:23:28.895Z"
   },
   {
    "duration": 16,
    "start_time": "2023-01-23T12:23:46.977Z"
   },
   {
    "duration": 18,
    "start_time": "2023-01-23T12:29:14.912Z"
   },
   {
    "duration": 14,
    "start_time": "2023-01-23T12:29:25.265Z"
   },
   {
    "duration": 15,
    "start_time": "2023-01-23T12:29:33.984Z"
   },
   {
    "duration": 13,
    "start_time": "2023-01-23T12:30:43.514Z"
   },
   {
    "duration": 12,
    "start_time": "2023-01-23T12:31:07.686Z"
   },
   {
    "duration": 13,
    "start_time": "2023-01-23T12:32:31.749Z"
   },
   {
    "duration": 16,
    "start_time": "2023-01-23T12:32:51.364Z"
   },
   {
    "duration": 11,
    "start_time": "2023-01-23T12:34:03.990Z"
   },
   {
    "duration": 12,
    "start_time": "2023-01-23T12:35:23.260Z"
   },
   {
    "duration": 13,
    "start_time": "2023-01-23T12:37:53.631Z"
   },
   {
    "duration": 46,
    "start_time": "2023-01-23T12:39:18.628Z"
   },
   {
    "duration": 44,
    "start_time": "2023-01-23T12:39:39.785Z"
   },
   {
    "duration": 90,
    "start_time": "2023-01-23T12:40:40.165Z"
   },
   {
    "duration": 63,
    "start_time": "2023-01-23T12:42:14.886Z"
   },
   {
    "duration": 12,
    "start_time": "2023-01-23T12:42:25.853Z"
   },
   {
    "duration": 55,
    "start_time": "2023-01-23T12:43:43.270Z"
   },
   {
    "duration": 13,
    "start_time": "2023-01-23T12:43:57.796Z"
   },
   {
    "duration": 26,
    "start_time": "2023-01-23T12:45:16.278Z"
   },
   {
    "duration": 12,
    "start_time": "2023-01-23T12:45:48.061Z"
   },
   {
    "duration": 13,
    "start_time": "2023-01-23T12:47:19.945Z"
   }
  ],
  "kernelspec": {
   "display_name": "gym",
   "language": "python",
   "name": "gym"
  },
  "language_info": {
   "codemirror_mode": {
    "name": "ipython",
    "version": 3
   },
   "file_extension": ".py",
   "mimetype": "text/x-python",
   "name": "python",
   "nbconvert_exporter": "python",
   "pygments_lexer": "ipython3",
   "version": "3.9.13"
  },
  "toc": {
   "base_numbering": 1,
   "nav_menu": {},
   "number_sections": true,
   "sideBar": true,
   "skip_h1_title": true,
   "title_cell": "Table of Contents",
   "title_sidebar": "Contents",
   "toc_cell": false,
   "toc_position": {},
   "toc_section_display": true,
   "toc_window_display": false
  },
  "vscode": {
   "interpreter": {
    "hash": "f08154012ddadd8e950e6e9e035c7a7b32c136e7647e9b7c77e02eb723a8bedb"
   }
  }
 },
 "nbformat": 4,
 "nbformat_minor": 2
}
