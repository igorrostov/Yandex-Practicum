{
 "cells": [
  {
   "cell_type": "markdown",
   "metadata": {},
   "source": [
    "# Исследование объявлений о продаже квартир"
   ]
  },
  {
   "cell_type": "markdown",
   "metadata": {},
   "source": [
    "### Откройте файл с данными и изучите общую информацию. "
   ]
  },
  {
   "cell_type": "code",
   "execution_count": null,
   "metadata": {},
   "outputs": [],
   "source": [
    "# импортируем необходимые библиотеки\n",
    "import pandas as pd\n",
    "import numpy as np\n",
    "import seaborn as sns\n",
    "import matplotlib.pyplot as plt\n",
    "\n",
    "%pip install pymystem3==0.1.10\n",
    "from pymystem3 import Mystem\n",
    "m = Mystem()\n",
    "\n",
    "from IPython.display import display\n",
    "pd.set_option('display.float_format', '{:,.2f}'.format)\n",
    "\n",
    "pd.options.mode.chained_assignment = None  # Удалим предупреждения"
   ]
  },
  {
   "cell_type": "code",
   "execution_count": null,
   "metadata": {},
   "outputs": [],
   "source": [
    "# прочитаем файл с данными и сохраним в таблицу df, выставим разделитель sep='\\t'\n",
    "try:\n",
    "    df = pd.read_csv('/datasets/real_estate_data.csv', sep='\\t')\n",
    "except:\n",
    "    df = pd.read_csv(r\"C:\\Users\\User\\OneDrive\\Education\\1_Ya_DA\\7_research_data_analysis\\project_3\\real_estate_data.csv\", sep='\\t')\n"
   ]
  },
  {
   "cell_type": "code",
   "execution_count": null,
   "metadata": {},
   "outputs": [],
   "source": [
    "# выведем первые 10 строк датафрейма df на экран\n",
    "df.head(10)"
   ]
  },
  {
   "cell_type": "code",
   "execution_count": null,
   "metadata": {
    "scrolled": true
   },
   "outputs": [],
   "source": [
    "# Получим общую информацию о данных в таблице df\n",
    "df.info()"
   ]
  },
  {
   "cell_type": "code",
   "execution_count": null,
   "metadata": {
    "scrolled": false
   },
   "outputs": [],
   "source": [
    "# Получим описательную статистику данных таблицы df\n",
    "df.describe()"
   ]
  },
  {
   "cell_type": "markdown",
   "metadata": {},
   "source": [
    "**Вывод**\n",
    "\n",
    "В таблице 23699 строк и 22 колонки. Типы данных: `int64`, `float64`, `object`, `bool`.  \n",
    "\n",
    "Количество значений в колонках различается, а значит, в данных есть пропущенные значения."
   ]
  },
  {
   "cell_type": "markdown",
   "metadata": {},
   "source": [
    "### Предобработка данных"
   ]
  },
  {
   "cell_type": "code",
   "execution_count": null,
   "metadata": {
    "scrolled": true
   },
   "outputs": [],
   "source": [
    "# Выведем на экран названия столбцов таблицы df\n",
    "df.columns"
   ]
  },
  {
   "cell_type": "code",
   "execution_count": null,
   "metadata": {},
   "outputs": [],
   "source": [
    "# Представим названия столбцов в соответствии с хорошим стилем\n",
    "df = df.rename(columns={'cityCenters_nearest': 'city_centers_nearest',\n",
    "                       'parks_around3000': 'parks_around_3000',\n",
    "                       'ponds_around3000': 'ponds_around_3000'})"
   ]
  },
  {
   "cell_type": "code",
   "execution_count": null,
   "metadata": {},
   "outputs": [],
   "source": [
    "# Проверим таблицу df на количество дубликатов\n",
    "print('Количество дубликатов =', df.duplicated().sum())"
   ]
  },
  {
   "cell_type": "code",
   "execution_count": null,
   "metadata": {
    "scrolled": false
   },
   "outputs": [],
   "source": [
    "# Выведем количество пропущенных значений для каждого столбца\n",
    "df.isna().sum().sort_values(ascending=False)"
   ]
  },
  {
   "cell_type": "code",
   "execution_count": null,
   "metadata": {},
   "outputs": [],
   "source": [
    "# Посмотрим процент пропусков в столбцах с сортировкой по убыванию\n",
    "(df.isna().mean().sort_values(ascending=False) * 100).round()"
   ]
  },
  {
   "cell_type": "markdown",
   "metadata": {},
   "source": [
    "В 12-и колонках из 22-ух пропуски данных"
   ]
  },
  {
   "cell_type": "code",
   "execution_count": null,
   "metadata": {},
   "outputs": [],
   "source": [
    "# Изменим тип данных в столбце first_day_exposition - дата публикации, \n",
    "# на datetime\n",
    "df['first_day_exposition'] = pd.to_datetime(df['first_day_exposition'], format='%Y-%m-%d')"
   ]
  },
  {
   "cell_type": "code",
   "execution_count": null,
   "metadata": {
    "scrolled": false
   },
   "outputs": [],
   "source": [
    "# Получим описательную статистику колонки last_price - \n",
    "# цена на момент снятия с публикации\n",
    "df['last_price'].describe()"
   ]
  },
  {
   "cell_type": "markdown",
   "metadata": {},
   "source": [
    "Проверим минимальное значение - 12,190.00, в сравнении с другими объектами с минимальной стоимостью."
   ]
  },
  {
   "cell_type": "code",
   "execution_count": null,
   "metadata": {},
   "outputs": [],
   "source": [
    "# Отфильтруем данные применив метод query\n",
    "df.query('last_price < 450_000')"
   ]
  },
  {
   "cell_type": "markdown",
   "metadata": {},
   "source": [
    "Сомнительная цена для 2-ух комнатной квартиры общей площадью 109 м2. Учитывая, что средняя цена - 6,541,548.77, а медиана - 4,650,000.00, предположительно цена указана в тысячах рублей и должна быть - 12,190,000.00"
   ]
  },
  {
   "cell_type": "code",
   "execution_count": null,
   "metadata": {},
   "outputs": [],
   "source": [
    "# Используем индексацию c умножением для изменения значения цены\n",
    "df.loc[8793, 'last_price'] = df.loc[8793, 'last_price'] * 1000"
   ]
  },
  {
   "cell_type": "markdown",
   "metadata": {},
   "source": [
    "Проверим максимальное значение - 763,000,000.00, в сравнении с другими объектами с высокой стоимостью"
   ]
  },
  {
   "cell_type": "code",
   "execution_count": null,
   "metadata": {},
   "outputs": [],
   "source": [
    "# Отфильтруем данные применив метод query\n",
    "df.query('last_price > 350_000_000')"
   ]
  },
  {
   "cell_type": "markdown",
   "metadata": {},
   "source": [
    "Объект сильно выбивается из ценовой категории в сравнении с ближайшими \"кокурентами\", цена сомнительна. Однако, можно предположить, что это пентхаус, так как квартира находится на 10-ом этаже 10-и этажного дома.\n",
    "\n",
    "**Вывод:**\n",
    "\n",
    "При рассмотрении значений в колонке `last_price` были обнаружены сомнительные значения минимальной и максимальной цены. Значение минимальной цены было исправлено как ошибка заполнения, максимальная цена, видимо реальна.\n",
    "\n",
    "---"
   ]
  },
  {
   "cell_type": "code",
   "execution_count": null,
   "metadata": {},
   "outputs": [],
   "source": [
    "# Получим описательную статистику колонки ceiling_height\n",
    "df['ceiling_height'].describe()"
   ]
  },
  {
   "cell_type": "markdown",
   "metadata": {},
   "source": [
    "Ранее, методом df.isna().sum(), было обнаружено 9195 пропусков. Кроме этого, в колонке так же есть явные отклонения:\n",
    "- минимальное значение высоты потолка - 1 м,\n",
    "- максимальное значение высоты потолка - 100 м.\n",
    "Всё это маловероятно.\n",
    "\n",
    "Заменим значения меньше 2 м на медиану"
   ]
  },
  {
   "cell_type": "code",
   "execution_count": null,
   "metadata": {},
   "outputs": [],
   "source": [
    "# Используем индексацию с подстановкой медианных значений\n",
    "df.loc[(df['ceiling_height'] < 2), 'ceiling_height'] = df['ceiling_height'].median()"
   ]
  },
  {
   "cell_type": "markdown",
   "metadata": {},
   "source": [
    "В дорогих квартирах (например: 'https://realty.yandex.ru/offer/5535692837356630853/') высота потолка достигает 5-и метров, можно предположить, что есть квартиры с высотой потолка 6 метров, либо 2-ух уровневые квартиры с потолком бОльших размеров.\n",
    "\n",
    "Посмотрим на значения где потолок выше 7-и метров"
   ]
  },
  {
   "cell_type": "code",
   "execution_count": null,
   "metadata": {},
   "outputs": [],
   "source": [
    "# # Отфильтруем данные применив метод query\n",
    "df.query('ceiling_height > 7')"
   ]
  },
  {
   "cell_type": "markdown",
   "metadata": {},
   "source": [
    "\n",
    "\n",
    "Видим двузначные значения. Как мы предполагали ранее, данная аномалия связана с неправильным указанием в объявлениях размеров потолка. Разделим значения больше 20 метров на 10, то есть сдвинем разделитель на один знак влево, а пропускам и значениям больше 7 метров присвоим медиану."
   ]
  },
  {
   "cell_type": "code",
   "execution_count": null,
   "metadata": {},
   "outputs": [],
   "source": [
    "# Используем индексацию с делением на 10\n",
    "df.loc[(df['ceiling_height'] > 20), 'ceiling_height'] = df['ceiling_height'] / 10\n",
    "\n",
    "# Используем индексацию с подстановкой медианных значений\n",
    "df.loc[(df['ceiling_height'] > 7), 'ceiling_height'] = df['ceiling_height'].median()\n",
    "\n",
    "# Используя метод fillna заполним недостающие пропуски (9,195) медианным значением \n",
    "df['ceiling_height'] = df['ceiling_height'].fillna(df['ceiling_height'].median())"
   ]
  },
  {
   "cell_type": "code",
   "execution_count": null,
   "metadata": {},
   "outputs": [],
   "source": [
    "# Проверим количество пропущенных значений в ceiling_height\n",
    "print('Количество отсутствующих значений -', df['ceiling_height'].isna().sum())"
   ]
  },
  {
   "cell_type": "markdown",
   "metadata": {},
   "source": [
    "В колонке `floors_total` - всего этажей в доме, 86 пропусков. Мы не знаем, какое количество этажей в доме, тогда предположим, что данные объекты находятся на последних этажах."
   ]
  },
  {
   "cell_type": "code",
   "execution_count": null,
   "metadata": {},
   "outputs": [],
   "source": [
    "# Удалим пропуски\n",
    "df = df.dropna(subset=['floors_total'])"
   ]
  },
  {
   "cell_type": "code",
   "execution_count": null,
   "metadata": {},
   "outputs": [],
   "source": [
    "# Проверим количество пропущенных значений  в floors_total\n",
    "print('Количество отсутствующих значений -', df['floors_total'].isna().sum())"
   ]
  },
  {
   "cell_type": "markdown",
   "metadata": {},
   "source": [
    "В колонке `living_area` — жилая площадь в квадратных метрах (м²), 1,903 пропуска.\n",
    "\n",
    "Предположим, что доля жилой площади может зависить как от общей площади, так и от количества комнат в помещении. Для заполнения пропусков разобьем значения на группы по количеству комнат и найдем долю жилой площади в размере общей площади.\n",
    "\n",
    "Создадим таблицу с долей жилой площади в общей площади в зависимости от количества комнат"
   ]
  },
  {
   "cell_type": "code",
   "execution_count": null,
   "metadata": {},
   "outputs": [],
   "source": [
    "# Применим группировку в разрезе комната к жилой и общей площади\n",
    "living_area_data = (pd.DataFrame(df.groupby('rooms')['living_area'].median()\n",
    "                                /df.groupby('rooms')['total_area'].median()))\n",
    "\n",
    "# добавим колонку living_area_data в таблицу df\n",
    "living_area_data.columns = ['living_area_data']\n",
    "\n",
    "# выведем первые 5 строк\n",
    "living_area_data.head()"
   ]
  },
  {
   "cell_type": "markdown",
   "metadata": {},
   "source": [
    "Объединим две таблицы с заполнением пропусков произведением общей площади на долю жилой площади с округлием значения. Удалим колонку living_area_data."
   ]
  },
  {
   "cell_type": "code",
   "execution_count": null,
   "metadata": {},
   "outputs": [],
   "source": [
    "# присоединим к таблице df, таблицу living_area_data, по общему \n",
    "# столбцу rooms с аргументом left (таблица df)\n",
    "df = df.merge(living_area_data, on='rooms', how='left')\n",
    "\n",
    "# Вставим в пропущенные значения произведение общей площади на долю жилой площади\n",
    "df['living_area'] = df['living_area'].fillna(df['total_area'] * df['living_area_data'])\n",
    "\n",
    "# Удалим колонку living_area_data\n",
    "df = df.drop(columns = ['living_area_data'], axis=1)\n",
    "\n",
    "# Выведем первые 5 строк\n",
    "df.head()"
   ]
  },
  {
   "cell_type": "code",
   "execution_count": null,
   "metadata": {},
   "outputs": [],
   "source": [
    "# Проверим количество пропущенных значений в колонке living_area\n",
    "print('Количество отсутствующих значений -', df['living_area'].isna().sum())"
   ]
  },
  {
   "cell_type": "markdown",
   "metadata": {},
   "source": [
    "В колонке `is_apartment` — апартаменты(булев тип), 20,924 пропущенных значений. Предположим, что формат аппартаментов мало распостранен и пропущенные значения указывают на то, что объекты не являются аппартаментами.\n",
    "\n",
    "Заполним пропуски в колонке is_apartment значением - False."
   ]
  },
  {
   "cell_type": "code",
   "execution_count": null,
   "metadata": {},
   "outputs": [],
   "source": [
    "# Заполним пропущенные значения булевым типом - False, методом fillna\n",
    "df['is_apartment'] = df['is_apartment'].fillna(False)"
   ]
  },
  {
   "cell_type": "code",
   "execution_count": null,
   "metadata": {},
   "outputs": [],
   "source": [
    "# Проверим количество пропущенных значений в колонке is_apartment\n",
    "print('Количество отсутствующих значений -', df['is_apartment'].isna().sum())"
   ]
  },
  {
   "cell_type": "markdown",
   "metadata": {},
   "source": [
    "В колонке `kitchen_area` — площадь кухни в квадратных метрах (м²), 2,278 пропущенных значений. Допустим наличие зависимости между количеством комнат и площадью кухни. Заполним пропуски медианным значением в группах в зависимости от количества комнат. "
   ]
  },
  {
   "cell_type": "code",
   "execution_count": null,
   "metadata": {},
   "outputs": [],
   "source": [
    "# Заполним пропущенные значения методом fillna c группировкой по столбцу rooms \n",
    "# c указанием на данные колонки kitchen_area c применением метода transform\n",
    "df['kitchen_area'] = df['kitchen_area'].fillna(df.groupby('rooms')['kitchen_area'].transform(func='median'))"
   ]
  },
  {
   "cell_type": "code",
   "execution_count": null,
   "metadata": {},
   "outputs": [],
   "source": [
    "# Проверим количество пропущенных значений в колонке kitchen_area\n",
    "print('Количество отсутствующих значений -', df['kitchen_area'].isna().sum())"
   ]
  },
  {
   "cell_type": "markdown",
   "metadata": {},
   "source": [
    "Остались пропущенные значения. Предположительно, что это студии, в которых комната и кухня совмещена. Заполним пропуски нулём."
   ]
  },
  {
   "cell_type": "code",
   "execution_count": null,
   "metadata": {},
   "outputs": [],
   "source": [
    "# Используем метод fillna для заполнения оставшихся пропущенных значений в колонке kitchen_area \n",
    "df['kitchen_area'] = df['kitchen_area'].fillna(0)"
   ]
  },
  {
   "cell_type": "code",
   "execution_count": null,
   "metadata": {},
   "outputs": [],
   "source": [
    "# Снова проверим количество пропущенных значений в колонке kitchen_area\n",
    "print('Количество отсутствующих значений -', df['kitchen_area'].isna().sum())"
   ]
  },
  {
   "cell_type": "markdown",
   "metadata": {},
   "source": [
    "В колонке `balcony` -  число балконов, 11,519 пропущенных значений. Если продавец не указал число балконов, то, скорее всего, балкон отсутствует. Заменим данные пропуски нулём."
   ]
  },
  {
   "cell_type": "code",
   "execution_count": null,
   "metadata": {},
   "outputs": [],
   "source": [
    "# Используем метод fillna для заполнения пропущенных значений в колонке balcony\n",
    "df['balcony'] = df['balcony'].fillna(0)"
   ]
  },
  {
   "cell_type": "code",
   "execution_count": null,
   "metadata": {},
   "outputs": [],
   "source": [
    "# Проверим количество пропущенных значений в колонке balcony\n",
    "print('Количество отсутствующих значений -', df['balcony'].isna().sum())"
   ]
  },
  {
   "cell_type": "markdown",
   "metadata": {},
   "source": [
    "Преобразуем тип данных в столбцах: \n",
    "- `last_price`,\n",
    "- `floors_total`,\n",
    "- `balcony`."
   ]
  },
  {
   "cell_type": "code",
   "execution_count": null,
   "metadata": {},
   "outputs": [],
   "source": [
    "# Преобразуем колонки в целочисленный тип данных int используя метод astype\n",
    "df[['last_price', 'floors_total', 'balcony']] = df[['last_price', 'floors_total', 'balcony']].astype(int)"
   ]
  },
  {
   "cell_type": "markdown",
   "metadata": {},
   "source": [
    "Вывод: \n",
    "\n",
    "- для расчета жилой площади выводилось медианное значение доли жилой площади в общей, в зависимости от количества комнат в квартире.\n",
    "- площадь кухни бралась как медиана в зависимости от количества комнат.\n",
    "- в значениях высоты потолков убрали выбросы менее 2 метров и более 7 метров, заменив их медианой.\n",
    "- пропуски в значениях аппартаментов заменили на False.\n",
    "- пропуски в количестве балконов заменили на 0.\n",
    "- ~~количество этажей в доме приравняли этажу квартиры.~~ удалили пропущенные значения\n",
    "- изменили типы данных у цены, этажей и балконов на целое значение.\n",
    "\n",
    "Все пропуски в колонках объектов недвижимости обработаны, пропущенных значений - нет.\n",
    "\n",
    "---"
   ]
  },
  {
   "cell_type": "markdown",
   "metadata": {},
   "source": [
    "Изучим следующие параметры объектов:\n",
    "- количество объектов;\n",
    "- расстояние до центра города;\n",
    "- расстояние до ближайшего аэропорта.\n",
    "\n",
    "Обработаем пропущенные значения."
   ]
  },
  {
   "cell_type": "code",
   "execution_count": null,
   "metadata": {},
   "outputs": [],
   "source": [
    "# Выведем количество населённых пунктов\n",
    "df['locality_name'].nunique()"
   ]
  },
  {
   "cell_type": "code",
   "execution_count": null,
   "metadata": {},
   "outputs": [],
   "source": [
    "# Выведем количество объектов для продажи в населённых пунктов в порядке убывания\n",
    "df['locality_name'].value_counts()"
   ]
  },
  {
   "cell_type": "markdown",
   "metadata": {},
   "source": [
    "В таблице представлено 364 населенных пункта, относящихся к г. Санкт-Петербург и Ленинградской области.   \n",
    "В колонке locality_name - название населённого пункта, обнаружено 49 пропущенных значений. Для их заполнения посмотрим насколько они удалены от центра города."
   ]
  },
  {
   "cell_type": "code",
   "execution_count": null,
   "metadata": {
    "scrolled": true
   },
   "outputs": [],
   "source": [
    "# Выведем описательную статистику с использованием среза данных c операцией сравнения\n",
    "# для объектов Ленинградской области\n",
    "df.query('locality_name != locality_name')['city_centers_nearest'].describe()"
   ]
  },
  {
   "cell_type": "code",
   "execution_count": null,
   "metadata": {},
   "outputs": [],
   "source": [
    "# Выведем описательную статистику с использованием среза данных c операцией сравнения\n",
    "# для объектов г. Санкт-Петербург\n",
    "df.query('locality_name == \"Санкт-Петербург\"')['city_centers_nearest'].describe()"
   ]
  },
  {
   "cell_type": "markdown",
   "metadata": {},
   "source": [
    "Пропущенные значения могут относиться как к объектам в городе так и к объектам в области. Предположим что, если пропуск находится ближе чем медианное значение расстояния от центра города, то это г. Санкт-Петербург, остальным пропущенным значениям выставим - \"прочие локации\"."
   ]
  },
  {
   "cell_type": "code",
   "execution_count": null,
   "metadata": {},
   "outputs": [],
   "source": [
    "# Создадим переменную в которую положим медианное значение\n",
    "city_centers_nearest_median = df.query('locality_name == \"Санкт-Петербург\"')['city_centers_nearest'].median()"
   ]
  },
  {
   "cell_type": "code",
   "execution_count": null,
   "metadata": {},
   "outputs": [],
   "source": [
    "def distance(city_centers_nearest):\n",
    "    \"\"\"Функция сравнивает расстояние до центра города\n",
    "    и возвращает полученное значение\n",
    "    \"\"\"\n",
    "    if city_centers_nearest < city_centers_nearest_median:\n",
    "        return 'Санкт-Петербург'\n",
    "    return 'прочие локации'"
   ]
  },
  {
   "cell_type": "code",
   "execution_count": null,
   "metadata": {},
   "outputs": [],
   "source": [
    "# Cоздадим отдельный столбец и в его ячейках запишем значения, возвращаемые функцией.\n",
    "df['locality_name_values'] = df['city_centers_nearest'].apply(distance)"
   ]
  },
  {
   "cell_type": "code",
   "execution_count": null,
   "metadata": {},
   "outputs": [],
   "source": [
    "# Положим в переменную результат работы функции для заполнения пропущенных значений\n",
    "df['locality_name'] = df['locality_name'].fillna(df['locality_name_values'])"
   ]
  },
  {
   "cell_type": "code",
   "execution_count": null,
   "metadata": {},
   "outputs": [],
   "source": [
    "# Удалим ставшую ненужной колонку locality_name_values методом dropna\n",
    "df = df.drop(columns=['locality_name_values'], axis=1)"
   ]
  },
  {
   "cell_type": "code",
   "execution_count": null,
   "metadata": {},
   "outputs": [],
   "source": [
    "# Используя логическую индексацию, подсчитаем количество оставшихся значений \"прочие локации\"\n",
    "df[df['locality_name'] == 'прочие локации']['rooms'].count()"
   ]
  },
  {
   "cell_type": "markdown",
   "metadata": {},
   "source": [
    "В колонкае `airports_nearest` - расстояние до ближайшего аэропорта в метрах (м), 5,542 пропущенных значения; в колонке `city_centers_nearest` - расстояние до центра города (м), 5,519 пропущенных значений. Посмотрим, сколько пропущенных значений в самом большом городе Ленинградской области - Санкт-Петербурге."
   ]
  },
  {
   "cell_type": "code",
   "execution_count": null,
   "metadata": {},
   "outputs": [],
   "source": [
    "# Используем срез данных c операцией сравнения для подсчёта пропущенных значений\n",
    "df.query('locality_name == \"Санкт-Петербург\"')['airports_nearest'].isna().sum()"
   ]
  },
  {
   "cell_type": "code",
   "execution_count": null,
   "metadata": {},
   "outputs": [],
   "source": [
    "# Используем срез данных c операцией сравнения для подсчёта пропущенных значений\n",
    "df.query('locality_name == \"Санкт-Петербург\"')['city_centers_nearest'].isna().sum()"
   ]
  },
  {
   "cell_type": "markdown",
   "metadata": {},
   "source": [
    "Количество пропущенных значений в обоих случаях не велико, поэтому заменим их на медианное значение соответствующего населённого пункта"
   ]
  },
  {
   "cell_type": "code",
   "execution_count": null,
   "metadata": {},
   "outputs": [],
   "source": [
    "# Используем метод fillna c аргументом групировки: населённый пункт - медианное значение\n",
    "df['airports_nearest'] = (\n",
    "    df['airports_nearest'].fillna(df\n",
    "                                    .groupby('locality_name')['airports_nearest']\n",
    "                                    .transform('median'))\n",
    ")\n",
    "\n",
    "df['city_centers_nearest'] = (\n",
    "    df['city_centers_nearest'].fillna(df\n",
    "                                        .groupby('locality_name')['city_centers_nearest']\n",
    "                                        .transform('median'))\n",
    ")"
   ]
  },
  {
   "cell_type": "markdown",
   "metadata": {},
   "source": [
    "Переведём расстояние до центра города в километры и округлим до целых значений."
   ]
  },
  {
   "cell_type": "code",
   "execution_count": null,
   "metadata": {},
   "outputs": [],
   "source": [
    "# Округлим до целых значений и положим в ту же самую колонку\n",
    "df['city_centers_nearest'] = (df['city_centers_nearest'] / 1000).round(0)"
   ]
  },
  {
   "cell_type": "markdown",
   "metadata": {},
   "source": [
    "Вывод:\n",
    "\n",
    "- ввиду малого количества пропущенных значений удаленности от аэропорта и от центра г. Санкт-Петербург, заменили их на соответствующие медианные значения. Остальные пропущенные значения относятся к другим населенным пунктам расположенными в Ленинградской области, их не трогали."
   ]
  },
  {
   "cell_type": "markdown",
   "metadata": {},
   "source": [
    "В колонках `parks_around_3000` - число парков в радиусе 3 км и `ponds_around_3000` -  число водоёмов в радиусе 3 км, по 5,518 пропущенных значений. Видимо между столбцами существует определённая взаимосвязь. Заменим пропуски на 0 и изменим тип данных на `int`."
   ]
  },
  {
   "cell_type": "code",
   "execution_count": null,
   "metadata": {},
   "outputs": [],
   "source": [
    "# Заменим пропуски нулём\n",
    "df[['parks_around_3000', 'ponds_around_3000']] = df[['parks_around_3000', 'ponds_around_3000']].fillna(0)\n",
    "\n",
    "# Изменим тип данных на int\n",
    "df[['parks_around_3000', 'ponds_around_3000']] = df[['parks_around_3000', 'ponds_around_3000']].astype(int)"
   ]
  },
  {
   "cell_type": "markdown",
   "metadata": {},
   "source": [
    "Вывод:\n",
    "\n",
    "- из 23699 строк таблицы 15747(66,4%) приходится на Санкт-Петербург. Заменили пропущенные значения на медианные. Значительная часть пропущенных значений осталась не заполнена, но так как эти пропуски в основном относятся к объектам недвижимости Ленинградской области, то расстояние до центра и аэропорта не столь актуально;\n",
    "- из 49 пропущенных значений в колонке locality_name, заменили 26 значений на г. Санкт-Петербург и 23 значения на \"прочие локации\";\n",
    "- для заполнения пропущенных значений, можно воспользоваться сервисом Яндекс.карты и выписать какое поселение относится к городу, а какое к области, измерить расстояние до центра города и прочие показатели;\n",
    "- частично были изменены типы данных, метры заменили на километры с округлением до целой части.\n",
    "\n",
    "---"
   ]
  },
  {
   "cell_type": "markdown",
   "metadata": {},
   "source": [
    "Изучим уникальные значения в столбце с названиями населённых пунктов и устраним неявные дубликаты. Например, «поселок Рябово» и «поселок городского типа Рябово», «поселок Тельмана» и «посёлок Тельмана» — это обозначения одних и тех же населённых пунктов. Заменим названия в существующем столбце или создадим новый с названиями без дубликатов."
   ]
  },
  {
   "cell_type": "code",
   "execution_count": null,
   "metadata": {},
   "outputs": [],
   "source": [
    "# Выведем на экран перечень уникальных названий населённых пунктов\n",
    "df['locality_name'].unique()"
   ]
  },
  {
   "cell_type": "markdown",
   "metadata": {},
   "source": [
    "Много населенных пунктов, но некоторые из них имеют только одно значение.\n",
    "\n",
    "Кроме того, из названий городов и поселков видно, что в основном все они расположены вокруг Санкт-Петербурга. Можно понять размер населенного пункта по его названию: \"деревня\", \"поселок\", \"поселок городского типа\" и так далее. Города записываются просто по названиям, без дополнительных уточнений.\n",
    "\n",
    "Чтобы облегчить анализ данных, оставим только названия населенных пунктов и лемматизируем их для разделения на категории.\n",
    "\n",
    "Создадим функцию лемматизации, которая на основании данных из столбца `locality_name` сформирует новый столбец `locality_name_lem`, в который войдут следующие локации:"
   ]
  },
  {
   "cell_type": "code",
   "execution_count": null,
   "metadata": {},
   "outputs": [],
   "source": [
    "def lemm(liveplace):\n",
    "    \"\"\"Функция  принимает текст и возвращает \n",
    "    лемматизированную строку\n",
    "    \"\"\"\n",
    "    lemma = ' '.join(m.lemmatize(liveplace))\n",
    "    if \"поселок город тип\" in lemma:\n",
    "        return lemma.replace(\"посёлок город тип\", '')\n",
    "    elif \"деревня\" in lemma:\n",
    "        return lemma.replace(\"деревня\", '')\n",
    "    elif \"поселок\" in lemma:\n",
    "        return lemma.replace(\"поселок\", '')\n",
    "    elif \"село\" in lemma:\n",
    "        return lemma.replace(\"село\", '')\n",
    "    elif \"товарищество\" in lemma:\n",
    "         return lemma.replace(\"товарищество\", '')\n",
    "    else:\n",
    "        pass\n",
    "    return lemma"
   ]
  },
  {
   "cell_type": "code",
   "execution_count": null,
   "metadata": {
    "scrolled": true
   },
   "outputs": [],
   "source": [
    "#  Применим к таблице df и добавим результат в locality_name_lem\n",
    "df[\"locality_name_lem\"] = df[\"locality_name\"].apply(lemm)"
   ]
  },
  {
   "cell_type": "code",
   "execution_count": null,
   "metadata": {},
   "outputs": [],
   "source": [
    "# Проверим результат\n",
    "df[\"locality_name_lem\"].value_counts()"
   ]
  },
  {
   "cell_type": "markdown",
   "metadata": {},
   "source": [
    "Вывод: \n",
    "- изучили уникльные значения населённых пунктов;\n",
    "- для облегчения анализа, упростили названия населённых пунктов;\n",
    "- устранили неявные дубликаты в населённых пунктах используя лемматизацию.\n",
    "\n",
    "---"
   ]
  },
  {
   "cell_type": "markdown",
   "metadata": {},
   "source": [
    "**Исследуем на выбросы `last_price` - цена**"
   ]
  },
  {
   "cell_type": "code",
   "execution_count": null,
   "metadata": {
    "scrolled": false
   },
   "outputs": [],
   "source": [
    "df.boxplot(column='last_price')\n",
    "plt.ylim(10_000, 500_000)\n",
    "plt.show()\n",
    "\n",
    "df.boxplot(column='last_price')\n",
    "plt.ylim(12_000_000, 800_000_000)\n",
    "plt.show()"
   ]
  },
  {
   "cell_type": "markdown",
   "metadata": {},
   "source": [
    "Посмотрим на выбросы за границами значений, которые не вошли в \"ящик с усами\""
   ]
  },
  {
   "cell_type": "code",
   "execution_count": null,
   "metadata": {},
   "outputs": [],
   "source": [
    "len(df.query('last_price > 200_000_000'))"
   ]
  },
  {
   "cell_type": "markdown",
   "metadata": {},
   "source": [
    "9 выбивающихся значений - удалим их.\n"
   ]
  },
  {
   "cell_type": "code",
   "execution_count": null,
   "metadata": {},
   "outputs": [],
   "source": [
    "len(df)"
   ]
  },
  {
   "cell_type": "code",
   "execution_count": null,
   "metadata": {},
   "outputs": [],
   "source": [
    "# Отфильтруем выбросы методом query\n",
    "df = df.query('last_price < 200_000_000')"
   ]
  },
  {
   "cell_type": "markdown",
   "metadata": {},
   "source": [
    "Уберем выбросы за пределами нормальных значений"
   ]
  },
  {
   "cell_type": "code",
   "execution_count": null,
   "metadata": {
    "scrolled": false
   },
   "outputs": [],
   "source": [
    "describe_last_price = df['last_price'].describe().T\n",
    "q1_last_price = describe_last_price['25%'] # первый квартиль\n",
    "q3_last_price = describe_last_price['75%'] # третий квартиль\n",
    "iqr_last_price = q3_last_price - q1_last_price  # межквартильный размах\n",
    "\n",
    "# уберём выбросы за пределами нормальных значений\n",
    "df = df.query('(@q1_last_price-1.5*(@iqr_last_price)) <= last_price <= (@q3_last_price+1.5*(@iqr_last_price))')\n",
    "\n",
    "# Отображение диаграммы boxplot\n",
    "df[['last_price']].boxplot()\n"
   ]
  },
  {
   "cell_type": "code",
   "execution_count": null,
   "metadata": {},
   "outputs": [],
   "source": [
    "print(describe_last_price)\n",
    "len(df)"
   ]
  },
  {
   "cell_type": "markdown",
   "metadata": {},
   "source": [
    "**Исследуем на выбросы total_area — общая площадь квартиры в квадратных метрах (м²)**"
   ]
  },
  {
   "cell_type": "code",
   "execution_count": null,
   "metadata": {
    "scrolled": true
   },
   "outputs": [],
   "source": [
    "df.boxplot(column='total_area')"
   ]
  },
  {
   "cell_type": "code",
   "execution_count": null,
   "metadata": {},
   "outputs": [],
   "source": [
    "df.boxplot(column='total_area')\n",
    "plt.ylim(0, 50)\n",
    "plt.show()"
   ]
  },
  {
   "cell_type": "code",
   "execution_count": null,
   "metadata": {
    "scrolled": false
   },
   "outputs": [],
   "source": [
    "df.boxplot(column='total_area')\n",
    "plt.ylim(150, 500)\n",
    "plt.show()"
   ]
  },
  {
   "cell_type": "code",
   "execution_count": null,
   "metadata": {},
   "outputs": [],
   "source": [
    "len(df.query('total_area > 150'))"
   ]
  },
  {
   "cell_type": "markdown",
   "metadata": {},
   "source": [
    "16 выбивающихся значений - удалим их. "
   ]
  },
  {
   "cell_type": "code",
   "execution_count": null,
   "metadata": {},
   "outputs": [],
   "source": [
    "df = df.query('total_area < 150')"
   ]
  },
  {
   "cell_type": "code",
   "execution_count": null,
   "metadata": {},
   "outputs": [],
   "source": [
    "len(df)"
   ]
  },
  {
   "cell_type": "markdown",
   "metadata": {},
   "source": [
    "Уберем выбросы за пределами нормальных значений"
   ]
  },
  {
   "cell_type": "code",
   "execution_count": null,
   "metadata": {},
   "outputs": [],
   "source": [
    "describe_total_area = df['total_area'].describe().T\n",
    "q1_total_area = describe_total_area['25%'] # первый квартиль\n",
    "q3_total_area = describe_total_area['75%'] # третий квартиль\n",
    "iqr_total_area = q3_total_area - q1_total_area  # межквартильный размах\n",
    "\n",
    "# уберём выбросы за пределами нормальных значений\n",
    "df = df.query('(@q1_total_area-1.5*(@iqr_total_area)) <= total_area <= (@q3_total_area+1.5*(@iqr_total_area))')\n",
    "\n",
    "# Отображение диаграммы boxplot \n",
    "df[['total_area']].boxplot()"
   ]
  },
  {
   "cell_type": "code",
   "execution_count": null,
   "metadata": {},
   "outputs": [],
   "source": [
    "print(describe_total_area)\n",
    "len(df)"
   ]
  },
  {
   "cell_type": "markdown",
   "metadata": {},
   "source": [
    "**Исследуем на выбросы `rooms` — число комнат**"
   ]
  },
  {
   "cell_type": "code",
   "execution_count": null,
   "metadata": {},
   "outputs": [],
   "source": [
    "df.boxplot(column='rooms')"
   ]
  },
  {
   "cell_type": "code",
   "execution_count": null,
   "metadata": {},
   "outputs": [],
   "source": [
    "df.boxplot(column='rooms')\n",
    "plt.ylim(5, 20)\n",
    "plt.show()"
   ]
  },
  {
   "cell_type": "code",
   "execution_count": null,
   "metadata": {
    "scrolled": true
   },
   "outputs": [],
   "source": [
    "df.boxplot(column='rooms')\n",
    "plt.ylim(0, 1)\n",
    "plt.show()"
   ]
  },
  {
   "cell_type": "code",
   "execution_count": null,
   "metadata": {},
   "outputs": [],
   "source": [
    "df.query('rooms == 0')"
   ]
  },
  {
   "cell_type": "markdown",
   "metadata": {},
   "source": [
    "Похоже, что это студии, так как данные объекты имеют общую и жилую площадь. Не будем их трогать."
   ]
  },
  {
   "cell_type": "markdown",
   "metadata": {},
   "source": [
    "Уберем выбросы за пределами нормальных значений"
   ]
  },
  {
   "cell_type": "code",
   "execution_count": null,
   "metadata": {},
   "outputs": [],
   "source": [
    "describe_rooms = df['rooms'].describe().T\n",
    "q1_rooms = describe_rooms['25%'] # первый квартиль\n",
    "q3_rooms = describe_rooms['75%'] # третий квартиль\n",
    "iqr_rooms = q3_rooms - q1_rooms  # межквартильный размах\n",
    "\n",
    "# уберём выбросы за пределами нормальных значений\n",
    "df = df.query('(@q1_rooms-1.5*(@iqr_rooms)) <= rooms <= (@q3_rooms+1.5*(@iqr_rooms))')\n",
    "\n",
    "# Отображение диаграммы boxplot \n",
    "df[['rooms']].boxplot()"
   ]
  },
  {
   "cell_type": "code",
   "execution_count": null,
   "metadata": {},
   "outputs": [],
   "source": [
    "print(describe_rooms)\n",
    "len(df)"
   ]
  },
  {
   "cell_type": "markdown",
   "metadata": {},
   "source": [
    "**Исследуем на выбросы `days_exposition` — сколько дней было размещено объявление (от публикации до снятия)**"
   ]
  },
  {
   "cell_type": "code",
   "execution_count": null,
   "metadata": {
    "scrolled": true
   },
   "outputs": [],
   "source": [
    "df.boxplot(column='days_exposition')"
   ]
  },
  {
   "cell_type": "code",
   "execution_count": null,
   "metadata": {},
   "outputs": [],
   "source": [
    "df.boxplot(column='days_exposition')\n",
    "plt.ylim(1400, 5_000)\n",
    "plt.show()"
   ]
  },
  {
   "cell_type": "code",
   "execution_count": null,
   "metadata": {},
   "outputs": [],
   "source": [
    "len(df.query('days_exposition > 1400'))"
   ]
  },
  {
   "cell_type": "code",
   "execution_count": null,
   "metadata": {},
   "outputs": [],
   "source": [
    "df = df.query('days_exposition < 1400')"
   ]
  },
  {
   "cell_type": "markdown",
   "metadata": {},
   "source": [
    "Уберем выбросы за пределами нормальных значений"
   ]
  },
  {
   "cell_type": "code",
   "execution_count": null,
   "metadata": {},
   "outputs": [],
   "source": [
    "describe_days_exposition = df['days_exposition'].describe().T\n",
    "q1_days_exposition = describe_days_exposition['25%'] # первый квартиль\n",
    "q3_days_exposition = describe_days_exposition['75%'] # третий квартиль\n",
    "iqr_days_exposition = q3_days_exposition - q1_days_exposition  # межквартильный размах\n",
    "\n",
    "# уберём выбросы за пределами нормальных значений\n",
    "df = df.query('(@q1_days_exposition-1.5*(@iqr_days_exposition)) <= days_exposition <= (@q3_days_exposition+1.5*(@iqr_days_exposition))')\n",
    "\n",
    "# Отображение диаграммы boxplot \n",
    "df[['days_exposition']].boxplot()"
   ]
  },
  {
   "cell_type": "code",
   "execution_count": null,
   "metadata": {},
   "outputs": [],
   "source": [
    "print(describe_days_exposition)\n",
    "len(df)"
   ]
  },
  {
   "cell_type": "markdown",
   "metadata": {},
   "source": [
    "### Посчитайте и добавьте в таблицу новые столбцы"
   ]
  },
  {
   "cell_type": "markdown",
   "metadata": {},
   "source": [
    "Добавим колонку с расчётом цены за метр квадратный"
   ]
  },
  {
   "cell_type": "code",
   "execution_count": null,
   "metadata": {},
   "outputs": [],
   "source": [
    "# Частное от цены на площадь положим в price_square_meter\n",
    "df['price_square_meter'] = df['last_price'] / df['total_area']\n",
    "# Изменим тип данных частного на int\n",
    "df['price_square_meter'] = df['price_square_meter'].astype(int)"
   ]
  },
  {
   "cell_type": "markdown",
   "metadata": {},
   "source": [
    "Добавим колонки с днём недели, месяцем и годом"
   ]
  },
  {
   "cell_type": "code",
   "execution_count": null,
   "metadata": {},
   "outputs": [],
   "source": [
    "# Используем атрибут dt (date time), который укажет, что тип \n",
    "# данных, к которым будут применены методы, - datetime\n",
    "df['day_of_the_week'] = df['first_day_exposition'].dt.weekday\n",
    "df['month'] = df['first_day_exposition'].dt.month\n",
    "df['year'] = df['first_day_exposition'].dt.year"
   ]
  },
  {
   "cell_type": "markdown",
   "metadata": {},
   "source": [
    "Используем функцию для добавления типа этажа квартиры"
   ]
  },
  {
   "cell_type": "code",
   "execution_count": null,
   "metadata": {},
   "outputs": [],
   "source": [
    "def floor_type(row):\n",
    "    \"\"\"В тело функции вложим конструкцию\n",
    "    с условием истинности\n",
    "    \"\"\"\n",
    "    floor = row['floor']\n",
    "    flors_total = row['floors_total']\n",
    "    \n",
    "    if floor == 1:\n",
    "        return 'первый'\n",
    "    elif floor == flors_total:\n",
    "        return 'последний'\n",
    "    else:\n",
    "        return 'другой'   "
   ]
  },
  {
   "cell_type": "code",
   "execution_count": null,
   "metadata": {},
   "outputs": [],
   "source": [
    "# Подставим результат работы функции в колонку floor_type\n",
    "df['floor_type'] = df.apply(floor_type, axis=1)"
   ]
  },
  {
   "cell_type": "code",
   "execution_count": null,
   "metadata": {},
   "outputs": [],
   "source": [
    "df.head()"
   ]
  },
  {
   "cell_type": "markdown",
   "metadata": {},
   "source": [
    "Добавим колонки:\n",
    "- отношение общей площади к жилой площади;\n",
    "- отношение площади кухни к общей площади."
   ]
  },
  {
   "cell_type": "code",
   "execution_count": null,
   "metadata": {},
   "outputs": [],
   "source": [
    "# Результат вычислений положим в переменные living_total_area и kitchen_total_area\n",
    "df['living_total_area'] = df['living_area'] / df['total_area']\n",
    "df['kitchen_total_area'] = df['kitchen_area'] / df['total_area']"
   ]
  },
  {
   "cell_type": "code",
   "execution_count": null,
   "metadata": {},
   "outputs": [],
   "source": [
    "# Проверим результат вычислений в колонках living_total_area и kitchen_total_area\n",
    "df.head()"
   ]
  },
  {
   "cell_type": "markdown",
   "metadata": {},
   "source": [
    "---"
   ]
  },
  {
   "cell_type": "markdown",
   "metadata": {},
   "source": [
    "### Проведите исследовательский анализ данных"
   ]
  },
  {
   "cell_type": "markdown",
   "metadata": {},
   "source": [
    "**Изучим данные колонки `total_area` - площадь квартиры в квадратных метрах (м²).**"
   ]
  },
  {
   "cell_type": "code",
   "execution_count": null,
   "metadata": {
    "scrolled": true
   },
   "outputs": [],
   "source": [
    "df['total_area'].plot(kind='hist', title='Площадь квартир (м²):', figsize=(10, 5), grid=True)\n",
    "plt.show()"
   ]
  },
  {
   "cell_type": "code",
   "execution_count": null,
   "metadata": {},
   "outputs": [],
   "source": [
    "df['total_area'].describe()"
   ]
  },
  {
   "cell_type": "markdown",
   "metadata": {},
   "source": [
    "Видно, что преобладающее число объявлений имеют площадь до 100 м², затем идет резкое снижение и далее значение практически сливаются с нулем.\n",
    "\n",
    "Посмотрим на диапазоны значений:"
   ]
  },
  {
   "cell_type": "code",
   "execution_count": null,
   "metadata": {},
   "outputs": [],
   "source": [
    "df['total_area'].plot(kind='hist'\n",
    "                      , title='Площадь квартир 0-40 (м²):'\n",
    "                      , figsize=(10, 5)\n",
    "                      , range=(0, 40)\n",
    "                      , bins=100, grid=True\n",
    "                     )\n",
    "plt.show()\n",
    "print(df.query('total_area < 40')['total_area'].describe())\n",
    "\n",
    "\n",
    "df['total_area'].plot(kind='hist'\n",
    "                      , title='Площадь квартир 41-60 (м²):'\n",
    "                      , figsize=(10, 5)\n",
    "                      , range=(40, 60)\n",
    "                      , bins=100\n",
    "                      , grid=True\n",
    "                     )\n",
    "plt.show()\n",
    "print(df.query('41 < total_area < 60')['total_area'].describe())\n",
    "\n",
    "\n",
    "df['total_area'].plot(kind='hist'\n",
    "                      , title='Площадь квартир 61-100 (м²):'\n",
    "                      , figsize=(10, 5)\n",
    "                      , range=(60, 100)\n",
    "                      , bins=100\n",
    "                      , grid=True\n",
    "                     )\n",
    "plt.show()\n",
    "print(df.query('61 < total_area')['total_area'].describe())"
   ]
  },
  {
   "cell_type": "markdown",
   "metadata": {},
   "source": [
    "Вывод\n",
    "\n",
    "Видим аномальное минимальное значение 12 м² - точно не квартира,слишком маленькая площадь, может быть это комната или ошибка в данных.\n",
    "\n",
    "В среднем, площадь квартир составляет 51 м² и это не сильно отличается от медианы 47 м². На гистограмме видно, что основная доля квартир приходится на площадь 40 - 60 м²."
   ]
  },
  {
   "cell_type": "markdown",
   "metadata": {},
   "source": [
    "**Изучим данные колонки `living_area` - жилая площадь в квадратных метрах (м²).**"
   ]
  },
  {
   "cell_type": "code",
   "execution_count": null,
   "metadata": {},
   "outputs": [],
   "source": [
    "df['living_area'].plot(kind='hist'\n",
    "                       , title='Жилая площадь квартир (м²):'\n",
    "                       , figsize=(10, 5)\n",
    "                       , grid=True\n",
    "                      )\n",
    "plt.show()"
   ]
  },
  {
   "cell_type": "code",
   "execution_count": null,
   "metadata": {
    "scrolled": true
   },
   "outputs": [],
   "source": [
    "df['living_area'].describe()"
   ]
  },
  {
   "cell_type": "markdown",
   "metadata": {},
   "source": [
    "Видно, что преобладающее число объявлений имеют площадь до 60 м², затем идет резкое снижение до 90 м² и далее значение практически сливаются с нулем.\n",
    "\n",
    "Взглянув на числовое описание данных, видим, что третий квартиль и максимальное значение сильно различаются: 37 и 88, а так же первый квартиль и минимальное значение - 2 и 18.\n",
    "\n",
    "Посмотрим на эти диапазоны:"
   ]
  },
  {
   "cell_type": "code",
   "execution_count": null,
   "metadata": {},
   "outputs": [],
   "source": [
    "df['living_area'].plot(kind='hist'\n",
    "                       , title='Жилая площадь квартир 0-30 (м²):'\n",
    "                       , figsize=(10, 5)\n",
    "                       , range=(0, 30)\n",
    "                       , bins=100\n",
    "                       , grid=True\n",
    "                      )\n",
    "plt.show()\n",
    "print(df.query('living_area < 31')['living_area'].describe())\n",
    "\n",
    "\n",
    "df['living_area'].plot(kind='hist'\n",
    "                       , title='Жилая площадь квартир 31-60 (м²):'\n",
    "                       , figsize=(10, 5)\n",
    "                       , range=(30, 60)\n",
    "                       , bins=100\n",
    "                       , grid=True\n",
    "                      )\n",
    "plt.show()\n",
    "print(df.query('30 < living_area < 61')['living_area'].describe())\n",
    "\n",
    "\n",
    "df['living_area'].plot(kind='hist'\n",
    "                       , title='Жилая площадь квартир 61-90 (м²):'\n",
    "                       , figsize=(10, 5)\n",
    "                       , range=(60, 90)\n",
    "                       , bins=100\n",
    "                       , grid=True\n",
    "                      )\n",
    "plt.show()\n",
    "print(df.query('60 < living_area')['living_area'].describe())"
   ]
  },
  {
   "cell_type": "markdown",
   "metadata": {},
   "source": [
    "Вывод\n",
    "\n",
    "Видим аномальное минимальное значение 2 м² - слишком маленькая жилая площадь, вероятнее всего, это ошибка в данных. Также мы видим резкий спад после 60 м² и очень маленькое количество объявлений, всего 148 шт., на фоне всей выборке это менее 1% данных.\n",
    "\n",
    "На гистограмме видно, что основная доля приходится на квартиры с жилой площадью до 30 м²."
   ]
  },
  {
   "cell_type": "markdown",
   "metadata": {},
   "source": [
    "**Изучим данные колонки `kitchen_area` - площадь кухни в квадратных метрах (м²).**"
   ]
  },
  {
   "cell_type": "code",
   "execution_count": null,
   "metadata": {},
   "outputs": [],
   "source": [
    "df['kitchen_area'].plot(kind='hist'\n",
    "                        , title='Площадь кухни (м²):'\n",
    "                        , figsize=(10, 5)\n",
    "                        , grid=True)\n",
    "plt.show()"
   ]
  },
  {
   "cell_type": "code",
   "execution_count": null,
   "metadata": {},
   "outputs": [],
   "source": [
    "df['kitchen_area'].describe()"
   ]
  },
  {
   "cell_type": "markdown",
   "metadata": {},
   "source": [
    "Видно, что преобладающее число объявлений имеют площадь кухни до 20 м², затем идет резкое снижение до 30 м² и далее значение практически сливаются с нулем.\n",
    "\n",
    "Взглянув на числовое описание данных, видим, что третий квартиль и максимальное значение сильно различаются: 10 и 50, а так же первый квартиль и минимальное значение - 0 и 7.\n",
    "\n",
    "Посмотрим на эти диапазоны:"
   ]
  },
  {
   "cell_type": "code",
   "execution_count": null,
   "metadata": {},
   "outputs": [],
   "source": [
    "df['kitchen_area'].plot(kind='hist'\n",
    "                        , title='Площадь кухни 0-20 (м²):'\n",
    "                        , figsize=(10, 5)\n",
    "                        , range=(0, 20)\n",
    "                        , bins=100\n",
    "                        , grid=True\n",
    "                       )\n",
    "plt.show()\n",
    "print(df.query('kitchen_area < 21')['kitchen_area'].describe())\n",
    "\n",
    "\n",
    "df['kitchen_area'].plot(kind='hist'\n",
    "                        , title='Площадь кухни 21-50 (м²):'\n",
    "                        , figsize=(10, 5)\n",
    "                        , range=(20, 50)\n",
    "                        , bins=100\n",
    "                        , grid=True\n",
    "                       )\n",
    "plt.show()\n",
    "print(df.query('20 < kitchen_area < 51')['kitchen_area'].describe())"
   ]
  },
  {
   "cell_type": "markdown",
   "metadata": {},
   "source": [
    "Вывод\n",
    "\n",
    "Видим аномальное минимальное значение 0 м² - это квартира студия. \n",
    "\n",
    "На гистограмме видно, что основная доля приходится на квартиры с кухней до 20 м²."
   ]
  },
  {
   "cell_type": "markdown",
   "metadata": {},
   "source": [
    "**Изучим данные колонки `last_price` - цена на момент снятия с публикации, c выводом гистограммы и сортировкой значений**"
   ]
  },
  {
   "cell_type": "code",
   "execution_count": null,
   "metadata": {},
   "outputs": [],
   "source": [
    "df['last_price'].plot(kind='hist'\n",
    "                      , title='Стоимость квартир'\n",
    "                      , figsize=(10, 5)\n",
    "                      , bins=100\n",
    "                      , grid=True\n",
    "                     )\n",
    "plt.show()"
   ]
  },
  {
   "cell_type": "code",
   "execution_count": null,
   "metadata": {},
   "outputs": [],
   "source": [
    "df['last_price'].describe()"
   ]
  },
  {
   "cell_type": "markdown",
   "metadata": {},
   "source": [
    "- Минимальная стоимость квартиры: 430,000.00.\n",
    "- Максимальная стоимость квартиры: 11,850,000.00.\n",
    "\n",
    "Разобьем на три диапазона по стоимости:\n",
    "\n",
    "- от 0 до 3,000,000 рублей;\n",
    "- от 3,000,000 рублей до 6,000,000;\n",
    "- выше 6,000,000."
   ]
  },
  {
   "cell_type": "code",
   "execution_count": null,
   "metadata": {},
   "outputs": [],
   "source": [
    "# до 3 млн. рублей\n",
    "(\n",
    "df['last_price']\n",
    "    .plot(kind='hist' \n",
    "         , title='Стоимость квартир до 6 млн. рублей'\n",
    "         , range=(0, 3_000_000)\n",
    "         , figsize=(10, 5)\n",
    "         , bins=100\n",
    "         , grid=True        \n",
    "         )\n",
    ")\n",
    "\n",
    "plt.show()\n",
    "print(df.query('last_price < 3_000_000')['last_price'].describe())\n",
    "\n",
    "\n",
    "\n",
    "# от 3 млн. рублей до 6 млн. рублей\n",
    "(\n",
    "df['last_price']\n",
    "    .plot(kind='hist' \n",
    "         , title='Стоимость квартир от 3 млн. рублей до 6 млн. рублей' \n",
    "         , range=(3_000_001, 6_000_000)\n",
    "         , figsize=(10,5)\n",
    "         , bins=100\n",
    "         , grid=True        \n",
    "         )\n",
    ")\n",
    "\n",
    "plt.show()\n",
    "print(df.query('3_000_001 < last_price < 6_000_000')['last_price'].describe())\n",
    "\n",
    "\n",
    "\n",
    "# от 6 млн. рублей\n",
    "(\n",
    "df['last_price']\n",
    "    .plot(kind='hist' \n",
    "         , title='Стоимость квартир от 6 млн. рублей' \n",
    "         , range=(6_000_000, 12_000_000)\n",
    "         , figsize=(10,5)\n",
    "         , bins=100\n",
    "         , grid=True        \n",
    "         )\n",
    ")\n",
    "\n",
    "plt.show()\n",
    "print(df.query('last_price > 6_000_000')['last_price'].describe())\n"
   ]
  },
  {
   "cell_type": "markdown",
   "metadata": {},
   "source": [
    "Видно небольшое стандартное отклонение у квартир до 3 млн. рублей, и далее у квартир следющих диапазонов.\n",
    "\n",
    "Большего всего квартир продаётся от 3 до 6 млн. рублей, затем гистограмма идет на спад."
   ]
  },
  {
   "cell_type": "markdown",
   "metadata": {},
   "source": [
    "Вывод\n",
    "\n",
    "Медиана цены приходится на 4,290,000.00, среднее значение на 4,650,043.71, стандартное отклонение на 2,043,696.73. Отклонение, является результатом высоких цен за объекты, самая высокая из которых - 11,850,000.00.\n",
    "\n",
    "---\n"
   ]
  },
  {
   "cell_type": "markdown",
   "metadata": {},
   "source": [
    "**Изучим данные колонки `rooms` - число комнат, c выводом гистограммы и сортировкой значений**"
   ]
  },
  {
   "cell_type": "code",
   "execution_count": null,
   "metadata": {
    "scrolled": false
   },
   "outputs": [],
   "source": [
    "df['rooms'].plot(kind='hist'\n",
    "                 , title='Количество комнат'\n",
    "                 , bins=50\n",
    "                 , figsize=(10, 5)\n",
    "                 , grid=True\n",
    "                )\n",
    "\n",
    "plt.show()"
   ]
  },
  {
   "cell_type": "code",
   "execution_count": null,
   "metadata": {},
   "outputs": [],
   "source": [
    "df['rooms'].describe()"
   ]
  },
  {
   "cell_type": "markdown",
   "metadata": {},
   "source": [
    "Видим количество комнат равное 0 - ранее мы предположили, что это квартиры-студии. Стандартное отклонение стремится к 1, медиана и среднее арифметическое практически равны.\n",
    "\n",
    "На гистограмме наблюдаем, что в большинстве объявлений количество комнат равняется: 1, 2 или 3. Начиная с 4-х комнатных квартир мы видим спад."
   ]
  },
  {
   "cell_type": "markdown",
   "metadata": {},
   "source": [
    "Вывод\n",
    "\n",
    "Самые популярные одно - и двухкомнатные квартиры, далее по убыванию.\n",
    "\n",
    "---"
   ]
  },
  {
   "cell_type": "markdown",
   "metadata": {},
   "source": [
    "**Изучим данные колонки `ceiling_height` - высота потолков (м).**"
   ]
  },
  {
   "cell_type": "code",
   "execution_count": null,
   "metadata": {},
   "outputs": [],
   "source": [
    "df['ceiling_height'].plot(kind='hist'\n",
    "                          , title='Высота потолков в квартире (м):'\n",
    "                          , figsize=(10, 5)\n",
    "                          , bins=100\n",
    "                          , grid=True)\n",
    "plt.show()"
   ]
  },
  {
   "cell_type": "code",
   "execution_count": null,
   "metadata": {},
   "outputs": [],
   "source": [
    "df['ceiling_height'].describe()"
   ]
  },
  {
   "cell_type": "markdown",
   "metadata": {},
   "source": [
    "Cтандартная высота потолка в квартирах  2,5-3,2 метра в зависимости от года строительства и типа дома. В некоторых домах \"старой застройки\" (сталинские дома) высота потолка может достигать – от 3,20 м до 4 - 6 м, посмотрим на гистограмму таких значений:"
   ]
  },
  {
   "cell_type": "code",
   "execution_count": null,
   "metadata": {},
   "outputs": [],
   "source": [
    "df.query('2.5 <= ceiling_height <= 6')['ceiling_height'].hist()\n",
    "plt.show()"
   ]
  },
  {
   "cell_type": "code",
   "execution_count": null,
   "metadata": {},
   "outputs": [],
   "source": [
    "df.query('2.5 <= ceiling_height <= 6')['ceiling_height'].describe()"
   ]
  },
  {
   "cell_type": "markdown",
   "metadata": {},
   "source": [
    "16,910 значений соответствует нашему диапазону. Стандартное отклонение стремится к нулю, медиана и среднее арифметическое почти равны."
   ]
  },
  {
   "cell_type": "markdown",
   "metadata": {},
   "source": [
    "Вывод\n",
    "\n",
    "Самые распространенное значение высоты потолка - 2.65 метра, что соответствует медиане.\n",
    "\n",
    "---"
   ]
  },
  {
   "cell_type": "markdown",
   "metadata": {},
   "source": [
    "**Изучим данные колонки `floor` - этаж квартиры.**"
   ]
  },
  {
   "cell_type": "code",
   "execution_count": null,
   "metadata": {},
   "outputs": [],
   "source": [
    "df['floor'].plot(kind='hist'\n",
    "                 , title='Этаж квартиры'\n",
    "                 , bins=50\n",
    "                 , figsize=(10, 5)\n",
    "                 , grid=True\n",
    "                )\n",
    "\n",
    "plt.show()"
   ]
  },
  {
   "cell_type": "code",
   "execution_count": null,
   "metadata": {},
   "outputs": [],
   "source": [
    "df['floor'].describe()"
   ]
  },
  {
   "cell_type": "markdown",
   "metadata": {},
   "source": [
    "К минимальному значению и 25-у перцентилю вопросов нет, а вот 75 перцентиль и максимальное значение нужно посмотреть. Разделим данные на три диапазона и посмотрим их:"
   ]
  },
  {
   "cell_type": "code",
   "execution_count": null,
   "metadata": {},
   "outputs": [],
   "source": [
    "df.head()"
   ]
  },
  {
   "cell_type": "code",
   "execution_count": null,
   "metadata": {},
   "outputs": [],
   "source": [
    "df['floor'].plot(kind='hist'\n",
    "                 , title='Номер этажа 1 - 5:'\n",
    "                 , figsize=(10, 5)\n",
    "                 , range=(0, 5)\n",
    "                 , bins=100\n",
    "                 , grid=True\n",
    "                )\n",
    "plt.show()\n",
    "\n",
    "\n",
    "df['floor'].plot(kind='hist'\n",
    "                 , title='Номер этажа 6 - 15:'\n",
    "                 , figsize=(10, 5)\n",
    "                 , range=(5, 15)\n",
    "                 , bins=100\n",
    "                 , grid=True\n",
    "                )\n",
    "plt.show()\n",
    "\n",
    "\n",
    "df['floor'].plot(kind='hist'\n",
    "                 , title='Номер этажа 16 - 33:'\n",
    "                 , figsize=(10, 5)\n",
    "                 , range=(15, 40)\n",
    "                 , bins=100\n",
    "                 , grid=True\n",
    "                )\n",
    "plt.show()"
   ]
  },
  {
   "cell_type": "markdown",
   "metadata": {},
   "source": [
    "Вывод\n",
    "\n",
    "Наибольшее количество объявлений приходится на диапазон с 1 по 5 этаж, далее на диапазон с 6 по 15 этаж и наконец на этажи с 16 по 33. Средние и медианные значения почти совпадают.\n",
    "\n",
    "---"
   ]
  },
  {
   "cell_type": "markdown",
   "metadata": {},
   "source": [
    "**Изучим данные колонки `floor_type` - тип этажа квартиры («первый», «последний», «другой»).**"
   ]
  },
  {
   "cell_type": "code",
   "execution_count": null,
   "metadata": {},
   "outputs": [],
   "source": [
    "df['floor_type'].value_counts()"
   ]
  },
  {
   "cell_type": "code",
   "execution_count": null,
   "metadata": {},
   "outputs": [],
   "source": [
    "df['floor_type'].value_counts().sum()"
   ]
  },
  {
   "cell_type": "markdown",
   "metadata": {},
   "source": [
    "Вывод\n",
    "\n",
    "Наибольшую долю (74%) от всех объявлений, составляет тип этажа \"другой\", далее с долей 14% тип этажа \"последний\" и на третьем месте с долей 12% тип этажа \"первый\"."
   ]
  },
  {
   "cell_type": "markdown",
   "metadata": {},
   "source": [
    "**Изучим данные колонки `floors_total` - всего этажей в доме.**"
   ]
  },
  {
   "cell_type": "code",
   "execution_count": null,
   "metadata": {},
   "outputs": [],
   "source": [
    "df['floors_total'].plot(kind='hist'\n",
    "                        , title='Этаж квартиры'\n",
    "                        , bins=50\n",
    "                        , figsize=(10, 5)\n",
    "                        , grid=True\n",
    "                       )\n",
    "plt.show()"
   ]
  },
  {
   "cell_type": "code",
   "execution_count": null,
   "metadata": {},
   "outputs": [],
   "source": [
    "df['floors_total'].describe()"
   ]
  },
  {
   "cell_type": "markdown",
   "metadata": {},
   "source": [
    "Видим, что наибольшее количество объявлений приходится на дома с высотой до 10 этажа. Сделаем срезы, посмотрим повнимательнее:"
   ]
  },
  {
   "cell_type": "code",
   "execution_count": null,
   "metadata": {},
   "outputs": [],
   "source": [
    "df['floors_total'].plot(kind='hist'\n",
    "                        , title='Этажность дома 1 - 10:'\n",
    "                        , figsize=(10, 5)\n",
    "                        , range=(1, 10)\n",
    "                        , bins=100\n",
    "                        , grid=True\n",
    "                       )\n",
    "plt.show()\n",
    "print(df.query('floors_total < 11')['floors_total'].describe())\n",
    "\n",
    "\n",
    "df['floors_total'].plot(kind='hist'\n",
    "                        , title='Этажность дома 11 - 20:'\n",
    "                        , figsize=(10, 5)\n",
    "                        , range=(10, 20)\n",
    "                        , bins=100\n",
    "                        , grid=True\n",
    "                       )\n",
    "plt.show()\n",
    "print(df.query('10 < floors_total < 21')['floors_total'].describe())\n",
    "\n",
    "\n",
    "df['floors_total'].plot(kind='hist'\n",
    "                        , title='Этажность дома 21 - 60:'\n",
    "                        , figsize=(10, 5)\n",
    "                        , range=(20, 60)\n",
    "                        , bins=100\n",
    "                        , grid=True\n",
    "                       )\n",
    "plt.show()\n",
    "print(df.query('20 < floors_total')['floors_total'].describe())\n"
   ]
  },
  {
   "cell_type": "code",
   "execution_count": null,
   "metadata": {},
   "outputs": [],
   "source": [
    "df.query('floors_total == 60')"
   ]
  },
  {
   "cell_type": "markdown",
   "metadata": {},
   "source": [
    "Вывод:\n",
    "\n",
    "- в первом сегменте наибольшая доля объявлений приходится на 5-и этажные дома, далее с небольшим отрывом на 9-и этажные дома;\n",
    "- во втором сегменте наибольшая доля объявлений приходится на 12-и и 16-и этажные дома;\n",
    "- в третьем сегменте на 25-и этажные дома.\n",
    "\n",
    "Максимальное значение в 60 этажей, похоже на ошибку разрядности, должно быть 6 этажей."
   ]
  },
  {
   "cell_type": "markdown",
   "metadata": {},
   "source": [
    "**Изучим данные колонки `city_сenter_nearest` - расстояние до центра города (м).**"
   ]
  },
  {
   "cell_type": "code",
   "execution_count": null,
   "metadata": {},
   "outputs": [],
   "source": [
    "df['city_centers_nearest'].plot(kind='hist'\n",
    "                                , title='Расстояние до центра города (км)'\n",
    "                                , bins=50\n",
    "                                , figsize=(10, 5)\n",
    "                                , grid=True\n",
    "                               )\n",
    "plt.show()"
   ]
  },
  {
   "cell_type": "code",
   "execution_count": null,
   "metadata": {},
   "outputs": [],
   "source": [
    "df['city_centers_nearest'].describe()"
   ]
  },
  {
   "cell_type": "markdown",
   "metadata": {},
   "source": [
    "На гистограмме, видим три пиковых значения размещения объявлений квартир относительно центра города. Разделим данные на сегменты и изучим показатели:"
   ]
  },
  {
   "cell_type": "code",
   "execution_count": null,
   "metadata": {},
   "outputs": [],
   "source": [
    "df['city_centers_nearest'].plot(kind='hist'\n",
    "                                , title='Расстояние до центра города (км) 0 - 10:'\n",
    "                                , figsize=(10, 5)\n",
    "                                , range=(0, 10)\n",
    "                                , bins=100\n",
    "                                , grid=True\n",
    "                               )\n",
    "plt.show()\n",
    "print(df.query('city_centers_nearest <= 10')['city_centers_nearest'].describe())\n",
    "\n",
    "\n",
    "df['city_centers_nearest'].plot(kind='hist'\n",
    "                                , title='Расстояние до центра города (км) 11 - 20:'\n",
    "                                , figsize=(10, 5)\n",
    "                                , range=(11, 20)\n",
    "                                , bins=100\n",
    "                                , grid=True\n",
    "                               )\n",
    "plt.show()\n",
    "print(df.query('11 < city_centers_nearest < 20')['city_centers_nearest'].describe())\n",
    "\n",
    "\n",
    "df['city_centers_nearest'].plot(kind='hist'\n",
    "                                , title='Расстояние до центра города (км) 21 - 30:'\n",
    "                                , figsize=(10, 5)\n",
    "                                , range=(21, 30)\n",
    "                                , bins=100\n",
    "                                , grid=True\n",
    "                               )\n",
    "plt.show()\n",
    "print(df.query('21 < city_centers_nearest < 30')['city_centers_nearest'].describe())\n",
    "\n",
    "\n",
    "df['city_centers_nearest'].plot(kind='hist'\n",
    "                                , title='Расстояние до центра города (км) 31 - 70:'\n",
    "                                , figsize=(10, 5)\n",
    "                                , range=(31, 70)\n",
    "                                , bins=100\n",
    "                                , grid=True)\n",
    "plt.show()\n",
    "print(df.query('31 < city_centers_nearest')['city_centers_nearest'].describe())\n"
   ]
  },
  {
   "cell_type": "markdown",
   "metadata": {},
   "source": [
    "Вывод:\n",
    " - в сегменте до 10,000 метров (м) от центра, наибольшее количество объявлений приходится на квартиры расположенные в 10,000 метрах;\n",
    " - в сегменте от 11,000 м до 20,000 м от центра, наибольшее количество объявлений приходится на квартиры расположенные в 12,000 метрах;\n",
    " - в сегменте от 21,000 до 30,000 метров от центра, наибольшее количество объявлений приходится на квартиры расположенные в 22,000 и 30,000 метрах;\n",
    " - в сегменте 31,000 до 70,000 метров от центра, наибольшее количество объявлений приходится на квартиры расположенные в 31,000 метрах;\n",
    " \n",
    "В первых трёх сегментах, средняя и медиана почти совпадают. В четвёртом сегменте средняя и медиана немного расходятся из-за высокого максимального значения - 66,000 метров.\n"
   ]
  },
  {
   "cell_type": "markdown",
   "metadata": {},
   "source": [
    "**Изучим данные колонки `airports_nearest` - расстояние до ближайшего аэропорта в метрах (м).**"
   ]
  },
  {
   "cell_type": "code",
   "execution_count": null,
   "metadata": {},
   "outputs": [],
   "source": [
    "df['airports_nearest'].plot(kind='hist'\n",
    "                            , title='Расстояние до ближайшего аэропорта (м)'\n",
    "                            , bins=100\n",
    "                            , figsize=(10, 5)\n",
    "                            , grid=True\n",
    "                           )\n",
    "plt.show()"
   ]
  },
  {
   "cell_type": "code",
   "execution_count": null,
   "metadata": {},
   "outputs": [],
   "source": [
    "df['airports_nearest'].describe()"
   ]
  },
  {
   "cell_type": "code",
   "execution_count": null,
   "metadata": {},
   "outputs": [],
   "source": [
    "df.query('airports_nearest == 0')"
   ]
  },
  {
   "cell_type": "markdown",
   "metadata": {},
   "source": [
    "Квартира с нулевым минимальным значением - скорее всего ошибка заполнения, либо находися около аэропорта.\n",
    "\n",
    "Наибольшее количество объявлений о продаже квартир размещено от 10,000 до 40,000 метров. Разделим данные на сегменты, изучим показатели:"
   ]
  },
  {
   "cell_type": "code",
   "execution_count": null,
   "metadata": {},
   "outputs": [],
   "source": [
    "df['airports_nearest'].plot(kind='hist'\n",
    "                            , title='Расстояние до ближайшего аэропорта в метрах (м) 0 - 15,000:'\n",
    "                            , figsize=(10, 5)\n",
    "                            , range=(0, 15000)\n",
    "                            , bins=100\n",
    "                            , grid=True\n",
    "                           )\n",
    "plt.show()\n",
    "print(df.query('airports_nearest < 15000')['airports_nearest'].describe())\n",
    "\n",
    "\n",
    "df['airports_nearest'].plot(kind='hist'\n",
    "                            , title='Расстояние до ближайшего аэропорта в метрах (м) 15,000 - 30,000:'\n",
    "                            , figsize=(10, 5)\n",
    "                            , range=(16000, 30000)\n",
    "                            , bins=100\n",
    "                            , grid=True\n",
    "                           )\n",
    "plt.show()\n",
    "print(df.query('15000 < airports_nearest < 30000')['airports_nearest'].describe())\n",
    "\n",
    "\n",
    "df['airports_nearest'].plot(kind='hist'\n",
    "                            , title='Расстояние до ближайшего аэропорта в метрах (м) 30,000 - 45,000:'\n",
    "                            , figsize=(10, 5)\n",
    "                            , range=(31000, 45000)\n",
    "                            , bins=100\n",
    "                            , grid=True)\n",
    "plt.show()\n",
    "print(df.query('30000 < airports_nearest < 45000')['airports_nearest'].describe())\n",
    "\n",
    "\n",
    "df['airports_nearest'].plot(kind='hist'\n",
    "                            , title='Расстояние до ближайшего аэропорта в метрах (м) 45,000 - 85,000:'\n",
    "                            , figsize=(10, 5)\n",
    "                            , range=(46000, 85000)\n",
    "                            , bins=100\n",
    "                            , grid=True)\n",
    "plt.show()\n",
    "print(df.query('45000 < airports_nearest')['airports_nearest'].describe())\n"
   ]
  },
  {
   "cell_type": "markdown",
   "metadata": {},
   "source": [
    "Вывод:\n",
    " - наибольше количество объявлений размещено в сегменте 15,000 - 30,000 м - 4,978;\n",
    " - на втором месте, количество объявлений размещено в сегменте 30,000 - 45,000 м - 3,931;\n",
    " - на третьем месте, количество объявлений размещено в сегменте 0 - 15,000 м - 2,215;\n",
    " - на четвёртом месте, количество объявлений размещено в сегменте 45,000 - 85,000 м - 1,779\n",
    " \n",
    " Средние и медианные значение почти везде совпадают за небольшим исключением в четвёртом сегменте."
   ]
  },
  {
   "cell_type": "markdown",
   "metadata": {},
   "source": [
    "**Изучим данные колонки `parks_nearest` - расстояние до ближайшего парка (м).**"
   ]
  },
  {
   "cell_type": "code",
   "execution_count": null,
   "metadata": {},
   "outputs": [],
   "source": [
    "df['parks_nearest'].plot(kind='hist'\n",
    "                         , title='Расстояние до ближайшего парка (м)'\n",
    "                         , bins=100\n",
    "                         , figsize=(10, 5)\n",
    "                         , grid=True\n",
    "                        )\n",
    "plt.show()"
   ]
  },
  {
   "cell_type": "code",
   "execution_count": null,
   "metadata": {},
   "outputs": [],
   "source": [
    "df['parks_nearest'].describe()"
   ]
  },
  {
   "cell_type": "code",
   "execution_count": null,
   "metadata": {},
   "outputs": [],
   "source": [
    "df.query('parks_nearest == 1')"
   ]
  },
  {
   "cell_type": "code",
   "execution_count": null,
   "metadata": {
    "scrolled": true
   },
   "outputs": [],
   "source": [
    "df.loc[14563]"
   ]
  },
  {
   "cell_type": "markdown",
   "metadata": {},
   "source": [
    "Объект с минимальным значением = 1, скорее всего, ошибка заполнения.\n",
    "\n",
    "Вывод:\n",
    "\n",
    "- наибольшее количество объявлений сосредоточено в 1,000 от парка. Средня и медиана вблизи значений друг друга.\n",
    "- сегментировать 1,000 м, думаю нет необходимости"
   ]
  },
  {
   "cell_type": "markdown",
   "metadata": {},
   "source": [
    "**Изучим данные колонки `day_of_the_week` - день размещения объявления.**"
   ]
  },
  {
   "cell_type": "code",
   "execution_count": null,
   "metadata": {},
   "outputs": [],
   "source": [
    "df['day_of_the_week'].plot(kind='hist'\n",
    "                           , title='День размещения объявления'\n",
    "                           , bins=100\n",
    "                           , figsize=(10, 5)\n",
    "                           , grid=True)\n",
    "plt.show()"
   ]
  },
  {
   "cell_type": "code",
   "execution_count": null,
   "metadata": {},
   "outputs": [],
   "source": [
    "df['day_of_the_week'].value_counts()"
   ]
  },
  {
   "cell_type": "markdown",
   "metadata": {},
   "source": [
    "Вывод:\n",
    " - наибольшее количество размещеня объявлений в четверг - 3,078;\n",
    " - на втором месте, вторник - 2,969;\n",
    " - на третьем месте, пятница - 2,966.\n",
    "    \n",
    "Меньше всего размещений в субботу и воскресене, так как люди отдыхают."
   ]
  },
  {
   "cell_type": "markdown",
   "metadata": {},
   "source": [
    "**Изучим данные колонки `month` - месяц размещения объявления.**"
   ]
  },
  {
   "cell_type": "code",
   "execution_count": null,
   "metadata": {},
   "outputs": [],
   "source": [
    "df['month'].plot(kind='hist'\n",
    "                 , title='Месяц размещения объявления'\n",
    "                 , bins=100\n",
    "                 , figsize=(10, 5)\n",
    "                 , grid=True)\n",
    "plt.show()"
   ]
  },
  {
   "cell_type": "code",
   "execution_count": null,
   "metadata": {},
   "outputs": [],
   "source": [
    "df['month'].value_counts()"
   ]
  },
  {
   "cell_type": "markdown",
   "metadata": {},
   "source": [
    "Вывод:\n",
    " - самое большое количество объявлений размещено в феврале - 1,935;\n",
    " - на втором месте, ноябрь - 1800;\n",
    " - на третьем, октябрь - 1662.\n",
    " \n",
    "Меньше всего объявлений размещено в мае и январе, видимо это связано с длинными майским и новогодними празниками. "
   ]
  },
  {
   "cell_type": "markdown",
   "metadata": {},
   "source": [
    "Изучим данные колонки `days_exposition` - сколько дней было размещено объявление (от публикации до снятия), c выводом гистограммы и сортировкой значений"
   ]
  },
  {
   "cell_type": "code",
   "execution_count": null,
   "metadata": {},
   "outputs": [],
   "source": [
    "df['days_exposition'].describe()"
   ]
  },
  {
   "cell_type": "code",
   "execution_count": null,
   "metadata": {},
   "outputs": [],
   "source": [
    "df['days_exposition'].hist(bins=30,figsize=(10,5))\n",
    "\n",
    "plt.title(\"Распределение продажи квартир\")\n",
    "plt.xlabel(\"Количество дней\")\n",
    "plt.ylabel(\"Количество квартир\")"
   ]
  },
  {
   "cell_type": "code",
   "execution_count": null,
   "metadata": {},
   "outputs": [],
   "source": [
    "df['days_exposition'].value_counts().head()"
   ]
  },
  {
   "cell_type": "markdown",
   "metadata": {},
   "source": [
    "Вывод\n",
    "\n",
    "Большое стандартное отклонение, что свидетельствует о долгих продажах объектов.\n",
    "\n",
    "Больше всего объектов продано за 45 дней или на уровне 25-го перцентиля. Всё что ниже этой отметки, можно отнести к очень быстрой продаже и наоборот, всё что выше 75-го перцентиля, очень долгой продаже. \n",
    "\n",
    "---"
   ]
  },
  {
   "cell_type": "markdown",
   "metadata": {},
   "source": [
    "Изучим зависимость цены продажи объекта - `last_price` от площади объекта - `total_area`."
   ]
  },
  {
   "cell_type": "code",
   "execution_count": null,
   "metadata": {},
   "outputs": [],
   "source": [
    "df_corr_lp_tp = df[['last_price', 'total_area']]\n",
    "\n",
    "df.plot(x='total_area', y='last_price', kind='scatter', grid=True,figsize=(10, 5))\n",
    "plt.title(\"Зависимость цены объекта от общей площади\")\n",
    "plt.xlabel(\"Общая площадь\")\n",
    "plt.ylabel(\"Цена объекта\")"
   ]
  },
  {
   "cell_type": "code",
   "execution_count": null,
   "metadata": {},
   "outputs": [],
   "source": [
    "# Применим метод корреляции Пирсона\n",
    "df['last_price'].corr(df['total_area']).round(2)"
   ]
  },
  {
   "cell_type": "markdown",
   "metadata": {},
   "source": [
    "Корреляция в 0.68 говорит о достаточной связи, однако не слишком сильной."
   ]
  },
  {
   "cell_type": "markdown",
   "metadata": {},
   "source": [
    "**Изучим зависимость цены продажи объекта - `last_price` от количества комнат - `rooms`.**"
   ]
  },
  {
   "cell_type": "code",
   "execution_count": null,
   "metadata": {},
   "outputs": [],
   "source": [
    "df['last_price'].corr(df['rooms']).round(2)"
   ]
  },
  {
   "cell_type": "code",
   "execution_count": null,
   "metadata": {},
   "outputs": [],
   "source": [
    "df.plot(x='rooms'\n",
    "        , y='last_price'\n",
    "        , kind='scatter'\n",
    "        , grid=True\n",
    "        , figsize=(10, 5)\n",
    "       )\n",
    "\n",
    "plt.title(\"Зависимость цены объекта от числа комнат\")\n",
    "plt.xlabel(\"Число комнат\")\n",
    "plt.ylabel(\"Цена объекта\")"
   ]
  },
  {
   "cell_type": "markdown",
   "metadata": {},
   "source": [
    "Корреляция в - 0.42 говорит о недостаточной связи."
   ]
  },
  {
   "cell_type": "markdown",
   "metadata": {},
   "source": [
    "**Изучим зависимость цены продажи объекта - `last_price` от расстояние до центра города (м) - `city_сenters_nearest`.**"
   ]
  },
  {
   "cell_type": "code",
   "execution_count": null,
   "metadata": {},
   "outputs": [],
   "source": [
    "df['last_price'].corr(df['city_centers_nearest']).round(2)"
   ]
  },
  {
   "cell_type": "code",
   "execution_count": null,
   "metadata": {},
   "outputs": [],
   "source": [
    "df.plot(x='city_centers_nearest'\n",
    "        , y='last_price'\n",
    "        , kind='scatter'\n",
    "        , grid=True\n",
    "        , figsize=(10, 5)\n",
    "       )\n",
    "\n",
    "plt.title('Зависимость цены объекта от близости к центру')\n",
    "plt.xlabel('Расстояние до центра (км)')\n",
    "plt.ylabel('Цена объекта')"
   ]
  },
  {
   "cell_type": "markdown",
   "metadata": {},
   "source": [
    "Видим обратную зависимость, чем меньше расстояние от центра, тем больше цена объекта."
   ]
  },
  {
   "cell_type": "markdown",
   "metadata": {},
   "source": [
    "**Изучим зависимость цены продажи объекта - `last_price` от этажа - `floor`.**"
   ]
  },
  {
   "cell_type": "code",
   "execution_count": null,
   "metadata": {},
   "outputs": [],
   "source": [
    "df.groupby('floor_type')['last_price'].median()\n"
   ]
  },
  {
   "cell_type": "code",
   "execution_count": null,
   "metadata": {},
   "outputs": [],
   "source": [
    "df.plot(x='floor'\n",
    "        , y='last_price'\n",
    "        , kind='scatter'\n",
    "        , grid=True\n",
    "        , figsize=(10, 5)\n",
    "       )\n",
    "\n",
    "plt.title('Зависимость цены объекта от номера этажа')\n",
    "plt.xlabel('Номер этажа')\n",
    "plt.ylabel('Цена объекта')"
   ]
  },
  {
   "cell_type": "markdown",
   "metadata": {},
   "source": [
    "Самая низкая цена на первые этажи, дороже последние и самая дорогая категория между первым и последним этажем."
   ]
  },
  {
   "cell_type": "markdown",
   "metadata": {},
   "source": [
    "**Изучим зависимость цены продажи объекта - `last_price` от дня недели публикации - `day_of_the_week`.**"
   ]
  },
  {
   "cell_type": "code",
   "execution_count": null,
   "metadata": {},
   "outputs": [],
   "source": [
    "df.groupby('day_of_the_week')['last_price'].median()"
   ]
  },
  {
   "cell_type": "code",
   "execution_count": null,
   "metadata": {},
   "outputs": [],
   "source": [
    "df.plot(x='day_of_the_week'\n",
    "        , y='last_price'\n",
    "        , kind='scatter'\n",
    "        , grid=True\n",
    "        , figsize=(10, 5)\n",
    "       )\n",
    "\n",
    "plt.title('Зависимость цены объекта от дня недели')\n",
    "plt.xlabel('День недели')\n",
    "plt.ylabel('Цена объекта')"
   ]
  },
  {
   "cell_type": "markdown",
   "metadata": {},
   "source": [
    "Зависимость отсутствует"
   ]
  },
  {
   "cell_type": "markdown",
   "metadata": {},
   "source": [
    "**Изучим зависимость цены продажи объекта - `last_price` от месяца публикации - `month`.**"
   ]
  },
  {
   "cell_type": "code",
   "execution_count": null,
   "metadata": {},
   "outputs": [],
   "source": [
    "df.groupby('month')['last_price'].median()"
   ]
  },
  {
   "cell_type": "code",
   "execution_count": null,
   "metadata": {},
   "outputs": [],
   "source": [
    "df.plot(x='month'\n",
    "        , y='last_price'\n",
    "        , kind='scatter'\n",
    "        , grid=True\n",
    "        , figsize=(10, 5)\n",
    "       )\n",
    "\n",
    "plt.title('Зависимость цены объекта от месяца')\n",
    "plt.xlabel('Месяц')\n",
    "plt.ylabel('Цена объекта')"
   ]
  },
  {
   "cell_type": "markdown",
   "metadata": {},
   "source": [
    "Зависимость отсутствует, в пределах небольшой погрешности."
   ]
  },
  {
   "cell_type": "markdown",
   "metadata": {},
   "source": [
    "**Изучим зависимость цены продажи объекта - `last_price` от года публикации - `year`.**"
   ]
  },
  {
   "cell_type": "code",
   "execution_count": null,
   "metadata": {},
   "outputs": [],
   "source": [
    "df.groupby('year')['last_price'].median()\n"
   ]
  },
  {
   "cell_type": "code",
   "execution_count": null,
   "metadata": {},
   "outputs": [],
   "source": [
    "df.plot(x='year'\n",
    "        , y='last_price'\n",
    "        , kind='scatter'\n",
    "        , grid=True\n",
    "        , figsize=(10, 5)\n",
    "       )\n",
    "\n",
    "plt.title('Зависимость цены объекта от года')\n",
    "plt.xlabel('Год')\n",
    "plt.ylabel('Цена объекта')"
   ]
  },
  {
   "cell_type": "markdown",
   "metadata": {},
   "source": [
    "Самые высокие цены были в 2019 году, самые низкие в 2016, 2017 годах."
   ]
  },
  {
   "cell_type": "markdown",
   "metadata": {},
   "source": [
    "**Изучим зависимость цены продажи объекта - `last_price` от жилой площади - `living_area`.**"
   ]
  },
  {
   "cell_type": "code",
   "execution_count": null,
   "metadata": {},
   "outputs": [],
   "source": [
    "df['last_price'].corr(df['living_area']).round(2)"
   ]
  },
  {
   "cell_type": "code",
   "execution_count": null,
   "metadata": {},
   "outputs": [],
   "source": [
    "df.plot(x='living_area'\n",
    "        , y='last_price'\n",
    "        , kind='scatter'\n",
    "        , grid=True\n",
    "        , figsize=(10, 5)\n",
    "       )\n",
    "\n",
    "plt.title('Зависимость цены объекта от жилой площади')\n",
    "plt.xlabel('Жилая площадь')\n",
    "plt.ylabel('Цена объекта')"
   ]
  },
  {
   "cell_type": "markdown",
   "metadata": {},
   "source": [
    "Корреляция в 0.55 говорит о слабой связи между параметрами. "
   ]
  },
  {
   "cell_type": "markdown",
   "metadata": {},
   "source": [
    "**Изучим зависимость цены продажи объекта - `last_price` от площади кухни - `kitchen_area`.**"
   ]
  },
  {
   "cell_type": "code",
   "execution_count": null,
   "metadata": {},
   "outputs": [],
   "source": [
    "df['last_price'].corr(df['kitchen_area']).round(2)"
   ]
  },
  {
   "cell_type": "code",
   "execution_count": null,
   "metadata": {},
   "outputs": [],
   "source": [
    "df.plot(x='kitchen_area', y='last_price', kind='scatter', grid=True, figsize=(10, 5))\n",
    "plt.title('Зависимость цены объекта от площади кухни')\n",
    "plt.xlabel('Площадь кухни')\n",
    "plt.ylabel('Цена объекта')"
   ]
  },
  {
   "cell_type": "markdown",
   "metadata": {},
   "source": [
    "Корреляция в 0.45 говорит о слабой связи между параметрами. "
   ]
  },
  {
   "cell_type": "markdown",
   "metadata": {},
   "source": [
    "**Построим тепловую карту зависимостей**"
   ]
  },
  {
   "cell_type": "code",
   "execution_count": null,
   "metadata": {},
   "outputs": [],
   "source": [
    "df_corr = df[['city_centers_nearest'\n",
    "              , 'last_price'\n",
    "              , 'total_area'\n",
    "              , 'living_area'\n",
    "              , 'kitchen_area'\n",
    "              , 'rooms'\n",
    "              , 'ceiling_height'\n",
    "              , 'floor'\n",
    "              , 'day_of_the_week'\n",
    "              , 'month'\n",
    "              , 'year']]\n",
    "\n",
    "plt.figure(figsize=(12, 10))\n",
    "sns.heatmap(df_corr.corr(), xticklabels=df_corr.corr().columns,\\\n",
    "            yticklabels=df_corr.corr().columns, cmap='RdYlGn', center=0, annot=True)"
   ]
  },
  {
   "cell_type": "markdown",
   "metadata": {},
   "source": [
    "Вывод\n",
    "\n",
    "- Наибольшее влияние на цену продажи квартиры окзывает: общая и жилая площади. Удаленность от центра имеет обратную зависимость, чем она больше, тем цена ниже. Остальные показатели слабо коррелируют с ценой.\n",
    "\n",
    "---"
   ]
  },
  {
   "cell_type": "markdown",
   "metadata": {},
   "source": [
    "Посчитаем среднюю цену одного квадратного метра в 10 населённых пунктах с наибольшим числом объявлений. Выделим населённые пункты с самой высокой и низкой стоимостью квадратного метра."
   ]
  },
  {
   "cell_type": "code",
   "execution_count": null,
   "metadata": {},
   "outputs": [],
   "source": [
    "# Выведем таблицу с колонками count и mean \n",
    "localities_top_10 = df.pivot_table(index = 'locality_name'\n",
    "                                   , values = 'price_square_meter'\n",
    "                                   , aggfunc=['count', 'mean'])\n",
    "\n",
    "# Присвоим пересменной две колонки\n",
    "localities_top_10.columns = ['count', 'mean']\n",
    "\n",
    "# Выполним сортировку по убыванию по столбцу count, положим результат в переменную\n",
    "localities_top_10 = localities_top_10.sort_values('count', ascending = False).head(10)\n",
    "\n",
    "# Выведем результат на экран\n",
    "localities_top_10"
   ]
  },
  {
   "cell_type": "code",
   "execution_count": null,
   "metadata": {},
   "outputs": [],
   "source": [
    "# Выведем среднюю объектов с самой высокой стоимостью\n",
    "localities_top_10[localities_top_10['mean'] == localities_top_10['mean'].max()]"
   ]
  },
  {
   "cell_type": "code",
   "execution_count": null,
   "metadata": {},
   "outputs": [],
   "source": [
    "# Выведем среднюю объектов с самой низкой стоимостью\n",
    "localities_top_10[localities_top_10['mean'] == localities_top_10['mean'].min()]"
   ]
  },
  {
   "cell_type": "markdown",
   "metadata": {},
   "source": [
    "---"
   ]
  },
  {
   "cell_type": "markdown",
   "metadata": {},
   "source": [
    "Выделим квартиры в Санкт-Петербурге с помощью столбца locality_name и вычислите среднюю цену каждого километра. Опишем, как стоимость объектов зависит от расстояния до центра города."
   ]
  },
  {
   "cell_type": "code",
   "execution_count": null,
   "metadata": {},
   "outputs": [],
   "source": [
    "# Cоздадим новый объект с копией данных и индексов вызывающего объекта с\n",
    "# использованием метода copy.\n",
    "apartments_in_spb = df.query('locality_name == \"Санкт-Петербург\"').copy()\n",
    "apartments_in_spb['city_centers_nearest'] = apartments_in_spb['city_centers_nearest'].astype(int)\n",
    "\n",
    "city_center = apartments_in_spb.pivot_table(index='city_centers_nearest'\n",
    "                                            , values='price_square_meter'\n",
    "                                            , aggfunc='mean')\n",
    "city_center.plot(figsize=(10, 5))\n",
    "city_center"
   ]
  },
  {
   "cell_type": "markdown",
   "metadata": {},
   "source": [
    "График резко меняется после 6 км, определим его как центр."
   ]
  },
  {
   "cell_type": "code",
   "execution_count": null,
   "metadata": {},
   "outputs": [],
   "source": [
    "apartments_in_spb_center = apartments_in_spb.query('city_centers_nearest <= 6')\n"
   ]
  },
  {
   "cell_type": "code",
   "execution_count": null,
   "metadata": {},
   "outputs": [],
   "source": [
    "apartments_in_spb_center['total_area'].hist(bins=100,figsize=(10, 5))\n",
    "\n",
    "plt.title(\"Распределение объектов по площади в центре\")\n",
    "plt.ylabel(\"Количество объектов\")\n",
    "plt.xlabel(\"Площадь объекта\")"
   ]
  },
  {
   "cell_type": "code",
   "execution_count": null,
   "metadata": {},
   "outputs": [],
   "source": [
    "apartments_in_spb_center['total_area'].hist(bins=100,figsize=(10,5))\n",
    "\n",
    "df['total_area'].hist(bins=100,alpha=0.3,figsize=(10, 5))\n",
    "\n",
    "plt.title(\"Распределение всех объектов по площади и объектов в центре\")\n",
    "plt.ylabel(\"Количество объектов\")\n",
    "plt.xlabel(\"Площадь объекта\")\n",
    "plt.xlim(0, 125)"
   ]
  },
  {
   "cell_type": "code",
   "execution_count": null,
   "metadata": {},
   "outputs": [],
   "source": [
    "apartments_in_spb_center['total_area'].describe()"
   ]
  },
  {
   "cell_type": "code",
   "execution_count": null,
   "metadata": {},
   "outputs": [],
   "source": [
    "df['total_area'].describe()"
   ]
  },
  {
   "cell_type": "markdown",
   "metadata": {},
   "source": [
    "Медианное значение общей площади для центра увеличилось с 61 до 47 метров"
   ]
  },
  {
   "cell_type": "code",
   "execution_count": null,
   "metadata": {},
   "outputs": [],
   "source": [
    "df.query('last_price < 12_000_000')['last_price'].hist(bins=100,figsize=(10, 5))\n",
    "\n",
    "apartments_in_spb_center.query('last_price < 12_000_000')['last_price'].hist(bins=100, figsize=(10, 5))\n",
    "\n",
    "plt.title(\"Распределение цен на объекты до 12 млн\")\n",
    "plt.ylabel(\"Количество объектов\")\n",
    "plt.xlabel(\"Цена 12 млн.\")"
   ]
  },
  {
   "cell_type": "code",
   "execution_count": null,
   "metadata": {},
   "outputs": [],
   "source": [
    "apartments_in_spb_center['last_price'].describe()"
   ]
  },
  {
   "cell_type": "code",
   "execution_count": null,
   "metadata": {},
   "outputs": [],
   "source": [
    "df['last_price'].describe()"
   ]
  },
  {
   "cell_type": "markdown",
   "metadata": {},
   "source": [
    "Цены на квартиры в центре выше чем в других районах. Видно, что медианное значение цены квартиры составляет 4,290,000.00, а в центре - 6,990,000.00, что превышает предыдущий показатель более чем в 1.5 раза.\n",
    "\n",
    "---"
   ]
  },
  {
   "cell_type": "markdown",
   "metadata": {},
   "source": [
    "### Общий вывод\n",
    "\n",
    "В процессе выполнения проекта изучили данные о продаже квартир в Санкт-Петербурге и Ленинградской области. В таблице изначально было представлено 364 населенных пункта, часть относятся к районам Санкт-Петербурга часть к Ленинградской области. На Санкт-Петербург приходится наибольшее количество строк таблицы.\n",
    "\n",
    "Значительные пропуски в данных относятся к описательной части объекта недвижимости:\n",
    "- квартира или апартаменты - 88%;\n",
    "- наличие балкона - 48%;\n",
    "- высота потолка - 39%.\n",
    "\n",
    "Так же значительная часть пропусков обнаружилась в значениях локации квартир: удаленность от центра , аэропорта или наличия рядом парков и водоёмов. Там где это было целесообразно, заменили пропуски на медианные значения. Значительная часть пропусков осталась не заполнена, но эти пропуски в основном относятся к объектам недвижимости Ленинградской области, где расстояние до центра и до аэропорта видимо не столь актуально.\n",
    "Пропуски в колонке living_area были заменены пропорционально доле жилой площади в размере общей площади.\n",
    "\n",
    "Также частично были изменены типы данных, метры заменены на километры с округлением до целого. Это поможет облегчить восприятие информации.\n",
    "\n",
    "Значительно на разброс данных повлияли выбросы. При рассмотрении значения цены продажи, были обнаружены неординарные значения минимальной и максимальной цены. Минимальную цену исправли как ошибку заполнения, максимальную цены не трогали, видимо это реальная цена квартиры. Медиана цены продажи приходится на 4.26 млн, а среднее значение на 4.65 млн. Показатели сильно расходятся, что является результатом квартир с очень высокой стоимость, например максимальная цена  квартиры, может достигать 160 млн., а минимальная цена квартиры может составлять 0,43 млн.\n",
    "\n",
    "Одними из важнейших параметров, из которых складывается стоимость квартиры - это площадь и месторасположение. Чем больше площадь и ближе к центру локация, тем дороже объект недвижимости.\n",
    "\n",
    "При продаже квартиры стоит ориентироваться на точность заполнения данных и время подачи объявления, так как явно прослеживается сезонная активность покупателей. В среднем, при разумной оценке стоимости квартиры срок продаж должен составлять 2 - 3 месяца. "
   ]
  },
  {
   "cell_type": "markdown",
   "metadata": {},
   "source": [
    "**Чек-лист готовности проекта**\n",
    "\n",
    "Поставьте 'x' в выполненных пунктах. Далее нажмите Shift+Enter."
   ]
  },
  {
   "cell_type": "markdown",
   "metadata": {},
   "source": [
    "- [x]  открыт файл\n",
    "- [x]  файлы изучены (выведены первые строки, метод `info()`, гистограммы и т.д.)\n",
    "- [x]  определены пропущенные значения\n",
    "- [x]  заполнены пропущенные значения там, где это возможно\n",
    "- [x]  есть пояснение, какие пропущенные значения обнаружены\n",
    "- [x]  изменены типы данных\n",
    "- [x]  есть пояснение, в каких столбцах изменены типы и почему\n",
    "- [x]  устранены неявные дубликаты в названиях населённых пунктов\n",
    "- [x]  устранены редкие и выбивающиеся значения (аномалии) во всех столбцах\n",
    "- [x]  посчитано и добавлено в таблицу: цена одного квадратного метра\n",
    "- [x]  посчитано и добавлено в таблицу: день публикации объявления (0 - понедельник, 1 - вторник и т.д.)\n",
    "- [x]  посчитано и добавлено в таблицу: месяц публикации объявления\n",
    "- [x]  посчитано и добавлено в таблицу: год публикации объявления\n",
    "- [x]  посчитано и добавлено в таблицу: тип этажа квартиры (значения — «первый», «последний», «другой»)\n",
    "- [x]  посчитано и добавлено в таблицу: расстояние в км до центра города\n",
    "- [x]  изучены и описаны следующие параметры:\n",
    "        - общая площадь;\n",
    "        - жилая площадь;\n",
    "        - площадь кухни;\n",
    "        - цена объекта;\n",
    "        - количество комнат;\n",
    "        - высота потолков;\n",
    "        - этаж квартиры;\n",
    "        - тип этажа квартиры («первый», «последний», «другой»);\n",
    "        - общее количество этажей в доме;\n",
    "        - расстояние до центра города в метрах;\n",
    "        - расстояние до ближайшего аэропорта;\n",
    "        - расстояние до ближайшего парка;\n",
    "        - день и месяц публикации объявления\n",
    "- [x]  построены гистограммы для каждого параметра\n",
    "- [x]  выполнено задание: \"Изучите, как быстро продавались квартиры (столбец days_exposition). Этот параметр показывает, сколько дней «висело» каждое объявление.\n",
    "    - Постройте гистограмму.\n",
    "    - Посчитайте среднее и медиану.\n",
    "    - В ячейке типа markdown опишите, сколько обычно занимает продажа. Какие продажи можно считать быстрыми, а какие — необычно долгими?\"\n",
    "- [x]  выполнено задание: \"Какие факторы больше всего влияют на общую (полную) стоимость объекта? Постройте графики, которые покажут зависимость цены от указанных ниже параметров. Для подготовки данных перед визуализацией вы можете использовать сводные таблицы.\"\n",
    "        - общей площади;\n",
    "        - жилой площади;\n",
    "        - площади кухни;\n",
    "        - количество комнат;\n",
    "        - типа этажа, на котором расположена квартира (первый, последний, другой);\n",
    "        - даты размещения (день недели, месяц, год);\n",
    "- [x]  выполнено задание: \"Посчитайте среднюю цену одного квадратного метра в 10 населённых пунктах с наибольшим числом объявлений. Выделите населённые пункты с самой высокой и низкой стоимостью квадратного метра. Эти данные можно найти по имени в столбце `locality_name`.\"\n",
    "- [x]  выполнено задание: \"Ранее вы посчитали расстояние до центра в километрах. Теперь выделите квартиры в Санкт-Петербурге с помощью столбца `locality_name` и вычислите среднюю цену каждого километра. Опишите, как стоимость объектов зависит от расстояния до центра города.\"\n",
    "- [x]  в каждом этапе есть промежуточные выводы\n",
    "- [x]  есть общий вывод"
   ]
  }
 ],
 "metadata": {
  "ExecuteTimeLog": [
   {
    "duration": 385,
    "start_time": "2022-10-23T12:04:05.089Z"
   },
   {
    "duration": 103,
    "start_time": "2022-10-23T12:05:42.371Z"
   },
   {
    "duration": 119,
    "start_time": "2022-10-23T12:05:54.479Z"
   },
   {
    "duration": 15,
    "start_time": "2022-10-23T12:09:14.787Z"
   },
   {
    "duration": 81,
    "start_time": "2022-10-23T12:09:52.692Z"
   },
   {
    "duration": 31,
    "start_time": "2022-10-23T12:09:54.211Z"
   },
   {
    "duration": 16,
    "start_time": "2022-10-23T12:18:02.520Z"
   },
   {
    "duration": 4,
    "start_time": "2022-10-23T12:23:07.694Z"
   },
   {
    "duration": 6,
    "start_time": "2022-10-23T12:27:47.515Z"
   },
   {
    "duration": 4,
    "start_time": "2022-10-23T12:28:35.333Z"
   },
   {
    "duration": 2462,
    "start_time": "2022-10-23T12:38:50.866Z"
   },
   {
    "duration": 4,
    "start_time": "2022-10-23T12:51:20.338Z"
   },
   {
    "duration": 7,
    "start_time": "2022-10-23T12:51:56.485Z"
   },
   {
    "duration": 5,
    "start_time": "2022-10-23T12:52:19.954Z"
   },
   {
    "duration": 58,
    "start_time": "2022-10-23T12:52:44.980Z"
   },
   {
    "duration": 16,
    "start_time": "2022-10-23T12:52:59.939Z"
   },
   {
    "duration": 25,
    "start_time": "2022-10-23T13:01:05.613Z"
   },
   {
    "duration": 11,
    "start_time": "2022-10-23T13:02:37.949Z"
   },
   {
    "duration": 10,
    "start_time": "2022-10-23T13:04:39.136Z"
   },
   {
    "duration": 26,
    "start_time": "2022-10-23T13:08:04.222Z"
   },
   {
    "duration": 13,
    "start_time": "2022-10-23T13:09:10.634Z"
   },
   {
    "duration": 4,
    "start_time": "2022-10-23T13:16:20.331Z"
   },
   {
    "duration": 4,
    "start_time": "2022-10-23T13:16:24.277Z"
   },
   {
    "duration": 25,
    "start_time": "2022-10-23T13:16:28.004Z"
   },
   {
    "duration": 770,
    "start_time": "2022-10-23T13:26:57.994Z"
   },
   {
    "duration": 5,
    "start_time": "2022-10-23T13:28:27.708Z"
   },
   {
    "duration": 14,
    "start_time": "2022-10-23T13:39:07.590Z"
   },
   {
    "duration": 25,
    "start_time": "2022-10-23T13:39:15.375Z"
   },
   {
    "duration": 3,
    "start_time": "2022-10-23T13:43:03.146Z"
   },
   {
    "duration": 83,
    "start_time": "2022-10-23T13:43:05.387Z"
   },
   {
    "duration": 31,
    "start_time": "2022-10-23T13:43:08.106Z"
   },
   {
    "duration": 4,
    "start_time": "2022-10-23T13:43:27.605Z"
   },
   {
    "duration": 6,
    "start_time": "2022-10-23T13:43:29.250Z"
   },
   {
    "duration": 4,
    "start_time": "2022-10-23T13:43:37.317Z"
   },
   {
    "duration": 20,
    "start_time": "2022-10-23T13:43:40.149Z"
   },
   {
    "duration": 10,
    "start_time": "2022-10-23T13:43:45.248Z"
   },
   {
    "duration": 13,
    "start_time": "2022-10-23T13:53:49.032Z"
   },
   {
    "duration": 9,
    "start_time": "2022-10-23T14:02:00.834Z"
   },
   {
    "duration": 14,
    "start_time": "2022-10-23T14:02:06.926Z"
   },
   {
    "duration": 26,
    "start_time": "2022-10-23T14:02:26.458Z"
   },
   {
    "duration": 16,
    "start_time": "2022-10-23T14:04:41.000Z"
   },
   {
    "duration": 15,
    "start_time": "2022-10-23T14:04:43.293Z"
   },
   {
    "duration": 12,
    "start_time": "2022-10-23T14:08:22.421Z"
   },
   {
    "duration": 4,
    "start_time": "2022-10-23T14:11:06.138Z"
   },
   {
    "duration": 15,
    "start_time": "2022-10-23T14:11:14.730Z"
   },
   {
    "duration": 51,
    "start_time": "2022-10-23T14:25:37.876Z"
   },
   {
    "duration": 48,
    "start_time": "2022-10-23T14:27:34.084Z"
   },
   {
    "duration": 13,
    "start_time": "2022-10-23T14:28:16.746Z"
   },
   {
    "duration": 47,
    "start_time": "2022-10-23T14:29:04.330Z"
   },
   {
    "duration": 47,
    "start_time": "2022-10-23T14:29:44.667Z"
   },
   {
    "duration": 13,
    "start_time": "2022-10-23T14:30:04.286Z"
   },
   {
    "duration": 5,
    "start_time": "2022-10-23T14:30:11.460Z"
   },
   {
    "duration": 14,
    "start_time": "2022-10-23T14:30:13.662Z"
   },
   {
    "duration": 30,
    "start_time": "2022-10-23T14:30:40.358Z"
   },
   {
    "duration": 25,
    "start_time": "2022-10-23T14:30:50.157Z"
   },
   {
    "duration": 66,
    "start_time": "2022-10-23T14:33:00.673Z"
   },
   {
    "duration": 14,
    "start_time": "2022-10-23T14:33:26.205Z"
   },
   {
    "duration": 25,
    "start_time": "2022-10-23T14:34:28.951Z"
   },
   {
    "duration": 28,
    "start_time": "2022-10-23T14:34:45.461Z"
   },
   {
    "duration": 7,
    "start_time": "2022-10-23T14:35:18.802Z"
   },
   {
    "duration": 13,
    "start_time": "2022-10-23T15:34:59.725Z"
   },
   {
    "duration": 2,
    "start_time": "2022-10-23T15:35:10.186Z"
   },
   {
    "duration": 113,
    "start_time": "2022-10-23T15:35:11.641Z"
   },
   {
    "duration": 50,
    "start_time": "2022-10-23T15:35:12.598Z"
   },
   {
    "duration": 16,
    "start_time": "2022-10-23T15:35:14.300Z"
   },
   {
    "duration": 94,
    "start_time": "2022-10-23T15:35:56.532Z"
   },
   {
    "duration": 4,
    "start_time": "2022-10-23T15:37:32.036Z"
   },
   {
    "duration": 6,
    "start_time": "2022-10-23T15:38:04.044Z"
   },
   {
    "duration": 18,
    "start_time": "2022-10-23T15:52:06.285Z"
   },
   {
    "duration": 105,
    "start_time": "2022-10-23T15:52:56.646Z"
   },
   {
    "duration": 8,
    "start_time": "2022-10-23T15:55:22.687Z"
   },
   {
    "duration": 26,
    "start_time": "2022-10-23T15:55:40.613Z"
   },
   {
    "duration": 23,
    "start_time": "2022-10-23T15:55:54.430Z"
   },
   {
    "duration": 23,
    "start_time": "2022-10-23T15:57:12.685Z"
   },
   {
    "duration": 25,
    "start_time": "2022-10-23T15:58:39.354Z"
   },
   {
    "duration": 28,
    "start_time": "2022-10-23T15:58:57.051Z"
   },
   {
    "duration": 23,
    "start_time": "2022-10-23T15:59:01.112Z"
   },
   {
    "duration": 11,
    "start_time": "2022-10-23T16:00:52.659Z"
   },
   {
    "duration": 9,
    "start_time": "2022-10-23T16:01:21.146Z"
   },
   {
    "duration": 10,
    "start_time": "2022-10-23T16:11:18.453Z"
   },
   {
    "duration": 14,
    "start_time": "2022-10-23T16:11:30.660Z"
   },
   {
    "duration": 8,
    "start_time": "2022-10-23T16:28:34.303Z"
   },
   {
    "duration": 14,
    "start_time": "2022-10-23T16:29:06.614Z"
   },
   {
    "duration": 26,
    "start_time": "2022-10-23T16:29:16.566Z"
   },
   {
    "duration": 12,
    "start_time": "2022-10-23T16:31:20.194Z"
   },
   {
    "duration": 10,
    "start_time": "2022-10-23T16:34:04.551Z"
   },
   {
    "duration": 13,
    "start_time": "2022-10-23T16:43:06.513Z"
   },
   {
    "duration": 10,
    "start_time": "2022-10-23T16:46:14.649Z"
   },
   {
    "duration": 10,
    "start_time": "2022-10-23T16:46:19.088Z"
   },
   {
    "duration": 548,
    "start_time": "2022-10-23T16:46:50.143Z"
   },
   {
    "duration": 87,
    "start_time": "2022-10-23T16:46:53.047Z"
   },
   {
    "duration": 23,
    "start_time": "2022-10-23T16:46:54.337Z"
   },
   {
    "duration": 16,
    "start_time": "2022-10-23T16:46:55.022Z"
   },
   {
    "duration": 71,
    "start_time": "2022-10-23T16:46:55.711Z"
   },
   {
    "duration": 5,
    "start_time": "2022-10-23T16:46:58.582Z"
   },
   {
    "duration": 5,
    "start_time": "2022-10-23T16:46:59.487Z"
   },
   {
    "duration": 23,
    "start_time": "2022-10-23T16:47:00.319Z"
   },
   {
    "duration": 10,
    "start_time": "2022-10-23T16:47:00.974Z"
   },
   {
    "duration": 12,
    "start_time": "2022-10-23T16:47:02.464Z"
   },
   {
    "duration": 11,
    "start_time": "2022-10-23T16:47:03.312Z"
   },
   {
    "duration": 10,
    "start_time": "2022-10-23T16:47:19.927Z"
   },
   {
    "duration": 53,
    "start_time": "2022-10-23T16:50:12.327Z"
   },
   {
    "duration": 24,
    "start_time": "2022-10-23T16:50:45.332Z"
   },
   {
    "duration": 21,
    "start_time": "2022-10-23T16:51:07.263Z"
   },
   {
    "duration": 6,
    "start_time": "2022-10-23T17:57:57.782Z"
   },
   {
    "duration": 82,
    "start_time": "2022-10-23T17:59:13.738Z"
   },
   {
    "duration": 35,
    "start_time": "2022-10-23T18:02:14.110Z"
   },
   {
    "duration": 28,
    "start_time": "2022-10-23T18:02:26.332Z"
   },
   {
    "duration": 23,
    "start_time": "2022-10-23T18:03:24.436Z"
   },
   {
    "duration": 23,
    "start_time": "2022-10-23T18:03:30.592Z"
   },
   {
    "duration": 42,
    "start_time": "2022-10-23T18:03:41.528Z"
   },
   {
    "duration": 28,
    "start_time": "2022-10-23T18:03:51.632Z"
   },
   {
    "duration": 25,
    "start_time": "2022-10-23T18:03:55.728Z"
   },
   {
    "duration": 44,
    "start_time": "2022-10-23T18:06:57.348Z"
   },
   {
    "duration": 37,
    "start_time": "2022-10-23T18:07:28.336Z"
   },
   {
    "duration": 30,
    "start_time": "2022-10-23T18:07:33.280Z"
   },
   {
    "duration": 22,
    "start_time": "2022-10-23T18:07:38.131Z"
   },
   {
    "duration": 21,
    "start_time": "2022-10-23T18:07:42.248Z"
   },
   {
    "duration": 25,
    "start_time": "2022-10-23T18:08:13.634Z"
   },
   {
    "duration": 25,
    "start_time": "2022-10-23T18:08:19.037Z"
   },
   {
    "duration": 23,
    "start_time": "2022-10-23T18:08:40.440Z"
   },
   {
    "duration": 9,
    "start_time": "2022-10-23T18:27:20.676Z"
   },
   {
    "duration": 6,
    "start_time": "2022-10-23T18:28:44.341Z"
   },
   {
    "duration": 7,
    "start_time": "2022-10-23T18:28:57.899Z"
   },
   {
    "duration": 10,
    "start_time": "2022-10-23T18:45:34.900Z"
   },
   {
    "duration": 12,
    "start_time": "2022-10-23T18:46:01.774Z"
   },
   {
    "duration": 10,
    "start_time": "2022-10-23T18:46:12.983Z"
   },
   {
    "duration": 88,
    "start_time": "2022-10-23T18:47:22.832Z"
   },
   {
    "duration": 76,
    "start_time": "2022-10-23T18:47:30.137Z"
   },
   {
    "duration": 10,
    "start_time": "2022-10-23T18:50:55.886Z"
   },
   {
    "duration": 4,
    "start_time": "2022-10-23T18:51:45.746Z"
   },
   {
    "duration": 106,
    "start_time": "2022-10-23T18:51:45.752Z"
   },
   {
    "duration": 22,
    "start_time": "2022-10-23T18:51:45.860Z"
   },
   {
    "duration": 18,
    "start_time": "2022-10-23T18:51:45.884Z"
   },
   {
    "duration": 88,
    "start_time": "2022-10-23T18:51:45.904Z"
   },
   {
    "duration": 5,
    "start_time": "2022-10-23T18:51:45.994Z"
   },
   {
    "duration": 34,
    "start_time": "2022-10-23T18:51:46.000Z"
   },
   {
    "duration": 60,
    "start_time": "2022-10-23T18:51:46.036Z"
   },
   {
    "duration": 10,
    "start_time": "2022-10-23T18:51:46.098Z"
   },
   {
    "duration": 16,
    "start_time": "2022-10-23T18:51:46.110Z"
   },
   {
    "duration": 12,
    "start_time": "2022-10-23T18:51:46.128Z"
   },
   {
    "duration": 21,
    "start_time": "2022-10-23T18:51:46.142Z"
   },
   {
    "duration": 68,
    "start_time": "2022-10-23T18:51:46.165Z"
   },
   {
    "duration": 40,
    "start_time": "2022-10-23T18:51:46.236Z"
   },
   {
    "duration": 10,
    "start_time": "2022-10-23T18:51:46.278Z"
   },
   {
    "duration": 12,
    "start_time": "2022-10-23T18:51:46.290Z"
   },
   {
    "duration": 546,
    "start_time": "2022-10-23T18:51:46.304Z"
   },
   {
    "duration": 0,
    "start_time": "2022-10-23T18:51:46.852Z"
   },
   {
    "duration": 0,
    "start_time": "2022-10-23T18:51:46.853Z"
   },
   {
    "duration": 0,
    "start_time": "2022-10-23T18:51:46.854Z"
   },
   {
    "duration": 22,
    "start_time": "2022-10-23T18:53:03.672Z"
   },
   {
    "duration": 6,
    "start_time": "2022-10-23T18:53:57.194Z"
   },
   {
    "duration": 26,
    "start_time": "2022-10-23T18:54:01.051Z"
   },
   {
    "duration": 11,
    "start_time": "2022-10-23T18:54:02.685Z"
   },
   {
    "duration": 3,
    "start_time": "2022-10-23T18:54:18.101Z"
   },
   {
    "duration": 86,
    "start_time": "2022-10-23T18:54:18.106Z"
   },
   {
    "duration": 22,
    "start_time": "2022-10-23T18:54:18.194Z"
   },
   {
    "duration": 19,
    "start_time": "2022-10-23T18:54:18.218Z"
   },
   {
    "duration": 83,
    "start_time": "2022-10-23T18:54:18.240Z"
   },
   {
    "duration": 5,
    "start_time": "2022-10-23T18:54:18.325Z"
   },
   {
    "duration": 26,
    "start_time": "2022-10-23T18:54:18.332Z"
   },
   {
    "duration": 25,
    "start_time": "2022-10-23T18:54:18.360Z"
   },
   {
    "duration": 9,
    "start_time": "2022-10-23T18:54:18.387Z"
   },
   {
    "duration": 8,
    "start_time": "2022-10-23T18:54:18.398Z"
   },
   {
    "duration": 17,
    "start_time": "2022-10-23T18:54:18.408Z"
   },
   {
    "duration": 47,
    "start_time": "2022-10-23T18:54:18.427Z"
   },
   {
    "duration": 5,
    "start_time": "2022-10-23T18:54:18.477Z"
   },
   {
    "duration": 29,
    "start_time": "2022-10-23T18:54:18.484Z"
   },
   {
    "duration": 10,
    "start_time": "2022-10-23T18:54:18.515Z"
   },
   {
    "duration": 41,
    "start_time": "2022-10-23T18:54:18.527Z"
   },
   {
    "duration": 9,
    "start_time": "2022-10-23T18:54:18.570Z"
   },
   {
    "duration": 131,
    "start_time": "2022-10-23T18:54:18.580Z"
   },
   {
    "duration": 7,
    "start_time": "2022-10-23T18:54:18.713Z"
   },
   {
    "duration": 17,
    "start_time": "2022-10-23T18:54:18.721Z"
   },
   {
    "duration": 33,
    "start_time": "2022-10-23T18:54:18.740Z"
   },
   {
    "duration": 4968,
    "start_time": "2022-10-27T14:34:50.726Z"
   },
   {
    "duration": 305,
    "start_time": "2022-10-27T14:34:55.696Z"
   },
   {
    "duration": 24,
    "start_time": "2022-10-27T14:34:56.003Z"
   },
   {
    "duration": 37,
    "start_time": "2022-10-27T14:34:56.028Z"
   },
   {
    "duration": 67,
    "start_time": "2022-10-27T14:34:56.067Z"
   },
   {
    "duration": 5,
    "start_time": "2022-10-27T14:34:56.136Z"
   },
   {
    "duration": 20,
    "start_time": "2022-10-27T14:34:56.143Z"
   },
   {
    "duration": 26,
    "start_time": "2022-10-27T14:34:56.165Z"
   },
   {
    "duration": 10,
    "start_time": "2022-10-27T14:34:56.193Z"
   },
   {
    "duration": 7,
    "start_time": "2022-10-27T14:34:56.205Z"
   },
   {
    "duration": 11,
    "start_time": "2022-10-27T14:34:56.214Z"
   },
   {
    "duration": 20,
    "start_time": "2022-10-27T14:34:56.227Z"
   },
   {
    "duration": 3,
    "start_time": "2022-10-27T14:34:56.249Z"
   },
   {
    "duration": 20,
    "start_time": "2022-10-27T14:34:56.255Z"
   },
   {
    "duration": 9,
    "start_time": "2022-10-27T14:34:56.301Z"
   },
   {
    "duration": 8,
    "start_time": "2022-10-27T14:34:56.311Z"
   },
   {
    "duration": 39,
    "start_time": "2022-10-27T14:34:56.321Z"
   },
   {
    "duration": 8,
    "start_time": "2022-10-27T14:34:56.362Z"
   },
   {
    "duration": 11,
    "start_time": "2022-10-27T14:34:56.371Z"
   },
   {
    "duration": 16,
    "start_time": "2022-10-27T14:34:56.384Z"
   },
   {
    "duration": 4,
    "start_time": "2022-10-27T14:34:56.402Z"
   },
   {
    "duration": 13,
    "start_time": "2022-10-27T14:34:56.408Z"
   },
   {
    "duration": 39,
    "start_time": "2022-10-27T14:34:56.422Z"
   },
   {
    "duration": 4,
    "start_time": "2022-10-27T14:34:56.462Z"
   },
   {
    "duration": 9,
    "start_time": "2022-10-27T14:34:56.468Z"
   },
   {
    "duration": 25,
    "start_time": "2022-10-27T14:34:56.478Z"
   },
   {
    "duration": 8,
    "start_time": "2022-10-27T14:34:56.504Z"
   },
   {
    "duration": 6,
    "start_time": "2022-10-27T14:34:56.514Z"
   },
   {
    "duration": 6,
    "start_time": "2022-10-27T14:34:56.521Z"
   },
   {
    "duration": 10,
    "start_time": "2022-10-27T14:34:56.529Z"
   },
   {
    "duration": 4,
    "start_time": "2022-10-27T14:34:56.541Z"
   },
   {
    "duration": 6,
    "start_time": "2022-10-27T14:34:56.547Z"
   },
   {
    "duration": 15,
    "start_time": "2022-10-27T14:34:56.554Z"
   },
   {
    "duration": 29,
    "start_time": "2022-10-27T14:34:56.571Z"
   },
   {
    "duration": 7,
    "start_time": "2022-10-27T14:34:56.602Z"
   },
   {
    "duration": 19,
    "start_time": "2022-10-27T14:34:56.611Z"
   },
   {
    "duration": 12,
    "start_time": "2022-10-27T14:34:56.632Z"
   },
   {
    "duration": 7,
    "start_time": "2022-10-27T14:34:56.645Z"
   },
   {
    "duration": 10,
    "start_time": "2022-10-27T14:34:56.653Z"
   },
   {
    "duration": 12,
    "start_time": "2022-10-27T14:34:56.665Z"
   },
   {
    "duration": 20,
    "start_time": "2022-10-27T14:34:56.682Z"
   },
   {
    "duration": 10,
    "start_time": "2022-10-27T14:34:56.704Z"
   },
   {
    "duration": 8,
    "start_time": "2022-10-27T14:34:56.716Z"
   },
   {
    "duration": 11,
    "start_time": "2022-10-27T14:34:56.726Z"
   },
   {
    "duration": 8,
    "start_time": "2022-10-27T14:34:56.738Z"
   },
   {
    "duration": 11,
    "start_time": "2022-10-27T14:34:56.747Z"
   },
   {
    "duration": 4,
    "start_time": "2022-10-27T14:34:56.759Z"
   },
   {
    "duration": 8,
    "start_time": "2022-10-27T14:34:56.764Z"
   },
   {
    "duration": 6,
    "start_time": "2022-10-27T14:34:56.800Z"
   },
   {
    "duration": 6,
    "start_time": "2022-10-27T14:34:56.807Z"
   },
   {
    "duration": 2587,
    "start_time": "2022-10-27T14:34:56.814Z"
   },
   {
    "duration": 11,
    "start_time": "2022-10-27T14:34:59.403Z"
   },
   {
    "duration": 10,
    "start_time": "2022-10-27T14:34:59.415Z"
   },
   {
    "duration": 14,
    "start_time": "2022-10-27T14:34:59.426Z"
   },
   {
    "duration": 4,
    "start_time": "2022-10-27T14:34:59.441Z"
   },
   {
    "duration": 296,
    "start_time": "2022-10-27T14:34:59.446Z"
   },
   {
    "duration": 23,
    "start_time": "2022-10-27T14:34:59.743Z"
   },
   {
    "duration": 5,
    "start_time": "2022-10-27T14:34:59.767Z"
   },
   {
    "duration": 36,
    "start_time": "2022-10-27T14:34:59.773Z"
   },
   {
    "duration": 8,
    "start_time": "2022-10-27T14:34:59.811Z"
   },
   {
    "duration": 322,
    "start_time": "2022-10-27T14:34:59.821Z"
   },
   {
    "duration": 6,
    "start_time": "2022-10-27T14:35:00.145Z"
   },
   {
    "duration": 29,
    "start_time": "2022-10-27T14:35:00.152Z"
   },
   {
    "duration": 211,
    "start_time": "2022-10-27T14:35:00.182Z"
   },
   {
    "duration": 9,
    "start_time": "2022-10-27T14:35:00.394Z"
   },
   {
    "duration": 38,
    "start_time": "2022-10-27T14:35:00.404Z"
   },
   {
    "duration": 209,
    "start_time": "2022-10-27T14:35:00.444Z"
   },
   {
    "duration": 5,
    "start_time": "2022-10-27T14:35:00.654Z"
   },
   {
    "duration": 20,
    "start_time": "2022-10-27T14:35:00.661Z"
   },
   {
    "duration": 178,
    "start_time": "2022-10-27T14:35:00.683Z"
   },
   {
    "duration": 5,
    "start_time": "2022-10-27T14:35:00.863Z"
   },
   {
    "duration": 24,
    "start_time": "2022-10-27T14:35:00.870Z"
   },
   {
    "duration": 182,
    "start_time": "2022-10-27T14:35:00.895Z"
   },
   {
    "duration": 6,
    "start_time": "2022-10-27T14:35:01.079Z"
   },
   {
    "duration": 27,
    "start_time": "2022-10-27T14:35:01.086Z"
   },
   {
    "duration": 29,
    "start_time": "2022-10-27T14:35:01.115Z"
   },
   {
    "duration": 309,
    "start_time": "2022-10-27T14:35:01.146Z"
   },
   {
    "duration": 5,
    "start_time": "2022-10-27T14:35:01.457Z"
   },
   {
    "duration": 216,
    "start_time": "2022-10-27T14:35:01.463Z"
   },
   {
    "duration": 7,
    "start_time": "2022-10-27T14:35:01.681Z"
   },
   {
    "duration": 7,
    "start_time": "2022-10-27T14:35:01.700Z"
   },
   {
    "duration": 10,
    "start_time": "2022-10-27T14:35:01.708Z"
   },
   {
    "duration": 9,
    "start_time": "2022-10-27T14:35:01.719Z"
   },
   {
    "duration": 610,
    "start_time": "2022-10-27T14:35:01.729Z"
   },
   {
    "duration": 25,
    "start_time": "2022-10-27T14:35:02.341Z"
   },
   {
    "duration": 15,
    "start_time": "2022-10-27T14:35:02.367Z"
   },
   {
    "duration": 19,
    "start_time": "2022-10-27T14:35:02.384Z"
   },
   {
    "duration": 178,
    "start_time": "2022-10-27T14:35:02.405Z"
   },
   {
    "duration": 7,
    "start_time": "2022-10-27T14:35:02.585Z"
   },
   {
    "duration": 250,
    "start_time": "2022-10-27T14:35:02.600Z"
   },
   {
    "duration": 353,
    "start_time": "2022-10-27T14:35:02.852Z"
   },
   {
    "duration": 7,
    "start_time": "2022-10-27T14:35:03.207Z"
   },
   {
    "duration": 15,
    "start_time": "2022-10-27T14:35:03.216Z"
   },
   {
    "duration": 465,
    "start_time": "2022-10-27T14:35:03.232Z"
   },
   {
    "duration": 8,
    "start_time": "2022-10-27T14:35:03.698Z"
   },
   {
    "duration": 12,
    "start_time": "2022-10-27T14:35:03.707Z"
   },
   {
    "duration": 61,
    "start_time": "2022-10-27T17:13:26.785Z"
   },
   {
    "duration": 4157,
    "start_time": "2022-10-27T17:13:46.913Z"
   },
   {
    "duration": 323,
    "start_time": "2022-10-27T17:13:51.072Z"
   },
   {
    "duration": 34,
    "start_time": "2022-10-27T17:13:51.397Z"
   },
   {
    "duration": 45,
    "start_time": "2022-10-27T17:13:51.434Z"
   },
   {
    "duration": 98,
    "start_time": "2022-10-27T17:13:51.482Z"
   },
   {
    "duration": 5,
    "start_time": "2022-10-27T17:13:51.583Z"
   },
   {
    "duration": 16,
    "start_time": "2022-10-27T17:13:51.590Z"
   },
   {
    "duration": 47,
    "start_time": "2022-10-27T17:13:51.609Z"
   },
   {
    "duration": 14,
    "start_time": "2022-10-27T17:13:51.659Z"
   },
   {
    "duration": 19,
    "start_time": "2022-10-27T17:13:51.676Z"
   },
   {
    "duration": 42,
    "start_time": "2022-10-27T17:13:51.697Z"
   },
   {
    "duration": 39,
    "start_time": "2022-10-27T17:13:51.742Z"
   },
   {
    "duration": 4,
    "start_time": "2022-10-27T17:13:51.784Z"
   },
   {
    "duration": 29,
    "start_time": "2022-10-27T17:13:51.790Z"
   },
   {
    "duration": 9,
    "start_time": "2022-10-27T17:13:51.821Z"
   },
   {
    "duration": 26,
    "start_time": "2022-10-27T17:13:51.833Z"
   },
   {
    "duration": 43,
    "start_time": "2022-10-27T17:13:51.861Z"
   },
   {
    "duration": 9,
    "start_time": "2022-10-27T17:13:51.906Z"
   },
   {
    "duration": 5,
    "start_time": "2022-10-27T17:13:51.917Z"
   },
   {
    "duration": 7,
    "start_time": "2022-10-27T17:13:51.924Z"
   },
   {
    "duration": 6,
    "start_time": "2022-10-27T17:13:57.846Z"
   },
   {
    "duration": 21,
    "start_time": "2022-10-27T17:14:28.276Z"
   },
   {
    "duration": 5,
    "start_time": "2022-10-27T17:15:44.431Z"
   },
   {
    "duration": 3,
    "start_time": "2022-10-27T17:16:13.150Z"
   },
   {
    "duration": 6,
    "start_time": "2022-10-27T17:18:27.655Z"
   },
   {
    "duration": 4,
    "start_time": "2022-10-27T17:19:03.664Z"
   },
   {
    "duration": 9,
    "start_time": "2022-10-27T17:19:14.446Z"
   },
   {
    "duration": 7,
    "start_time": "2022-10-27T17:20:39.013Z"
   },
   {
    "duration": 2059,
    "start_time": "2022-10-27T17:28:48.480Z"
   },
   {
    "duration": 100,
    "start_time": "2022-10-27T17:28:50.542Z"
   },
   {
    "duration": 169,
    "start_time": "2022-10-27T17:28:50.644Z"
   },
   {
    "duration": 18,
    "start_time": "2022-10-27T17:28:50.815Z"
   },
   {
    "duration": 73,
    "start_time": "2022-10-27T17:28:50.836Z"
   },
   {
    "duration": 5,
    "start_time": "2022-10-27T17:28:50.911Z"
   },
   {
    "duration": 11,
    "start_time": "2022-10-27T17:28:50.918Z"
   },
   {
    "duration": 43,
    "start_time": "2022-10-27T17:28:50.932Z"
   },
   {
    "duration": 11,
    "start_time": "2022-10-27T17:28:50.977Z"
   },
   {
    "duration": 21,
    "start_time": "2022-10-27T17:28:50.989Z"
   },
   {
    "duration": 19,
    "start_time": "2022-10-27T17:28:51.012Z"
   },
   {
    "duration": 24,
    "start_time": "2022-10-27T17:28:51.033Z"
   },
   {
    "duration": 4,
    "start_time": "2022-10-27T17:28:51.059Z"
   },
   {
    "duration": 33,
    "start_time": "2022-10-27T17:28:51.065Z"
   },
   {
    "duration": 9,
    "start_time": "2022-10-27T17:28:51.099Z"
   },
   {
    "duration": 9,
    "start_time": "2022-10-27T17:28:51.109Z"
   },
   {
    "duration": 48,
    "start_time": "2022-10-27T17:28:51.119Z"
   },
   {
    "duration": 9,
    "start_time": "2022-10-27T17:28:51.168Z"
   },
   {
    "duration": 19,
    "start_time": "2022-10-27T17:28:51.178Z"
   },
   {
    "duration": 9,
    "start_time": "2022-10-27T17:28:51.198Z"
   },
   {
    "duration": 5,
    "start_time": "2022-10-27T17:29:01.994Z"
   },
   {
    "duration": 6,
    "start_time": "2022-10-27T17:29:03.751Z"
   },
   {
    "duration": 6,
    "start_time": "2022-10-27T17:29:18.358Z"
   },
   {
    "duration": 5,
    "start_time": "2022-10-27T17:29:30.892Z"
   },
   {
    "duration": 5,
    "start_time": "2022-10-27T17:30:39.561Z"
   },
   {
    "duration": 6,
    "start_time": "2022-10-27T17:30:45.168Z"
   },
   {
    "duration": 6,
    "start_time": "2022-10-27T17:30:49.255Z"
   },
   {
    "duration": 5,
    "start_time": "2022-10-27T17:31:37.061Z"
   },
   {
    "duration": 9,
    "start_time": "2022-10-27T17:34:46.165Z"
   },
   {
    "duration": 11,
    "start_time": "2022-10-27T17:34:52.318Z"
   },
   {
    "duration": 7,
    "start_time": "2022-10-27T17:34:54.830Z"
   },
   {
    "duration": 8,
    "start_time": "2022-10-27T17:35:05.917Z"
   },
   {
    "duration": 6,
    "start_time": "2022-10-27T17:35:15.810Z"
   },
   {
    "duration": 9,
    "start_time": "2022-10-27T17:35:41.662Z"
   },
   {
    "duration": 6,
    "start_time": "2022-10-27T17:35:43.803Z"
   },
   {
    "duration": 5,
    "start_time": "2022-10-27T17:35:47.623Z"
   },
   {
    "duration": 5,
    "start_time": "2022-10-27T17:37:31.616Z"
   },
   {
    "duration": 4,
    "start_time": "2022-10-27T17:37:32.695Z"
   },
   {
    "duration": 4,
    "start_time": "2022-10-27T17:52:44.016Z"
   },
   {
    "duration": 4,
    "start_time": "2022-10-27T17:53:15.556Z"
   },
   {
    "duration": 268,
    "start_time": "2022-10-27T17:53:16.280Z"
   },
   {
    "duration": 667,
    "start_time": "2022-10-27T17:53:16.850Z"
   },
   {
    "duration": 2045,
    "start_time": "2022-10-27T17:57:31.375Z"
   },
   {
    "duration": 96,
    "start_time": "2022-10-27T17:57:33.423Z"
   },
   {
    "duration": 23,
    "start_time": "2022-10-27T17:57:33.521Z"
   },
   {
    "duration": 24,
    "start_time": "2022-10-27T17:57:33.546Z"
   },
   {
    "duration": 85,
    "start_time": "2022-10-27T17:57:33.572Z"
   },
   {
    "duration": 5,
    "start_time": "2022-10-27T17:57:33.659Z"
   },
   {
    "duration": 10,
    "start_time": "2022-10-27T17:57:33.665Z"
   },
   {
    "duration": 43,
    "start_time": "2022-10-27T17:57:33.677Z"
   },
   {
    "duration": 8,
    "start_time": "2022-10-27T17:57:33.722Z"
   },
   {
    "duration": 9,
    "start_time": "2022-10-27T17:57:33.753Z"
   },
   {
    "duration": 13,
    "start_time": "2022-10-27T17:57:33.763Z"
   },
   {
    "duration": 22,
    "start_time": "2022-10-27T17:57:33.777Z"
   },
   {
    "duration": 3,
    "start_time": "2022-10-27T17:57:33.801Z"
   },
   {
    "duration": 22,
    "start_time": "2022-10-27T17:57:33.806Z"
   },
   {
    "duration": 33,
    "start_time": "2022-10-27T17:57:33.829Z"
   },
   {
    "duration": 4,
    "start_time": "2022-10-27T17:57:33.864Z"
   },
   {
    "duration": 27,
    "start_time": "2022-10-27T17:57:33.870Z"
   },
   {
    "duration": 8,
    "start_time": "2022-10-27T17:57:33.899Z"
   },
   {
    "duration": 7,
    "start_time": "2022-10-27T17:57:33.909Z"
   },
   {
    "duration": 37,
    "start_time": "2022-10-27T17:57:33.918Z"
   },
   {
    "duration": 12,
    "start_time": "2022-10-27T17:57:33.957Z"
   },
   {
    "duration": 5,
    "start_time": "2022-10-27T17:57:33.972Z"
   },
   {
    "duration": 11,
    "start_time": "2022-10-27T17:57:33.979Z"
   },
   {
    "duration": 68,
    "start_time": "2022-10-27T17:57:33.992Z"
   },
   {
    "duration": 5,
    "start_time": "2022-10-27T17:57:34.062Z"
   },
   {
    "duration": 8,
    "start_time": "2022-10-27T17:57:34.068Z"
   },
   {
    "duration": 7,
    "start_time": "2022-10-27T17:57:34.077Z"
   },
   {
    "duration": 10,
    "start_time": "2022-10-27T17:57:34.088Z"
   },
   {
    "duration": 8,
    "start_time": "2022-10-27T17:57:34.099Z"
   },
   {
    "duration": 9,
    "start_time": "2022-10-27T17:57:34.108Z"
   },
   {
    "duration": 9,
    "start_time": "2022-10-27T17:57:34.118Z"
   },
   {
    "duration": 28,
    "start_time": "2022-10-27T17:57:34.129Z"
   },
   {
    "duration": 10,
    "start_time": "2022-10-27T17:57:34.160Z"
   },
   {
    "duration": 16,
    "start_time": "2022-10-27T17:57:34.172Z"
   },
   {
    "duration": 9,
    "start_time": "2022-10-27T17:57:34.190Z"
   },
   {
    "duration": 10,
    "start_time": "2022-10-27T17:57:34.200Z"
   },
   {
    "duration": 16,
    "start_time": "2022-10-27T17:57:34.211Z"
   },
   {
    "duration": 34,
    "start_time": "2022-10-27T17:57:34.229Z"
   },
   {
    "duration": 10,
    "start_time": "2022-10-27T17:57:34.265Z"
   },
   {
    "duration": 13,
    "start_time": "2022-10-27T17:57:34.277Z"
   },
   {
    "duration": 16,
    "start_time": "2022-10-27T17:57:34.292Z"
   },
   {
    "duration": 6,
    "start_time": "2022-10-27T17:57:34.309Z"
   },
   {
    "duration": 13,
    "start_time": "2022-10-27T17:57:34.317Z"
   },
   {
    "duration": 24,
    "start_time": "2022-10-27T17:57:34.332Z"
   },
   {
    "duration": 15,
    "start_time": "2022-10-27T17:57:34.358Z"
   },
   {
    "duration": 10,
    "start_time": "2022-10-27T17:57:34.375Z"
   },
   {
    "duration": 17,
    "start_time": "2022-10-27T17:57:34.387Z"
   },
   {
    "duration": 8,
    "start_time": "2022-10-27T17:57:34.406Z"
   },
   {
    "duration": 10,
    "start_time": "2022-10-27T17:57:34.416Z"
   },
   {
    "duration": 7,
    "start_time": "2022-10-27T17:59:07.951Z"
   },
   {
    "duration": 61,
    "start_time": "2022-10-28T07:18:57.441Z"
   },
   {
    "duration": 3775,
    "start_time": "2022-10-28T07:19:03.174Z"
   },
   {
    "duration": 137,
    "start_time": "2022-10-28T07:19:06.951Z"
   },
   {
    "duration": 23,
    "start_time": "2022-10-28T07:19:07.089Z"
   },
   {
    "duration": 13,
    "start_time": "2022-10-28T07:19:07.115Z"
   },
   {
    "duration": 57,
    "start_time": "2022-10-28T07:19:07.130Z"
   },
   {
    "duration": 18,
    "start_time": "2022-10-28T07:19:07.189Z"
   },
   {
    "duration": 6,
    "start_time": "2022-10-28T07:19:07.208Z"
   },
   {
    "duration": 22,
    "start_time": "2022-10-28T07:19:07.216Z"
   },
   {
    "duration": 9,
    "start_time": "2022-10-28T07:19:07.239Z"
   },
   {
    "duration": 11,
    "start_time": "2022-10-28T07:19:07.251Z"
   },
   {
    "duration": 16,
    "start_time": "2022-10-28T07:19:07.263Z"
   },
   {
    "duration": 47,
    "start_time": "2022-10-28T07:19:07.280Z"
   },
   {
    "duration": 4,
    "start_time": "2022-10-28T07:19:07.329Z"
   },
   {
    "duration": 32,
    "start_time": "2022-10-28T07:19:07.335Z"
   },
   {
    "duration": 9,
    "start_time": "2022-10-28T07:19:07.368Z"
   },
   {
    "duration": 28,
    "start_time": "2022-10-28T07:19:07.379Z"
   },
   {
    "duration": 32,
    "start_time": "2022-10-28T07:19:07.409Z"
   },
   {
    "duration": 9,
    "start_time": "2022-10-28T07:19:07.443Z"
   },
   {
    "duration": 11,
    "start_time": "2022-10-28T07:19:07.454Z"
   },
   {
    "duration": 8,
    "start_time": "2022-10-28T07:19:07.467Z"
   },
   {
    "duration": 17,
    "start_time": "2022-10-28T07:19:07.476Z"
   },
   {
    "duration": 4,
    "start_time": "2022-10-28T07:19:07.504Z"
   },
   {
    "duration": 15,
    "start_time": "2022-10-28T07:19:07.509Z"
   },
   {
    "duration": 32,
    "start_time": "2022-10-28T07:19:07.525Z"
   },
   {
    "duration": 3,
    "start_time": "2022-10-28T07:19:07.559Z"
   },
   {
    "duration": 6,
    "start_time": "2022-10-28T07:19:07.563Z"
   },
   {
    "duration": 5,
    "start_time": "2022-10-28T07:19:07.570Z"
   },
   {
    "duration": 29,
    "start_time": "2022-10-28T07:19:07.579Z"
   },
   {
    "duration": 6,
    "start_time": "2022-10-28T07:19:07.609Z"
   },
   {
    "duration": 4,
    "start_time": "2022-10-28T07:19:07.616Z"
   },
   {
    "duration": 5,
    "start_time": "2022-10-28T07:19:07.622Z"
   },
   {
    "duration": 4,
    "start_time": "2022-10-28T07:19:07.628Z"
   },
   {
    "duration": 4,
    "start_time": "2022-10-28T07:19:07.634Z"
   },
   {
    "duration": 9,
    "start_time": "2022-10-28T07:19:07.639Z"
   },
   {
    "duration": 6,
    "start_time": "2022-10-28T07:19:07.649Z"
   },
   {
    "duration": 7,
    "start_time": "2022-10-28T07:19:07.657Z"
   },
   {
    "duration": 42,
    "start_time": "2022-10-28T07:19:07.666Z"
   },
   {
    "duration": 12,
    "start_time": "2022-10-28T07:19:07.709Z"
   },
   {
    "duration": 7,
    "start_time": "2022-10-28T07:19:07.722Z"
   },
   {
    "duration": 3,
    "start_time": "2022-10-28T07:19:07.730Z"
   },
   {
    "duration": 10,
    "start_time": "2022-10-28T07:19:07.734Z"
   },
   {
    "duration": 9,
    "start_time": "2022-10-28T07:19:07.745Z"
   },
   {
    "duration": 6,
    "start_time": "2022-10-28T07:19:07.755Z"
   },
   {
    "duration": 6,
    "start_time": "2022-10-28T07:19:07.763Z"
   },
   {
    "duration": 39,
    "start_time": "2022-10-28T07:19:07.770Z"
   },
   {
    "duration": 8,
    "start_time": "2022-10-28T07:19:07.810Z"
   },
   {
    "duration": 10,
    "start_time": "2022-10-28T07:19:07.819Z"
   },
   {
    "duration": 3,
    "start_time": "2022-10-28T07:19:07.830Z"
   },
   {
    "duration": 7,
    "start_time": "2022-10-28T07:19:07.835Z"
   },
   {
    "duration": 6,
    "start_time": "2022-10-28T07:19:07.844Z"
   },
   {
    "duration": 4,
    "start_time": "2022-10-28T07:19:07.851Z"
   },
   {
    "duration": 2604,
    "start_time": "2022-10-28T07:19:07.856Z"
   },
   {
    "duration": 8,
    "start_time": "2022-10-28T07:19:10.462Z"
   },
   {
    "duration": 6,
    "start_time": "2022-10-28T07:19:10.471Z"
   },
   {
    "duration": 30,
    "start_time": "2022-10-28T07:19:10.478Z"
   },
   {
    "duration": 3,
    "start_time": "2022-10-28T07:19:10.510Z"
   },
   {
    "duration": 251,
    "start_time": "2022-10-28T07:19:10.514Z"
   },
   {
    "duration": 18,
    "start_time": "2022-10-28T07:19:10.767Z"
   },
   {
    "duration": 6,
    "start_time": "2022-10-28T07:19:10.786Z"
   },
   {
    "duration": 27,
    "start_time": "2022-10-28T07:19:10.793Z"
   },
   {
    "duration": 7,
    "start_time": "2022-10-28T07:19:10.821Z"
   },
   {
    "duration": 273,
    "start_time": "2022-10-28T07:19:10.829Z"
   },
   {
    "duration": 5,
    "start_time": "2022-10-28T07:19:11.104Z"
   },
   {
    "duration": 8,
    "start_time": "2022-10-28T07:19:16.976Z"
   },
   {
    "duration": 24,
    "start_time": "2022-10-28T07:22:00.144Z"
   },
   {
    "duration": 21,
    "start_time": "2022-10-28T07:22:35.371Z"
   },
   {
    "duration": 19,
    "start_time": "2022-10-28T07:23:33.986Z"
   },
   {
    "duration": 14,
    "start_time": "2022-10-28T07:24:11.993Z"
   },
   {
    "duration": 27,
    "start_time": "2022-10-28T07:24:17.081Z"
   },
   {
    "duration": 22,
    "start_time": "2022-10-28T07:24:28.247Z"
   },
   {
    "duration": 19,
    "start_time": "2022-10-28T07:25:13.876Z"
   },
   {
    "duration": 18,
    "start_time": "2022-10-28T07:25:38.649Z"
   },
   {
    "duration": 28,
    "start_time": "2022-10-28T07:25:46.226Z"
   },
   {
    "duration": 257,
    "start_time": "2022-10-28T07:32:02.440Z"
   },
   {
    "duration": 293,
    "start_time": "2022-10-28T07:32:26.086Z"
   },
   {
    "duration": 303,
    "start_time": "2022-10-28T07:33:46.418Z"
   },
   {
    "duration": 11,
    "start_time": "2022-10-28T07:35:40.849Z"
   },
   {
    "duration": 67,
    "start_time": "2022-10-28T07:38:49.472Z"
   },
   {
    "duration": 122,
    "start_time": "2022-10-28T07:38:58.998Z"
   },
   {
    "duration": 119,
    "start_time": "2022-10-28T07:41:04.799Z"
   },
   {
    "duration": 10,
    "start_time": "2022-10-28T07:47:55.083Z"
   },
   {
    "duration": 248,
    "start_time": "2022-10-28T07:48:15.107Z"
   },
   {
    "duration": 736,
    "start_time": "2022-10-28T07:49:06.241Z"
   },
   {
    "duration": 890,
    "start_time": "2022-10-28T07:49:47.228Z"
   },
   {
    "duration": 122,
    "start_time": "2022-10-28T07:53:53.390Z"
   },
   {
    "duration": 123,
    "start_time": "2022-10-28T07:54:25.674Z"
   },
   {
    "duration": 8,
    "start_time": "2022-10-28T07:54:32.161Z"
   },
   {
    "duration": 890,
    "start_time": "2022-10-28T07:57:57.277Z"
   },
   {
    "duration": 739,
    "start_time": "2022-10-28T08:02:41.670Z"
   },
   {
    "duration": 864,
    "start_time": "2022-10-28T08:04:26.933Z"
   },
   {
    "duration": 138,
    "start_time": "2022-10-28T08:28:17.855Z"
   },
   {
    "duration": 8,
    "start_time": "2022-10-28T08:28:58.477Z"
   },
   {
    "duration": 485,
    "start_time": "2022-10-28T08:34:15.470Z"
   },
   {
    "duration": 548,
    "start_time": "2022-10-28T08:35:15.684Z"
   },
   {
    "duration": 429,
    "start_time": "2022-10-28T08:35:32.768Z"
   },
   {
    "duration": 544,
    "start_time": "2022-10-28T08:36:17.108Z"
   },
   {
    "duration": 562,
    "start_time": "2022-10-28T08:37:04.305Z"
   },
   {
    "duration": 486,
    "start_time": "2022-10-28T08:37:39.523Z"
   },
   {
    "duration": 240,
    "start_time": "2022-10-28T08:44:23.476Z"
   },
   {
    "duration": 166,
    "start_time": "2022-10-28T08:44:34.692Z"
   },
   {
    "duration": 440,
    "start_time": "2022-10-28T08:44:47.283Z"
   },
   {
    "duration": 247,
    "start_time": "2022-10-28T08:44:53.418Z"
   },
   {
    "duration": 8,
    "start_time": "2022-10-28T08:45:34.931Z"
   },
   {
    "duration": 8,
    "start_time": "2022-10-28T08:45:39.865Z"
   },
   {
    "duration": 71,
    "start_time": "2022-10-28T08:53:43.893Z"
   },
   {
    "duration": 83,
    "start_time": "2022-10-28T08:54:26.449Z"
   },
   {
    "duration": 11,
    "start_time": "2022-10-28T08:54:55.869Z"
   },
   {
    "duration": 236,
    "start_time": "2022-10-28T08:55:26.178Z"
   },
   {
    "duration": 814,
    "start_time": "2022-10-28T08:55:44.249Z"
   },
   {
    "duration": 698,
    "start_time": "2022-10-28T08:57:18.195Z"
   },
   {
    "duration": 53,
    "start_time": "2022-10-28T11:48:39.751Z"
   },
   {
    "duration": 4192,
    "start_time": "2022-10-28T11:48:47.291Z"
   },
   {
    "duration": 314,
    "start_time": "2022-10-28T11:48:51.485Z"
   },
   {
    "duration": 25,
    "start_time": "2022-10-28T11:48:51.800Z"
   },
   {
    "duration": 15,
    "start_time": "2022-10-28T11:48:51.827Z"
   },
   {
    "duration": 82,
    "start_time": "2022-10-28T11:48:51.843Z"
   },
   {
    "duration": 4,
    "start_time": "2022-10-28T11:48:51.926Z"
   },
   {
    "duration": 7,
    "start_time": "2022-10-28T11:48:51.932Z"
   },
   {
    "duration": 28,
    "start_time": "2022-10-28T11:48:51.941Z"
   },
   {
    "duration": 8,
    "start_time": "2022-10-28T11:48:51.971Z"
   },
   {
    "duration": 28,
    "start_time": "2022-10-28T11:48:51.982Z"
   },
   {
    "duration": 12,
    "start_time": "2022-10-28T11:48:52.012Z"
   },
   {
    "duration": 22,
    "start_time": "2022-10-28T11:48:52.026Z"
   },
   {
    "duration": 4,
    "start_time": "2022-10-28T11:48:52.050Z"
   },
   {
    "duration": 21,
    "start_time": "2022-10-28T11:48:52.055Z"
   },
   {
    "duration": 35,
    "start_time": "2022-10-28T11:48:52.077Z"
   },
   {
    "duration": 5,
    "start_time": "2022-10-28T11:48:52.114Z"
   },
   {
    "duration": 31,
    "start_time": "2022-10-28T11:48:52.120Z"
   },
   {
    "duration": 8,
    "start_time": "2022-10-28T11:48:52.152Z"
   },
   {
    "duration": 7,
    "start_time": "2022-10-28T11:48:52.161Z"
   },
   {
    "duration": 8,
    "start_time": "2022-10-28T11:48:52.169Z"
   },
   {
    "duration": 31,
    "start_time": "2022-10-28T11:48:52.178Z"
   },
   {
    "duration": 3,
    "start_time": "2022-10-28T11:48:52.210Z"
   },
   {
    "duration": 11,
    "start_time": "2022-10-28T11:48:52.215Z"
   },
   {
    "duration": 34,
    "start_time": "2022-10-28T11:48:52.228Z"
   },
   {
    "duration": 3,
    "start_time": "2022-10-28T11:48:52.264Z"
   },
   {
    "duration": 6,
    "start_time": "2022-10-28T11:48:52.269Z"
   },
   {
    "duration": 33,
    "start_time": "2022-10-28T11:48:52.276Z"
   },
   {
    "duration": 5,
    "start_time": "2022-10-28T11:48:52.315Z"
   },
   {
    "duration": 4,
    "start_time": "2022-10-28T11:48:52.322Z"
   },
   {
    "duration": 4,
    "start_time": "2022-10-28T11:48:52.328Z"
   },
   {
    "duration": 4,
    "start_time": "2022-10-28T11:48:52.334Z"
   },
   {
    "duration": 3,
    "start_time": "2022-10-28T11:48:52.340Z"
   },
   {
    "duration": 5,
    "start_time": "2022-10-28T11:48:52.345Z"
   },
   {
    "duration": 8,
    "start_time": "2022-10-28T11:48:52.352Z"
   },
   {
    "duration": 53,
    "start_time": "2022-10-28T11:48:52.362Z"
   },
   {
    "duration": 8,
    "start_time": "2022-10-28T11:48:52.417Z"
   },
   {
    "duration": 12,
    "start_time": "2022-10-28T11:48:52.426Z"
   },
   {
    "duration": 11,
    "start_time": "2022-10-28T11:48:52.439Z"
   },
   {
    "duration": 6,
    "start_time": "2022-10-28T11:48:52.452Z"
   },
   {
    "duration": 3,
    "start_time": "2022-10-28T11:48:52.459Z"
   },
   {
    "duration": 11,
    "start_time": "2022-10-28T11:48:52.463Z"
   },
   {
    "duration": 33,
    "start_time": "2022-10-28T11:48:52.476Z"
   },
   {
    "duration": 6,
    "start_time": "2022-10-28T11:48:52.511Z"
   },
   {
    "duration": 8,
    "start_time": "2022-10-28T11:48:52.519Z"
   },
   {
    "duration": 9,
    "start_time": "2022-10-28T11:48:52.529Z"
   },
   {
    "duration": 8,
    "start_time": "2022-10-28T11:48:52.540Z"
   },
   {
    "duration": 10,
    "start_time": "2022-10-28T11:48:52.550Z"
   },
   {
    "duration": 3,
    "start_time": "2022-10-28T11:48:52.562Z"
   },
   {
    "duration": 49,
    "start_time": "2022-10-28T11:48:52.567Z"
   },
   {
    "duration": 10,
    "start_time": "2022-10-28T11:48:52.618Z"
   },
   {
    "duration": 4,
    "start_time": "2022-10-28T11:48:52.630Z"
   },
   {
    "duration": 2651,
    "start_time": "2022-10-28T11:48:52.635Z"
   },
   {
    "duration": 26,
    "start_time": "2022-10-28T11:48:55.288Z"
   },
   {
    "duration": 6,
    "start_time": "2022-10-28T11:48:55.316Z"
   },
   {
    "duration": 12,
    "start_time": "2022-10-28T11:48:55.324Z"
   },
   {
    "duration": 3,
    "start_time": "2022-10-28T11:48:55.337Z"
   },
   {
    "duration": 317,
    "start_time": "2022-10-28T11:48:55.342Z"
   },
   {
    "duration": 19,
    "start_time": "2022-10-28T11:48:55.661Z"
   },
   {
    "duration": 10,
    "start_time": "2022-10-28T11:48:55.682Z"
   },
   {
    "duration": 24,
    "start_time": "2022-10-28T11:48:55.694Z"
   },
   {
    "duration": 161,
    "start_time": "2022-10-28T11:48:55.720Z"
   },
   {
    "duration": 9,
    "start_time": "2022-10-28T11:48:55.883Z"
   },
   {
    "duration": 849,
    "start_time": "2022-10-28T11:48:55.894Z"
   },
   {
    "duration": 152,
    "start_time": "2022-10-28T11:48:56.745Z"
   },
   {
    "duration": 16,
    "start_time": "2022-10-28T11:48:56.899Z"
   },
   {
    "duration": 764,
    "start_time": "2022-10-28T11:48:56.917Z"
   },
   {
    "duration": 153,
    "start_time": "2022-10-28T11:48:57.683Z"
   },
   {
    "duration": 8,
    "start_time": "2022-10-28T11:48:57.839Z"
   },
   {
    "duration": 587,
    "start_time": "2022-10-28T11:48:57.848Z"
   },
   {
    "duration": 261,
    "start_time": "2022-10-28T11:48:58.436Z"
   },
   {
    "duration": 14,
    "start_time": "2022-10-28T11:48:58.699Z"
   },
   {
    "duration": 727,
    "start_time": "2022-10-28T11:48:58.714Z"
   },
   {
    "duration": 192,
    "start_time": "2022-10-28T11:49:09.799Z"
   },
   {
    "duration": 7,
    "start_time": "2022-10-28T11:49:28.464Z"
   },
   {
    "duration": 185,
    "start_time": "2022-10-28T11:52:16.838Z"
   },
   {
    "duration": 120,
    "start_time": "2022-10-28T11:53:18.235Z"
   },
   {
    "duration": 61,
    "start_time": "2022-10-28T11:54:28.575Z"
   },
   {
    "duration": 7,
    "start_time": "2022-10-28T11:54:32.731Z"
   },
   {
    "duration": 242,
    "start_time": "2022-10-28T11:58:11.733Z"
   },
   {
    "duration": 240,
    "start_time": "2022-10-28T11:58:23.968Z"
   },
   {
    "duration": 8,
    "start_time": "2022-10-28T11:58:49.290Z"
   },
   {
    "duration": 127,
    "start_time": "2022-10-28T12:02:28.997Z"
   },
   {
    "duration": 134,
    "start_time": "2022-10-28T12:02:37.742Z"
   },
   {
    "duration": 144,
    "start_time": "2022-10-28T12:03:21.282Z"
   },
   {
    "duration": 73,
    "start_time": "2022-10-28T12:03:53.331Z"
   },
   {
    "duration": 12,
    "start_time": "2022-10-28T12:04:00.456Z"
   },
   {
    "duration": 44,
    "start_time": "2022-10-28T12:16:28.917Z"
   },
   {
    "duration": 182,
    "start_time": "2022-10-28T12:17:54.961Z"
   },
   {
    "duration": 10,
    "start_time": "2022-10-28T12:18:38.062Z"
   },
   {
    "duration": 10,
    "start_time": "2022-10-28T12:18:47.304Z"
   },
   {
    "duration": 796,
    "start_time": "2022-10-28T12:27:24.489Z"
   },
   {
    "duration": 697,
    "start_time": "2022-10-28T12:28:06.720Z"
   },
   {
    "duration": 805,
    "start_time": "2022-10-28T12:30:22.442Z"
   },
   {
    "duration": 797,
    "start_time": "2022-10-28T12:30:28.401Z"
   },
   {
    "duration": 39,
    "start_time": "2022-10-28T12:31:45.537Z"
   },
   {
    "duration": 732,
    "start_time": "2022-10-28T12:34:37.236Z"
   },
   {
    "duration": 15,
    "start_time": "2022-10-28T12:42:55.833Z"
   },
   {
    "duration": 20,
    "start_time": "2022-10-28T12:43:04.112Z"
   },
   {
    "duration": 15,
    "start_time": "2022-10-28T12:43:42.013Z"
   },
   {
    "duration": 9,
    "start_time": "2022-10-28T12:50:09.661Z"
   },
   {
    "duration": 15,
    "start_time": "2022-10-28T12:50:51.990Z"
   },
   {
    "duration": 121,
    "start_time": "2022-10-28T12:51:01.929Z"
   },
   {
    "duration": 15,
    "start_time": "2022-10-28T12:51:07.911Z"
   },
   {
    "duration": 15,
    "start_time": "2022-10-28T12:51:25.128Z"
   },
   {
    "duration": 16,
    "start_time": "2022-10-28T12:51:46.626Z"
   },
   {
    "duration": 4,
    "start_time": "2022-10-28T12:52:20.571Z"
   },
   {
    "duration": 11,
    "start_time": "2022-10-28T12:52:27.651Z"
   },
   {
    "duration": 7,
    "start_time": "2022-10-28T12:55:41.313Z"
   },
   {
    "duration": 7,
    "start_time": "2022-10-28T13:01:55.891Z"
   },
   {
    "duration": 7,
    "start_time": "2022-10-28T13:02:23.461Z"
   },
   {
    "duration": 6,
    "start_time": "2022-10-28T13:02:24.895Z"
   },
   {
    "duration": 11,
    "start_time": "2022-10-28T13:04:18.434Z"
   },
   {
    "duration": 10,
    "start_time": "2022-10-28T13:04:40.809Z"
   },
   {
    "duration": 50,
    "start_time": "2022-10-28T13:13:45.033Z"
   },
   {
    "duration": 187,
    "start_time": "2022-10-28T13:15:03.707Z"
   },
   {
    "duration": 9,
    "start_time": "2022-10-28T13:15:33.388Z"
   },
   {
    "duration": 2156,
    "start_time": "2022-10-28T14:01:43.777Z"
   },
   {
    "duration": 108,
    "start_time": "2022-10-28T14:01:45.935Z"
   },
   {
    "duration": 27,
    "start_time": "2022-10-28T14:01:46.045Z"
   },
   {
    "duration": 24,
    "start_time": "2022-10-28T14:01:46.074Z"
   },
   {
    "duration": 85,
    "start_time": "2022-10-28T14:01:46.100Z"
   },
   {
    "duration": 5,
    "start_time": "2022-10-28T14:01:46.187Z"
   },
   {
    "duration": 20,
    "start_time": "2022-10-28T14:01:46.193Z"
   },
   {
    "duration": 32,
    "start_time": "2022-10-28T14:01:46.215Z"
   },
   {
    "duration": 12,
    "start_time": "2022-10-28T14:01:46.249Z"
   },
   {
    "duration": 10,
    "start_time": "2022-10-28T14:01:46.264Z"
   },
   {
    "duration": 39,
    "start_time": "2022-10-28T14:01:46.277Z"
   },
   {
    "duration": 22,
    "start_time": "2022-10-28T14:01:46.318Z"
   },
   {
    "duration": 3,
    "start_time": "2022-10-28T14:01:46.342Z"
   },
   {
    "duration": 24,
    "start_time": "2022-10-28T14:01:46.347Z"
   },
   {
    "duration": 10,
    "start_time": "2022-10-28T14:01:46.373Z"
   },
   {
    "duration": 5,
    "start_time": "2022-10-28T14:01:46.410Z"
   },
   {
    "duration": 32,
    "start_time": "2022-10-28T14:01:46.417Z"
   },
   {
    "duration": 10,
    "start_time": "2022-10-28T14:01:46.451Z"
   },
   {
    "duration": 16,
    "start_time": "2022-10-28T14:01:46.463Z"
   },
   {
    "duration": 14,
    "start_time": "2022-10-28T14:01:46.481Z"
   },
   {
    "duration": 26,
    "start_time": "2022-10-28T14:01:46.496Z"
   },
   {
    "duration": 11,
    "start_time": "2022-10-28T14:01:46.524Z"
   },
   {
    "duration": 22,
    "start_time": "2022-10-28T14:01:46.537Z"
   },
   {
    "duration": 41,
    "start_time": "2022-10-28T14:01:46.561Z"
   },
   {
    "duration": 4,
    "start_time": "2022-10-28T14:01:46.604Z"
   },
   {
    "duration": 24,
    "start_time": "2022-10-28T14:01:46.609Z"
   },
   {
    "duration": 9,
    "start_time": "2022-10-28T14:01:46.635Z"
   },
   {
    "duration": 7,
    "start_time": "2022-10-28T14:01:46.650Z"
   },
   {
    "duration": 10,
    "start_time": "2022-10-28T14:01:46.659Z"
   },
   {
    "duration": 18,
    "start_time": "2022-10-28T14:01:46.671Z"
   },
   {
    "duration": 8,
    "start_time": "2022-10-28T14:01:46.691Z"
   },
   {
    "duration": 24,
    "start_time": "2022-10-28T14:01:46.701Z"
   },
   {
    "duration": 13,
    "start_time": "2022-10-28T14:01:46.727Z"
   },
   {
    "duration": 16,
    "start_time": "2022-10-28T14:01:46.742Z"
   },
   {
    "duration": 18,
    "start_time": "2022-10-28T14:01:46.759Z"
   },
   {
    "duration": 17,
    "start_time": "2022-10-28T14:01:46.779Z"
   },
   {
    "duration": 30,
    "start_time": "2022-10-28T14:01:46.798Z"
   },
   {
    "duration": 25,
    "start_time": "2022-10-28T14:01:46.830Z"
   },
   {
    "duration": 8,
    "start_time": "2022-10-28T14:01:46.857Z"
   },
   {
    "duration": 8,
    "start_time": "2022-10-28T14:01:46.867Z"
   },
   {
    "duration": 13,
    "start_time": "2022-10-28T14:01:46.876Z"
   },
   {
    "duration": 4,
    "start_time": "2022-10-28T14:01:46.891Z"
   },
   {
    "duration": 15,
    "start_time": "2022-10-28T14:01:46.897Z"
   },
   {
    "duration": 5,
    "start_time": "2022-10-28T14:01:46.914Z"
   },
   {
    "duration": 12,
    "start_time": "2022-10-28T14:01:46.921Z"
   },
   {
    "duration": 9,
    "start_time": "2022-10-28T14:01:46.934Z"
   },
   {
    "duration": 11,
    "start_time": "2022-10-28T14:01:46.944Z"
   },
   {
    "duration": 3,
    "start_time": "2022-10-28T14:01:46.956Z"
   },
   {
    "duration": 7,
    "start_time": "2022-10-28T14:01:46.961Z"
   },
   {
    "duration": 40,
    "start_time": "2022-10-28T14:01:46.970Z"
   },
   {
    "duration": 4,
    "start_time": "2022-10-28T14:01:47.012Z"
   },
   {
    "duration": 2555,
    "start_time": "2022-10-28T14:01:47.018Z"
   },
   {
    "duration": 10,
    "start_time": "2022-10-28T14:01:49.575Z"
   },
   {
    "duration": 25,
    "start_time": "2022-10-28T14:01:49.587Z"
   },
   {
    "duration": 11,
    "start_time": "2022-10-28T14:01:49.614Z"
   },
   {
    "duration": 3,
    "start_time": "2022-10-28T14:01:49.627Z"
   },
   {
    "duration": 416,
    "start_time": "2022-10-28T14:01:49.631Z"
   },
   {
    "duration": 20,
    "start_time": "2022-10-28T14:01:50.049Z"
   },
   {
    "duration": 5,
    "start_time": "2022-10-28T14:01:50.070Z"
   },
   {
    "duration": 35,
    "start_time": "2022-10-28T14:01:50.076Z"
   },
   {
    "duration": 132,
    "start_time": "2022-10-28T14:01:50.113Z"
   },
   {
    "duration": 9,
    "start_time": "2022-10-28T14:01:50.247Z"
   },
   {
    "duration": 761,
    "start_time": "2022-10-28T14:01:50.258Z"
   },
   {
    "duration": 139,
    "start_time": "2022-10-28T14:01:51.021Z"
   },
   {
    "duration": 8,
    "start_time": "2022-10-28T14:01:51.161Z"
   },
   {
    "duration": 838,
    "start_time": "2022-10-28T14:01:51.171Z"
   },
   {
    "duration": 153,
    "start_time": "2022-10-28T14:01:52.011Z"
   },
   {
    "duration": 9,
    "start_time": "2022-10-28T14:01:52.165Z"
   },
   {
    "duration": 498,
    "start_time": "2022-10-28T14:01:52.175Z"
   },
   {
    "duration": 256,
    "start_time": "2022-10-28T14:01:52.674Z"
   },
   {
    "duration": 8,
    "start_time": "2022-10-28T14:01:52.932Z"
   },
   {
    "duration": 810,
    "start_time": "2022-10-28T14:01:52.942Z"
   },
   {
    "duration": 203,
    "start_time": "2022-10-28T14:01:53.754Z"
   },
   {
    "duration": 8,
    "start_time": "2022-10-28T14:01:53.959Z"
   },
   {
    "duration": 125,
    "start_time": "2022-10-28T14:01:53.968Z"
   },
   {
    "duration": 15,
    "start_time": "2022-10-28T14:01:54.094Z"
   },
   {
    "duration": 240,
    "start_time": "2022-10-28T14:01:54.111Z"
   },
   {
    "duration": 7,
    "start_time": "2022-10-28T14:01:54.353Z"
   },
   {
    "duration": 276,
    "start_time": "2022-10-28T14:01:54.362Z"
   },
   {
    "duration": 14,
    "start_time": "2022-10-28T14:01:54.640Z"
   },
   {
    "duration": 201,
    "start_time": "2022-10-28T14:01:54.656Z"
   },
   {
    "duration": 7,
    "start_time": "2022-10-28T14:01:54.863Z"
   },
   {
    "duration": 722,
    "start_time": "2022-10-28T14:01:54.872Z"
   },
   {
    "duration": 17,
    "start_time": "2022-10-28T14:01:55.596Z"
   },
   {
    "duration": 19,
    "start_time": "2022-10-28T14:01:55.615Z"
   },
   {
    "duration": 202,
    "start_time": "2022-10-28T14:01:55.636Z"
   },
   {
    "duration": 8,
    "start_time": "2022-10-28T14:02:13.367Z"
   },
   {
    "duration": 855,
    "start_time": "2022-10-28T14:10:26.098Z"
   },
   {
    "duration": 13,
    "start_time": "2022-10-28T14:12:10.150Z"
   },
   {
    "duration": 21,
    "start_time": "2022-10-28T14:21:15.782Z"
   },
   {
    "duration": 193,
    "start_time": "2022-10-28T14:26:18.043Z"
   },
   {
    "duration": 676,
    "start_time": "2022-10-28T14:26:28.134Z"
   },
   {
    "duration": 831,
    "start_time": "2022-10-28T14:27:20.257Z"
   },
   {
    "duration": 806,
    "start_time": "2022-10-28T14:27:27.247Z"
   },
   {
    "duration": 753,
    "start_time": "2022-10-28T14:28:06.144Z"
   },
   {
    "duration": 9,
    "start_time": "2022-10-28T14:28:59.337Z"
   },
   {
    "duration": 8,
    "start_time": "2022-10-28T14:29:50.599Z"
   },
   {
    "duration": 8,
    "start_time": "2022-10-28T14:31:01.803Z"
   },
   {
    "duration": 4,
    "start_time": "2022-10-28T14:31:14.504Z"
   },
   {
    "duration": 190,
    "start_time": "2022-10-28T14:31:39.150Z"
   },
   {
    "duration": 5,
    "start_time": "2022-10-28T14:32:28.541Z"
   },
   {
    "duration": 179,
    "start_time": "2022-10-28T14:33:35.600Z"
   },
   {
    "duration": 184,
    "start_time": "2022-10-28T14:33:55.355Z"
   },
   {
    "duration": 181,
    "start_time": "2022-10-28T14:34:33.737Z"
   },
   {
    "duration": 331,
    "start_time": "2022-10-28T14:34:46.874Z"
   },
   {
    "duration": 185,
    "start_time": "2022-10-28T14:34:59.867Z"
   },
   {
    "duration": 8,
    "start_time": "2022-10-28T14:35:41.382Z"
   },
   {
    "duration": 654,
    "start_time": "2022-10-28T14:36:09.722Z"
   },
   {
    "duration": 1101,
    "start_time": "2022-10-28T14:45:46.614Z"
   },
   {
    "duration": 39,
    "start_time": "2022-10-28T14:47:19.785Z"
   },
   {
    "duration": 9,
    "start_time": "2022-10-28T14:47:30.048Z"
   },
   {
    "duration": 177,
    "start_time": "2022-10-28T14:47:41.281Z"
   },
   {
    "duration": 212,
    "start_time": "2022-10-28T14:48:05.604Z"
   },
   {
    "duration": 1027,
    "start_time": "2022-10-28T14:55:34.350Z"
   },
   {
    "duration": 1042,
    "start_time": "2022-10-28T14:57:35.469Z"
   },
   {
    "duration": 200,
    "start_time": "2022-10-28T15:03:41.570Z"
   },
   {
    "duration": 171,
    "start_time": "2022-10-28T15:04:00.973Z"
   },
   {
    "duration": 173,
    "start_time": "2022-10-28T15:04:33.013Z"
   },
   {
    "duration": 9,
    "start_time": "2022-10-28T15:05:28.976Z"
   },
   {
    "duration": 10,
    "start_time": "2022-10-28T15:06:20.240Z"
   },
   {
    "duration": 20,
    "start_time": "2022-10-28T15:07:47.569Z"
   },
   {
    "duration": 8,
    "start_time": "2022-10-28T15:10:17.066Z"
   },
   {
    "duration": 19,
    "start_time": "2022-10-28T15:10:54.963Z"
   },
   {
    "duration": 47,
    "start_time": "2022-10-28T15:11:26.739Z"
   },
   {
    "duration": 12,
    "start_time": "2022-10-28T15:12:14.925Z"
   },
   {
    "duration": 63,
    "start_time": "2022-10-28T15:12:26.495Z"
   },
   {
    "duration": 5,
    "start_time": "2022-10-28T15:12:45.355Z"
   },
   {
    "duration": 264,
    "start_time": "2022-10-28T15:23:28.758Z"
   },
   {
    "duration": 202,
    "start_time": "2022-10-28T15:23:54.642Z"
   },
   {
    "duration": 231,
    "start_time": "2022-10-28T15:24:06.439Z"
   },
   {
    "duration": 747,
    "start_time": "2022-10-28T15:28:24.640Z"
   },
   {
    "duration": 807,
    "start_time": "2022-10-28T15:29:36.687Z"
   },
   {
    "duration": 840,
    "start_time": "2022-10-28T15:29:58.541Z"
   },
   {
    "duration": 770,
    "start_time": "2022-10-28T15:30:10.515Z"
   },
   {
    "duration": 915,
    "start_time": "2022-10-28T15:30:23.906Z"
   },
   {
    "duration": 745,
    "start_time": "2022-10-28T15:30:35.613Z"
   },
   {
    "duration": 1119,
    "start_time": "2022-10-28T15:33:25.930Z"
   },
   {
    "duration": 1158,
    "start_time": "2022-10-28T15:35:53.115Z"
   },
   {
    "duration": 220,
    "start_time": "2022-10-28T16:31:15.958Z"
   },
   {
    "duration": 9,
    "start_time": "2022-10-28T16:32:50.667Z"
   },
   {
    "duration": 9,
    "start_time": "2022-10-28T16:33:56.600Z"
   },
   {
    "duration": 20,
    "start_time": "2022-10-28T16:34:03.899Z"
   },
   {
    "duration": 7,
    "start_time": "2022-10-28T16:34:40.346Z"
   },
   {
    "duration": 239,
    "start_time": "2022-10-28T16:45:58.341Z"
   },
   {
    "duration": 8,
    "start_time": "2022-10-28T16:46:58.760Z"
   },
   {
    "duration": 9,
    "start_time": "2022-10-28T16:47:50.178Z"
   },
   {
    "duration": 10,
    "start_time": "2022-10-28T16:47:55.255Z"
   },
   {
    "duration": 5,
    "start_time": "2022-10-28T16:48:45.898Z"
   },
   {
    "duration": 5,
    "start_time": "2022-10-28T16:49:05.788Z"
   },
   {
    "duration": 5,
    "start_time": "2022-10-28T16:49:13.516Z"
   },
   {
    "duration": 6,
    "start_time": "2022-10-28T16:49:21.286Z"
   },
   {
    "duration": 53,
    "start_time": "2022-10-28T16:53:33.681Z"
   },
   {
    "duration": 276,
    "start_time": "2022-10-28T16:55:14.254Z"
   },
   {
    "duration": 227,
    "start_time": "2022-10-28T16:55:32.708Z"
   },
   {
    "duration": 6,
    "start_time": "2022-10-28T16:58:00.778Z"
   },
   {
    "duration": 9,
    "start_time": "2022-10-28T17:10:46.393Z"
   },
   {
    "duration": 263,
    "start_time": "2022-10-28T17:12:47.101Z"
   },
   {
    "duration": 5,
    "start_time": "2022-10-28T17:13:02.346Z"
   },
   {
    "duration": 127,
    "start_time": "2022-10-28T17:13:39.866Z"
   },
   {
    "duration": 0,
    "start_time": "2022-10-28T17:15:15.065Z"
   },
   {
    "duration": 260,
    "start_time": "2022-10-28T17:19:02.191Z"
   },
   {
    "duration": 201,
    "start_time": "2022-10-28T17:19:30.346Z"
   },
   {
    "duration": 149,
    "start_time": "2022-10-28T17:19:39.566Z"
   },
   {
    "duration": 41,
    "start_time": "2022-10-28T17:45:29.464Z"
   },
   {
    "duration": 118,
    "start_time": "2022-10-28T17:45:40.344Z"
   },
   {
    "duration": 113,
    "start_time": "2022-10-28T17:46:17.557Z"
   },
   {
    "duration": 122,
    "start_time": "2022-10-28T17:49:37.689Z"
   },
   {
    "duration": 147,
    "start_time": "2022-10-28T17:50:19.095Z"
   },
   {
    "duration": 118,
    "start_time": "2022-10-28T17:50:36.642Z"
   },
   {
    "duration": 389,
    "start_time": "2022-10-28T17:55:00.710Z"
   },
   {
    "duration": 390,
    "start_time": "2022-10-28T17:55:56.676Z"
   },
   {
    "duration": 382,
    "start_time": "2022-10-28T17:56:01.333Z"
   },
   {
    "duration": 406,
    "start_time": "2022-10-28T17:56:06.167Z"
   },
   {
    "duration": 373,
    "start_time": "2022-10-28T17:57:31.988Z"
   },
   {
    "duration": 392,
    "start_time": "2022-10-28T17:58:39.581Z"
   },
   {
    "duration": 368,
    "start_time": "2022-10-28T17:58:51.843Z"
   },
   {
    "duration": 385,
    "start_time": "2022-10-28T17:59:17.345Z"
   },
   {
    "duration": 419,
    "start_time": "2022-10-28T18:00:27.692Z"
   },
   {
    "duration": 21,
    "start_time": "2022-10-28T18:00:39.895Z"
   },
   {
    "duration": 21,
    "start_time": "2022-10-28T18:00:46.837Z"
   },
   {
    "duration": 426,
    "start_time": "2022-10-28T18:00:51.444Z"
   },
   {
    "duration": 507,
    "start_time": "2022-10-28T18:01:00.573Z"
   },
   {
    "duration": 22,
    "start_time": "2022-10-28T18:01:06.886Z"
   },
   {
    "duration": 380,
    "start_time": "2022-10-28T18:01:20.239Z"
   },
   {
    "duration": 111,
    "start_time": "2022-10-28T18:10:05.476Z"
   },
   {
    "duration": 123,
    "start_time": "2022-10-28T18:11:32.811Z"
   },
   {
    "duration": 119,
    "start_time": "2022-10-28T18:11:40.092Z"
   },
   {
    "duration": 101,
    "start_time": "2022-10-28T18:11:43.536Z"
   },
   {
    "duration": 10,
    "start_time": "2022-10-28T18:25:55.643Z"
   },
   {
    "duration": 12,
    "start_time": "2022-10-28T18:26:10.251Z"
   },
   {
    "duration": 37,
    "start_time": "2022-10-28T18:26:22.594Z"
   },
   {
    "duration": 2175,
    "start_time": "2022-10-28T18:29:35.346Z"
   },
   {
    "duration": 98,
    "start_time": "2022-10-28T18:29:37.524Z"
   },
   {
    "duration": 21,
    "start_time": "2022-10-28T18:29:37.624Z"
   },
   {
    "duration": 16,
    "start_time": "2022-10-28T18:29:37.646Z"
   },
   {
    "duration": 83,
    "start_time": "2022-10-28T18:29:37.663Z"
   },
   {
    "duration": 4,
    "start_time": "2022-10-28T18:29:37.748Z"
   },
   {
    "duration": 6,
    "start_time": "2022-10-28T18:29:37.753Z"
   },
   {
    "duration": 23,
    "start_time": "2022-10-28T18:29:37.761Z"
   },
   {
    "duration": 27,
    "start_time": "2022-10-28T18:29:37.786Z"
   },
   {
    "duration": 8,
    "start_time": "2022-10-28T18:29:37.815Z"
   },
   {
    "duration": 9,
    "start_time": "2022-10-28T18:29:37.824Z"
   },
   {
    "duration": 21,
    "start_time": "2022-10-28T18:29:37.834Z"
   },
   {
    "duration": 6,
    "start_time": "2022-10-28T18:29:37.856Z"
   },
   {
    "duration": 19,
    "start_time": "2022-10-28T18:29:37.864Z"
   },
   {
    "duration": 26,
    "start_time": "2022-10-28T18:29:37.885Z"
   },
   {
    "duration": 9,
    "start_time": "2022-10-28T18:29:37.913Z"
   },
   {
    "duration": 30,
    "start_time": "2022-10-28T18:29:37.923Z"
   },
   {
    "duration": 9,
    "start_time": "2022-10-28T18:29:37.954Z"
   },
   {
    "duration": 4,
    "start_time": "2022-10-28T18:29:37.964Z"
   },
   {
    "duration": 4,
    "start_time": "2022-10-28T18:29:37.969Z"
   },
   {
    "duration": 38,
    "start_time": "2022-10-28T18:29:37.975Z"
   },
   {
    "duration": 4,
    "start_time": "2022-10-28T18:29:38.015Z"
   },
   {
    "duration": 14,
    "start_time": "2022-10-28T18:29:38.020Z"
   },
   {
    "duration": 31,
    "start_time": "2022-10-28T18:29:38.036Z"
   },
   {
    "duration": 5,
    "start_time": "2022-10-28T18:29:38.068Z"
   },
   {
    "duration": 38,
    "start_time": "2022-10-28T18:29:38.075Z"
   },
   {
    "duration": 12,
    "start_time": "2022-10-28T18:29:38.115Z"
   },
   {
    "duration": 6,
    "start_time": "2022-10-28T18:29:38.131Z"
   },
   {
    "duration": 4,
    "start_time": "2022-10-28T18:29:38.139Z"
   },
   {
    "duration": 8,
    "start_time": "2022-10-28T18:29:38.145Z"
   },
   {
    "duration": 8,
    "start_time": "2022-10-28T18:29:38.154Z"
   },
   {
    "duration": 4,
    "start_time": "2022-10-28T18:29:38.164Z"
   },
   {
    "duration": 4,
    "start_time": "2022-10-28T18:29:38.170Z"
   },
   {
    "duration": 37,
    "start_time": "2022-10-28T18:29:38.175Z"
   },
   {
    "duration": 8,
    "start_time": "2022-10-28T18:29:38.214Z"
   },
   {
    "duration": 11,
    "start_time": "2022-10-28T18:29:38.223Z"
   },
   {
    "duration": 12,
    "start_time": "2022-10-28T18:29:38.236Z"
   },
   {
    "duration": 12,
    "start_time": "2022-10-28T18:29:38.249Z"
   },
   {
    "duration": 7,
    "start_time": "2022-10-28T18:29:38.263Z"
   },
   {
    "duration": 5,
    "start_time": "2022-10-28T18:29:38.271Z"
   },
   {
    "duration": 37,
    "start_time": "2022-10-28T18:29:38.277Z"
   },
   {
    "duration": 4,
    "start_time": "2022-10-28T18:29:38.316Z"
   },
   {
    "duration": 8,
    "start_time": "2022-10-28T18:29:38.322Z"
   },
   {
    "duration": 7,
    "start_time": "2022-10-28T18:29:38.332Z"
   },
   {
    "duration": 9,
    "start_time": "2022-10-28T18:29:38.341Z"
   },
   {
    "duration": 9,
    "start_time": "2022-10-28T18:29:38.352Z"
   },
   {
    "duration": 50,
    "start_time": "2022-10-28T18:29:38.363Z"
   },
   {
    "duration": 4,
    "start_time": "2022-10-28T18:29:38.414Z"
   },
   {
    "duration": 8,
    "start_time": "2022-10-28T18:29:38.420Z"
   },
   {
    "duration": 8,
    "start_time": "2022-10-28T18:29:38.430Z"
   },
   {
    "duration": 5,
    "start_time": "2022-10-28T18:29:38.439Z"
   },
   {
    "duration": 2738,
    "start_time": "2022-10-28T18:29:38.446Z"
   },
   {
    "duration": 26,
    "start_time": "2022-10-28T18:29:41.186Z"
   },
   {
    "duration": 134,
    "start_time": "2022-10-28T18:29:51.182Z"
   },
   {
    "duration": 44,
    "start_time": "2022-10-28T18:29:56.184Z"
   },
   {
    "duration": 122,
    "start_time": "2022-10-28T18:32:20.366Z"
   },
   {
    "duration": 4291,
    "start_time": "2022-10-29T14:59:55.018Z"
   },
   {
    "duration": 139,
    "start_time": "2022-10-29T14:59:59.311Z"
   },
   {
    "duration": 25,
    "start_time": "2022-10-29T14:59:59.451Z"
   },
   {
    "duration": 13,
    "start_time": "2022-10-29T14:59:59.478Z"
   },
   {
    "duration": 62,
    "start_time": "2022-10-29T14:59:59.493Z"
   },
   {
    "duration": 4,
    "start_time": "2022-10-29T14:59:59.557Z"
   },
   {
    "duration": 7,
    "start_time": "2022-10-29T14:59:59.562Z"
   },
   {
    "duration": 37,
    "start_time": "2022-10-29T14:59:59.571Z"
   },
   {
    "duration": 9,
    "start_time": "2022-10-29T14:59:59.609Z"
   },
   {
    "duration": 8,
    "start_time": "2022-10-29T14:59:59.620Z"
   },
   {
    "duration": 29,
    "start_time": "2022-10-29T14:59:59.629Z"
   },
   {
    "duration": 29,
    "start_time": "2022-10-29T14:59:59.660Z"
   },
   {
    "duration": 4,
    "start_time": "2022-10-29T14:59:59.690Z"
   },
   {
    "duration": 30,
    "start_time": "2022-10-29T14:59:59.695Z"
   },
   {
    "duration": 9,
    "start_time": "2022-10-29T14:59:59.726Z"
   },
   {
    "duration": 5,
    "start_time": "2022-10-29T14:59:59.736Z"
   },
   {
    "duration": 40,
    "start_time": "2022-10-29T14:59:59.743Z"
   },
   {
    "duration": 20,
    "start_time": "2022-10-29T14:59:59.785Z"
   },
   {
    "duration": 14,
    "start_time": "2022-10-29T14:59:59.807Z"
   },
   {
    "duration": 15,
    "start_time": "2022-10-29T14:59:59.822Z"
   },
   {
    "duration": 20,
    "start_time": "2022-10-29T14:59:59.839Z"
   },
   {
    "duration": 16,
    "start_time": "2022-10-29T14:59:59.861Z"
   },
   {
    "duration": 14,
    "start_time": "2022-10-29T14:59:59.879Z"
   },
   {
    "duration": 37,
    "start_time": "2022-10-29T14:59:59.895Z"
   },
   {
    "duration": 4,
    "start_time": "2022-10-29T14:59:59.933Z"
   },
   {
    "duration": 22,
    "start_time": "2022-10-29T14:59:59.938Z"
   },
   {
    "duration": 20,
    "start_time": "2022-10-29T14:59:59.962Z"
   },
   {
    "duration": 7,
    "start_time": "2022-10-29T14:59:59.987Z"
   },
   {
    "duration": 17,
    "start_time": "2022-10-29T14:59:59.995Z"
   },
   {
    "duration": 18,
    "start_time": "2022-10-29T15:00:00.014Z"
   },
   {
    "duration": 13,
    "start_time": "2022-10-29T15:00:00.034Z"
   },
   {
    "duration": 21,
    "start_time": "2022-10-29T15:00:00.049Z"
   },
   {
    "duration": 24,
    "start_time": "2022-10-29T15:00:00.072Z"
   },
   {
    "duration": 22,
    "start_time": "2022-10-29T15:00:00.098Z"
   },
   {
    "duration": 26,
    "start_time": "2022-10-29T15:00:00.121Z"
   },
   {
    "duration": 27,
    "start_time": "2022-10-29T15:00:00.148Z"
   },
   {
    "duration": 54,
    "start_time": "2022-10-29T15:00:00.176Z"
   },
   {
    "duration": 36,
    "start_time": "2022-10-29T15:00:00.232Z"
   },
   {
    "duration": 20,
    "start_time": "2022-10-29T15:00:00.269Z"
   },
   {
    "duration": 21,
    "start_time": "2022-10-29T15:00:00.290Z"
   },
   {
    "duration": 43,
    "start_time": "2022-10-29T15:00:00.313Z"
   },
   {
    "duration": 19,
    "start_time": "2022-10-29T15:00:00.358Z"
   },
   {
    "duration": 22,
    "start_time": "2022-10-29T15:00:00.378Z"
   },
   {
    "duration": 22,
    "start_time": "2022-10-29T15:00:00.402Z"
   },
   {
    "duration": 29,
    "start_time": "2022-10-29T15:00:00.426Z"
   },
   {
    "duration": 18,
    "start_time": "2022-10-29T15:00:00.457Z"
   },
   {
    "duration": 23,
    "start_time": "2022-10-29T15:00:00.477Z"
   },
   {
    "duration": 16,
    "start_time": "2022-10-29T15:00:00.502Z"
   },
   {
    "duration": 27,
    "start_time": "2022-10-29T15:00:00.519Z"
   },
   {
    "duration": 40,
    "start_time": "2022-10-29T15:00:00.548Z"
   },
   {
    "duration": 22,
    "start_time": "2022-10-29T15:00:00.590Z"
   },
   {
    "duration": 2927,
    "start_time": "2022-10-29T15:00:00.614Z"
   },
   {
    "duration": 9,
    "start_time": "2022-10-29T15:00:03.543Z"
   },
   {
    "duration": 152,
    "start_time": "2022-10-29T15:00:03.554Z"
   },
   {
    "duration": 127,
    "start_time": "2022-10-29T15:00:03.708Z"
   },
   {
    "duration": 5,
    "start_time": "2022-10-29T15:00:03.837Z"
   },
   {
    "duration": 111,
    "start_time": "2022-10-29T15:00:03.843Z"
   },
   {
    "duration": 114,
    "start_time": "2022-10-29T15:00:03.956Z"
   },
   {
    "duration": 6,
    "start_time": "2022-10-29T15:00:04.072Z"
   },
   {
    "duration": 129,
    "start_time": "2022-10-29T15:00:04.080Z"
   },
   {
    "duration": 126,
    "start_time": "2022-10-29T15:00:04.211Z"
   },
   {
    "duration": 5,
    "start_time": "2022-10-29T15:00:04.338Z"
   },
   {
    "duration": 121,
    "start_time": "2022-10-29T15:00:04.344Z"
   },
   {
    "duration": 115,
    "start_time": "2022-10-29T15:00:04.467Z"
   },
   {
    "duration": 5,
    "start_time": "2022-10-29T15:00:04.583Z"
   },
   {
    "duration": 16,
    "start_time": "2022-10-29T15:00:04.590Z"
   },
   {
    "duration": 19,
    "start_time": "2022-10-29T15:00:04.607Z"
   },
   {
    "duration": 3,
    "start_time": "2022-10-29T15:00:04.628Z"
   },
   {
    "duration": 336,
    "start_time": "2022-10-29T15:00:04.632Z"
   },
   {
    "duration": 19,
    "start_time": "2022-10-29T15:00:04.970Z"
   },
   {
    "duration": 16,
    "start_time": "2022-10-29T15:00:04.990Z"
   },
   {
    "duration": 20,
    "start_time": "2022-10-29T15:00:05.007Z"
   },
   {
    "duration": 136,
    "start_time": "2022-10-29T15:00:05.028Z"
   },
   {
    "duration": 9,
    "start_time": "2022-10-29T15:00:05.165Z"
   },
   {
    "duration": 790,
    "start_time": "2022-10-29T15:00:05.175Z"
   },
   {
    "duration": 144,
    "start_time": "2022-10-29T15:00:05.967Z"
   },
   {
    "duration": 8,
    "start_time": "2022-10-29T15:00:06.113Z"
   },
   {
    "duration": 831,
    "start_time": "2022-10-29T15:00:06.123Z"
   },
   {
    "duration": 148,
    "start_time": "2022-10-29T15:00:06.955Z"
   },
   {
    "duration": 8,
    "start_time": "2022-10-29T15:00:07.105Z"
   },
   {
    "duration": 568,
    "start_time": "2022-10-29T15:00:07.115Z"
   },
   {
    "duration": 287,
    "start_time": "2022-10-29T15:00:07.789Z"
   },
   {
    "duration": 8,
    "start_time": "2022-10-29T15:00:08.078Z"
   },
   {
    "duration": 726,
    "start_time": "2022-10-29T15:00:08.088Z"
   },
   {
    "duration": 229,
    "start_time": "2022-10-29T15:00:08.816Z"
   },
   {
    "duration": 9,
    "start_time": "2022-10-29T15:00:09.046Z"
   },
   {
    "duration": 135,
    "start_time": "2022-10-29T15:00:09.057Z"
   },
   {
    "duration": 14,
    "start_time": "2022-10-29T15:00:09.194Z"
   },
   {
    "duration": 353,
    "start_time": "2022-10-29T15:00:09.210Z"
   },
   {
    "duration": 9,
    "start_time": "2022-10-29T15:00:09.565Z"
   },
   {
    "duration": 147,
    "start_time": "2022-10-29T15:00:09.576Z"
   },
   {
    "duration": 12,
    "start_time": "2022-10-29T15:00:09.725Z"
   },
   {
    "duration": 199,
    "start_time": "2022-10-29T15:00:09.738Z"
   },
   {
    "duration": 9,
    "start_time": "2022-10-29T15:00:09.938Z"
   },
   {
    "duration": 779,
    "start_time": "2022-10-29T15:00:09.948Z"
   },
   {
    "duration": 6,
    "start_time": "2022-10-29T15:00:10.728Z"
   },
   {
    "duration": 9,
    "start_time": "2022-10-29T15:00:10.735Z"
   },
   {
    "duration": 201,
    "start_time": "2022-10-29T15:00:10.745Z"
   },
   {
    "duration": 8,
    "start_time": "2022-10-29T15:00:10.948Z"
   },
   {
    "duration": 833,
    "start_time": "2022-10-29T15:00:10.957Z"
   },
   {
    "duration": 29,
    "start_time": "2022-10-29T15:00:11.791Z"
   },
   {
    "duration": 225,
    "start_time": "2022-10-29T15:00:11.822Z"
   },
   {
    "duration": 8,
    "start_time": "2022-10-29T15:00:12.049Z"
   },
   {
    "duration": 1061,
    "start_time": "2022-10-29T15:00:12.059Z"
   },
   {
    "duration": 242,
    "start_time": "2022-10-29T15:00:13.122Z"
   },
   {
    "duration": 9,
    "start_time": "2022-10-29T15:00:13.365Z"
   },
   {
    "duration": 30,
    "start_time": "2022-10-29T15:00:13.376Z"
   },
   {
    "duration": 1134,
    "start_time": "2022-10-29T15:00:13.408Z"
   },
   {
    "duration": 233,
    "start_time": "2022-10-29T15:00:14.544Z"
   },
   {
    "duration": 10,
    "start_time": "2022-10-29T15:00:14.779Z"
   },
   {
    "duration": 33,
    "start_time": "2022-10-29T15:00:14.791Z"
   },
   {
    "duration": 7,
    "start_time": "2022-10-29T15:00:14.826Z"
   },
   {
    "duration": 279,
    "start_time": "2022-10-29T15:00:14.834Z"
   },
   {
    "duration": 6,
    "start_time": "2022-10-29T15:00:15.115Z"
   },
   {
    "duration": 235,
    "start_time": "2022-10-29T15:00:15.123Z"
   },
   {
    "duration": 6,
    "start_time": "2022-10-29T15:00:15.360Z"
   },
   {
    "duration": 10,
    "start_time": "2022-10-29T15:00:15.368Z"
   },
   {
    "duration": 193,
    "start_time": "2022-10-29T15:00:15.380Z"
   },
   {
    "duration": 7,
    "start_time": "2022-10-29T15:00:15.575Z"
   },
   {
    "duration": 163,
    "start_time": "2022-10-29T15:00:15.583Z"
   },
   {
    "duration": 5,
    "start_time": "2022-10-29T15:00:15.748Z"
   },
   {
    "duration": 6,
    "start_time": "2022-10-29T15:00:15.755Z"
   },
   {
    "duration": 325,
    "start_time": "2022-10-29T15:00:15.763Z"
   },
   {
    "duration": 16,
    "start_time": "2022-10-29T15:00:16.090Z"
   },
   {
    "duration": 210,
    "start_time": "2022-10-29T15:00:16.108Z"
   },
   {
    "duration": 8,
    "start_time": "2022-10-29T15:00:16.320Z"
   },
   {
    "duration": 7,
    "start_time": "2022-10-29T15:00:16.330Z"
   },
   {
    "duration": 6,
    "start_time": "2022-10-29T15:00:16.339Z"
   },
   {
    "duration": 7,
    "start_time": "2022-10-29T15:00:16.346Z"
   },
   {
    "duration": 5,
    "start_time": "2022-10-29T15:00:16.355Z"
   },
   {
    "duration": 47,
    "start_time": "2022-10-29T15:00:16.361Z"
   },
   {
    "duration": 881,
    "start_time": "2022-10-29T15:00:16.410Z"
   },
   {
    "duration": 32,
    "start_time": "2022-10-29T15:00:17.293Z"
   },
   {
    "duration": 12,
    "start_time": "2022-10-29T15:00:17.327Z"
   },
   {
    "duration": 11,
    "start_time": "2022-10-29T15:00:17.341Z"
   },
   {
    "duration": 222,
    "start_time": "2022-10-29T15:00:17.354Z"
   },
   {
    "duration": 7,
    "start_time": "2022-10-29T15:00:17.577Z"
   },
   {
    "duration": 258,
    "start_time": "2022-10-29T15:00:17.585Z"
   },
   {
    "duration": 392,
    "start_time": "2022-10-29T15:00:17.845Z"
   },
   {
    "duration": 10,
    "start_time": "2022-10-29T15:00:18.239Z"
   },
   {
    "duration": 11,
    "start_time": "2022-10-29T15:00:18.250Z"
   },
   {
    "duration": 454,
    "start_time": "2022-10-29T15:00:18.262Z"
   },
   {
    "duration": 8,
    "start_time": "2022-10-29T15:00:18.717Z"
   },
   {
    "duration": 7,
    "start_time": "2022-10-29T15:00:18.726Z"
   },
   {
    "duration": 50,
    "start_time": "2022-10-30T10:12:24.272Z"
   },
   {
    "duration": 6,
    "start_time": "2022-10-30T10:12:32.982Z"
   },
   {
    "duration": 3994,
    "start_time": "2022-10-30T10:12:50.772Z"
   },
   {
    "duration": 314,
    "start_time": "2022-10-30T10:12:54.769Z"
   },
   {
    "duration": 26,
    "start_time": "2022-10-30T10:12:55.085Z"
   },
   {
    "duration": 17,
    "start_time": "2022-10-30T10:12:55.114Z"
   },
   {
    "duration": 73,
    "start_time": "2022-10-30T10:12:55.133Z"
   },
   {
    "duration": 5,
    "start_time": "2022-10-30T10:12:55.208Z"
   },
   {
    "duration": 12,
    "start_time": "2022-10-30T10:12:55.215Z"
   },
   {
    "duration": 45,
    "start_time": "2022-10-30T10:12:55.229Z"
   },
   {
    "duration": 10,
    "start_time": "2022-10-30T10:12:55.276Z"
   },
   {
    "duration": 10,
    "start_time": "2022-10-30T10:12:55.289Z"
   },
   {
    "duration": 12,
    "start_time": "2022-10-30T10:12:55.301Z"
   },
   {
    "duration": 46,
    "start_time": "2022-10-30T10:12:55.315Z"
   },
   {
    "duration": 5,
    "start_time": "2022-10-30T10:12:55.363Z"
   },
   {
    "duration": 33,
    "start_time": "2022-10-30T10:12:55.370Z"
   },
   {
    "duration": 26,
    "start_time": "2022-10-30T10:12:55.406Z"
   },
   {
    "duration": 7,
    "start_time": "2022-10-30T10:12:55.434Z"
   },
   {
    "duration": 47,
    "start_time": "2022-10-30T10:12:55.442Z"
   },
   {
    "duration": 10,
    "start_time": "2022-10-30T10:12:55.491Z"
   },
   {
    "duration": 19,
    "start_time": "2022-10-30T10:12:55.502Z"
   },
   {
    "duration": 24,
    "start_time": "2022-10-30T10:12:55.523Z"
   },
   {
    "duration": 39,
    "start_time": "2022-10-30T10:12:55.549Z"
   },
   {
    "duration": 17,
    "start_time": "2022-10-30T10:12:55.590Z"
   },
   {
    "duration": 13,
    "start_time": "2022-10-30T10:12:55.608Z"
   },
   {
    "duration": 40,
    "start_time": "2022-10-30T10:12:55.623Z"
   },
   {
    "duration": 5,
    "start_time": "2022-10-30T10:12:55.664Z"
   },
   {
    "duration": 8,
    "start_time": "2022-10-30T10:12:55.670Z"
   },
   {
    "duration": 11,
    "start_time": "2022-10-30T10:12:55.680Z"
   },
   {
    "duration": 6,
    "start_time": "2022-10-30T10:12:55.696Z"
   },
   {
    "duration": 6,
    "start_time": "2022-10-30T10:12:55.703Z"
   },
   {
    "duration": 10,
    "start_time": "2022-10-30T10:12:55.711Z"
   },
   {
    "duration": 5,
    "start_time": "2022-10-30T10:12:55.723Z"
   },
   {
    "duration": 27,
    "start_time": "2022-10-30T10:12:55.730Z"
   },
   {
    "duration": 7,
    "start_time": "2022-10-30T10:12:55.759Z"
   },
   {
    "duration": 13,
    "start_time": "2022-10-30T10:12:55.768Z"
   },
   {
    "duration": 10,
    "start_time": "2022-10-30T10:12:55.783Z"
   },
   {
    "duration": 8,
    "start_time": "2022-10-30T10:12:55.795Z"
   },
   {
    "duration": 13,
    "start_time": "2022-10-30T10:12:55.805Z"
   },
   {
    "duration": 45,
    "start_time": "2022-10-30T10:12:55.819Z"
   },
   {
    "duration": 10,
    "start_time": "2022-10-30T10:12:55.866Z"
   },
   {
    "duration": 4,
    "start_time": "2022-10-30T10:12:55.877Z"
   },
   {
    "duration": 13,
    "start_time": "2022-10-30T10:12:55.883Z"
   },
   {
    "duration": 7,
    "start_time": "2022-10-30T10:12:55.898Z"
   },
   {
    "duration": 10,
    "start_time": "2022-10-30T10:12:55.906Z"
   },
   {
    "duration": 8,
    "start_time": "2022-10-30T10:12:55.917Z"
   },
   {
    "duration": 36,
    "start_time": "2022-10-30T10:12:55.927Z"
   },
   {
    "duration": 9,
    "start_time": "2022-10-30T10:12:55.964Z"
   },
   {
    "duration": 11,
    "start_time": "2022-10-30T10:12:55.974Z"
   },
   {
    "duration": 3,
    "start_time": "2022-10-30T10:12:55.987Z"
   },
   {
    "duration": 9,
    "start_time": "2022-10-30T10:12:55.991Z"
   },
   {
    "duration": 13,
    "start_time": "2022-10-30T10:12:56.002Z"
   },
   {
    "duration": 5,
    "start_time": "2022-10-30T10:12:56.017Z"
   },
   {
    "duration": 2744,
    "start_time": "2022-10-30T10:12:56.023Z"
   },
   {
    "duration": 10,
    "start_time": "2022-10-30T10:12:58.770Z"
   },
   {
    "duration": 13,
    "start_time": "2022-10-30T10:13:05.512Z"
   },
   {
    "duration": 8,
    "start_time": "2022-10-30T10:13:26.725Z"
   },
   {
    "duration": 7,
    "start_time": "2022-10-30T10:13:35.377Z"
   },
   {
    "duration": 5,
    "start_time": "2022-10-30T10:14:56.169Z"
   },
   {
    "duration": 6,
    "start_time": "2022-10-30T10:15:09.929Z"
   },
   {
    "duration": 143,
    "start_time": "2022-10-30T10:15:48.982Z"
   },
   {
    "duration": 9,
    "start_time": "2022-10-30T10:16:10.972Z"
   },
   {
    "duration": 7,
    "start_time": "2022-10-30T10:16:19.819Z"
   },
   {
    "duration": 8,
    "start_time": "2022-10-30T10:17:33.445Z"
   },
   {
    "duration": 153,
    "start_time": "2022-10-30T10:22:06.149Z"
   },
   {
    "duration": 111,
    "start_time": "2022-10-30T10:22:16.771Z"
   },
   {
    "duration": 225,
    "start_time": "2022-10-30T10:23:15.685Z"
   },
   {
    "duration": 9,
    "start_time": "2022-10-30T10:23:42.479Z"
   },
   {
    "duration": 6,
    "start_time": "2022-10-30T10:23:59.181Z"
   },
   {
    "duration": 4,
    "start_time": "2022-10-30T10:29:32.623Z"
   },
   {
    "duration": 10,
    "start_time": "2022-10-30T10:30:21.113Z"
   },
   {
    "duration": 5,
    "start_time": "2022-10-30T10:30:38.248Z"
   },
   {
    "duration": 8,
    "start_time": "2022-10-30T10:31:26.618Z"
   },
   {
    "duration": 7,
    "start_time": "2022-10-30T10:31:36.090Z"
   },
   {
    "duration": 3,
    "start_time": "2022-10-30T10:31:39.819Z"
   },
   {
    "duration": 169,
    "start_time": "2022-10-30T10:32:49.071Z"
   },
   {
    "duration": 7,
    "start_time": "2022-10-30T10:32:50.832Z"
   },
   {
    "duration": 177,
    "start_time": "2022-10-30T10:35:27.879Z"
   },
   {
    "duration": 171,
    "start_time": "2022-10-30T10:35:41.824Z"
   },
   {
    "duration": 6,
    "start_time": "2022-10-30T10:35:42.709Z"
   },
   {
    "duration": 198,
    "start_time": "2022-10-30T10:35:45.229Z"
   },
   {
    "duration": 119,
    "start_time": "2022-10-30T10:35:46.389Z"
   },
   {
    "duration": 239,
    "start_time": "2022-10-30T10:35:55.427Z"
   },
   {
    "duration": 7,
    "start_time": "2022-10-30T10:35:57.238Z"
   },
   {
    "duration": 5,
    "start_time": "2022-10-30T10:35:58.523Z"
   },
   {
    "duration": 12,
    "start_time": "2022-10-30T10:35:59.142Z"
   },
   {
    "duration": 167,
    "start_time": "2022-10-30T10:36:00.692Z"
   },
   {
    "duration": 8,
    "start_time": "2022-10-30T10:36:01.482Z"
   },
   {
    "duration": 112,
    "start_time": "2022-10-30T10:36:04.160Z"
   },
   {
    "duration": 115,
    "start_time": "2022-10-30T10:36:04.984Z"
   },
   {
    "duration": 107,
    "start_time": "2022-10-30T10:39:16.674Z"
   },
   {
    "duration": 125,
    "start_time": "2022-10-30T10:39:49.419Z"
   },
   {
    "duration": 123,
    "start_time": "2022-10-30T10:40:03.714Z"
   },
   {
    "duration": 9,
    "start_time": "2022-10-30T10:40:59.957Z"
   },
   {
    "duration": 10,
    "start_time": "2022-10-30T10:41:10.326Z"
   },
   {
    "duration": 12,
    "start_time": "2022-10-30T10:44:30.106Z"
   },
   {
    "duration": 9,
    "start_time": "2022-10-30T10:45:56.052Z"
   },
   {
    "duration": 5,
    "start_time": "2022-10-30T10:46:35.846Z"
   },
   {
    "duration": 116,
    "start_time": "2022-10-30T10:46:49.155Z"
   },
   {
    "duration": 8,
    "start_time": "2022-10-30T10:46:50.580Z"
   },
   {
    "duration": 6,
    "start_time": "2022-10-30T10:46:52.215Z"
   },
   {
    "duration": 4,
    "start_time": "2022-10-30T10:46:52.796Z"
   },
   {
    "duration": 141,
    "start_time": "2022-10-30T10:47:05.267Z"
   },
   {
    "duration": 7,
    "start_time": "2022-10-30T10:47:05.900Z"
   },
   {
    "duration": 115,
    "start_time": "2022-10-30T10:47:07.664Z"
   },
   {
    "duration": 262,
    "start_time": "2022-10-30T10:47:08.346Z"
   },
   {
    "duration": 164,
    "start_time": "2022-10-30T10:47:08.931Z"
   },
   {
    "duration": 10,
    "start_time": "2022-10-30T10:47:09.602Z"
   },
   {
    "duration": 8,
    "start_time": "2022-10-30T10:47:12.057Z"
   },
   {
    "duration": 5,
    "start_time": "2022-10-30T10:47:12.694Z"
   },
   {
    "duration": 114,
    "start_time": "2022-10-30T10:47:16.553Z"
   },
   {
    "duration": 6,
    "start_time": "2022-10-30T10:47:17.539Z"
   },
   {
    "duration": 113,
    "start_time": "2022-10-30T10:47:19.497Z"
   },
   {
    "duration": 8,
    "start_time": "2022-10-30T10:48:49.039Z"
   },
   {
    "duration": 6,
    "start_time": "2022-10-30T10:48:50.278Z"
   },
   {
    "duration": 2079,
    "start_time": "2022-10-30T10:49:07.514Z"
   },
   {
    "duration": 111,
    "start_time": "2022-10-30T10:49:09.597Z"
   },
   {
    "duration": 23,
    "start_time": "2022-10-30T10:49:09.709Z"
   },
   {
    "duration": 25,
    "start_time": "2022-10-30T10:49:09.735Z"
   },
   {
    "duration": 97,
    "start_time": "2022-10-30T10:49:09.762Z"
   },
   {
    "duration": 5,
    "start_time": "2022-10-30T10:49:09.861Z"
   },
   {
    "duration": 14,
    "start_time": "2022-10-30T10:49:09.868Z"
   },
   {
    "duration": 26,
    "start_time": "2022-10-30T10:49:09.884Z"
   },
   {
    "duration": 11,
    "start_time": "2022-10-30T10:49:09.912Z"
   },
   {
    "duration": 31,
    "start_time": "2022-10-30T10:49:09.926Z"
   },
   {
    "duration": 14,
    "start_time": "2022-10-30T10:49:09.959Z"
   },
   {
    "duration": 23,
    "start_time": "2022-10-30T10:49:09.974Z"
   },
   {
    "duration": 4,
    "start_time": "2022-10-30T10:49:09.999Z"
   },
   {
    "duration": 27,
    "start_time": "2022-10-30T10:49:10.005Z"
   },
   {
    "duration": 9,
    "start_time": "2022-10-30T10:49:10.055Z"
   },
   {
    "duration": 5,
    "start_time": "2022-10-30T10:49:10.066Z"
   },
   {
    "duration": 30,
    "start_time": "2022-10-30T10:49:10.073Z"
   },
   {
    "duration": 9,
    "start_time": "2022-10-30T10:49:10.105Z"
   },
   {
    "duration": 6,
    "start_time": "2022-10-30T10:49:10.115Z"
   },
   {
    "duration": 31,
    "start_time": "2022-10-30T10:49:10.123Z"
   },
   {
    "duration": 10,
    "start_time": "2022-10-30T10:49:10.156Z"
   },
   {
    "duration": 5,
    "start_time": "2022-10-30T10:49:10.168Z"
   },
   {
    "duration": 12,
    "start_time": "2022-10-30T10:49:10.175Z"
   },
   {
    "duration": 39,
    "start_time": "2022-10-30T10:49:10.189Z"
   },
   {
    "duration": 5,
    "start_time": "2022-10-30T10:49:10.255Z"
   },
   {
    "duration": 7,
    "start_time": "2022-10-30T10:49:10.262Z"
   },
   {
    "duration": 10,
    "start_time": "2022-10-30T10:49:10.271Z"
   },
   {
    "duration": 8,
    "start_time": "2022-10-30T10:49:10.285Z"
   },
   {
    "duration": 5,
    "start_time": "2022-10-30T10:49:10.295Z"
   },
   {
    "duration": 7,
    "start_time": "2022-10-30T10:49:10.301Z"
   },
   {
    "duration": 10,
    "start_time": "2022-10-30T10:49:10.309Z"
   },
   {
    "duration": 10,
    "start_time": "2022-10-30T10:49:10.320Z"
   },
   {
    "duration": 5,
    "start_time": "2022-10-30T10:49:10.355Z"
   },
   {
    "duration": 11,
    "start_time": "2022-10-30T10:49:10.361Z"
   },
   {
    "duration": 11,
    "start_time": "2022-10-30T10:49:10.374Z"
   },
   {
    "duration": 10,
    "start_time": "2022-10-30T10:49:10.387Z"
   },
   {
    "duration": 16,
    "start_time": "2022-10-30T10:49:10.399Z"
   },
   {
    "duration": 41,
    "start_time": "2022-10-30T10:49:10.417Z"
   },
   {
    "duration": 9,
    "start_time": "2022-10-30T10:49:10.460Z"
   },
   {
    "duration": 8,
    "start_time": "2022-10-30T10:49:10.470Z"
   },
   {
    "duration": 14,
    "start_time": "2022-10-30T10:49:10.480Z"
   },
   {
    "duration": 6,
    "start_time": "2022-10-30T10:49:10.496Z"
   },
   {
    "duration": 17,
    "start_time": "2022-10-30T10:49:10.504Z"
   },
   {
    "duration": 32,
    "start_time": "2022-10-30T10:49:10.524Z"
   },
   {
    "duration": 13,
    "start_time": "2022-10-30T10:49:10.558Z"
   },
   {
    "duration": 15,
    "start_time": "2022-10-30T10:49:10.573Z"
   },
   {
    "duration": 15,
    "start_time": "2022-10-30T10:49:10.591Z"
   },
   {
    "duration": 5,
    "start_time": "2022-10-30T10:49:10.608Z"
   },
   {
    "duration": 44,
    "start_time": "2022-10-30T10:49:10.615Z"
   },
   {
    "duration": 16,
    "start_time": "2022-10-30T10:49:10.661Z"
   },
   {
    "duration": 6,
    "start_time": "2022-10-30T10:49:10.680Z"
   },
   {
    "duration": 3140,
    "start_time": "2022-10-30T10:49:10.688Z"
   },
   {
    "duration": 28,
    "start_time": "2022-10-30T10:49:13.830Z"
   },
   {
    "duration": 274,
    "start_time": "2022-10-30T10:49:13.860Z"
   },
   {
    "duration": 19,
    "start_time": "2022-10-30T10:49:14.136Z"
   },
   {
    "duration": 5,
    "start_time": "2022-10-30T10:49:14.157Z"
   },
   {
    "duration": 11,
    "start_time": "2022-10-30T10:49:14.164Z"
   },
   {
    "duration": 142,
    "start_time": "2022-10-30T10:49:14.177Z"
   },
   {
    "duration": 6,
    "start_time": "2022-10-30T10:49:14.321Z"
   },
   {
    "duration": 128,
    "start_time": "2022-10-30T10:49:14.328Z"
   },
   {
    "duration": 112,
    "start_time": "2022-10-30T10:49:14.457Z"
   },
   {
    "duration": 123,
    "start_time": "2022-10-30T10:49:14.571Z"
   },
   {
    "duration": 9,
    "start_time": "2022-10-30T10:49:14.695Z"
   },
   {
    "duration": 9,
    "start_time": "2022-10-30T10:49:14.706Z"
   },
   {
    "duration": 11,
    "start_time": "2022-10-30T10:49:18.463Z"
   },
   {
    "duration": 6,
    "start_time": "2022-10-30T10:49:19.246Z"
   },
   {
    "duration": 119,
    "start_time": "2022-10-30T10:49:27.538Z"
   },
   {
    "duration": 6,
    "start_time": "2022-10-30T10:49:36.714Z"
   },
   {
    "duration": 113,
    "start_time": "2022-10-30T10:49:44.273Z"
   },
   {
    "duration": 120,
    "start_time": "2022-10-30T10:49:57.166Z"
   },
   {
    "duration": 6,
    "start_time": "2022-10-30T10:50:04.476Z"
   },
   {
    "duration": 241,
    "start_time": "2022-10-30T10:51:18.821Z"
   },
   {
    "duration": 49,
    "start_time": "2022-10-30T10:52:48.195Z"
   },
   {
    "duration": 109,
    "start_time": "2022-10-30T10:55:38.710Z"
   },
   {
    "duration": 106,
    "start_time": "2022-10-30T10:55:45.172Z"
   },
   {
    "duration": 114,
    "start_time": "2022-10-30T10:55:53.926Z"
   },
   {
    "duration": 103,
    "start_time": "2022-10-30T10:56:00.169Z"
   },
   {
    "duration": 42,
    "start_time": "2022-10-30T10:56:03.788Z"
   },
   {
    "duration": 127,
    "start_time": "2022-10-30T10:56:09.176Z"
   },
   {
    "duration": 7,
    "start_time": "2022-10-30T10:56:16.279Z"
   },
   {
    "duration": 104,
    "start_time": "2022-10-30T10:57:38.023Z"
   },
   {
    "duration": 147,
    "start_time": "2022-10-30T10:57:52.646Z"
   },
   {
    "duration": 126,
    "start_time": "2022-10-30T10:57:58.681Z"
   },
   {
    "duration": 116,
    "start_time": "2022-10-30T10:58:05.992Z"
   },
   {
    "duration": 37,
    "start_time": "2022-10-30T10:59:50.364Z"
   },
   {
    "duration": 7,
    "start_time": "2022-10-30T10:59:56.893Z"
   },
   {
    "duration": 9,
    "start_time": "2022-10-30T11:00:11.450Z"
   },
   {
    "duration": 10,
    "start_time": "2022-10-30T11:00:17.678Z"
   },
   {
    "duration": 10,
    "start_time": "2022-10-30T11:02:04.481Z"
   },
   {
    "duration": 12,
    "start_time": "2022-10-30T11:02:05.637Z"
   },
   {
    "duration": 132,
    "start_time": "2022-10-30T11:02:16.636Z"
   },
   {
    "duration": 6,
    "start_time": "2022-10-30T11:02:23.970Z"
   },
   {
    "duration": 127,
    "start_time": "2022-10-30T11:02:52.634Z"
   },
   {
    "duration": 5,
    "start_time": "2022-10-30T11:02:53.273Z"
   },
   {
    "duration": 118,
    "start_time": "2022-10-30T11:02:54.905Z"
   },
   {
    "duration": 112,
    "start_time": "2022-10-30T11:02:56.322Z"
   },
   {
    "duration": 9,
    "start_time": "2022-10-30T11:03:00.815Z"
   },
   {
    "duration": 10,
    "start_time": "2022-10-30T11:03:04.526Z"
   },
   {
    "duration": 132,
    "start_time": "2022-10-30T11:03:10.290Z"
   },
   {
    "duration": 5,
    "start_time": "2022-10-30T11:03:14.296Z"
   },
   {
    "duration": 2042,
    "start_time": "2022-10-30T11:06:22.490Z"
   },
   {
    "duration": 110,
    "start_time": "2022-10-30T11:06:24.535Z"
   },
   {
    "duration": 27,
    "start_time": "2022-10-30T11:06:24.647Z"
   },
   {
    "duration": 17,
    "start_time": "2022-10-30T11:06:24.677Z"
   },
   {
    "duration": 232,
    "start_time": "2022-10-30T11:06:24.696Z"
   },
   {
    "duration": 5,
    "start_time": "2022-10-30T11:06:24.929Z"
   },
   {
    "duration": 26,
    "start_time": "2022-10-30T11:06:24.935Z"
   },
   {
    "duration": 31,
    "start_time": "2022-10-30T11:06:24.963Z"
   },
   {
    "duration": 10,
    "start_time": "2022-10-30T11:06:24.997Z"
   },
   {
    "duration": 9,
    "start_time": "2022-10-30T11:06:25.010Z"
   },
   {
    "duration": 40,
    "start_time": "2022-10-30T11:06:25.021Z"
   },
   {
    "duration": 25,
    "start_time": "2022-10-30T11:06:25.063Z"
   },
   {
    "duration": 5,
    "start_time": "2022-10-30T11:06:25.090Z"
   },
   {
    "duration": 36,
    "start_time": "2022-10-30T11:06:25.097Z"
   },
   {
    "duration": 11,
    "start_time": "2022-10-30T11:06:25.154Z"
   },
   {
    "duration": 19,
    "start_time": "2022-10-30T11:06:25.167Z"
   },
   {
    "duration": 54,
    "start_time": "2022-10-30T11:06:25.187Z"
   },
   {
    "duration": 14,
    "start_time": "2022-10-30T11:06:25.243Z"
   },
   {
    "duration": 12,
    "start_time": "2022-10-30T11:06:25.258Z"
   },
   {
    "duration": 15,
    "start_time": "2022-10-30T11:06:25.272Z"
   },
   {
    "duration": 25,
    "start_time": "2022-10-30T11:06:25.289Z"
   },
   {
    "duration": 5,
    "start_time": "2022-10-30T11:06:25.316Z"
   },
   {
    "duration": 14,
    "start_time": "2022-10-30T11:06:25.323Z"
   },
   {
    "duration": 52,
    "start_time": "2022-10-30T11:06:25.338Z"
   },
   {
    "duration": 6,
    "start_time": "2022-10-30T11:06:25.392Z"
   },
   {
    "duration": 19,
    "start_time": "2022-10-30T11:06:25.400Z"
   },
   {
    "duration": 9,
    "start_time": "2022-10-30T11:06:25.421Z"
   },
   {
    "duration": 11,
    "start_time": "2022-10-30T11:06:25.435Z"
   },
   {
    "duration": 5,
    "start_time": "2022-10-30T11:06:25.455Z"
   },
   {
    "duration": 9,
    "start_time": "2022-10-30T11:06:25.461Z"
   },
   {
    "duration": 10,
    "start_time": "2022-10-30T11:06:25.472Z"
   },
   {
    "duration": 21,
    "start_time": "2022-10-30T11:06:25.484Z"
   },
   {
    "duration": 12,
    "start_time": "2022-10-30T11:06:25.507Z"
   },
   {
    "duration": 16,
    "start_time": "2022-10-30T11:06:25.521Z"
   },
   {
    "duration": 11,
    "start_time": "2022-10-30T11:06:25.539Z"
   },
   {
    "duration": 27,
    "start_time": "2022-10-30T11:06:25.551Z"
   },
   {
    "duration": 15,
    "start_time": "2022-10-30T11:06:25.581Z"
   },
   {
    "duration": 18,
    "start_time": "2022-10-30T11:06:25.598Z"
   },
   {
    "duration": 19,
    "start_time": "2022-10-30T11:06:25.618Z"
   },
   {
    "duration": 9,
    "start_time": "2022-10-30T11:06:25.639Z"
   },
   {
    "duration": 26,
    "start_time": "2022-10-30T11:06:25.649Z"
   },
   {
    "duration": 11,
    "start_time": "2022-10-30T11:06:25.678Z"
   },
   {
    "duration": 10,
    "start_time": "2022-10-30T11:06:25.691Z"
   },
   {
    "duration": 10,
    "start_time": "2022-10-30T11:06:25.704Z"
   },
   {
    "duration": 50,
    "start_time": "2022-10-30T11:06:25.716Z"
   },
   {
    "duration": 13,
    "start_time": "2022-10-30T11:06:25.767Z"
   },
   {
    "duration": 26,
    "start_time": "2022-10-30T11:06:25.783Z"
   },
   {
    "duration": 5,
    "start_time": "2022-10-30T11:06:25.811Z"
   },
   {
    "duration": 37,
    "start_time": "2022-10-30T11:06:25.818Z"
   },
   {
    "duration": 9,
    "start_time": "2022-10-30T11:06:25.857Z"
   },
   {
    "duration": 9,
    "start_time": "2022-10-30T11:06:25.869Z"
   },
   {
    "duration": 3254,
    "start_time": "2022-10-30T11:06:25.880Z"
   },
   {
    "duration": 27,
    "start_time": "2022-10-30T11:06:29.137Z"
   },
   {
    "duration": 290,
    "start_time": "2022-10-30T11:06:29.167Z"
   },
   {
    "duration": 12,
    "start_time": "2022-10-30T11:06:29.459Z"
   },
   {
    "duration": 16,
    "start_time": "2022-10-30T11:06:29.472Z"
   },
   {
    "duration": 16,
    "start_time": "2022-10-30T11:06:29.491Z"
   },
   {
    "duration": 154,
    "start_time": "2022-10-30T11:06:29.509Z"
   },
   {
    "duration": 7,
    "start_time": "2022-10-30T11:06:29.665Z"
   },
   {
    "duration": 126,
    "start_time": "2022-10-30T11:06:29.673Z"
   },
   {
    "duration": 126,
    "start_time": "2022-10-30T11:06:29.801Z"
   },
   {
    "duration": 141,
    "start_time": "2022-10-30T11:06:29.929Z"
   },
   {
    "duration": 9,
    "start_time": "2022-10-30T11:06:30.072Z"
   },
   {
    "duration": 34,
    "start_time": "2022-10-30T11:06:30.082Z"
   },
   {
    "duration": 24,
    "start_time": "2022-10-30T11:06:30.118Z"
   },
   {
    "duration": 156,
    "start_time": "2022-10-30T11:06:30.143Z"
   },
   {
    "duration": 7,
    "start_time": "2022-10-30T11:06:30.302Z"
   },
   {
    "duration": 238,
    "start_time": "2022-10-30T11:06:30.311Z"
   },
   {
    "duration": 201,
    "start_time": "2022-10-30T11:06:30.553Z"
   },
   {
    "duration": 138,
    "start_time": "2022-10-30T11:06:30.756Z"
   },
   {
    "duration": 44,
    "start_time": "2022-10-30T11:06:30.896Z"
   },
   {
    "duration": 148,
    "start_time": "2022-10-30T11:06:30.955Z"
   },
   {
    "duration": 7,
    "start_time": "2022-10-30T11:06:31.105Z"
   },
   {
    "duration": 146,
    "start_time": "2022-10-30T11:06:31.114Z"
   },
   {
    "duration": 134,
    "start_time": "2022-10-30T11:06:31.262Z"
   },
   {
    "duration": 11,
    "start_time": "2022-10-30T11:06:31.398Z"
   },
   {
    "duration": 28,
    "start_time": "2022-10-30T11:06:31.411Z"
   },
   {
    "duration": 235,
    "start_time": "2022-10-30T11:06:31.441Z"
   },
   {
    "duration": 9,
    "start_time": "2022-10-30T11:06:31.678Z"
   },
   {
    "duration": 39,
    "start_time": "2022-10-30T11:06:31.688Z"
   },
   {
    "duration": 43,
    "start_time": "2022-10-30T11:06:31.729Z"
   },
   {
    "duration": 19,
    "start_time": "2022-10-30T11:06:31.780Z"
   },
   {
    "duration": 384,
    "start_time": "2022-10-30T11:06:31.801Z"
   },
   {
    "duration": 22,
    "start_time": "2022-10-30T11:06:32.187Z"
   },
   {
    "duration": 9,
    "start_time": "2022-10-30T11:06:32.211Z"
   },
   {
    "duration": 46,
    "start_time": "2022-10-30T11:06:32.222Z"
   },
   {
    "duration": 190,
    "start_time": "2022-10-30T11:06:32.270Z"
   },
   {
    "duration": 10,
    "start_time": "2022-10-30T11:06:32.462Z"
   },
   {
    "duration": 928,
    "start_time": "2022-10-30T11:06:32.474Z"
   },
   {
    "duration": 194,
    "start_time": "2022-10-30T11:06:33.404Z"
   },
   {
    "duration": 9,
    "start_time": "2022-10-30T11:06:33.600Z"
   },
   {
    "duration": 949,
    "start_time": "2022-10-30T11:06:33.610Z"
   },
   {
    "duration": 166,
    "start_time": "2022-10-30T11:06:34.560Z"
   },
   {
    "duration": 12,
    "start_time": "2022-10-30T11:06:34.728Z"
   },
   {
    "duration": 545,
    "start_time": "2022-10-30T11:06:34.753Z"
   },
   {
    "duration": 299,
    "start_time": "2022-10-30T11:06:35.300Z"
   },
   {
    "duration": 9,
    "start_time": "2022-10-30T11:06:35.602Z"
   },
   {
    "duration": 1004,
    "start_time": "2022-10-30T11:06:35.612Z"
   },
   {
    "duration": 214,
    "start_time": "2022-10-30T11:06:36.618Z"
   },
   {
    "duration": 9,
    "start_time": "2022-10-30T11:06:36.834Z"
   },
   {
    "duration": 122,
    "start_time": "2022-10-30T11:06:36.854Z"
   },
   {
    "duration": 7,
    "start_time": "2022-10-30T11:06:36.978Z"
   },
   {
    "duration": 315,
    "start_time": "2022-10-30T11:06:36.987Z"
   },
   {
    "duration": 10,
    "start_time": "2022-10-30T11:06:37.304Z"
   },
   {
    "duration": 314,
    "start_time": "2022-10-30T11:06:37.316Z"
   },
   {
    "duration": 23,
    "start_time": "2022-10-30T11:06:37.632Z"
   },
   {
    "duration": 214,
    "start_time": "2022-10-30T11:06:37.656Z"
   },
   {
    "duration": 9,
    "start_time": "2022-10-30T11:06:37.872Z"
   },
   {
    "duration": 24,
    "start_time": "2022-10-30T11:06:37.882Z"
   },
   {
    "duration": 818,
    "start_time": "2022-10-30T11:06:37.908Z"
   },
   {
    "duration": 7,
    "start_time": "2022-10-30T11:06:38.727Z"
   },
   {
    "duration": 20,
    "start_time": "2022-10-30T11:06:38.736Z"
   },
   {
    "duration": 211,
    "start_time": "2022-10-30T11:06:38.758Z"
   },
   {
    "duration": 10,
    "start_time": "2022-10-30T11:06:38.971Z"
   },
   {
    "duration": 986,
    "start_time": "2022-10-30T11:06:38.983Z"
   },
   {
    "duration": 21,
    "start_time": "2022-10-30T11:06:39.971Z"
   },
   {
    "duration": 223,
    "start_time": "2022-10-30T11:06:39.994Z"
   },
   {
    "duration": 10,
    "start_time": "2022-10-30T11:06:40.219Z"
   },
   {
    "duration": 1392,
    "start_time": "2022-10-30T11:06:40.231Z"
   },
   {
    "duration": 313,
    "start_time": "2022-10-30T11:06:41.625Z"
   },
   {
    "duration": 17,
    "start_time": "2022-10-30T11:06:41.940Z"
   },
   {
    "duration": 23,
    "start_time": "2022-10-30T11:06:41.958Z"
   },
   {
    "duration": 1290,
    "start_time": "2022-10-30T11:06:41.982Z"
   },
   {
    "duration": 302,
    "start_time": "2022-10-30T11:06:43.274Z"
   },
   {
    "duration": 10,
    "start_time": "2022-10-30T11:06:43.578Z"
   },
   {
    "duration": 23,
    "start_time": "2022-10-30T11:06:43.590Z"
   },
   {
    "duration": 7,
    "start_time": "2022-10-30T11:06:43.615Z"
   },
   {
    "duration": 312,
    "start_time": "2022-10-30T11:06:43.624Z"
   },
   {
    "duration": 17,
    "start_time": "2022-10-30T11:06:43.938Z"
   },
   {
    "duration": 292,
    "start_time": "2022-10-30T11:06:43.957Z"
   },
   {
    "duration": 7,
    "start_time": "2022-10-30T11:06:44.251Z"
   },
   {
    "duration": 15,
    "start_time": "2022-10-30T11:06:44.260Z"
   },
   {
    "duration": 207,
    "start_time": "2022-10-30T11:06:44.277Z"
   },
   {
    "duration": 7,
    "start_time": "2022-10-30T11:06:44.486Z"
   },
   {
    "duration": 245,
    "start_time": "2022-10-30T11:06:44.494Z"
   },
   {
    "duration": 13,
    "start_time": "2022-10-30T11:06:44.741Z"
   },
   {
    "duration": 8,
    "start_time": "2022-10-30T11:06:44.756Z"
   },
   {
    "duration": 248,
    "start_time": "2022-10-30T11:06:44.766Z"
   },
   {
    "duration": 7,
    "start_time": "2022-10-30T11:06:45.015Z"
   },
   {
    "duration": 235,
    "start_time": "2022-10-30T11:06:45.023Z"
   },
   {
    "duration": 9,
    "start_time": "2022-10-30T11:06:45.260Z"
   },
   {
    "duration": 410,
    "start_time": "2022-10-30T11:06:45.271Z"
   },
   {
    "duration": 8,
    "start_time": "2022-10-30T11:06:45.683Z"
   },
   {
    "duration": 226,
    "start_time": "2022-10-30T11:06:45.692Z"
   },
   {
    "duration": 6,
    "start_time": "2022-10-30T11:06:45.920Z"
   },
   {
    "duration": 219,
    "start_time": "2022-10-30T11:06:45.928Z"
   },
   {
    "duration": 9,
    "start_time": "2022-10-30T11:06:46.149Z"
   },
   {
    "duration": 241,
    "start_time": "2022-10-30T11:06:46.160Z"
   },
   {
    "duration": 6,
    "start_time": "2022-10-30T11:06:46.402Z"
   },
   {
    "duration": 239,
    "start_time": "2022-10-30T11:06:46.410Z"
   },
   {
    "duration": 7,
    "start_time": "2022-10-30T11:06:46.653Z"
   },
   {
    "duration": 237,
    "start_time": "2022-10-30T11:06:46.661Z"
   },
   {
    "duration": 960,
    "start_time": "2022-10-30T11:06:46.900Z"
   },
   {
    "duration": 23,
    "start_time": "2022-10-30T11:06:47.862Z"
   },
   {
    "duration": 14,
    "start_time": "2022-10-30T11:06:47.887Z"
   },
   {
    "duration": 9,
    "start_time": "2022-10-30T11:06:47.902Z"
   },
   {
    "duration": 207,
    "start_time": "2022-10-30T11:06:47.913Z"
   },
   {
    "duration": 10,
    "start_time": "2022-10-30T11:06:48.122Z"
   },
   {
    "duration": 333,
    "start_time": "2022-10-30T11:06:48.134Z"
   },
   {
    "duration": 602,
    "start_time": "2022-10-30T11:06:48.468Z"
   },
   {
    "duration": 8,
    "start_time": "2022-10-30T11:06:49.073Z"
   },
   {
    "duration": 13,
    "start_time": "2022-10-30T11:06:49.083Z"
   },
   {
    "duration": 452,
    "start_time": "2022-10-30T11:06:49.097Z"
   },
   {
    "duration": 9,
    "start_time": "2022-10-30T11:06:49.553Z"
   },
   {
    "duration": 17,
    "start_time": "2022-10-30T11:06:49.563Z"
   },
   {
    "duration": 46,
    "start_time": "2022-10-30T11:23:14.438Z"
   },
   {
    "duration": 3388,
    "start_time": "2022-10-30T11:25:19.209Z"
   },
   {
    "duration": 97,
    "start_time": "2022-10-30T11:25:22.599Z"
   },
   {
    "duration": 26,
    "start_time": "2022-10-30T11:25:22.698Z"
   },
   {
    "duration": 16,
    "start_time": "2022-10-30T11:25:22.726Z"
   },
   {
    "duration": 71,
    "start_time": "2022-10-30T11:25:22.754Z"
   },
   {
    "duration": 4,
    "start_time": "2022-10-30T11:25:22.827Z"
   },
   {
    "duration": 28,
    "start_time": "2022-10-30T11:25:22.832Z"
   },
   {
    "duration": 31,
    "start_time": "2022-10-30T11:25:22.862Z"
   },
   {
    "duration": 9,
    "start_time": "2022-10-30T11:25:22.895Z"
   },
   {
    "duration": 9,
    "start_time": "2022-10-30T11:25:22.907Z"
   },
   {
    "duration": 16,
    "start_time": "2022-10-30T11:25:22.918Z"
   },
   {
    "duration": 45,
    "start_time": "2022-10-30T11:25:22.936Z"
   },
   {
    "duration": 6,
    "start_time": "2022-10-30T11:25:22.983Z"
   },
   {
    "duration": 27,
    "start_time": "2022-10-30T11:25:22.991Z"
   },
   {
    "duration": 37,
    "start_time": "2022-10-30T11:25:23.020Z"
   },
   {
    "duration": 6,
    "start_time": "2022-10-30T11:25:23.059Z"
   },
   {
    "duration": 43,
    "start_time": "2022-10-30T11:25:23.067Z"
   },
   {
    "duration": 10,
    "start_time": "2022-10-30T11:25:23.113Z"
   },
   {
    "duration": 30,
    "start_time": "2022-10-30T11:25:23.125Z"
   },
   {
    "duration": 3,
    "start_time": "2022-10-30T11:25:23.156Z"
   },
   {
    "duration": 12,
    "start_time": "2022-10-30T11:25:23.161Z"
   },
   {
    "duration": 5,
    "start_time": "2022-10-30T11:25:23.175Z"
   },
   {
    "duration": 18,
    "start_time": "2022-10-30T11:25:23.181Z"
   },
   {
    "duration": 61,
    "start_time": "2022-10-30T11:25:23.201Z"
   },
   {
    "duration": 5,
    "start_time": "2022-10-30T11:25:23.264Z"
   },
   {
    "duration": 22,
    "start_time": "2022-10-30T11:25:23.271Z"
   },
   {
    "duration": 10,
    "start_time": "2022-10-30T11:25:23.296Z"
   },
   {
    "duration": 8,
    "start_time": "2022-10-30T11:25:23.314Z"
   },
   {
    "duration": 14,
    "start_time": "2022-10-30T11:25:23.324Z"
   },
   {
    "duration": 8,
    "start_time": "2022-10-30T11:25:23.339Z"
   },
   {
    "duration": 9,
    "start_time": "2022-10-30T11:25:23.355Z"
   },
   {
    "duration": 11,
    "start_time": "2022-10-30T11:25:23.365Z"
   },
   {
    "duration": 6,
    "start_time": "2022-10-30T11:25:23.377Z"
   },
   {
    "duration": 17,
    "start_time": "2022-10-30T11:25:23.385Z"
   },
   {
    "duration": 8,
    "start_time": "2022-10-30T11:25:23.403Z"
   },
   {
    "duration": 11,
    "start_time": "2022-10-30T11:25:23.413Z"
   },
   {
    "duration": 16,
    "start_time": "2022-10-30T11:25:23.426Z"
   },
   {
    "duration": 14,
    "start_time": "2022-10-30T11:25:23.454Z"
   },
   {
    "duration": 11,
    "start_time": "2022-10-30T11:25:23.469Z"
   },
   {
    "duration": 7,
    "start_time": "2022-10-30T11:25:23.482Z"
   },
   {
    "duration": 19,
    "start_time": "2022-10-30T11:25:23.491Z"
   },
   {
    "duration": 5,
    "start_time": "2022-10-30T11:25:23.512Z"
   },
   {
    "duration": 14,
    "start_time": "2022-10-30T11:25:23.518Z"
   },
   {
    "duration": 12,
    "start_time": "2022-10-30T11:25:23.553Z"
   },
   {
    "duration": 15,
    "start_time": "2022-10-30T11:25:23.567Z"
   },
   {
    "duration": 9,
    "start_time": "2022-10-30T11:25:23.584Z"
   },
   {
    "duration": 13,
    "start_time": "2022-10-30T11:25:23.594Z"
   },
   {
    "duration": 4,
    "start_time": "2022-10-30T11:25:23.609Z"
   },
   {
    "duration": 12,
    "start_time": "2022-10-30T11:25:23.614Z"
   },
   {
    "duration": 30,
    "start_time": "2022-10-30T11:25:23.628Z"
   },
   {
    "duration": 8,
    "start_time": "2022-10-30T11:25:23.661Z"
   },
   {
    "duration": 2924,
    "start_time": "2022-10-30T11:25:23.672Z"
   },
   {
    "duration": 11,
    "start_time": "2022-10-30T11:25:26.598Z"
   },
   {
    "duration": 282,
    "start_time": "2022-10-30T11:25:26.612Z"
   },
   {
    "duration": 10,
    "start_time": "2022-10-30T11:25:26.896Z"
   },
   {
    "duration": 4,
    "start_time": "2022-10-30T11:25:26.908Z"
   },
   {
    "duration": 12,
    "start_time": "2022-10-30T11:25:26.914Z"
   },
   {
    "duration": 157,
    "start_time": "2022-10-30T11:25:26.928Z"
   },
   {
    "duration": 6,
    "start_time": "2022-10-30T11:25:27.086Z"
   },
   {
    "duration": 127,
    "start_time": "2022-10-30T11:25:27.094Z"
   },
   {
    "duration": 127,
    "start_time": "2022-10-30T11:25:27.223Z"
   },
   {
    "duration": 117,
    "start_time": "2022-10-30T11:25:27.352Z"
   },
   {
    "duration": 8,
    "start_time": "2022-10-30T11:25:27.471Z"
   },
   {
    "duration": 10,
    "start_time": "2022-10-30T11:25:27.481Z"
   },
   {
    "duration": 4,
    "start_time": "2022-10-30T11:25:27.494Z"
   },
   {
    "duration": 131,
    "start_time": "2022-10-30T11:25:27.500Z"
   },
   {
    "duration": 7,
    "start_time": "2022-10-30T11:25:27.633Z"
   },
   {
    "duration": 121,
    "start_time": "2022-10-30T11:25:27.654Z"
   },
   {
    "duration": 205,
    "start_time": "2022-10-30T11:25:27.777Z"
   },
   {
    "duration": 124,
    "start_time": "2022-10-30T11:25:27.984Z"
   },
   {
    "duration": 45,
    "start_time": "2022-10-30T11:25:28.110Z"
   },
   {
    "duration": 130,
    "start_time": "2022-10-30T11:25:28.157Z"
   },
   {
    "duration": 6,
    "start_time": "2022-10-30T11:25:28.288Z"
   },
   {
    "duration": 140,
    "start_time": "2022-10-30T11:25:28.296Z"
   },
   {
    "duration": 129,
    "start_time": "2022-10-30T11:25:28.438Z"
   },
   {
    "duration": 8,
    "start_time": "2022-10-30T11:25:28.569Z"
   },
   {
    "duration": 11,
    "start_time": "2022-10-30T11:25:28.579Z"
   },
   {
    "duration": 141,
    "start_time": "2022-10-30T11:25:28.592Z"
   },
   {
    "duration": 19,
    "start_time": "2022-10-30T11:25:28.735Z"
   },
   {
    "duration": 7,
    "start_time": "2022-10-30T11:25:28.756Z"
   },
   {
    "duration": 18,
    "start_time": "2022-10-30T11:25:28.765Z"
   },
   {
    "duration": 4,
    "start_time": "2022-10-30T11:25:28.790Z"
   },
   {
    "duration": 238,
    "start_time": "2022-10-30T11:25:28.795Z"
   },
   {
    "duration": 26,
    "start_time": "2022-10-30T11:25:29.035Z"
   },
   {
    "duration": 5,
    "start_time": "2022-10-30T11:25:29.063Z"
   },
   {
    "duration": 28,
    "start_time": "2022-10-30T11:25:29.070Z"
   },
   {
    "duration": 174,
    "start_time": "2022-10-30T11:25:29.100Z"
   },
   {
    "duration": 10,
    "start_time": "2022-10-30T11:25:29.276Z"
   },
   {
    "duration": 941,
    "start_time": "2022-10-30T11:25:29.287Z"
   },
   {
    "duration": 176,
    "start_time": "2022-10-30T11:25:30.230Z"
   },
   {
    "duration": 9,
    "start_time": "2022-10-30T11:25:30.408Z"
   },
   {
    "duration": 860,
    "start_time": "2022-10-30T11:25:30.418Z"
   },
   {
    "duration": 334,
    "start_time": "2022-10-30T11:25:31.280Z"
   },
   {
    "duration": 11,
    "start_time": "2022-10-30T11:25:31.617Z"
   },
   {
    "duration": 584,
    "start_time": "2022-10-30T11:25:31.631Z"
   },
   {
    "duration": 316,
    "start_time": "2022-10-30T11:25:32.217Z"
   },
   {
    "duration": 21,
    "start_time": "2022-10-30T11:25:32.536Z"
   },
   {
    "duration": 962,
    "start_time": "2022-10-30T11:25:32.558Z"
   },
   {
    "duration": 222,
    "start_time": "2022-10-30T11:25:33.521Z"
   },
   {
    "duration": 11,
    "start_time": "2022-10-30T11:25:33.745Z"
   },
   {
    "duration": 133,
    "start_time": "2022-10-30T11:25:33.757Z"
   },
   {
    "duration": 7,
    "start_time": "2022-10-30T11:25:33.892Z"
   },
   {
    "duration": 293,
    "start_time": "2022-10-30T11:25:33.901Z"
   },
   {
    "duration": 8,
    "start_time": "2022-10-30T11:25:34.197Z"
   },
   {
    "duration": 168,
    "start_time": "2022-10-30T11:25:34.207Z"
   },
   {
    "duration": 14,
    "start_time": "2022-10-30T11:25:34.378Z"
   },
   {
    "duration": 210,
    "start_time": "2022-10-30T11:25:34.394Z"
   },
   {
    "duration": 9,
    "start_time": "2022-10-30T11:25:34.606Z"
   },
   {
    "duration": 41,
    "start_time": "2022-10-30T11:25:34.616Z"
   },
   {
    "duration": 933,
    "start_time": "2022-10-30T11:25:34.659Z"
   },
   {
    "duration": 8,
    "start_time": "2022-10-30T11:25:35.594Z"
   },
   {
    "duration": 18,
    "start_time": "2022-10-30T11:25:35.605Z"
   },
   {
    "duration": 210,
    "start_time": "2022-10-30T11:25:35.625Z"
   },
   {
    "duration": 21,
    "start_time": "2022-10-30T11:25:35.837Z"
   },
   {
    "duration": 787,
    "start_time": "2022-10-30T11:25:35.860Z"
   },
   {
    "duration": 26,
    "start_time": "2022-10-30T11:25:36.654Z"
   },
   {
    "duration": 330,
    "start_time": "2022-10-30T11:25:36.682Z"
   },
   {
    "duration": 11,
    "start_time": "2022-10-30T11:25:37.015Z"
   },
   {
    "duration": 1118,
    "start_time": "2022-10-30T11:25:37.027Z"
   },
   {
    "duration": 262,
    "start_time": "2022-10-30T11:25:38.154Z"
   },
   {
    "duration": 10,
    "start_time": "2022-10-30T11:25:38.418Z"
   },
   {
    "duration": 34,
    "start_time": "2022-10-30T11:25:38.430Z"
   },
   {
    "duration": 1293,
    "start_time": "2022-10-30T11:25:38.466Z"
   },
   {
    "duration": 295,
    "start_time": "2022-10-30T11:25:39.761Z"
   },
   {
    "duration": 11,
    "start_time": "2022-10-30T11:25:40.059Z"
   },
   {
    "duration": 36,
    "start_time": "2022-10-30T11:25:40.072Z"
   },
   {
    "duration": 11,
    "start_time": "2022-10-30T11:25:40.110Z"
   },
   {
    "duration": 418,
    "start_time": "2022-10-30T11:25:40.123Z"
   },
   {
    "duration": 15,
    "start_time": "2022-10-30T11:25:40.543Z"
   },
   {
    "duration": 323,
    "start_time": "2022-10-30T11:25:40.560Z"
   },
   {
    "duration": 9,
    "start_time": "2022-10-30T11:25:40.885Z"
   },
   {
    "duration": 15,
    "start_time": "2022-10-30T11:25:40.896Z"
   },
   {
    "duration": 209,
    "start_time": "2022-10-30T11:25:40.913Z"
   },
   {
    "duration": 8,
    "start_time": "2022-10-30T11:25:41.124Z"
   },
   {
    "duration": 261,
    "start_time": "2022-10-30T11:25:41.135Z"
   },
   {
    "duration": 7,
    "start_time": "2022-10-30T11:25:41.399Z"
   },
   {
    "duration": 22,
    "start_time": "2022-10-30T11:25:41.407Z"
   },
   {
    "duration": 344,
    "start_time": "2022-10-30T11:25:41.432Z"
   },
   {
    "duration": 14,
    "start_time": "2022-10-30T11:25:41.777Z"
   },
   {
    "duration": 273,
    "start_time": "2022-10-30T11:25:41.794Z"
   },
   {
    "duration": 9,
    "start_time": "2022-10-30T11:25:42.069Z"
   },
   {
    "duration": 279,
    "start_time": "2022-10-30T11:25:42.081Z"
   },
   {
    "duration": 7,
    "start_time": "2022-10-30T11:25:42.362Z"
   },
   {
    "duration": 231,
    "start_time": "2022-10-30T11:25:42.371Z"
   },
   {
    "duration": 8,
    "start_time": "2022-10-30T11:25:42.605Z"
   },
   {
    "duration": 274,
    "start_time": "2022-10-30T11:25:42.615Z"
   },
   {
    "duration": 10,
    "start_time": "2022-10-30T11:25:42.891Z"
   },
   {
    "duration": 273,
    "start_time": "2022-10-30T11:25:42.903Z"
   },
   {
    "duration": 6,
    "start_time": "2022-10-30T11:25:43.178Z"
   },
   {
    "duration": 358,
    "start_time": "2022-10-30T11:25:43.185Z"
   },
   {
    "duration": 8,
    "start_time": "2022-10-30T11:25:43.554Z"
   },
   {
    "duration": 234,
    "start_time": "2022-10-30T11:25:43.564Z"
   },
   {
    "duration": 1016,
    "start_time": "2022-10-30T11:25:43.800Z"
   },
   {
    "duration": 37,
    "start_time": "2022-10-30T11:25:44.818Z"
   },
   {
    "duration": 10,
    "start_time": "2022-10-30T11:25:44.857Z"
   },
   {
    "duration": 45,
    "start_time": "2022-10-30T11:25:44.868Z"
   },
   {
    "duration": 214,
    "start_time": "2022-10-30T11:25:44.914Z"
   },
   {
    "duration": 8,
    "start_time": "2022-10-30T11:25:45.130Z"
   },
   {
    "duration": 297,
    "start_time": "2022-10-30T11:25:45.139Z"
   },
   {
    "duration": 445,
    "start_time": "2022-10-30T11:25:45.438Z"
   },
   {
    "duration": 9,
    "start_time": "2022-10-30T11:25:45.885Z"
   },
   {
    "duration": 25,
    "start_time": "2022-10-30T11:25:45.895Z"
   },
   {
    "duration": 550,
    "start_time": "2022-10-30T11:25:45.922Z"
   },
   {
    "duration": 9,
    "start_time": "2022-10-30T11:25:46.474Z"
   },
   {
    "duration": 18,
    "start_time": "2022-10-30T11:25:46.484Z"
   },
   {
    "duration": 4413,
    "start_time": "2022-10-31T07:15:14.277Z"
   },
   {
    "duration": 155,
    "start_time": "2022-10-31T07:15:18.692Z"
   },
   {
    "duration": 25,
    "start_time": "2022-10-31T07:15:18.848Z"
   },
   {
    "duration": 13,
    "start_time": "2022-10-31T07:15:18.875Z"
   },
   {
    "duration": 66,
    "start_time": "2022-10-31T07:15:18.890Z"
   },
   {
    "duration": 3,
    "start_time": "2022-10-31T07:15:18.958Z"
   },
   {
    "duration": 6,
    "start_time": "2022-10-31T07:15:18.963Z"
   },
   {
    "duration": 40,
    "start_time": "2022-10-31T07:15:18.971Z"
   },
   {
    "duration": 12,
    "start_time": "2022-10-31T07:15:19.015Z"
   },
   {
    "duration": 10,
    "start_time": "2022-10-31T07:15:19.031Z"
   },
   {
    "duration": 19,
    "start_time": "2022-10-31T07:15:19.043Z"
   },
   {
    "duration": 48,
    "start_time": "2022-10-31T07:15:19.064Z"
   },
   {
    "duration": 6,
    "start_time": "2022-10-31T07:15:19.113Z"
   },
   {
    "duration": 34,
    "start_time": "2022-10-31T07:15:19.121Z"
   },
   {
    "duration": 9,
    "start_time": "2022-10-31T07:15:19.156Z"
   },
   {
    "duration": 4,
    "start_time": "2022-10-31T07:15:19.167Z"
   },
   {
    "duration": 58,
    "start_time": "2022-10-31T07:15:19.173Z"
   },
   {
    "duration": 9,
    "start_time": "2022-10-31T07:15:19.233Z"
   },
   {
    "duration": 4,
    "start_time": "2022-10-31T07:15:19.245Z"
   },
   {
    "duration": 9,
    "start_time": "2022-10-31T07:15:19.251Z"
   },
   {
    "duration": 16,
    "start_time": "2022-10-31T07:15:19.261Z"
   },
   {
    "duration": 6,
    "start_time": "2022-10-31T07:15:19.279Z"
   },
   {
    "duration": 31,
    "start_time": "2022-10-31T07:15:19.287Z"
   },
   {
    "duration": 42,
    "start_time": "2022-10-31T07:15:19.319Z"
   },
   {
    "duration": 5,
    "start_time": "2022-10-31T07:15:19.363Z"
   },
   {
    "duration": 7,
    "start_time": "2022-10-31T07:15:19.369Z"
   },
   {
    "duration": 9,
    "start_time": "2022-10-31T07:15:19.377Z"
   },
   {
    "duration": 8,
    "start_time": "2022-10-31T07:15:19.413Z"
   },
   {
    "duration": 5,
    "start_time": "2022-10-31T07:15:19.423Z"
   },
   {
    "duration": 7,
    "start_time": "2022-10-31T07:15:19.430Z"
   },
   {
    "duration": 5,
    "start_time": "2022-10-31T07:15:19.439Z"
   },
   {
    "duration": 9,
    "start_time": "2022-10-31T07:15:19.445Z"
   },
   {
    "duration": 6,
    "start_time": "2022-10-31T07:15:19.456Z"
   },
   {
    "duration": 10,
    "start_time": "2022-10-31T07:15:19.463Z"
   },
   {
    "duration": 12,
    "start_time": "2022-10-31T07:15:19.475Z"
   },
   {
    "duration": 9,
    "start_time": "2022-10-31T07:15:19.506Z"
   },
   {
    "duration": 21,
    "start_time": "2022-10-31T07:15:19.516Z"
   },
   {
    "duration": 11,
    "start_time": "2022-10-31T07:15:19.538Z"
   },
   {
    "duration": 6,
    "start_time": "2022-10-31T07:15:19.551Z"
   },
   {
    "duration": 5,
    "start_time": "2022-10-31T07:15:19.559Z"
   },
   {
    "duration": 11,
    "start_time": "2022-10-31T07:15:19.565Z"
   },
   {
    "duration": 4,
    "start_time": "2022-10-31T07:15:19.577Z"
   },
   {
    "duration": 29,
    "start_time": "2022-10-31T07:15:19.582Z"
   },
   {
    "duration": 19,
    "start_time": "2022-10-31T07:15:19.612Z"
   },
   {
    "duration": 12,
    "start_time": "2022-10-31T07:15:19.633Z"
   },
   {
    "duration": 8,
    "start_time": "2022-10-31T07:15:19.647Z"
   },
   {
    "duration": 12,
    "start_time": "2022-10-31T07:15:19.656Z"
   },
   {
    "duration": 3,
    "start_time": "2022-10-31T07:15:19.670Z"
   },
   {
    "duration": 10,
    "start_time": "2022-10-31T07:15:19.675Z"
   },
   {
    "duration": 21,
    "start_time": "2022-10-31T07:15:19.686Z"
   },
   {
    "duration": 17,
    "start_time": "2022-10-31T07:15:19.709Z"
   },
   {
    "duration": 3167,
    "start_time": "2022-10-31T07:15:19.728Z"
   },
   {
    "duration": 31,
    "start_time": "2022-10-31T07:15:22.897Z"
   },
   {
    "duration": 266,
    "start_time": "2022-10-31T07:15:22.930Z"
   },
   {
    "duration": 24,
    "start_time": "2022-10-31T07:15:23.198Z"
   },
   {
    "duration": 11,
    "start_time": "2022-10-31T07:15:23.224Z"
   },
   {
    "duration": 11,
    "start_time": "2022-10-31T07:15:23.237Z"
   },
   {
    "duration": 126,
    "start_time": "2022-10-31T07:15:23.250Z"
   },
   {
    "duration": 5,
    "start_time": "2022-10-31T07:15:23.378Z"
   },
   {
    "duration": 101,
    "start_time": "2022-10-31T07:15:23.384Z"
   },
   {
    "duration": 106,
    "start_time": "2022-10-31T07:15:23.487Z"
   },
   {
    "duration": 117,
    "start_time": "2022-10-31T07:15:23.594Z"
   },
   {
    "duration": 12,
    "start_time": "2022-10-31T07:15:23.713Z"
   },
   {
    "duration": 11,
    "start_time": "2022-10-31T07:15:23.727Z"
   },
   {
    "duration": 3,
    "start_time": "2022-10-31T07:15:23.739Z"
   },
   {
    "duration": 118,
    "start_time": "2022-10-31T07:15:23.744Z"
   },
   {
    "duration": 5,
    "start_time": "2022-10-31T07:15:23.864Z"
   },
   {
    "duration": 117,
    "start_time": "2022-10-31T07:15:23.871Z"
   },
   {
    "duration": 187,
    "start_time": "2022-10-31T07:15:23.990Z"
   },
   {
    "duration": 110,
    "start_time": "2022-10-31T07:15:24.178Z"
   },
   {
    "duration": 50,
    "start_time": "2022-10-31T07:15:24.290Z"
   },
   {
    "duration": 103,
    "start_time": "2022-10-31T07:15:24.341Z"
   },
   {
    "duration": 4,
    "start_time": "2022-10-31T07:15:24.446Z"
   },
   {
    "duration": 127,
    "start_time": "2022-10-31T07:15:24.452Z"
   },
   {
    "duration": 124,
    "start_time": "2022-10-31T07:15:24.580Z"
   },
   {
    "duration": 15,
    "start_time": "2022-10-31T07:15:24.711Z"
   },
   {
    "duration": 8,
    "start_time": "2022-10-31T07:15:24.728Z"
   },
   {
    "duration": 113,
    "start_time": "2022-10-31T07:15:24.738Z"
   },
   {
    "duration": 6,
    "start_time": "2022-10-31T07:15:24.853Z"
   },
   {
    "duration": 6,
    "start_time": "2022-10-31T07:15:24.861Z"
   },
   {
    "duration": 13,
    "start_time": "2022-10-31T07:15:24.868Z"
   },
   {
    "duration": 26,
    "start_time": "2022-10-31T07:15:24.887Z"
   },
   {
    "duration": 220,
    "start_time": "2022-10-31T07:15:24.915Z"
   },
   {
    "duration": 19,
    "start_time": "2022-10-31T07:15:25.136Z"
   },
   {
    "duration": 5,
    "start_time": "2022-10-31T07:15:25.157Z"
   },
   {
    "duration": 47,
    "start_time": "2022-10-31T07:15:25.163Z"
   },
   {
    "duration": 178,
    "start_time": "2022-10-31T07:15:25.211Z"
   },
   {
    "duration": 8,
    "start_time": "2022-10-31T07:15:25.391Z"
   },
   {
    "duration": 889,
    "start_time": "2022-10-31T07:15:25.405Z"
   },
   {
    "duration": 165,
    "start_time": "2022-10-31T07:15:26.315Z"
   },
   {
    "duration": 9,
    "start_time": "2022-10-31T07:15:26.481Z"
   },
   {
    "duration": 823,
    "start_time": "2022-10-31T07:15:26.492Z"
   },
   {
    "duration": 313,
    "start_time": "2022-10-31T07:15:27.317Z"
   },
   {
    "duration": 9,
    "start_time": "2022-10-31T07:15:27.632Z"
   },
   {
    "duration": 548,
    "start_time": "2022-10-31T07:15:27.642Z"
   },
   {
    "duration": 278,
    "start_time": "2022-10-31T07:15:28.191Z"
   },
   {
    "duration": 8,
    "start_time": "2022-10-31T07:15:28.471Z"
   },
   {
    "duration": 870,
    "start_time": "2022-10-31T07:15:28.480Z"
   },
   {
    "duration": 206,
    "start_time": "2022-10-31T07:15:29.351Z"
   },
   {
    "duration": 7,
    "start_time": "2022-10-31T07:15:29.559Z"
   },
   {
    "duration": 126,
    "start_time": "2022-10-31T07:15:29.567Z"
   },
   {
    "duration": 21,
    "start_time": "2022-10-31T07:15:29.694Z"
   },
   {
    "duration": 246,
    "start_time": "2022-10-31T07:15:29.719Z"
   },
   {
    "duration": 8,
    "start_time": "2022-10-31T07:15:29.967Z"
   },
   {
    "duration": 151,
    "start_time": "2022-10-31T07:15:29.976Z"
   },
   {
    "duration": 12,
    "start_time": "2022-10-31T07:15:30.129Z"
   },
   {
    "duration": 200,
    "start_time": "2022-10-31T07:15:30.143Z"
   },
   {
    "duration": 8,
    "start_time": "2022-10-31T07:15:30.344Z"
   },
   {
    "duration": 31,
    "start_time": "2022-10-31T07:15:30.353Z"
   },
   {
    "duration": 854,
    "start_time": "2022-10-31T07:15:30.386Z"
   },
   {
    "duration": 6,
    "start_time": "2022-10-31T07:15:31.242Z"
   },
   {
    "duration": 19,
    "start_time": "2022-10-31T07:15:31.250Z"
   },
   {
    "duration": 174,
    "start_time": "2022-10-31T07:15:31.270Z"
   },
   {
    "duration": 9,
    "start_time": "2022-10-31T07:15:31.446Z"
   },
   {
    "duration": 714,
    "start_time": "2022-10-31T07:15:31.457Z"
   },
   {
    "duration": 19,
    "start_time": "2022-10-31T07:15:32.173Z"
   },
   {
    "duration": 298,
    "start_time": "2022-10-31T07:15:32.205Z"
   },
   {
    "duration": 18,
    "start_time": "2022-10-31T07:15:32.505Z"
   },
   {
    "duration": 1080,
    "start_time": "2022-10-31T07:15:32.525Z"
   },
   {
    "duration": 242,
    "start_time": "2022-10-31T07:15:33.607Z"
   },
   {
    "duration": 8,
    "start_time": "2022-10-31T07:15:33.851Z"
   },
   {
    "duration": 21,
    "start_time": "2022-10-31T07:15:33.861Z"
   },
   {
    "duration": 1210,
    "start_time": "2022-10-31T07:15:33.884Z"
   },
   {
    "duration": 255,
    "start_time": "2022-10-31T07:15:35.096Z"
   },
   {
    "duration": 8,
    "start_time": "2022-10-31T07:15:35.352Z"
   },
   {
    "duration": 19,
    "start_time": "2022-10-31T07:15:35.362Z"
   },
   {
    "duration": 29,
    "start_time": "2022-10-31T07:15:35.382Z"
   },
   {
    "duration": 358,
    "start_time": "2022-10-31T07:15:35.417Z"
   },
   {
    "duration": 6,
    "start_time": "2022-10-31T07:15:35.776Z"
   },
   {
    "duration": 273,
    "start_time": "2022-10-31T07:15:35.784Z"
   },
   {
    "duration": 5,
    "start_time": "2022-10-31T07:15:36.059Z"
   },
   {
    "duration": 10,
    "start_time": "2022-10-31T07:15:36.066Z"
   },
   {
    "duration": 193,
    "start_time": "2022-10-31T07:15:36.077Z"
   },
   {
    "duration": 7,
    "start_time": "2022-10-31T07:15:36.273Z"
   },
   {
    "duration": 218,
    "start_time": "2022-10-31T07:15:36.282Z"
   },
   {
    "duration": 18,
    "start_time": "2022-10-31T07:15:36.502Z"
   },
   {
    "duration": 7,
    "start_time": "2022-10-31T07:15:36.522Z"
   },
   {
    "duration": 209,
    "start_time": "2022-10-31T07:15:36.531Z"
   },
   {
    "duration": 5,
    "start_time": "2022-10-31T07:15:36.741Z"
   },
   {
    "duration": 216,
    "start_time": "2022-10-31T07:15:36.747Z"
   },
   {
    "duration": 7,
    "start_time": "2022-10-31T07:15:36.964Z"
   },
   {
    "duration": 229,
    "start_time": "2022-10-31T07:15:36.973Z"
   },
   {
    "duration": 11,
    "start_time": "2022-10-31T07:15:37.205Z"
   },
   {
    "duration": 228,
    "start_time": "2022-10-31T07:15:37.221Z"
   },
   {
    "duration": 8,
    "start_time": "2022-10-31T07:15:37.452Z"
   },
   {
    "duration": 235,
    "start_time": "2022-10-31T07:15:37.462Z"
   },
   {
    "duration": 15,
    "start_time": "2022-10-31T07:15:37.699Z"
   },
   {
    "duration": 257,
    "start_time": "2022-10-31T07:15:37.722Z"
   },
   {
    "duration": 9,
    "start_time": "2022-10-31T07:15:37.981Z"
   },
   {
    "duration": 458,
    "start_time": "2022-10-31T07:15:37.992Z"
   },
   {
    "duration": 5,
    "start_time": "2022-10-31T07:15:38.452Z"
   },
   {
    "duration": 202,
    "start_time": "2022-10-31T07:15:38.458Z"
   },
   {
    "duration": 916,
    "start_time": "2022-10-31T07:15:38.662Z"
   },
   {
    "duration": 42,
    "start_time": "2022-10-31T07:15:39.579Z"
   },
   {
    "duration": 7,
    "start_time": "2022-10-31T07:15:39.622Z"
   },
   {
    "duration": 9,
    "start_time": "2022-10-31T07:15:39.631Z"
   },
   {
    "duration": 169,
    "start_time": "2022-10-31T07:15:39.641Z"
   },
   {
    "duration": 12,
    "start_time": "2022-10-31T07:15:39.811Z"
   },
   {
    "duration": 283,
    "start_time": "2022-10-31T07:15:39.825Z"
   },
   {
    "duration": 436,
    "start_time": "2022-10-31T07:15:40.109Z"
   },
   {
    "duration": 8,
    "start_time": "2022-10-31T07:15:40.546Z"
   },
   {
    "duration": 8,
    "start_time": "2022-10-31T07:15:40.555Z"
   },
   {
    "duration": 502,
    "start_time": "2022-10-31T07:15:40.565Z"
   },
   {
    "duration": 8,
    "start_time": "2022-10-31T07:15:41.069Z"
   },
   {
    "duration": 17,
    "start_time": "2022-10-31T07:15:41.078Z"
   },
   {
    "duration": 3524,
    "start_time": "2022-10-31T07:16:04.523Z"
   },
   {
    "duration": 99,
    "start_time": "2022-10-31T07:16:08.050Z"
   },
   {
    "duration": 34,
    "start_time": "2022-10-31T07:16:08.151Z"
   },
   {
    "duration": 24,
    "start_time": "2022-10-31T07:16:08.187Z"
   },
   {
    "duration": 103,
    "start_time": "2022-10-31T07:16:08.216Z"
   },
   {
    "duration": 4,
    "start_time": "2022-10-31T07:16:08.322Z"
   },
   {
    "duration": 6,
    "start_time": "2022-10-31T07:16:08.327Z"
   },
   {
    "duration": 24,
    "start_time": "2022-10-31T07:16:08.335Z"
   },
   {
    "duration": 8,
    "start_time": "2022-10-31T07:16:08.361Z"
   },
   {
    "duration": 7,
    "start_time": "2022-10-31T07:16:08.370Z"
   },
   {
    "duration": 51,
    "start_time": "2022-10-31T07:16:08.379Z"
   },
   {
    "duration": 20,
    "start_time": "2022-10-31T07:16:08.432Z"
   },
   {
    "duration": 4,
    "start_time": "2022-10-31T07:16:08.454Z"
   },
   {
    "duration": 20,
    "start_time": "2022-10-31T07:16:08.460Z"
   },
   {
    "duration": 8,
    "start_time": "2022-10-31T07:16:08.481Z"
   },
   {
    "duration": 22,
    "start_time": "2022-10-31T07:16:08.490Z"
   },
   {
    "duration": 30,
    "start_time": "2022-10-31T07:16:08.523Z"
   },
   {
    "duration": 8,
    "start_time": "2022-10-31T07:16:08.554Z"
   },
   {
    "duration": 4,
    "start_time": "2022-10-31T07:16:08.564Z"
   },
   {
    "duration": 5,
    "start_time": "2022-10-31T07:16:08.570Z"
   },
   {
    "duration": 10,
    "start_time": "2022-10-31T07:16:08.576Z"
   },
   {
    "duration": 30,
    "start_time": "2022-10-31T07:16:08.588Z"
   },
   {
    "duration": 14,
    "start_time": "2022-10-31T07:16:08.621Z"
   },
   {
    "duration": 35,
    "start_time": "2022-10-31T07:16:08.636Z"
   },
   {
    "duration": 5,
    "start_time": "2022-10-31T07:16:08.672Z"
   },
   {
    "duration": 7,
    "start_time": "2022-10-31T07:16:08.678Z"
   },
   {
    "duration": 32,
    "start_time": "2022-10-31T07:16:08.686Z"
   },
   {
    "duration": 6,
    "start_time": "2022-10-31T07:16:08.719Z"
   },
   {
    "duration": 6,
    "start_time": "2022-10-31T07:16:08.726Z"
   },
   {
    "duration": 4,
    "start_time": "2022-10-31T07:16:08.733Z"
   },
   {
    "duration": 9,
    "start_time": "2022-10-31T07:16:08.738Z"
   },
   {
    "duration": 5,
    "start_time": "2022-10-31T07:16:08.748Z"
   },
   {
    "duration": 5,
    "start_time": "2022-10-31T07:16:08.754Z"
   },
   {
    "duration": 8,
    "start_time": "2022-10-31T07:16:08.761Z"
   },
   {
    "duration": 11,
    "start_time": "2022-10-31T07:16:08.770Z"
   },
   {
    "duration": 38,
    "start_time": "2022-10-31T07:16:08.782Z"
   },
   {
    "duration": 11,
    "start_time": "2022-10-31T07:16:08.821Z"
   },
   {
    "duration": 13,
    "start_time": "2022-10-31T07:16:08.834Z"
   },
   {
    "duration": 7,
    "start_time": "2022-10-31T07:16:08.848Z"
   },
   {
    "duration": 7,
    "start_time": "2022-10-31T07:16:08.857Z"
   },
   {
    "duration": 8,
    "start_time": "2022-10-31T07:16:08.869Z"
   },
   {
    "duration": 32,
    "start_time": "2022-10-31T07:16:08.878Z"
   },
   {
    "duration": 10,
    "start_time": "2022-10-31T07:16:08.912Z"
   },
   {
    "duration": 10,
    "start_time": "2022-10-31T07:16:08.923Z"
   },
   {
    "duration": 13,
    "start_time": "2022-10-31T07:16:08.934Z"
   },
   {
    "duration": 8,
    "start_time": "2022-10-31T07:16:08.948Z"
   },
   {
    "duration": 11,
    "start_time": "2022-10-31T07:16:08.958Z"
   },
   {
    "duration": 3,
    "start_time": "2022-10-31T07:16:08.971Z"
   },
   {
    "duration": 9,
    "start_time": "2022-10-31T07:16:08.976Z"
   },
   {
    "duration": 31,
    "start_time": "2022-10-31T07:16:08.986Z"
   },
   {
    "duration": 5,
    "start_time": "2022-10-31T07:16:09.019Z"
   },
   {
    "duration": 2923,
    "start_time": "2022-10-31T07:16:09.026Z"
   },
   {
    "duration": 10,
    "start_time": "2022-10-31T07:16:11.952Z"
   },
   {
    "duration": 244,
    "start_time": "2022-10-31T07:16:11.964Z"
   },
   {
    "duration": 12,
    "start_time": "2022-10-31T07:16:12.214Z"
   },
   {
    "duration": 5,
    "start_time": "2022-10-31T07:16:12.228Z"
   },
   {
    "duration": 14,
    "start_time": "2022-10-31T07:16:12.235Z"
   },
   {
    "duration": 124,
    "start_time": "2022-10-31T07:16:12.251Z"
   },
   {
    "duration": 5,
    "start_time": "2022-10-31T07:16:12.377Z"
   },
   {
    "duration": 111,
    "start_time": "2022-10-31T07:16:12.384Z"
   },
   {
    "duration": 98,
    "start_time": "2022-10-31T07:16:12.496Z"
   },
   {
    "duration": 126,
    "start_time": "2022-10-31T07:16:12.596Z"
   },
   {
    "duration": 8,
    "start_time": "2022-10-31T07:16:12.724Z"
   },
   {
    "duration": 17,
    "start_time": "2022-10-31T07:16:12.733Z"
   },
   {
    "duration": 13,
    "start_time": "2022-10-31T07:16:12.751Z"
   },
   {
    "duration": 118,
    "start_time": "2022-10-31T07:16:12.765Z"
   },
   {
    "duration": 5,
    "start_time": "2022-10-31T07:16:12.884Z"
   },
   {
    "duration": 136,
    "start_time": "2022-10-31T07:16:12.890Z"
   },
   {
    "duration": 192,
    "start_time": "2022-10-31T07:16:13.028Z"
   },
   {
    "duration": 104,
    "start_time": "2022-10-31T07:16:13.222Z"
   },
   {
    "duration": 31,
    "start_time": "2022-10-31T07:16:13.328Z"
   },
   {
    "duration": 128,
    "start_time": "2022-10-31T07:16:13.360Z"
   },
   {
    "duration": 24,
    "start_time": "2022-10-31T07:16:13.490Z"
   },
   {
    "duration": 134,
    "start_time": "2022-10-31T07:16:13.516Z"
   },
   {
    "duration": 120,
    "start_time": "2022-10-31T07:16:13.651Z"
   },
   {
    "duration": 7,
    "start_time": "2022-10-31T07:16:13.773Z"
   },
   {
    "duration": 40,
    "start_time": "2022-10-31T07:16:13.782Z"
   },
   {
    "duration": 124,
    "start_time": "2022-10-31T07:16:13.824Z"
   },
   {
    "duration": 7,
    "start_time": "2022-10-31T07:16:13.949Z"
   },
   {
    "duration": 37,
    "start_time": "2022-10-31T07:16:13.958Z"
   },
   {
    "duration": 47,
    "start_time": "2022-10-31T07:16:13.996Z"
   },
   {
    "duration": 16,
    "start_time": "2022-10-31T07:16:14.044Z"
   },
   {
    "duration": 240,
    "start_time": "2022-10-31T07:16:14.061Z"
   },
   {
    "duration": 26,
    "start_time": "2022-10-31T07:16:14.302Z"
   },
   {
    "duration": 21,
    "start_time": "2022-10-31T07:16:14.330Z"
   },
   {
    "duration": 65,
    "start_time": "2022-10-31T07:16:14.353Z"
   },
   {
    "duration": 175,
    "start_time": "2022-10-31T07:16:14.421Z"
   },
   {
    "duration": 21,
    "start_time": "2022-10-31T07:16:14.597Z"
   },
   {
    "duration": 955,
    "start_time": "2022-10-31T07:16:14.619Z"
   },
   {
    "duration": 143,
    "start_time": "2022-10-31T07:16:15.576Z"
   },
   {
    "duration": 8,
    "start_time": "2022-10-31T07:16:15.720Z"
   },
   {
    "duration": 790,
    "start_time": "2022-10-31T07:16:15.730Z"
   },
   {
    "duration": 223,
    "start_time": "2022-10-31T07:16:16.522Z"
   },
   {
    "duration": 10,
    "start_time": "2022-10-31T07:16:16.746Z"
   },
   {
    "duration": 555,
    "start_time": "2022-10-31T07:16:16.758Z"
   },
   {
    "duration": 316,
    "start_time": "2022-10-31T07:16:17.316Z"
   },
   {
    "duration": 7,
    "start_time": "2022-10-31T07:16:17.634Z"
   },
   {
    "duration": 907,
    "start_time": "2022-10-31T07:16:17.643Z"
   },
   {
    "duration": 207,
    "start_time": "2022-10-31T07:16:18.552Z"
   },
   {
    "duration": 11,
    "start_time": "2022-10-31T07:16:18.761Z"
   },
   {
    "duration": 163,
    "start_time": "2022-10-31T07:16:18.773Z"
   },
   {
    "duration": 7,
    "start_time": "2022-10-31T07:16:18.937Z"
   },
   {
    "duration": 291,
    "start_time": "2022-10-31T07:16:18.946Z"
   },
   {
    "duration": 8,
    "start_time": "2022-10-31T07:16:19.238Z"
   },
   {
    "duration": 146,
    "start_time": "2022-10-31T07:16:19.248Z"
   },
   {
    "duration": 26,
    "start_time": "2022-10-31T07:16:19.395Z"
   },
   {
    "duration": 204,
    "start_time": "2022-10-31T07:16:19.423Z"
   },
   {
    "duration": 11,
    "start_time": "2022-10-31T07:16:19.629Z"
   },
   {
    "duration": 20,
    "start_time": "2022-10-31T07:16:19.642Z"
   },
   {
    "duration": 882,
    "start_time": "2022-10-31T07:16:19.664Z"
   },
   {
    "duration": 6,
    "start_time": "2022-10-31T07:16:20.548Z"
   },
   {
    "duration": 8,
    "start_time": "2022-10-31T07:16:20.555Z"
   },
   {
    "duration": 214,
    "start_time": "2022-10-31T07:16:20.565Z"
   },
   {
    "duration": 7,
    "start_time": "2022-10-31T07:16:20.781Z"
   },
   {
    "duration": 782,
    "start_time": "2022-10-31T07:16:20.789Z"
   },
   {
    "duration": 19,
    "start_time": "2022-10-31T07:16:21.573Z"
   },
   {
    "duration": 319,
    "start_time": "2022-10-31T07:16:21.607Z"
   },
   {
    "duration": 8,
    "start_time": "2022-10-31T07:16:21.927Z"
   },
   {
    "duration": 1041,
    "start_time": "2022-10-31T07:16:21.936Z"
   },
   {
    "duration": 258,
    "start_time": "2022-10-31T07:16:22.979Z"
   },
   {
    "duration": 8,
    "start_time": "2022-10-31T07:16:23.239Z"
   },
   {
    "duration": 38,
    "start_time": "2022-10-31T07:16:23.253Z"
   },
   {
    "duration": 1116,
    "start_time": "2022-10-31T07:16:23.293Z"
   },
   {
    "duration": 260,
    "start_time": "2022-10-31T07:16:24.411Z"
   },
   {
    "duration": 8,
    "start_time": "2022-10-31T07:16:24.673Z"
   },
   {
    "duration": 38,
    "start_time": "2022-10-31T07:16:24.682Z"
   },
   {
    "duration": 5,
    "start_time": "2022-10-31T07:16:24.723Z"
   },
   {
    "duration": 347,
    "start_time": "2022-10-31T07:16:24.729Z"
   },
   {
    "duration": 5,
    "start_time": "2022-10-31T07:16:25.078Z"
   },
   {
    "duration": 316,
    "start_time": "2022-10-31T07:16:25.084Z"
   },
   {
    "duration": 14,
    "start_time": "2022-10-31T07:16:25.401Z"
   },
   {
    "duration": 34,
    "start_time": "2022-10-31T07:16:25.417Z"
   },
   {
    "duration": 180,
    "start_time": "2022-10-31T07:16:25.452Z"
   },
   {
    "duration": 6,
    "start_time": "2022-10-31T07:16:25.633Z"
   },
   {
    "duration": 207,
    "start_time": "2022-10-31T07:16:25.640Z"
   },
   {
    "duration": 7,
    "start_time": "2022-10-31T07:16:25.849Z"
   },
   {
    "duration": 27,
    "start_time": "2022-10-31T07:16:25.858Z"
   },
   {
    "duration": 233,
    "start_time": "2022-10-31T07:16:25.887Z"
   },
   {
    "duration": 12,
    "start_time": "2022-10-31T07:16:26.122Z"
   },
   {
    "duration": 221,
    "start_time": "2022-10-31T07:16:26.136Z"
   },
   {
    "duration": 8,
    "start_time": "2022-10-31T07:16:26.358Z"
   },
   {
    "duration": 203,
    "start_time": "2022-10-31T07:16:26.368Z"
   },
   {
    "duration": 8,
    "start_time": "2022-10-31T07:16:26.573Z"
   },
   {
    "duration": 195,
    "start_time": "2022-10-31T07:16:26.583Z"
   },
   {
    "duration": 6,
    "start_time": "2022-10-31T07:16:26.780Z"
   },
   {
    "duration": 210,
    "start_time": "2022-10-31T07:16:26.788Z"
   },
   {
    "duration": 15,
    "start_time": "2022-10-31T07:16:26.999Z"
   },
   {
    "duration": 207,
    "start_time": "2022-10-31T07:16:27.015Z"
   },
   {
    "duration": 6,
    "start_time": "2022-10-31T07:16:27.224Z"
   },
   {
    "duration": 405,
    "start_time": "2022-10-31T07:16:27.232Z"
   },
   {
    "duration": 7,
    "start_time": "2022-10-31T07:16:27.639Z"
   },
   {
    "duration": 222,
    "start_time": "2022-10-31T07:16:27.648Z"
   },
   {
    "duration": 922,
    "start_time": "2022-10-31T07:16:27.871Z"
   },
   {
    "duration": 34,
    "start_time": "2022-10-31T07:16:28.795Z"
   },
   {
    "duration": 17,
    "start_time": "2022-10-31T07:16:28.831Z"
   },
   {
    "duration": 16,
    "start_time": "2022-10-31T07:16:28.849Z"
   },
   {
    "duration": 192,
    "start_time": "2022-10-31T07:16:28.866Z"
   },
   {
    "duration": 7,
    "start_time": "2022-10-31T07:16:29.061Z"
   },
   {
    "duration": 270,
    "start_time": "2022-10-31T07:16:29.069Z"
   },
   {
    "duration": 391,
    "start_time": "2022-10-31T07:16:29.341Z"
   },
   {
    "duration": 8,
    "start_time": "2022-10-31T07:16:29.734Z"
   },
   {
    "duration": 16,
    "start_time": "2022-10-31T07:16:29.743Z"
   },
   {
    "duration": 500,
    "start_time": "2022-10-31T07:16:29.760Z"
   },
   {
    "duration": 20,
    "start_time": "2022-10-31T07:16:30.263Z"
   },
   {
    "duration": 75,
    "start_time": "2022-10-31T07:16:30.285Z"
   }
  ],
  "kernelspec": {
   "display_name": "Python 3 (ipykernel)",
   "language": "python",
   "name": "python3"
  },
  "language_info": {
   "codemirror_mode": {
    "name": "ipython",
    "version": 3
   },
   "file_extension": ".py",
   "mimetype": "text/x-python",
   "name": "python",
   "nbconvert_exporter": "python",
   "pygments_lexer": "ipython3",
   "version": "3.9.13"
  },
  "toc": {
   "base_numbering": 1,
   "nav_menu": {},
   "number_sections": true,
   "sideBar": true,
   "skip_h1_title": true,
   "title_cell": "Table of Contents",
   "title_sidebar": "Contents",
   "toc_cell": false,
   "toc_position": {},
   "toc_section_display": true,
   "toc_window_display": false
  },
  "vscode": {
   "interpreter": {
    "hash": "f08154012ddadd8e950e6e9e035c7a7b32c136e7647e9b7c77e02eb723a8bedb"
   }
  }
 },
 "nbformat": 4,
 "nbformat_minor": 2
}
