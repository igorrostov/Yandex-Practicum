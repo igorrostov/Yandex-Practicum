{
 "cells": [
  {
   "attachments": {},
   "cell_type": "markdown",
   "metadata": {},
   "source": [
    "# Проект по SQL\n",
    "\n",
    "Коронавирус застал мир врасплох, изменив привычный порядок вещей. В свободное время жители городов больше не выходят на улицу, не посещают кафе и торговые центры. Зато стало больше времени для книг. Это заметили стартаперы — и бросились создавать приложения для тех, кто любит читать.\n",
    "\n",
    "Ваша компания решила быть на волне и купила крупный сервис для чтения книг по подписке. Ваша первая задача как аналитика — проанализировать базу данных.\n",
    "В ней — информация о книгах, издательствах, авторах, а также пользовательские обзоры книг. Эти данные помогут сформулировать ценностное предложение для нового продукта."
   ]
  },
  {
   "attachments": {},
   "cell_type": "markdown",
   "metadata": {},
   "source": [
    "## Описание данных\n",
    "\n",
    "Таблица `books`  \n",
    "Содержит данные о книгах:\n",
    "- `book_id` — идентификатор книги;\n",
    "- `author_id` — идентификатор автора;\n",
    "- `title` — название книги;\n",
    "- `num_pages` — количество страниц;\n",
    "- `publication_date` — дата публикации книги;\n",
    "- `publisher_id` — идентификатор издателя.\n",
    "\n",
    "Таблица `authors`  \n",
    "Содержит данные об авторах:  \n",
    "- `author_id` — идентификатор автора;\n",
    "- `author` — имя автора.\n",
    "\n",
    "Таблица `publishers`  \n",
    "Содержит данные об издательствах:  \n",
    "- `publisher_id` — идентификатор издательства;\n",
    "- `publisher` — название издательства;\n",
    "\n",
    "Таблица `ratings`  \n",
    "Содержит данные о пользовательских оценках книг:  \n",
    "- `rating_id` — идентификатор оценки;\n",
    "- `book_id` — идентификатор книги;\n",
    "- `username` — имя пользователя, оставившего оценку;\n",
    "- `rating` — оценка книги.\n",
    "\n",
    "Таблица `reviews`  \n",
    "Содержит данные о пользовательских обзорах:  \n",
    "- `review_id` — идентификатор обзора;\n",
    "- `book_id` — идентификатор книги;\n",
    "- `username` — имя автора обзора;\n",
    "- `text` — текст обзора."
   ]
  },
  {
   "attachments": {},
   "cell_type": "markdown",
   "metadata": {},
   "source": [
    "## Задачи\n",
    "- Посчитайте, сколько книг вышло после 1 января 2000 года;\n",
    "- Для каждой книги посчитайте количество обзоров и среднюю оценку;\n",
    "- Определите издательство, которое выпустило наибольшее число книг толще 50 страниц — так вы исключите из анализа брошюры;\n",
    "- Определите автора с самой высокой средней оценкой книг — учитывайте только книги с 50 и более оценками;\n",
    "- Посчитайте среднее количество обзоров от пользователей, которые поставили больше 50 оценок."
   ]
  },
  {
   "attachments": {},
   "cell_type": "markdown",
   "metadata": {},
   "source": [
    "## Обзор данных"
   ]
  },
  {
   "cell_type": "code",
   "execution_count": null,
   "metadata": {},
   "outputs": [],
   "source": [
    "# Импортируем библиотеки\n",
    "import pandas as pd\n",
    "from sqlalchemy import create_engine"
   ]
  },
  {
   "cell_type": "code",
   "execution_count": null,
   "metadata": {},
   "outputs": [],
   "source": [
    "# Установим параметры\n",
    "db_config = {\n",
    "    'user': 'praktikum_student', # имя пользователя\n",
    "    'pwd': 'Sdf4$2;d-d30pp', # пароль\n",
    "    'host': 'rc1b-wcoijxj3yxfsf3fs.mdb.yandexcloud.net',\n",
    "    'port': 6432, # порт подключения\n",
    "    'db': 'data-analyst-final-project-db' # название базы данных\n",
    "} "
   ]
  },
  {
   "cell_type": "code",
   "execution_count": null,
   "metadata": {},
   "outputs": [],
   "source": [
    "# Пропишем строку подключения\n",
    "connection_string = 'postgresql://{}:{}@{}:{}/{}'.format(\n",
    "    db_config['user'],\n",
    "    db_config['pwd'],\n",
    "    db_config['host'],\n",
    "    db_config['port'],\n",
    "    db_config['db']\n",
    ")"
   ]
  },
  {
   "cell_type": "code",
   "execution_count": null,
   "metadata": {},
   "outputs": [],
   "source": [
    "# Сохраняем коннектор\n",
    "engine = create_engine(connection_string, connect_args={'sslmode': 'require'})"
   ]
  },
  {
   "cell_type": "code",
   "execution_count": null,
   "metadata": {},
   "outputs": [],
   "source": [
    "def output(query):\n",
    "    \"\"\" Функция выводит данные по запросу\n",
    "    \"\"\"\n",
    "    \n",
    "    return pd.io.sql.read_sql(query, con=engine)"
   ]
  },
  {
   "cell_type": "code",
   "execution_count": null,
   "metadata": {},
   "outputs": [],
   "source": [
    "# Выведем первые пять строк каждой таблицы\n",
    "for item in 'books', 'authors', 'publishers', 'ratings', 'reviews':\n",
    "    query = 'SELECT * FROM ' + item + ' LIMIT 5;'\n",
    "    display(pd.io.sql.read_sql(query, con=engine))\n",
    "    print('********************************************************************************************************') "
   ]
  },
  {
   "attachments": {},
   "cell_type": "markdown",
   "metadata": {},
   "source": [
    "### Посмотрим типы данных, пропуски, дубликаты"
   ]
  },
  {
   "cell_type": "code",
   "execution_count": null,
   "metadata": {},
   "outputs": [],
   "source": [
    "# Присвоим таблицам имена\n",
    "books = ''' SELECT * FROM books'''\n",
    "authors = ''' SELECT * FROM authors'''\n",
    "publishers = ''' SELECT * FROM publishers'''\n",
    "ratings = ''' SELECT * FROM ratings'''\n",
    "reviews = ''' SELECT * FROM reviews'''"
   ]
  },
  {
   "cell_type": "code",
   "execution_count": null,
   "metadata": {},
   "outputs": [],
   "source": [
    "# Выведем информацию о таблицах\n",
    "for df in output(books), output(authors), output(publishers), output(ratings), output(reviews):\n",
    "    display(df.info(), df.duplicated().sum(), df.isna().sum())\n",
    "    print('****************************************')"
   ]
  },
  {
   "attachments": {},
   "cell_type": "markdown",
   "metadata": {},
   "source": [
    "Вывод:\n",
    "- в таблицах не обнаружены пропуски и дубликаты;\n",
    "- в таблице `books`, в столбце `publication_date` изменим тип данных на datetime."
   ]
  },
  {
   "cell_type": "code",
   "execution_count": null,
   "metadata": {},
   "outputs": [],
   "source": [
    "books = pd.io.sql.read_sql(books, con=engine)\n",
    "books['publication_date'] = pd.to_datetime(books['publication_date'])"
   ]
  },
  {
   "cell_type": "code",
   "execution_count": null,
   "metadata": {},
   "outputs": [],
   "source": [
    "# Проверим изменения\n",
    "books.info()"
   ]
  },
  {
   "attachments": {},
   "cell_type": "markdown",
   "metadata": {},
   "source": [
    "ok"
   ]
  },
  {
   "cell_type": "code",
   "execution_count": null,
   "metadata": {},
   "outputs": [],
   "source": [
    "# Выведем SQL-запрос, отсортируем записи в порядке убывания \n",
    "# по полю `publication_date`\n",
    "publication_date = '''\n",
    "    SELECT title,\n",
    "    publication_date\n",
    "    FROM books\n",
    "    ORDER BY publication_date DESC \n",
    "'''\n",
    "\n",
    "output(publication_date)"
   ]
  },
  {
   "attachments": {},
   "cell_type": "markdown",
   "metadata": {},
   "source": [
    "## Исследовательский анализ данных"
   ]
  },
  {
   "attachments": {},
   "cell_type": "markdown",
   "metadata": {},
   "source": [
    "- Посчитаем количество книг вышедших после 1 января 2000 года"
   ]
  },
  {
   "cell_type": "code",
   "execution_count": null,
   "metadata": {},
   "outputs": [],
   "source": [
    "number_of_books = '''\n",
    "    SELECT COUNT(book_id) AS books_count\n",
    "    FROM books\n",
    "    WHERE publication_date::date > '2000-01-01'\n",
    "'''\n",
    "\n",
    "output(number_of_books)"
   ]
  },
  {
   "attachments": {},
   "cell_type": "markdown",
   "metadata": {},
   "source": [
    "Вывод:\n",
    "- после 1 января 2000 года было опубликовано 819 книг.\n",
    "\n",
    "---\n",
    "\n"
   ]
  },
  {
   "attachments": {},
   "cell_type": "markdown",
   "metadata": {},
   "source": [
    "- Для каждой книги посчитаем количество обзоров и среднюю оценку"
   ]
  },
  {
   "cell_type": "code",
   "execution_count": null,
   "metadata": {},
   "outputs": [],
   "source": [
    "# Объединим таблицы через LEFT JOIN\n",
    "average_rating = '''\n",
    "    SELECT t.title,\n",
    "    COUNT(t.title),\n",
    "    ROUND(AVG, 1) AS avg\n",
    "    FROM(\n",
    "        SELECT b.book_id, b.title,\n",
    "        AVG(rat.rating)\n",
    "        FROM books b\n",
    "        LEFT JOIN ratings AS rat ON b.book_id = rat.book_id\n",
    "        GROUP BY b.book_id\n",
    "    ) AS t\n",
    "    LEFT JOIN reviews AS rev ON t.book_id = rev.book_id\n",
    "    GROUP BY t.book_id, t.title, avg\n",
    "    ORDER BY COUNT(t.title) DESC\n",
    "'''\n",
    "\n",
    "output(average_rating)"
   ]
  },
  {
   "attachments": {},
   "cell_type": "markdown",
   "metadata": {},
   "source": [
    "Вывод:\n",
    "- наибольшее количество (7 шт.) обзоров у книги `Twilight (Twilight #1)` и её средняя оценка 3.66.\n",
    "\n",
    "---"
   ]
  },
  {
   "attachments": {},
   "cell_type": "markdown",
   "metadata": {},
   "source": [
    "- Определим издательство, которое выпустило наибольшее число книг толще 50 страниц — так мы исключим из анализа брошюры"
   ]
  },
  {
   "cell_type": "code",
   "execution_count": null,
   "metadata": {},
   "outputs": [],
   "source": [
    "# Соединим таблицы методом JOIN\n",
    "most_books = '''\n",
    "SELECT publisher AS p,\n",
    "COUNT(publishers) AS p_number\n",
    "FROM publishers\n",
    "JOIN books ON publishers.publisher_id = books.publisher_id\n",
    "WHERE num_pages > 50\n",
    "GROUP BY p\n",
    "ORDER BY p_number DESC\n",
    "LIMIT 10;\n",
    "'''\n",
    "\n",
    "output(most_books)"
   ]
  },
  {
   "attachments": {},
   "cell_type": "markdown",
   "metadata": {},
   "source": [
    "Вывод:\n",
    "- издательство Penguin Books выпустило 42 книги толще 50 листов.\n",
    "\n",
    "---"
   ]
  },
  {
   "attachments": {},
   "cell_type": "markdown",
   "metadata": {},
   "source": [
    "- Определим автора с самой высокой средней оценкой книг — учитыввем только книги с 50 и более оценками"
   ]
  },
  {
   "cell_type": "code",
   "execution_count": null,
   "metadata": {},
   "outputs": [],
   "source": [
    "# Используем две таблицы `books` и `ratings` через объединение INNER JOIN \n",
    "# с использованием подзапроса WHERE IN\n",
    "author_highest_avg_rating = '''\n",
    "    SELECT a.author,\n",
    "    ROUND(AVG(rat.rating),2),\n",
    "    COUNT(b.title)\n",
    "    FROM books AS b\n",
    "    INNER JOIN authors AS a ON b.author_id = a.author_id\n",
    "    INNER JOIN ratings AS rat ON b.book_id = rat.book_id\n",
    "    WHERE b.book_id IN\n",
    "        (SELECT b.book_id\n",
    "        FROM books AS b\n",
    "        INNER JOIN ratings AS rat on b.book_id = rat.book_id\n",
    "        GROUP BY b.book_id\n",
    "        HAVING COUNT(rat.rating) >= 50\n",
    "        )\n",
    "    GROUP BY a.author\n",
    "    ORDER BY AVG(rat.rating) DESC; \n",
    "''' \n",
    "\n",
    "output(author_highest_avg_rating)"
   ]
  },
  {
   "attachments": {},
   "cell_type": "markdown",
   "metadata": {},
   "source": [
    "Вывод:\n",
    "- автором с самой высокой средней оценкой книг является `J.K. Rowling/Mary GrandPré`.\n",
    "\n",
    "---"
   ]
  },
  {
   "attachments": {},
   "cell_type": "markdown",
   "metadata": {},
   "source": [
    "- Посчитаем среднее количество обзоров от пользователей, которые поставили больше 50 оценок."
   ]
  },
  {
   "cell_type": "code",
   "execution_count": null,
   "metadata": {},
   "outputs": [],
   "source": [
    "user_reviews = '''\n",
    "    SELECT ROUND(AVG(count), 2) AS average\n",
    "    FROM(\n",
    "        SELECT COUNT(text)\n",
    "        FROM reviews\n",
    "        FULL OUTER JOIN(\n",
    "            SELECT username,\n",
    "            COUNT(rating_id) AS cnt\n",
    "            FROM ratings\n",
    "            GROUP BY username) AS cnt_rating ON cnt_rating.username = reviews.username\n",
    "            WHERE cnt > 50\n",
    "            GROUP BY reviews.username\n",
    "            ) AS count\n",
    "'''\n",
    "\n",
    "output(user_reviews)"
   ]
  },
  {
   "attachments": {},
   "cell_type": "markdown",
   "metadata": {},
   "source": [
    "Вывод:\n",
    "- среднее количество обзоров от авторов поставивших более 50 оценок - 24.33\n",
    "\n",
    "---"
   ]
  },
  {
   "attachments": {},
   "cell_type": "markdown",
   "metadata": {},
   "source": [
    "## Итоговый вывод:\n",
    "- после 1 января 2000 года было опубликовано 819 книг;\n",
    "- наибольшее количество (7 шт.) обзоров у книги `Twilight (Twilight #1)` и её средняя оценка 3.66;\n",
    "- издательство Penguin Books выпустило 42 книги толще 50 листов;\n",
    "- автором с самой высокой средней оценкой книг является `J.K. Rowling/Mary GrandPré`;\n",
    "- среднее количество обзоров от авторов поставивших более 50 оценок - 24.33."
   ]
  },
  {
   "cell_type": "code",
   "execution_count": null,
   "metadata": {},
   "outputs": [],
   "source": []
  }
 ],
 "metadata": {
  "kernelspec": {
   "display_name": "gym",
   "language": "python",
   "name": "gym"
  },
  "language_info": {
   "codemirror_mode": {
    "name": "ipython",
    "version": 3
   },
   "file_extension": ".py",
   "mimetype": "text/x-python",
   "name": "python",
   "nbconvert_exporter": "python",
   "pygments_lexer": "ipython3",
   "version": "3.9.13"
  },
  "orig_nbformat": 4
 },
 "nbformat": 4,
 "nbformat_minor": 2
}
