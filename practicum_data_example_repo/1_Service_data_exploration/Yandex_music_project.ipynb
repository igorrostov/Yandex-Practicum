{
 "cells": [
  {
   "cell_type": "markdown",
   "metadata": {
    "deletable": false,
    "editable": false,
    "id": "Ml1hmfXC_Zcs"
   },
   "source": [
    "## Обзор данных\n",
    "\n",
    "Составьте первое представление о данных Яндекс Музыки.\n",
    "\n",
    "\n"
   ]
  },
  {
   "cell_type": "markdown",
   "metadata": {
    "deletable": false,
    "editable": false,
    "id": "57eAOGIz_Zcs",
    "tags": [
     "start_task"
    ]
   },
   "source": [
    "**Задание 1**\n",
    "\n",
    "Основной инструмент аналитика — `pandas`. Импортируйте эту библиотеку."
   ]
  },
  {
   "cell_type": "code",
   "execution_count": 1,
   "metadata": {
    "deletable": false,
    "id": "AXN7PHPN_Zcs"
   },
   "outputs": [],
   "source": [
    "# импорт библиотеки pandas\n",
    "import pandas as pd"
   ]
  },
  {
   "cell_type": "markdown",
   "metadata": {
    "deletable": false,
    "editable": false,
    "id": "SG23P8tt_Zcs",
    "tags": [
     "start_task"
    ]
   },
   "source": [
    "**Задание 2**\n",
    "\n",
    "Прочитайте файл `yandex_music_project.csv` из папки `/datasets` и сохраните его в переменной `df`:"
   ]
  },
  {
   "cell_type": "code",
   "execution_count": 2,
   "metadata": {
    "deletable": false,
    "id": "fFVu7vqh_Zct"
   },
   "outputs": [],
   "source": [
    "# чтение файла с данными и сохранение в df\n",
    "df = pd.read_csv(r\"C:\\Users\\User\\OneDrive\\Education\\1_Ya_DA\\5_basic_python\\project_1\\yandex_music_project.csv\")"
   ]
  },
  {
   "cell_type": "markdown",
   "metadata": {
    "deletable": false,
    "editable": false,
    "id": "rDoOMd3uTqnZ",
    "tags": [
     "start_task"
    ]
   },
   "source": [
    "**Задание 3**\n",
    "\n",
    "\n",
    "Выведите на экран первые десять строк таблицы:"
   ]
  },
  {
   "cell_type": "code",
   "execution_count": 3,
   "metadata": {
    "deletable": false,
    "id": "oWTVX3gW_Zct"
   },
   "outputs": [
    {
     "data": {
      "text/html": [
       "<div>\n",
       "<style scoped>\n",
       "    .dataframe tbody tr th:only-of-type {\n",
       "        vertical-align: middle;\n",
       "    }\n",
       "\n",
       "    .dataframe tbody tr th {\n",
       "        vertical-align: top;\n",
       "    }\n",
       "\n",
       "    .dataframe thead th {\n",
       "        text-align: right;\n",
       "    }\n",
       "</style>\n",
       "<table border=\"1\" class=\"dataframe\">\n",
       "  <thead>\n",
       "    <tr style=\"text-align: right;\">\n",
       "      <th></th>\n",
       "      <th>userID</th>\n",
       "      <th>Track</th>\n",
       "      <th>artist</th>\n",
       "      <th>genre</th>\n",
       "      <th>City</th>\n",
       "      <th>time</th>\n",
       "      <th>Day</th>\n",
       "    </tr>\n",
       "  </thead>\n",
       "  <tbody>\n",
       "    <tr>\n",
       "      <th>0</th>\n",
       "      <td>FFB692EC</td>\n",
       "      <td>Kamigata To Boots</td>\n",
       "      <td>The Mass Missile</td>\n",
       "      <td>rock</td>\n",
       "      <td>Saint-Petersburg</td>\n",
       "      <td>20:28:33</td>\n",
       "      <td>Wednesday</td>\n",
       "    </tr>\n",
       "    <tr>\n",
       "      <th>1</th>\n",
       "      <td>55204538</td>\n",
       "      <td>Delayed Because of Accident</td>\n",
       "      <td>Andreas Rönnberg</td>\n",
       "      <td>rock</td>\n",
       "      <td>Moscow</td>\n",
       "      <td>14:07:09</td>\n",
       "      <td>Friday</td>\n",
       "    </tr>\n",
       "    <tr>\n",
       "      <th>2</th>\n",
       "      <td>20EC38</td>\n",
       "      <td>Funiculì funiculà</td>\n",
       "      <td>Mario Lanza</td>\n",
       "      <td>pop</td>\n",
       "      <td>Saint-Petersburg</td>\n",
       "      <td>20:58:07</td>\n",
       "      <td>Wednesday</td>\n",
       "    </tr>\n",
       "    <tr>\n",
       "      <th>3</th>\n",
       "      <td>A3DD03C9</td>\n",
       "      <td>Dragons in the Sunset</td>\n",
       "      <td>Fire + Ice</td>\n",
       "      <td>folk</td>\n",
       "      <td>Saint-Petersburg</td>\n",
       "      <td>08:37:09</td>\n",
       "      <td>Monday</td>\n",
       "    </tr>\n",
       "    <tr>\n",
       "      <th>4</th>\n",
       "      <td>E2DC1FAE</td>\n",
       "      <td>Soul People</td>\n",
       "      <td>Space Echo</td>\n",
       "      <td>dance</td>\n",
       "      <td>Moscow</td>\n",
       "      <td>08:34:34</td>\n",
       "      <td>Monday</td>\n",
       "    </tr>\n",
       "    <tr>\n",
       "      <th>5</th>\n",
       "      <td>842029A1</td>\n",
       "      <td>Преданная</td>\n",
       "      <td>IMPERVTOR</td>\n",
       "      <td>rusrap</td>\n",
       "      <td>Saint-Petersburg</td>\n",
       "      <td>13:09:41</td>\n",
       "      <td>Friday</td>\n",
       "    </tr>\n",
       "    <tr>\n",
       "      <th>6</th>\n",
       "      <td>4CB90AA5</td>\n",
       "      <td>True</td>\n",
       "      <td>Roman Messer</td>\n",
       "      <td>dance</td>\n",
       "      <td>Moscow</td>\n",
       "      <td>13:00:07</td>\n",
       "      <td>Wednesday</td>\n",
       "    </tr>\n",
       "    <tr>\n",
       "      <th>7</th>\n",
       "      <td>F03E1C1F</td>\n",
       "      <td>Feeling This Way</td>\n",
       "      <td>Polina Griffith</td>\n",
       "      <td>dance</td>\n",
       "      <td>Moscow</td>\n",
       "      <td>20:47:49</td>\n",
       "      <td>Wednesday</td>\n",
       "    </tr>\n",
       "    <tr>\n",
       "      <th>8</th>\n",
       "      <td>8FA1D3BE</td>\n",
       "      <td>И вновь продолжается бой</td>\n",
       "      <td>NaN</td>\n",
       "      <td>ruspop</td>\n",
       "      <td>Moscow</td>\n",
       "      <td>09:17:40</td>\n",
       "      <td>Friday</td>\n",
       "    </tr>\n",
       "    <tr>\n",
       "      <th>9</th>\n",
       "      <td>E772D5C0</td>\n",
       "      <td>Pessimist</td>\n",
       "      <td>NaN</td>\n",
       "      <td>dance</td>\n",
       "      <td>Saint-Petersburg</td>\n",
       "      <td>21:20:49</td>\n",
       "      <td>Wednesday</td>\n",
       "    </tr>\n",
       "  </tbody>\n",
       "</table>\n",
       "</div>"
      ],
      "text/plain": [
       "     userID                        Track            artist   genre  \\\n",
       "0  FFB692EC            Kamigata To Boots  The Mass Missile    rock   \n",
       "1  55204538  Delayed Because of Accident  Andreas Rönnberg    rock   \n",
       "2    20EC38            Funiculì funiculà       Mario Lanza     pop   \n",
       "3  A3DD03C9        Dragons in the Sunset        Fire + Ice    folk   \n",
       "4  E2DC1FAE                  Soul People        Space Echo   dance   \n",
       "5  842029A1                    Преданная         IMPERVTOR  rusrap   \n",
       "6  4CB90AA5                         True      Roman Messer   dance   \n",
       "7  F03E1C1F             Feeling This Way   Polina Griffith   dance   \n",
       "8  8FA1D3BE     И вновь продолжается бой               NaN  ruspop   \n",
       "9  E772D5C0                    Pessimist               NaN   dance   \n",
       "\n",
       "             City        time        Day  \n",
       "0  Saint-Petersburg  20:28:33  Wednesday  \n",
       "1            Moscow  14:07:09     Friday  \n",
       "2  Saint-Petersburg  20:58:07  Wednesday  \n",
       "3  Saint-Petersburg  08:37:09     Monday  \n",
       "4            Moscow  08:34:34     Monday  \n",
       "5  Saint-Petersburg  13:09:41     Friday  \n",
       "6            Moscow  13:00:07  Wednesday  \n",
       "7            Moscow  20:47:49  Wednesday  \n",
       "8            Moscow  09:17:40     Friday  \n",
       "9  Saint-Petersburg  21:20:49  Wednesday  "
      ]
     },
     "execution_count": 3,
     "metadata": {},
     "output_type": "execute_result"
    }
   ],
   "source": [
    "# получение первых 10 строк таблицы df\n",
    "df.head(10)"
   ]
  },
  {
   "cell_type": "markdown",
   "metadata": {
    "deletable": false,
    "editable": false,
    "id": "EO73Kwic_Zct",
    "tags": [
     "start_task"
    ]
   },
   "source": [
    "**Задание 4**\n",
    "\n",
    "\n",
    "Одной командой получить общую информацию о таблице c помощью метода `info()`:"
   ]
  },
  {
   "cell_type": "code",
   "execution_count": 4,
   "metadata": {
    "deletable": false,
    "id": "DSf2kIb-_Zct"
   },
   "outputs": [
    {
     "name": "stdout",
     "output_type": "stream",
     "text": [
      "<class 'pandas.core.frame.DataFrame'>\n",
      "RangeIndex: 65079 entries, 0 to 65078\n",
      "Data columns (total 7 columns):\n",
      " #   Column    Non-Null Count  Dtype \n",
      "---  ------    --------------  ----- \n",
      " 0     userID  65079 non-null  object\n",
      " 1   Track     63848 non-null  object\n",
      " 2   artist    57876 non-null  object\n",
      " 3   genre     63881 non-null  object\n",
      " 4     City    65079 non-null  object\n",
      " 5   time      65079 non-null  object\n",
      " 6   Day       65079 non-null  object\n",
      "dtypes: object(7)\n",
      "memory usage: 3.5+ MB\n"
     ]
    }
   ],
   "source": [
    "# получение общей информации о данных в таблице df\n",
    "df.info()"
   ]
  },
  {
   "cell_type": "markdown",
   "metadata": {
    "deletable": false,
    "editable": false,
    "id": "TaQ2Iwbr_Zct"
   },
   "source": [
    "Итак, в таблице семь столбцов. Тип данных во всех столбцах — `object`.\n",
    "\n",
    "Согласно документации к данным:\n",
    "* `userID` — идентификатор пользователя;\n",
    "* `Track` — название трека;  \n",
    "* `artist` — имя исполнителя;\n",
    "* `genre` — название жанра;\n",
    "* `City` — город пользователя;\n",
    "* `time` — время начала прослушивания;\n",
    "* `Day` — день недели.\n",
    "\n",
    "Количество значений в столбцах различается. Значит, в данных есть пропущенные значения."
   ]
  },
  {
   "cell_type": "markdown",
   "metadata": {
    "deletable": false,
    "editable": false,
    "id": "rAfziTBDmf2h",
    "tags": [
     "start_task"
    ]
   },
   "source": [
    "**Задание 5**\n",
    "\n",
    "**Вопрос со свободной формой ответа**\n",
    "\n",
    "В названиях колонок видны нарушения стиля:\n",
    "* Строчные буквы сочетаются с прописными.\n",
    "* Встречаются пробелы.\n",
    "\n",
    "Какое третье нарушение?"
   ]
  },
  {
   "cell_type": "code",
   "execution_count": 5,
   "metadata": {
    "id": "jD8EXEIvmf2h"
   },
   "outputs": [],
   "source": [
    "# Напишите ваш ответ здесь комментарием. Не удаляйте символ #. Не меняйте тип этой ячейки на Markdown.\n",
    "#\n",
    "# Идентификатор пользователя ('userID') оформлен в стиле 'camelCase', \n",
    "# было бы лучше оформить в стиле 'snake_case' - 'user_id'\n"
   ]
  },
  {
   "cell_type": "markdown",
   "metadata": {
    "deletable": false,
    "editable": false,
    "id": "MCB6-dXG_Zct"
   },
   "source": [
    "**Выводы**\n",
    "\n",
    "В каждой строке таблицы — данные о прослушанном треке. Часть колонок описывает саму композицию: название, исполнителя и жанр. Остальные данные рассказывают о пользователе: из какого он города, когда он слушал музыку. \n",
    "\n",
    "Предварительно можно утверждать, что данных достаточно для проверки гипотез. Но встречаются пропуски в данных, а в названиях колонок — расхождения с хорошим стилем.\n",
    "\n",
    "Чтобы двигаться дальше, нужно устранить проблемы в данных."
   ]
  },
  {
   "cell_type": "markdown",
   "metadata": {
    "deletable": false,
    "editable": false,
    "id": "SjYF6Ub9_Zct"
   },
   "source": [
    "## Предобработка данных\n",
    "Исправьте стиль в заголовках столбцов, исключите пропуски. Затем проверьте данные на дубликаты."
   ]
  },
  {
   "cell_type": "markdown",
   "metadata": {
    "deletable": false,
    "editable": false,
    "id": "dIaKXr29_Zct",
    "tags": [
     "start_task"
    ]
   },
   "source": [
    "### Стиль заголовков\n",
    "\n",
    "**Задание 6**\n",
    "\n",
    "Выведите на экран названия столбцов:"
   ]
  },
  {
   "cell_type": "code",
   "execution_count": 6,
   "metadata": {
    "deletable": false,
    "id": "oKOTdF_Q_Zct"
   },
   "outputs": [
    {
     "data": {
      "text/plain": [
       "Index(['  userID', 'Track', 'artist', 'genre', '  City  ', 'time', 'Day'], dtype='object')"
      ]
     },
     "execution_count": 6,
     "metadata": {},
     "output_type": "execute_result"
    }
   ],
   "source": [
    "# перечень названий столбцов таблицы df\n",
    "df.columns"
   ]
  },
  {
   "cell_type": "markdown",
   "metadata": {
    "deletable": false,
    "editable": false,
    "id": "zj5534cv_Zct",
    "tags": [
     "start_task"
    ]
   },
   "source": [
    "**Задание 7**\n",
    "\n",
    "\n",
    "Приведите названия в соответствие с хорошим стилем:\n",
    "* несколько слов в названии запишите в «змеином_регистре»,\n",
    "* все символы сделайте строчными,\n",
    "* устраните пробелы.\n",
    "\n",
    "Для этого переименуйте колонки так:\n",
    "* `'  userID'` → `'user_id'`;\n",
    "* `'Track'` → `'track'`;\n",
    "* `'  City  '` → `'city'`;\n",
    "* `'Day'` → `'day'`."
   ]
  },
  {
   "cell_type": "code",
   "execution_count": 7,
   "metadata": {
    "deletable": false,
    "id": "ISlFqs5y_Zct"
   },
   "outputs": [],
   "source": [
    "# переименование столбцов\n",
    "df = df.rename(columns={'  userID': 'user_id',\n",
    "                       'Track': 'track',\n",
    "                       '  City  ': 'city',\n",
    "                       'Day': 'day'})"
   ]
  },
  {
   "cell_type": "markdown",
   "metadata": {
    "deletable": false,
    "editable": false,
    "id": "1dqbh00J_Zct",
    "tags": [
     "start_task"
    ]
   },
   "source": [
    "**Задание 8**\n",
    "\n",
    "\n",
    "Проверьте результат. Для этого ещё раз выведите на экран названия столбцов:"
   ]
  },
  {
   "cell_type": "code",
   "execution_count": 8,
   "metadata": {
    "deletable": false,
    "id": "d4NOAmTW_Zct"
   },
   "outputs": [
    {
     "data": {
      "text/plain": [
       "Index(['user_id', 'track', 'artist', 'genre', 'city', 'time', 'day'], dtype='object')"
      ]
     },
     "execution_count": 8,
     "metadata": {},
     "output_type": "execute_result"
    }
   ],
   "source": [
    "# проверка результатов - перечень названий столбцов\n",
    "df.columns"
   ]
  },
  {
   "cell_type": "markdown",
   "metadata": {
    "deletable": false,
    "editable": false,
    "id": "5ISfbcfY_Zct",
    "tags": [
     "start_task"
    ]
   },
   "source": [
    "### Пропуски значений\n",
    "\n",
    "**Задание 9**\n",
    "\n",
    "Сначала посчитайте, сколько в таблице пропущенных значений. Для этого достаточно двух методов `pandas`:"
   ]
  },
  {
   "cell_type": "code",
   "execution_count": 9,
   "metadata": {
    "deletable": false,
    "id": "RskX29qr_Zct"
   },
   "outputs": [
    {
     "data": {
      "text/plain": [
       "user_id       0\n",
       "track      1231\n",
       "artist     7203\n",
       "genre      1198\n",
       "city          0\n",
       "time          0\n",
       "day           0\n",
       "dtype: int64"
      ]
     },
     "execution_count": 9,
     "metadata": {},
     "output_type": "execute_result"
    }
   ],
   "source": [
    "# подсчёт пропусков\n",
    "df.isna().sum()"
   ]
  },
  {
   "cell_type": "markdown",
   "metadata": {
    "deletable": false,
    "editable": false,
    "id": "qubhgnlO_Zct"
   },
   "source": [
    "Не все пропущенные значения влияют на исследование. Так в `track` и `artist` пропуски не важны для вашей работы. Достаточно заменить их явными обозначениями.\n",
    "\n",
    "Но пропуски в `genre` могут помешать сравнению музыкальных вкусов в Москве и Санкт-Петербурге. На практике было бы правильно установить причину пропусков и восстановить данные. Такой возможности нет в учебном проекте. Придётся:\n",
    "* заполнить и эти пропуски явными обозначениями;\n",
    "* оценить, насколько они повредят расчётам. "
   ]
  },
  {
   "cell_type": "markdown",
   "metadata": {
    "deletable": false,
    "editable": false,
    "id": "fSv2laPA_Zct",
    "tags": [
     "start_task"
    ]
   },
   "source": [
    "**Задание 10**\n",
    "\n",
    "Замените пропущенные значения в столбцах `track`, `artist` и `genre` на строку `'unknown'`. Для этого создайте список `columns_to_replace`, переберите его элементы циклом `for` и для каждого столбца выполните замену пропущенных значений:"
   ]
  },
  {
   "cell_type": "code",
   "execution_count": 10,
   "metadata": {
    "deletable": false,
    "id": "KplB5qWs_Zct"
   },
   "outputs": [],
   "source": [
    "# перебор названий столбцов в цикле и замена пропущенных значений на 'unknown'\n",
    "columns_to_replace = ['track', 'artist', 'genre']\n",
    "for column in columns_to_replace:\n",
    "    df[column] = df[column].fillna('unknown')"
   ]
  },
  {
   "cell_type": "markdown",
   "metadata": {
    "deletable": false,
    "editable": false,
    "id": "Ilsm-MZo_Zct",
    "tags": [
     "start_task"
    ]
   },
   "source": [
    "**Задание 11**\n",
    "\n",
    "Убедитесь, что в таблице не осталось пропусков. Для этого ещё раз посчитайте пропущенные значения."
   ]
  },
  {
   "cell_type": "code",
   "execution_count": 11,
   "metadata": {
    "deletable": false,
    "id": "Tq4nYRX4_Zct"
   },
   "outputs": [
    {
     "data": {
      "text/plain": [
       "user_id    0\n",
       "track      0\n",
       "artist     0\n",
       "genre      0\n",
       "city       0\n",
       "time       0\n",
       "day        0\n",
       "dtype: int64"
      ]
     },
     "execution_count": 11,
     "metadata": {},
     "output_type": "execute_result"
    }
   ],
   "source": [
    "# подсчёт пропусков\n",
    "df.isna().sum()"
   ]
  },
  {
   "cell_type": "markdown",
   "metadata": {
    "deletable": false,
    "editable": false,
    "id": "BWKRtBJ3_Zct",
    "tags": [
     "start_task"
    ]
   },
   "source": [
    "### Дубликаты\n",
    "\n",
    "**Задание 12**\n",
    "\n",
    "Посчитайте явные дубликаты в таблице одной командой:"
   ]
  },
  {
   "cell_type": "code",
   "execution_count": 12,
   "metadata": {
    "deletable": false,
    "id": "36eES_S0_Zct"
   },
   "outputs": [
    {
     "data": {
      "text/plain": [
       "3826"
      ]
     },
     "execution_count": 12,
     "metadata": {},
     "output_type": "execute_result"
    }
   ],
   "source": [
    "# подсчёт явных дубликатов\n",
    "df.duplicated().sum()"
   ]
  },
  {
   "cell_type": "markdown",
   "metadata": {
    "deletable": false,
    "editable": false,
    "id": "Ot25h6XR_Zct",
    "tags": [
     "start_task"
    ]
   },
   "source": [
    "**Задание 13**\n",
    "\n",
    "Вызовите специальный метод `pandas`, чтобы удалить явные дубликаты:"
   ]
  },
  {
   "cell_type": "code",
   "execution_count": 13,
   "metadata": {
    "deletable": false,
    "id": "exFHq6tt_Zct"
   },
   "outputs": [],
   "source": [
    "# удаление явных дубликатов\n",
    "df = df.drop_duplicates().reset_index(drop=True)"
   ]
  },
  {
   "cell_type": "markdown",
   "metadata": {
    "deletable": false,
    "editable": false,
    "id": "Im2YwBEG_Zct",
    "tags": [
     "start_task"
    ]
   },
   "source": [
    "**Задание 14**\n",
    "\n",
    "Ещё раз посчитайте явные дубликаты в таблице — убедитесь, что полностью от них избавились:"
   ]
  },
  {
   "cell_type": "code",
   "execution_count": 14,
   "metadata": {
    "deletable": false,
    "id": "-8PuNWQ0_Zct"
   },
   "outputs": [
    {
     "data": {
      "text/plain": [
       "0"
      ]
     },
     "execution_count": 14,
     "metadata": {},
     "output_type": "execute_result"
    }
   ],
   "source": [
    "# проверка на отсутствие дубликатов\n",
    "df.duplicated().sum()"
   ]
  },
  {
   "cell_type": "markdown",
   "metadata": {
    "deletable": false,
    "editable": false,
    "id": "QlFBsxAr_Zct"
   },
   "source": [
    "Теперь избавьтесь от неявных дубликатов в колонке `genre`. Например, название одного и того же жанра может быть записано немного по-разному. Такие ошибки тоже повлияют на результат исследования."
   ]
  },
  {
   "cell_type": "markdown",
   "metadata": {
    "deletable": false,
    "editable": false,
    "id": "eSjWwsOh_Zct",
    "tags": [
     "start_task"
    ]
   },
   "source": [
    "**Задание 15**\n",
    "\n",
    "Выведите на экран список уникальных названий жанров, отсортированный в алфавитном порядке. Для этого:\n",
    "1. извлеките нужный столбец датафрейма; \n",
    "2. примените к нему метод сортировки;\n",
    "3. для отсортированного столбца вызовите метод, который вернёт уникальные значения из столбца."
   ]
  },
  {
   "cell_type": "code",
   "execution_count": 15,
   "metadata": {
    "deletable": false,
    "id": "JIUcqzZN_Zct"
   },
   "outputs": [
    {
     "data": {
      "text/plain": [
       "array(['acid', 'acoustic', 'action', 'adult', 'africa', 'afrikaans',\n",
       "       'alternative', 'alternativepunk', 'ambient', 'americana',\n",
       "       'animated', 'anime', 'arabesk', 'arabic', 'arena',\n",
       "       'argentinetango', 'art', 'audiobook', 'author', 'avantgarde',\n",
       "       'axé', 'baile', 'balkan', 'beats', 'bigroom', 'black', 'bluegrass',\n",
       "       'blues', 'bollywood', 'bossa', 'brazilian', 'breakbeat', 'breaks',\n",
       "       'broadway', 'cantautori', 'cantopop', 'canzone', 'caribbean',\n",
       "       'caucasian', 'celtic', 'chamber', 'chanson', 'children', 'chill',\n",
       "       'chinese', 'choral', 'christian', 'christmas', 'classical',\n",
       "       'classicmetal', 'club', 'colombian', 'comedy', 'conjazz',\n",
       "       'contemporary', 'country', 'cuban', 'dance', 'dancehall',\n",
       "       'dancepop', 'dark', 'death', 'deep', 'deutschrock', 'deutschspr',\n",
       "       'dirty', 'disco', 'dnb', 'documentary', 'downbeat', 'downtempo',\n",
       "       'drum', 'dub', 'dubstep', 'eastern', 'easy', 'electronic',\n",
       "       'electropop', 'emo', 'entehno', 'epicmetal', 'estrada', 'ethnic',\n",
       "       'eurofolk', 'european', 'experimental', 'extrememetal', 'fado',\n",
       "       'fairytail', 'film', 'fitness', 'flamenco', 'folk', 'folklore',\n",
       "       'folkmetal', 'folkrock', 'folktronica', 'forró', 'frankreich',\n",
       "       'französisch', 'french', 'funk', 'future', 'gangsta', 'garage',\n",
       "       'german', 'ghazal', 'gitarre', 'glitch', 'gospel', 'gothic',\n",
       "       'grime', 'grunge', 'gypsy', 'handsup', \"hard'n'heavy\", 'hardcore',\n",
       "       'hardstyle', 'hardtechno', 'hip', 'hip-hop', 'hiphop',\n",
       "       'historisch', 'holiday', 'hop', 'horror', 'house', 'hymn', 'idm',\n",
       "       'independent', 'indian', 'indie', 'indipop', 'industrial',\n",
       "       'inspirational', 'instrumental', 'international', 'irish', 'jam',\n",
       "       'japanese', 'jazz', 'jewish', 'jpop', 'jungle', 'k-pop',\n",
       "       'karadeniz', 'karaoke', 'kayokyoku', 'korean', 'laiko', 'latin',\n",
       "       'latino', 'leftfield', 'local', 'lounge', 'loungeelectronic',\n",
       "       'lovers', 'malaysian', 'mandopop', 'marschmusik', 'meditative',\n",
       "       'mediterranean', 'melodic', 'metal', 'metalcore', 'mexican',\n",
       "       'middle', 'minimal', 'miscellaneous', 'modern', 'mood', 'mpb',\n",
       "       'muslim', 'native', 'neoklassik', 'neue', 'new', 'newage',\n",
       "       'newwave', 'nu', 'nujazz', 'numetal', 'oceania', 'old', 'opera',\n",
       "       'orchestral', 'other', 'piano', 'podcasts', 'pop', 'popdance',\n",
       "       'popelectronic', 'popeurodance', 'poprussian', 'post',\n",
       "       'posthardcore', 'postrock', 'power', 'progmetal', 'progressive',\n",
       "       'psychedelic', 'punjabi', 'punk', 'quebecois', 'ragga', 'ram',\n",
       "       'rancheras', 'rap', 'rave', 'reggae', 'reggaeton', 'regional',\n",
       "       'relax', 'religious', 'retro', 'rhythm', 'rnb', 'rnr', 'rock',\n",
       "       'rockabilly', 'rockalternative', 'rockindie', 'rockother',\n",
       "       'romance', 'roots', 'ruspop', 'rusrap', 'rusrock', 'russian',\n",
       "       'salsa', 'samba', 'scenic', 'schlager', 'self', 'sertanejo',\n",
       "       'shanson', 'shoegazing', 'showtunes', 'singer', 'ska', 'skarock',\n",
       "       'slow', 'smooth', 'soft', 'soul', 'soulful', 'sound', 'soundtrack',\n",
       "       'southern', 'specialty', 'speech', 'spiritual', 'sport',\n",
       "       'stonerrock', 'surf', 'swing', 'synthpop', 'synthrock',\n",
       "       'sängerportrait', 'tango', 'tanzorchester', 'taraftar', 'tatar',\n",
       "       'tech', 'techno', 'teen', 'thrash', 'top', 'traditional',\n",
       "       'tradjazz', 'trance', 'tribal', 'trip', 'triphop', 'tropical',\n",
       "       'türk', 'türkçe', 'ukrrock', 'unknown', 'urban', 'uzbek',\n",
       "       'variété', 'vi', 'videogame', 'vocal', 'western', 'world',\n",
       "       'worldbeat', 'ïîï', 'электроника'], dtype=object)"
      ]
     },
     "execution_count": 15,
     "metadata": {},
     "output_type": "execute_result"
    }
   ],
   "source": [
    "# Просмотр уникальных названий жанров\n",
    "df['genre'].sort_values().unique()"
   ]
  },
  {
   "cell_type": "markdown",
   "metadata": {
    "deletable": false,
    "editable": false,
    "id": "qej-Qmuo_Zct",
    "tags": [
     "start_task"
    ]
   },
   "source": [
    "**Задание 16**\n",
    "\n",
    "Просмотрите список и найдите неявные дубликаты названия `hiphop`. Это могут быть названия с ошибками или альтернативные названия того же жанра.\n",
    "\n",
    "Вы увидите следующие неявные дубликаты:\n",
    "* *hip*,\n",
    "* *hop*,\n",
    "* *hip-hop*.\n",
    "\n",
    "Чтобы очистить от них таблицу используйте метод `replace()` с двумя аргументами: списком строк-дубликатов (включащий *hip*, *hop* и *hip-hop*) и строкой с правильным значением. Вам нужно исправить колонку `genre` в таблице `df`: заменить каждое значение из списка дубликатов на верное. Вместо `hip`, `hop` и `hip-hop` в таблице должно быть значение `hiphop`:"
   ]
  },
  {
   "cell_type": "code",
   "execution_count": 16,
   "metadata": {
    "deletable": false,
    "id": "ErNDkmns_Zct"
   },
   "outputs": [],
   "source": [
    "# Устранение неявных дубликатов\n",
    "df = df.replace('hip', 'hiphop')\n",
    "df = df.replace('hop', 'hiphop')\n",
    "df = df.replace('hip-hop', 'hiphop')"
   ]
  },
  {
   "cell_type": "markdown",
   "metadata": {
    "deletable": false,
    "editable": false,
    "id": "zQKF16_RG15m",
    "tags": [
     "start_task"
    ]
   },
   "source": [
    "**Задание 17**\n",
    "\n",
    "Проверьте, что заменили неправильные названия:\n",
    "\n",
    "*   hip,\n",
    "*   hop,\n",
    "*   hip-hop.\n",
    "\n",
    "Выведите отсортированный список уникальных значений столбца `genre`:"
   ]
  },
  {
   "cell_type": "code",
   "execution_count": 17,
   "metadata": {
    "deletable": false,
    "id": "wvixALnFG15m"
   },
   "outputs": [
    {
     "data": {
      "text/plain": [
       "array(['acid', 'acoustic', 'action', 'adult', 'africa', 'afrikaans',\n",
       "       'alternative', 'alternativepunk', 'ambient', 'americana',\n",
       "       'animated', 'anime', 'arabesk', 'arabic', 'arena',\n",
       "       'argentinetango', 'art', 'audiobook', 'author', 'avantgarde',\n",
       "       'axé', 'baile', 'balkan', 'beats', 'bigroom', 'black', 'bluegrass',\n",
       "       'blues', 'bollywood', 'bossa', 'brazilian', 'breakbeat', 'breaks',\n",
       "       'broadway', 'cantautori', 'cantopop', 'canzone', 'caribbean',\n",
       "       'caucasian', 'celtic', 'chamber', 'chanson', 'children', 'chill',\n",
       "       'chinese', 'choral', 'christian', 'christmas', 'classical',\n",
       "       'classicmetal', 'club', 'colombian', 'comedy', 'conjazz',\n",
       "       'contemporary', 'country', 'cuban', 'dance', 'dancehall',\n",
       "       'dancepop', 'dark', 'death', 'deep', 'deutschrock', 'deutschspr',\n",
       "       'dirty', 'disco', 'dnb', 'documentary', 'downbeat', 'downtempo',\n",
       "       'drum', 'dub', 'dubstep', 'eastern', 'easy', 'electronic',\n",
       "       'electropop', 'emo', 'entehno', 'epicmetal', 'estrada', 'ethnic',\n",
       "       'eurofolk', 'european', 'experimental', 'extrememetal', 'fado',\n",
       "       'fairytail', 'film', 'fitness', 'flamenco', 'folk', 'folklore',\n",
       "       'folkmetal', 'folkrock', 'folktronica', 'forró', 'frankreich',\n",
       "       'französisch', 'french', 'funk', 'future', 'gangsta', 'garage',\n",
       "       'german', 'ghazal', 'gitarre', 'glitch', 'gospel', 'gothic',\n",
       "       'grime', 'grunge', 'gypsy', 'handsup', \"hard'n'heavy\", 'hardcore',\n",
       "       'hardstyle', 'hardtechno', 'hiphop', 'historisch', 'holiday',\n",
       "       'horror', 'house', 'hymn', 'idm', 'independent', 'indian', 'indie',\n",
       "       'indipop', 'industrial', 'inspirational', 'instrumental',\n",
       "       'international', 'irish', 'jam', 'japanese', 'jazz', 'jewish',\n",
       "       'jpop', 'jungle', 'k-pop', 'karadeniz', 'karaoke', 'kayokyoku',\n",
       "       'korean', 'laiko', 'latin', 'latino', 'leftfield', 'local',\n",
       "       'lounge', 'loungeelectronic', 'lovers', 'malaysian', 'mandopop',\n",
       "       'marschmusik', 'meditative', 'mediterranean', 'melodic', 'metal',\n",
       "       'metalcore', 'mexican', 'middle', 'minimal', 'miscellaneous',\n",
       "       'modern', 'mood', 'mpb', 'muslim', 'native', 'neoklassik', 'neue',\n",
       "       'new', 'newage', 'newwave', 'nu', 'nujazz', 'numetal', 'oceania',\n",
       "       'old', 'opera', 'orchestral', 'other', 'piano', 'podcasts', 'pop',\n",
       "       'popdance', 'popelectronic', 'popeurodance', 'poprussian', 'post',\n",
       "       'posthardcore', 'postrock', 'power', 'progmetal', 'progressive',\n",
       "       'psychedelic', 'punjabi', 'punk', 'quebecois', 'ragga', 'ram',\n",
       "       'rancheras', 'rap', 'rave', 'reggae', 'reggaeton', 'regional',\n",
       "       'relax', 'religious', 'retro', 'rhythm', 'rnb', 'rnr', 'rock',\n",
       "       'rockabilly', 'rockalternative', 'rockindie', 'rockother',\n",
       "       'romance', 'roots', 'ruspop', 'rusrap', 'rusrock', 'russian',\n",
       "       'salsa', 'samba', 'scenic', 'schlager', 'self', 'sertanejo',\n",
       "       'shanson', 'shoegazing', 'showtunes', 'singer', 'ska', 'skarock',\n",
       "       'slow', 'smooth', 'soft', 'soul', 'soulful', 'sound', 'soundtrack',\n",
       "       'southern', 'specialty', 'speech', 'spiritual', 'sport',\n",
       "       'stonerrock', 'surf', 'swing', 'synthpop', 'synthrock',\n",
       "       'sängerportrait', 'tango', 'tanzorchester', 'taraftar', 'tatar',\n",
       "       'tech', 'techno', 'teen', 'thrash', 'top', 'traditional',\n",
       "       'tradjazz', 'trance', 'tribal', 'trip', 'triphop', 'tropical',\n",
       "       'türk', 'türkçe', 'ukrrock', 'unknown', 'urban', 'uzbek',\n",
       "       'variété', 'vi', 'videogame', 'vocal', 'western', 'world',\n",
       "       'worldbeat', 'ïîï', 'электроника'], dtype=object)"
      ]
     },
     "execution_count": 17,
     "metadata": {},
     "output_type": "execute_result"
    }
   ],
   "source": [
    "# Проверка на неявные дубликаты\n",
    "df['genre'].sort_values().unique()"
   ]
  },
  {
   "cell_type": "markdown",
   "metadata": {
    "deletable": false,
    "editable": false,
    "id": "jz6a9-7HQUDd"
   },
   "source": [
    "**Выводы**\n",
    "\n",
    "Предобработка обнаружила три проблемы в данных:\n",
    "\n",
    "- нарушения в стиле заголовков,\n",
    "- пропущенные значения,\n",
    "- дубликаты — явные и неявные.\n",
    "\n",
    "Вы исправили заголовки, чтобы упростить работу с таблицей. Без дубликатов исследование станет более точным.\n",
    "\n",
    "Пропущенные значения вы заменили на `'unknown'`. Ещё предстоит увидеть, не повредят ли исследованию пропуски в колонке `genre`.\n",
    "\n",
    "Теперь можно перейти к проверке гипотез. "
   ]
  },
  {
   "cell_type": "markdown",
   "metadata": {
    "deletable": false,
    "editable": false,
    "id": "WttZHXH0SqKk"
   },
   "source": [
    "## Проверка гипотез"
   ]
  },
  {
   "cell_type": "markdown",
   "metadata": {
    "deletable": false,
    "editable": false,
    "id": "Im936VVi_Zcu"
   },
   "source": [
    "### Сравнение поведения пользователей двух столиц"
   ]
  },
  {
   "cell_type": "markdown",
   "metadata": {
    "deletable": false,
    "editable": false,
    "id": "nwt_MuaL_Zcu"
   },
   "source": [
    "Первая гипотеза утверждает, что пользователи по-разному слушают музыку в Москве и Санкт-Петербурге. Проверьте это предположение по данным о трёх днях недели — понедельнике, среде и пятнице. Для этого:\n",
    "\n",
    "* Разделите пользователей Москвы и Санкт-Петербурга.\n",
    "* Сравните, сколько треков послушала каждая группа пользователей в понедельник, среду и пятницу.\n"
   ]
  },
  {
   "cell_type": "markdown",
   "metadata": {
    "deletable": false,
    "editable": false,
    "id": "8Dw_YMmT_Zcu",
    "tags": [
     "start_task"
    ]
   },
   "source": [
    "**Задание 18**\n",
    "\n",
    "Для тренировки сначала выполните каждый из расчётов по отдельности. \n",
    "\n",
    "Оцените активность пользователей в каждом городе. Сгруппируйте данные по городу и посчитайте прослушивания в каждой группе.\n",
    "\n"
   ]
  },
  {
   "cell_type": "code",
   "execution_count": 18,
   "metadata": {
    "deletable": false,
    "id": "0_Qs96oh_Zcu"
   },
   "outputs": [
    {
     "data": {
      "text/plain": [
       "city\n",
       "Moscow              42741\n",
       "Saint-Petersburg    18512\n",
       "Name: genre, dtype: int64"
      ]
     },
     "execution_count": 18,
     "metadata": {},
     "output_type": "execute_result"
    }
   ],
   "source": [
    "# Подсчёт прослушиваний в каждом городе\n",
    "df.groupby('city')['genre'].count()"
   ]
  },
  {
   "cell_type": "markdown",
   "metadata": {
    "deletable": false,
    "editable": false,
    "id": "dzli3w8o_Zcu",
    "tags": [
     "start_task"
    ]
   },
   "source": [
    "В Москве прослушиваний больше, чем в Петербурге. Из этого не следует, что московские пользователи чаще слушают музыку. Просто самих пользователей в Москве больше.\n",
    "\n",
    "**Задание 19**\n",
    "\n",
    "Теперь сгруппируйте данные по дню недели и посчитайте прослушивания в понедельник, среду и пятницу. Учтите, что в данных есть информация о прослушиваниях только за эти дни.\n"
   ]
  },
  {
   "cell_type": "code",
   "execution_count": 19,
   "metadata": {
    "deletable": false,
    "id": "uZMKjiJz_Zcu"
   },
   "outputs": [
    {
     "data": {
      "text/plain": [
       "day\n",
       "Friday       21840\n",
       "Monday       21354\n",
       "Wednesday    18059\n",
       "Name: genre, dtype: int64"
      ]
     },
     "execution_count": 19,
     "metadata": {},
     "output_type": "execute_result"
    }
   ],
   "source": [
    "# Подсчёт прослушиваний в каждый из трёх дней\n",
    "df.groupby('day')['genre'].count()"
   ]
  },
  {
   "cell_type": "markdown",
   "metadata": {
    "deletable": false,
    "editable": false,
    "id": "cC2tNrlL_Zcu"
   },
   "source": [
    "В среднем пользователи из двух городов менее активны по средам. Но картина может измениться, если рассмотреть каждый город в отдельности."
   ]
  },
  {
   "cell_type": "markdown",
   "metadata": {
    "deletable": false,
    "editable": false,
    "id": "POzs8bGa_Zcu",
    "tags": [
     "start_task"
    ]
   },
   "source": [
    "**Задание 20**\n",
    "\n",
    "\n",
    "Вы видели, как работает группировка по городу и по дням недели. Теперь напишите функцию, которая объединит два эти расчёта.\n",
    "\n",
    "Создайте функцию `number_tracks()`, которая посчитает прослушивания для заданного дня и города. Ей понадобятся два параметра:\n",
    "* день недели,\n",
    "* название города.\n",
    "\n",
    "В функции сохраните в переменную строки исходной таблицы, у которых значение:\n",
    "  * в колонке `day` равно параметру `day`,\n",
    "  * в колонке `city` равно параметру `city`.\n",
    "\n",
    "Для этого примените последовательную фильтрацию с логической индексацией (или сложные логические выражения в одну строку, если вы уже знакомы с ними).\n",
    "\n",
    "Затем посчитайте значения в столбце `user_id` получившейся таблицы. Результат сохраните в новую переменную. Верните эту переменную из функции."
   ]
  },
  {
   "cell_type": "code",
   "execution_count": 20,
   "metadata": {
    "deletable": false,
    "id": "Nz3GdQB1_Zcu"
   },
   "outputs": [],
   "source": [
    "# <создание функции number_tracks()>\n",
    "# Объявляется функция с двумя параметрами: day, city.\n",
    "# В переменной track_list сохраняются те строки таблицы df, для которых \n",
    "# значение в столбце 'day' равно параметру day и одновременно значение\n",
    "# в столбце 'city' равно параметру city (используйте последовательную фильтрацию\n",
    "# с помощью логической индексации или сложные логические выражения в одну строку, если вы уже знакомы с ними).\n",
    "# В переменной track_list_count сохраняется число значений столбца 'user_id',\n",
    "# рассчитанное методом count() для таблицы track_list.\n",
    "# Функция возвращает число - значение track_list_count.\n",
    "\n",
    "# Функция для подсчёта прослушиваний для конкретного города и дня.\n",
    "# С помощью последовательной фильтрации с логической индексацией она \n",
    "# сначала получит из исходной таблицы строки с нужным днём,\n",
    "# затем из результата отфильтрует строки с нужным городом,\n",
    "# методом count() посчитает количество значений в колонке user_id. \n",
    "# Это количество функция вернёт в качестве результата\n",
    "\n",
    "def number_tracks(day, city):\n",
    "    track_list = df[(df['day'] == day) & (df['city'] == city)]\n",
    "    track_list_count = track_list['user_id'].count()\n",
    "    return track_list_count\n",
    "    "
   ]
  },
  {
   "cell_type": "markdown",
   "metadata": {
    "deletable": false,
    "editable": false,
    "id": "ytf7xFrFJQ2r",
    "tags": [
     "start_task"
    ]
   },
   "source": [
    "**Задание 21**\n",
    "\n",
    "Вызовите `number_tracks()` шесть раз, меняя значение параметров — так, чтобы получить данные для каждого города в каждый из трёх дней."
   ]
  },
  {
   "cell_type": "code",
   "execution_count": 21,
   "metadata": {
    "deletable": false,
    "id": "rJcRATNQ_Zcu"
   },
   "outputs": [
    {
     "name": "stdout",
     "output_type": "stream",
     "text": [
      "15740\n"
     ]
    }
   ],
   "source": [
    "# количество прослушиваний в Москве по понедельникам\n",
    "print(number_tracks('Monday', 'Moscow'))"
   ]
  },
  {
   "cell_type": "code",
   "execution_count": 22,
   "metadata": {
    "deletable": false,
    "id": "hq_ncZ5T_Zcu"
   },
   "outputs": [
    {
     "name": "stdout",
     "output_type": "stream",
     "text": [
      "5614\n"
     ]
    }
   ],
   "source": [
    "# количество прослушиваний в Санкт-Петербурге по понедельникам\n",
    "print(number_tracks('Monday', 'Saint-Petersburg'))"
   ]
  },
  {
   "cell_type": "code",
   "execution_count": 23,
   "metadata": {
    "deletable": false,
    "id": "_NTy2VPU_Zcu"
   },
   "outputs": [
    {
     "name": "stdout",
     "output_type": "stream",
     "text": [
      "11056\n"
     ]
    }
   ],
   "source": [
    "# количество прослушиваний в Москве по средам\n",
    "print(number_tracks('Wednesday', 'Moscow'))"
   ]
  },
  {
   "cell_type": "code",
   "execution_count": 24,
   "metadata": {
    "deletable": false,
    "id": "j2y3TAwo_Zcu"
   },
   "outputs": [
    {
     "name": "stdout",
     "output_type": "stream",
     "text": [
      "7003\n"
     ]
    }
   ],
   "source": [
    "# количество прослушиваний в Санкт-Петербурге по средам\n",
    "print(number_tracks('Wednesday', 'Saint-Petersburg'))"
   ]
  },
  {
   "cell_type": "code",
   "execution_count": 25,
   "metadata": {
    "deletable": false,
    "id": "vYDw5u_K_Zcu"
   },
   "outputs": [
    {
     "name": "stdout",
     "output_type": "stream",
     "text": [
      "15945\n"
     ]
    }
   ],
   "source": [
    "# количество прослушиваний в Москве по пятницам\n",
    "print(number_tracks('Friday', 'Moscow'))"
   ]
  },
  {
   "cell_type": "code",
   "execution_count": 26,
   "metadata": {
    "deletable": false,
    "id": "8_yzFtW3_Zcu"
   },
   "outputs": [
    {
     "name": "stdout",
     "output_type": "stream",
     "text": [
      "5895\n"
     ]
    }
   ],
   "source": [
    "# количество прослушиваний в Санкт-Петербурге по пятницам\n",
    "print(number_tracks('Friday', 'Saint-Petersburg'))"
   ]
  },
  {
   "cell_type": "markdown",
   "metadata": {
    "deletable": false,
    "editable": false,
    "id": "7QXffbO-_Zcu",
    "tags": [
     "start_task"
    ]
   },
   "source": [
    "**Задание 22**\n",
    "\n",
    "Создайте c помощью конструктора `pd.DataFrame` таблицу, где\n",
    "* названия колонок — `['city', 'monday', 'wednesday', 'friday']`;\n",
    "* данные — результаты, которые вы получили с помощью `number_tracks`."
   ]
  },
  {
   "cell_type": "code",
   "execution_count": 27,
   "metadata": {
    "deletable": false,
    "id": "APAcLpOr_Zcu"
   },
   "outputs": [
    {
     "data": {
      "text/html": [
       "<div>\n",
       "<style scoped>\n",
       "    .dataframe tbody tr th:only-of-type {\n",
       "        vertical-align: middle;\n",
       "    }\n",
       "\n",
       "    .dataframe tbody tr th {\n",
       "        vertical-align: top;\n",
       "    }\n",
       "\n",
       "    .dataframe thead th {\n",
       "        text-align: right;\n",
       "    }\n",
       "</style>\n",
       "<table border=\"1\" class=\"dataframe\">\n",
       "  <thead>\n",
       "    <tr style=\"text-align: right;\">\n",
       "      <th></th>\n",
       "      <th>city</th>\n",
       "      <th>monday</th>\n",
       "      <th>wednesday</th>\n",
       "      <th>friday</th>\n",
       "    </tr>\n",
       "  </thead>\n",
       "  <tbody>\n",
       "    <tr>\n",
       "      <th>0</th>\n",
       "      <td>Moscow</td>\n",
       "      <td>16715</td>\n",
       "      <td>11755</td>\n",
       "      <td>16890</td>\n",
       "    </tr>\n",
       "    <tr>\n",
       "      <th>1</th>\n",
       "      <td>Saint-Petersburg</td>\n",
       "      <td>5982</td>\n",
       "      <td>7478</td>\n",
       "      <td>6259</td>\n",
       "    </tr>\n",
       "  </tbody>\n",
       "</table>\n",
       "</div>"
      ],
      "text/plain": [
       "               city  monday  wednesday  friday\n",
       "0            Moscow   16715      11755   16890\n",
       "1  Saint-Petersburg    5982       7478    6259"
      ]
     },
     "execution_count": 27,
     "metadata": {},
     "output_type": "execute_result"
    }
   ],
   "source": [
    "# Таблица с результатами\n",
    "data = [\n",
    "    ['Moscow', 16715, 11755, 16890],\n",
    "    ['Saint-Petersburg', 5982, 7478, 6259],\n",
    "]\n",
    "                   \n",
    "columns = ['city', 'monday', 'wednesday', 'friday']\n",
    "\n",
    "pd.DataFrame(data=data, columns=columns)"
   ]
  },
  {
   "cell_type": "markdown",
   "metadata": {
    "deletable": false,
    "editable": false,
    "id": "-EgPIHYu_Zcu"
   },
   "source": [
    "**Выводы**\n",
    "\n",
    "Данные показывают разницу поведения пользователей:\n",
    "\n",
    "- В Москве пик прослушиваний приходится на понедельник и пятницу, а в среду заметен спад.\n",
    "- В Петербурге, наоборот, больше слушают музыку по средам. Активность в понедельник и пятницу здесь почти в равной мере уступает среде.\n",
    "\n",
    "Значит, данные говорят в пользу первой гипотезы."
   ]
  },
  {
   "cell_type": "markdown",
   "metadata": {
    "deletable": false,
    "editable": false,
    "id": "atZAxtq4_Zcu"
   },
   "source": [
    "### Музыка в начале и в конце недели"
   ]
  },
  {
   "cell_type": "markdown",
   "metadata": {
    "deletable": false,
    "editable": false,
    "id": "eXrQqXFH_Zcu"
   },
   "source": [
    "Согласно второй гипотезе, утром в понедельник в Москве преобладают одни жанры, а в Петербурге — другие. Так же и вечером пятницы преобладают разные жанры — в зависимости от города."
   ]
  },
  {
   "cell_type": "markdown",
   "metadata": {
    "deletable": false,
    "editable": false,
    "id": "S8UcW6Hw_Zcu",
    "tags": [
     "start_task"
    ]
   },
   "source": [
    "**Задание 23**\n",
    "\n",
    "Сохраните таблицы с данными в две переменные:\n",
    "* по Москве — в `moscow_general`;\n",
    "* по Санкт-Петербургу — в `spb_general`."
   ]
  },
  {
   "cell_type": "code",
   "execution_count": 28,
   "metadata": {
    "deletable": false,
    "id": "qeaFfM_P_Zcu"
   },
   "outputs": [],
   "source": [
    "# получение таблицы moscow_general из тех строк таблицы df, \n",
    "# для которых значение в столбце 'city' равно 'Moscow'\n",
    "moscow_general = df[df['city'] == 'Moscow']"
   ]
  },
  {
   "cell_type": "code",
   "execution_count": 29,
   "metadata": {
    "deletable": false,
    "id": "ORaVRKto_Zcu"
   },
   "outputs": [],
   "source": [
    "# получение таблицы spb_general из тех строк таблицы df,\n",
    "# для которых значение в столбце 'city' равно 'Saint-Petersburg'\n",
    "spb_general = df[df['city'] == 'Saint-Petersburg']"
   ]
  },
  {
   "cell_type": "markdown",
   "metadata": {
    "deletable": false,
    "editable": false,
    "id": "MEJV-CX2_Zcu",
    "tags": [
     "start_task"
    ]
   },
   "source": [
    "**Задание 24**\n",
    "\n",
    "Создайте функцию `genre_weekday()` с четырьмя параметрами:\n",
    "* таблица (датафрейм) с данными,\n",
    "* день недели,\n",
    "* начальная временная метка в формате 'hh:mm', \n",
    "* последняя временная метка в формате 'hh:mm'.\n",
    "\n",
    "Функция должна вернуть информацию о топ-10 жанров тех треков, которые прослушивали в указанный день, в промежутке между двумя отметками времени."
   ]
  },
  {
   "cell_type": "code",
   "execution_count": 30,
   "metadata": {
    "deletable": false,
    "id": "laJT9BYl_Zcu"
   },
   "outputs": [],
   "source": [
    "# Объявление функции genre_weekday() с параметрами table, day, time1, time2,\n",
    "# которая возвращает информацию о самых популярных жанрах в указанный день в\n",
    "# заданное время:\n",
    "# 1) в переменную genre_df сохраняются те строки переданного датафрейма table, для\n",
    "#    которых одновременно:\n",
    "#    - значение в столбце day равно значению аргумента day\n",
    "#    - значение в столбце time больше значения аргумента time1\n",
    "#    - значение в столбце time меньше значения аргумента time2\n",
    "#    Используйте последовательную фильтрацию с помощью логической индексации.\n",
    "# 2) сгруппировать датафрейм genre_df по столбцу genre, взять один из его\n",
    "#    столбцов и посчитать методом count() количество записей для каждого из\n",
    "#    присутствующих жанров, получившийся Series записать в переменную\n",
    "#    genre_df_count\n",
    "# 3) отсортировать genre_df_count по убыванию встречаемости и сохранить\n",
    "#    в переменную genre_df_sorted\n",
    "# 4) вернуть Series из 10 первых значений genre_df_sorted, это будут топ-10\n",
    "#    популярных жанров (в указанный день, в заданное время)\n",
    "\n",
    "def genre_weekday(df, day, time1, time2):\n",
    "    # последовательная фильтрация\n",
    "    # оставляем в genre_df только те строки df, у которых день равен day\n",
    "    genre_df = df[df['day'] == day] # ваш код здесь\n",
    "    # оставляем в genre_df только те строки genre_df, у которых время меньше time2\n",
    "    genre_df = genre_df[genre_df['time'] < time2] # ваш код здесь\n",
    "    # оставляем в genre_df только те строки genre_df, у которых время больше time1\n",
    "    genre_df = genre_df[genre_df['time'] > time1]# ваш код здесь\n",
    "    # сгруппируем отфильтрованный датафрейм по столбцу с названиями жанров, возьмём столбец genre и посчитаем кол-во строк для каждого жанра методом count()\n",
    "    genre_df_grouped = genre_df.groupby('genre')['genre'].count() # ваш код здесь\n",
    "    # отсортируем результат по убыванию (чтобы в начале Series оказались самые популярные жанры)\n",
    "    genre_df_sorted = genre_df_grouped.sort_values(ascending=False) # ваш код здесь\n",
    "    # вернём Series с 10 самыми популярными жанрами в указанный отрезок времени заданного дня\n",
    "    return genre_df_sorted[:10]"
   ]
  },
  {
   "cell_type": "markdown",
   "metadata": {
    "deletable": false,
    "editable": false,
    "id": "la2s2_PF_Zcu",
    "tags": [
     "start_task"
    ]
   },
   "source": [
    "**Задание 25**\n",
    "\n",
    "\n",
    "Cравните результаты функции `genre_weekday()` для Москвы и Санкт-Петербурга в понедельник утром (с 7:00 до 11:00) и в пятницу вечером (с 17:00 до 23:00):"
   ]
  },
  {
   "cell_type": "code",
   "execution_count": 31,
   "metadata": {
    "deletable": false,
    "id": "yz7itPUQ_Zcu"
   },
   "outputs": [
    {
     "data": {
      "text/plain": [
       "genre\n",
       "pop            781\n",
       "dance          549\n",
       "electronic     480\n",
       "rock           474\n",
       "hiphop         286\n",
       "ruspop         186\n",
       "world          181\n",
       "rusrap         175\n",
       "alternative    164\n",
       "unknown        161\n",
       "Name: genre, dtype: int64"
      ]
     },
     "execution_count": 31,
     "metadata": {},
     "output_type": "execute_result"
    }
   ],
   "source": [
    "# вызов функции для утра понедельника в Москве (вместо df — таблица moscow_general)\n",
    "# объекты, хранящие время, являются строками и сравниваются как строки\n",
    "# пример вызова: genre_weekday(moscow_general, 'Monday', '07:00', '11:00')\n",
    "genre_weekday(moscow_general, 'Monday', '07:00', '11:00')"
   ]
  },
  {
   "cell_type": "code",
   "execution_count": 32,
   "metadata": {
    "deletable": false,
    "id": "kwUcHPdy_Zcu"
   },
   "outputs": [
    {
     "data": {
      "text/plain": [
       "genre\n",
       "pop            218\n",
       "dance          182\n",
       "rock           162\n",
       "electronic     147\n",
       "hiphop          80\n",
       "ruspop          64\n",
       "alternative     58\n",
       "rusrap          55\n",
       "jazz            44\n",
       "classical       40\n",
       "Name: genre, dtype: int64"
      ]
     },
     "execution_count": 32,
     "metadata": {},
     "output_type": "execute_result"
    }
   ],
   "source": [
    "# вызов функции для утра понедельника в Петербурге (вместо df — таблица spb_general)\n",
    "genre_weekday(spb_general, 'Monday', '07:00', '11:00')"
   ]
  },
  {
   "cell_type": "code",
   "execution_count": 33,
   "metadata": {
    "deletable": false,
    "id": "EzXVRE1o_Zcu"
   },
   "outputs": [
    {
     "data": {
      "text/plain": [
       "genre\n",
       "pop            713\n",
       "rock           517\n",
       "dance          495\n",
       "electronic     482\n",
       "hiphop         273\n",
       "world          208\n",
       "ruspop         170\n",
       "alternative    163\n",
       "classical      163\n",
       "rusrap         142\n",
       "Name: genre, dtype: int64"
      ]
     },
     "execution_count": 33,
     "metadata": {},
     "output_type": "execute_result"
    }
   ],
   "source": [
    "# вызов функции для вечера пятницы в Москве\n",
    "genre_weekday(moscow_general, 'Friday', '17:00', '23:00')"
   ]
  },
  {
   "cell_type": "code",
   "execution_count": 34,
   "metadata": {
    "deletable": false,
    "id": "JZaEKu5v_Zcu"
   },
   "outputs": [
    {
     "data": {
      "text/plain": [
       "genre\n",
       "pop            256\n",
       "electronic     216\n",
       "rock           216\n",
       "dance          210\n",
       "hiphop          97\n",
       "alternative     63\n",
       "jazz            61\n",
       "classical       60\n",
       "rusrap          59\n",
       "world           54\n",
       "Name: genre, dtype: int64"
      ]
     },
     "execution_count": 34,
     "metadata": {},
     "output_type": "execute_result"
    }
   ],
   "source": [
    "# вызов функции для вечера пятницы в Петербурге\n",
    "genre_weekday(spb_general, 'Friday', '17:00', '23:00')"
   ]
  },
  {
   "cell_type": "markdown",
   "metadata": {
    "deletable": false,
    "editable": false,
    "id": "wrCe4MNX_Zcu"
   },
   "source": [
    "**Выводы**\n",
    "\n",
    "Если сравнить топ-10 жанров в понедельник утром, можно сделать такие выводы:\n",
    "\n",
    "1. В Москве и Петербурге слушают похожую музыку. Единственное отличие — в московский рейтинг вошёл жанр “world”, а в петербургский — джаз и классика.\n",
    "\n",
    "2. В Москве пропущенных значений оказалось так много, что значение `'unknown'` заняло десятое место среди самых популярных жанров. Значит, пропущенные значения занимают существенную долю в данных и угрожают достоверности исследования.\n",
    "\n",
    "Вечер пятницы не меняет эту картину. Некоторые жанры поднимаются немного выше, другие спускаются, но в целом топ-10 остаётся тем же самым.\n",
    "\n",
    "Таким образом, вторая гипотеза подтвердилась лишь частично:\n",
    "* Пользователи слушают похожую музыку в начале недели и в конце.\n",
    "* Разница между Москвой и Петербургом не слишком выражена. В Москве чаще слушают русскую популярную музыку, в Петербурге — джаз.\n",
    "\n",
    "Однако пропуски в данных ставят под сомнение этот результат. В Москве их так много, что рейтинг топ-10 мог бы выглядеть иначе, если бы не утерянные  данные о жанрах."
   ]
  },
  {
   "cell_type": "markdown",
   "metadata": {
    "deletable": false,
    "editable": false,
    "id": "JolODAqr_Zcu"
   },
   "source": [
    "### Жанровые предпочтения в Москве и Петербурге\n",
    "\n",
    "Гипотеза: Петербург — столица рэпа, музыку этого жанра там слушают чаще, чем в Москве.  А Москва — город контрастов, в котором, тем не менее, преобладает поп-музыка."
   ]
  },
  {
   "cell_type": "markdown",
   "metadata": {
    "deletable": false,
    "editable": false,
    "id": "DlegSvaT_Zcu",
    "tags": [
     "start_task"
    ]
   },
   "source": [
    "**Задание 26**\n",
    "\n",
    "Сгруппируйте таблицу `moscow_general` по жанру и посчитайте прослушивания треков каждого жанра методом `count()`. Затем отсортируйте результат в порядке убывания и сохраните его в таблице `moscow_genres`."
   ]
  },
  {
   "cell_type": "code",
   "execution_count": 35,
   "metadata": {
    "deletable": false,
    "id": "r19lIPke_Zcu"
   },
   "outputs": [],
   "source": [
    "# одной строкой: группировка таблицы moscow_general по столбцу 'genre', \n",
    "# подсчёт числа значений 'genre' в этой группировке методом count(), \n",
    "# сортировка получившегося Series в порядке убывания и сохранение в moscow_genres\n",
    "moscow_genres = moscow_general.groupby('genre')['genre'].count().sort_values(ascending=False)"
   ]
  },
  {
   "cell_type": "markdown",
   "metadata": {
    "deletable": false,
    "editable": false,
    "id": "6kMuomxTiIr8",
    "tags": [
     "start_task"
    ]
   },
   "source": [
    "**Задание 27**\n",
    "\n",
    "Выведите на экран первые десять строк `moscow_genres`:"
   ]
  },
  {
   "cell_type": "code",
   "execution_count": 36,
   "metadata": {
    "deletable": false,
    "id": "WhCSooF8_Zcv"
   },
   "outputs": [
    {
     "data": {
      "text/plain": [
       "genre\n",
       "pop            5892\n",
       "dance          4435\n",
       "rock           3965\n",
       "electronic     3786\n",
       "hiphop         2096\n",
       "classical      1616\n",
       "world          1432\n",
       "alternative    1379\n",
       "ruspop         1372\n",
       "rusrap         1161\n",
       "Name: genre, dtype: int64"
      ]
     },
     "execution_count": 36,
     "metadata": {},
     "output_type": "execute_result"
    }
   ],
   "source": [
    "# просмотр первых 10 строк moscow_genres\n",
    "moscow_genres.head(10)"
   ]
  },
  {
   "cell_type": "markdown",
   "metadata": {
    "deletable": false,
    "editable": false,
    "id": "cnPG2vnN_Zcv",
    "tags": [
     "start_task"
    ]
   },
   "source": [
    "**Задание 28**\n",
    "\n",
    "\n",
    "Теперь повторите то же и для Петербурга.\n",
    "\n",
    "Сгруппируйте таблицу `spb_general` по жанру. Посчитайте прослушивания треков каждого жанра. Результат отсортируйте в порядке убывания и сохраните в таблице `spb_genres`:\n"
   ]
  },
  {
   "cell_type": "code",
   "execution_count": 37,
   "metadata": {
    "deletable": false,
    "id": "gluLIpE7_Zcv"
   },
   "outputs": [],
   "source": [
    "# одной строкой: группировка таблицы spb_general по столбцу 'genre', \n",
    "# подсчёт числа значений 'genre' в этой группировке методом count(), \n",
    "# сортировка получившегося Series в порядке убывания и сохранение в spb_genres\n",
    "spb_genres = spb_general.groupby('genre')['genre'].count().sort_values(ascending=False)"
   ]
  },
  {
   "cell_type": "markdown",
   "metadata": {
    "deletable": false,
    "editable": false,
    "id": "5Doha_ODgyQ8",
    "tags": [
     "start_task"
    ]
   },
   "source": [
    "**Задание 29**\n",
    "\n",
    "Выведите на экран первые десять строк `spb_genres`:"
   ]
  },
  {
   "cell_type": "code",
   "execution_count": 38,
   "metadata": {
    "deletable": false,
    "id": "uaGJHjVU_Zcv"
   },
   "outputs": [
    {
     "data": {
      "text/plain": [
       "genre\n",
       "pop            2431\n",
       "dance          1932\n",
       "rock           1879\n",
       "electronic     1736\n",
       "hiphop          960\n",
       "alternative     649\n",
       "classical       646\n",
       "rusrap          564\n",
       "ruspop          538\n",
       "world           515\n",
       "Name: genre, dtype: int64"
      ]
     },
     "execution_count": 38,
     "metadata": {},
     "output_type": "execute_result"
    }
   ],
   "source": [
    "# просмотр первых 10 строк spb_genres\n",
    "spb_genres.head(10)"
   ]
  },
  {
   "cell_type": "markdown",
   "metadata": {
    "deletable": false,
    "editable": false,
    "id": "RY51YJYu_Zcv"
   },
   "source": [
    "**Выводы**"
   ]
  },
  {
   "cell_type": "markdown",
   "metadata": {
    "deletable": false,
    "editable": false,
    "id": "nVhnJEm__Zcv"
   },
   "source": [
    "Гипотеза частично подтвердилась:\n",
    "* Поп-музыка — самый популярный жанр в Москве, как и предполагала гипотеза. Более того, в топ-10 жанров встречается близкий жанр — русская популярная музыка.\n",
    "* Вопреки ожиданиям, рэп одинаково популярен в Москве и Петербурге. \n"
   ]
  },
  {
   "cell_type": "markdown",
   "metadata": {
    "deletable": false,
    "editable": false,
    "id": "ykKQ0N65_Zcv"
   },
   "source": [
    "## Итоги исследования"
   ]
  },
  {
   "cell_type": "markdown",
   "metadata": {
    "deletable": false,
    "editable": false,
    "id": "tjUwbHb3_Zcv"
   },
   "source": [
    "Вы проверили три гипотезы и установили:\n",
    "\n",
    "1. День недели по-разному влияет на активность пользователей в Москве и Петербурге. \n",
    "\n",
    "Первая гипотеза полностью подтвердилась.\n",
    "\n",
    "2. Музыкальные предпочтения не сильно меняются в течение недели — будь то Москва или Петербург. Небольшие различия заметны в начале недели, по понедельникам:\n",
    "* в Москве слушают музыку жанра “world”,\n",
    "* в Петербурге — джаз и классику.\n",
    "\n",
    "Таким образом, вторая гипотеза подтвердилась лишь отчасти. Этот результат мог оказаться иным, если бы не пропуски в данных.\n",
    "\n",
    "3. Во вкусах пользователей Москвы и Петербурга больше общего чем различий. Вопреки ожиданиям, предпочтения жанров в Петербурге напоминают московские.\n",
    "\n",
    "Третья гипотеза не подтвердилась. Если различия в предпочтениях и существуют, на основной массе пользователей они незаметны.\n",
    "\n",
    "**На практике исследования содержат проверки статистических гипотез.**\n",
    "Из данных одного сервиса не всегда можно сделать вывод о всех жителях города.\n",
    "Проверки статистических гипотез покажут, насколько они достоверны, исходя из имеющихся данных. \n",
    "С методами проверок гипотез вы ещё познакомитесь в следующих темах."
   ]
  }
 ],
 "metadata": {
  "ExecuteTimeLog": [
   {
    "duration": 387,
    "start_time": "2022-09-26T09:49:41.601Z"
   },
   {
    "duration": 249,
    "start_time": "2022-09-26T09:51:13.734Z"
   },
   {
    "duration": 68,
    "start_time": "2022-09-26T09:52:09.070Z"
   },
   {
    "duration": 74,
    "start_time": "2022-09-26T09:52:31.796Z"
   },
   {
    "duration": 200,
    "start_time": "2022-09-26T09:52:43.920Z"
   },
   {
    "duration": 7,
    "start_time": "2022-09-26T09:52:49.543Z"
   },
   {
    "duration": 19,
    "start_time": "2022-09-26T09:52:57.248Z"
   },
   {
    "duration": 36,
    "start_time": "2022-09-26T09:57:00.564Z"
   },
   {
    "duration": 9,
    "start_time": "2022-09-26T09:57:12.148Z"
   },
   {
    "duration": 31,
    "start_time": "2022-09-26T09:57:23.491Z"
   },
   {
    "duration": 27,
    "start_time": "2022-09-26T09:57:35.075Z"
   },
   {
    "duration": 29,
    "start_time": "2022-09-26T09:57:56.337Z"
   },
   {
    "duration": 3,
    "start_time": "2022-09-26T10:04:35.107Z"
   },
   {
    "duration": 3,
    "start_time": "2022-09-26T10:04:41.298Z"
   },
   {
    "duration": 2,
    "start_time": "2022-09-26T10:04:55.329Z"
   },
   {
    "duration": 395,
    "start_time": "2022-09-26T10:09:50.960Z"
   },
   {
    "duration": 205,
    "start_time": "2022-09-26T10:09:51.356Z"
   },
   {
    "duration": 24,
    "start_time": "2022-09-26T10:09:51.563Z"
   },
   {
    "duration": 38,
    "start_time": "2022-09-26T10:09:51.590Z"
   },
   {
    "duration": 25,
    "start_time": "2022-09-26T10:09:51.629Z"
   },
   {
    "duration": 14,
    "start_time": "2022-09-26T10:09:51.656Z"
   },
   {
    "duration": 14,
    "start_time": "2022-09-26T10:09:51.672Z"
   },
   {
    "duration": 21,
    "start_time": "2022-09-26T10:09:51.687Z"
   },
   {
    "duration": 12,
    "start_time": "2022-09-26T10:09:51.710Z"
   },
   {
    "duration": 17,
    "start_time": "2022-09-26T10:09:51.725Z"
   },
   {
    "duration": 29,
    "start_time": "2022-09-26T10:09:51.744Z"
   },
   {
    "duration": 12,
    "start_time": "2022-09-26T10:09:51.775Z"
   },
   {
    "duration": 15,
    "start_time": "2022-09-26T10:09:51.788Z"
   },
   {
    "duration": 19,
    "start_time": "2022-09-26T10:09:51.805Z"
   },
   {
    "duration": 10,
    "start_time": "2022-09-26T10:09:51.826Z"
   },
   {
    "duration": 37,
    "start_time": "2022-09-26T10:09:51.837Z"
   },
   {
    "duration": 22,
    "start_time": "2022-09-26T10:09:51.876Z"
   },
   {
    "duration": 25,
    "start_time": "2022-09-26T10:09:51.900Z"
   },
   {
    "duration": 44,
    "start_time": "2022-09-26T10:09:51.927Z"
   },
   {
    "duration": 12,
    "start_time": "2022-09-26T10:09:51.974Z"
   },
   {
    "duration": 16,
    "start_time": "2022-09-26T10:09:51.988Z"
   },
   {
    "duration": 27,
    "start_time": "2022-09-26T10:09:52.006Z"
   },
   {
    "duration": 27,
    "start_time": "2022-09-26T10:09:52.034Z"
   },
   {
    "duration": 17,
    "start_time": "2022-09-26T10:09:52.064Z"
   },
   {
    "duration": 12,
    "start_time": "2022-09-26T10:09:52.083Z"
   },
   {
    "duration": 28,
    "start_time": "2022-09-26T10:09:52.097Z"
   },
   {
    "duration": 14,
    "start_time": "2022-09-26T10:09:52.127Z"
   },
   {
    "duration": 18,
    "start_time": "2022-09-26T10:09:52.145Z"
   },
   {
    "duration": 5,
    "start_time": "2022-09-26T10:09:52.164Z"
   },
   {
    "duration": 95,
    "start_time": "2022-09-26T10:09:52.171Z"
   },
   {
    "duration": 0,
    "start_time": "2022-09-26T10:09:52.268Z"
   },
   {
    "duration": 0,
    "start_time": "2022-09-26T10:09:52.270Z"
   },
   {
    "duration": 0,
    "start_time": "2022-09-26T10:09:52.271Z"
   },
   {
    "duration": 0,
    "start_time": "2022-09-26T10:09:52.272Z"
   },
   {
    "duration": 0,
    "start_time": "2022-09-26T10:09:52.273Z"
   },
   {
    "duration": 0,
    "start_time": "2022-09-26T10:09:52.274Z"
   },
   {
    "duration": 0,
    "start_time": "2022-09-26T10:09:52.275Z"
   },
   {
    "duration": 0,
    "start_time": "2022-09-26T10:09:52.276Z"
   },
   {
    "duration": 3,
    "start_time": "2022-09-26T10:10:30.537Z"
   },
   {
    "duration": 234,
    "start_time": "2022-09-26T10:10:30.542Z"
   },
   {
    "duration": 12,
    "start_time": "2022-09-26T10:10:30.778Z"
   },
   {
    "duration": 86,
    "start_time": "2022-09-26T10:10:30.792Z"
   },
   {
    "duration": 72,
    "start_time": "2022-09-26T10:10:30.880Z"
   },
   {
    "duration": 3,
    "start_time": "2022-09-26T10:11:57.962Z"
   },
   {
    "duration": 190,
    "start_time": "2022-09-26T10:11:57.967Z"
   },
   {
    "duration": 12,
    "start_time": "2022-09-26T10:11:58.159Z"
   },
   {
    "duration": 31,
    "start_time": "2022-09-26T10:11:58.173Z"
   },
   {
    "duration": 2,
    "start_time": "2022-09-26T10:11:58.206Z"
   },
   {
    "duration": 67,
    "start_time": "2022-09-26T10:16:25.355Z"
   },
   {
    "duration": 4,
    "start_time": "2022-09-26T10:16:33.750Z"
   },
   {
    "duration": 4,
    "start_time": "2022-09-26T10:16:53.943Z"
   },
   {
    "duration": 11,
    "start_time": "2022-09-26T10:21:08.103Z"
   },
   {
    "duration": 5,
    "start_time": "2022-09-26T10:21:37.860Z"
   },
   {
    "duration": 26,
    "start_time": "2022-09-26T10:23:15.376Z"
   },
   {
    "duration": 3,
    "start_time": "2022-09-26T10:39:38.352Z"
   },
   {
    "duration": 30,
    "start_time": "2022-09-26T10:40:08.808Z"
   },
   {
    "duration": 3,
    "start_time": "2022-09-26T10:40:29.783Z"
   },
   {
    "duration": 26,
    "start_time": "2022-09-26T10:40:33.494Z"
   },
   {
    "duration": 20,
    "start_time": "2022-09-26T10:46:50.822Z"
   },
   {
    "duration": 26,
    "start_time": "2022-09-26T10:46:58.046Z"
   },
   {
    "duration": 67,
    "start_time": "2022-09-26T10:48:14.219Z"
   },
   {
    "duration": 12,
    "start_time": "2022-09-26T10:49:01.512Z"
   },
   {
    "duration": 77,
    "start_time": "2022-09-26T10:49:30.152Z"
   },
   {
    "duration": 82,
    "start_time": "2022-09-26T11:49:13.877Z"
   },
   {
    "duration": 71,
    "start_time": "2022-09-26T11:49:42.631Z"
   },
   {
    "duration": 103,
    "start_time": "2022-09-26T11:50:09.377Z"
   },
   {
    "duration": 68,
    "start_time": "2022-09-26T11:50:21.663Z"
   },
   {
    "duration": 77,
    "start_time": "2022-09-26T11:50:24.454Z"
   },
   {
    "duration": 73,
    "start_time": "2022-09-26T11:50:35.336Z"
   },
   {
    "duration": 87,
    "start_time": "2022-09-26T11:52:03.323Z"
   },
   {
    "duration": 68,
    "start_time": "2022-09-26T11:52:07.662Z"
   },
   {
    "duration": 6,
    "start_time": "2022-09-26T11:55:20.677Z"
   },
   {
    "duration": 7,
    "start_time": "2022-09-26T11:55:35.528Z"
   },
   {
    "duration": 80,
    "start_time": "2022-09-26T11:55:41.294Z"
   },
   {
    "duration": 12,
    "start_time": "2022-09-26T11:55:46.741Z"
   },
   {
    "duration": 11,
    "start_time": "2022-09-26T11:58:30.591Z"
   },
   {
    "duration": 7,
    "start_time": "2022-09-26T11:58:47.995Z"
   },
   {
    "duration": 9,
    "start_time": "2022-09-26T11:59:06.269Z"
   },
   {
    "duration": 8,
    "start_time": "2022-09-26T11:59:26.949Z"
   },
   {
    "duration": 56,
    "start_time": "2022-09-26T12:02:40.961Z"
   },
   {
    "duration": 50,
    "start_time": "2022-09-26T12:03:17.665Z"
   },
   {
    "duration": 52,
    "start_time": "2022-09-26T12:03:22.673Z"
   },
   {
    "duration": 53,
    "start_time": "2022-09-26T12:03:28.990Z"
   },
   {
    "duration": 51,
    "start_time": "2022-09-26T12:05:09.070Z"
   },
   {
    "duration": 54,
    "start_time": "2022-09-26T12:10:08.823Z"
   },
   {
    "duration": 53,
    "start_time": "2022-09-26T12:10:17.325Z"
   },
   {
    "duration": 97,
    "start_time": "2022-09-26T12:11:45.005Z"
   },
   {
    "duration": 47,
    "start_time": "2022-09-26T12:12:48.845Z"
   },
   {
    "duration": 8,
    "start_time": "2022-09-26T12:12:56.915Z"
   },
   {
    "duration": 53,
    "start_time": "2022-09-26T12:13:33.365Z"
   },
   {
    "duration": 59,
    "start_time": "2022-09-26T12:13:44.837Z"
   },
   {
    "duration": 50,
    "start_time": "2022-09-26T12:13:59.647Z"
   },
   {
    "duration": 58,
    "start_time": "2022-09-26T12:14:10.967Z"
   },
   {
    "duration": 59,
    "start_time": "2022-09-26T12:14:18.175Z"
   },
   {
    "duration": 53,
    "start_time": "2022-09-26T12:14:24.950Z"
   },
   {
    "duration": 48,
    "start_time": "2022-09-26T12:14:45.694Z"
   },
   {
    "duration": 52,
    "start_time": "2022-09-26T12:14:56.254Z"
   },
   {
    "duration": 51,
    "start_time": "2022-09-26T12:15:14.600Z"
   },
   {
    "duration": 50,
    "start_time": "2022-09-26T12:16:37.888Z"
   },
   {
    "duration": 8,
    "start_time": "2022-09-26T12:16:51.266Z"
   },
   {
    "duration": 8,
    "start_time": "2022-09-26T12:16:57.146Z"
   },
   {
    "duration": 8,
    "start_time": "2022-09-26T12:17:09.336Z"
   },
   {
    "duration": 8,
    "start_time": "2022-09-26T12:17:26.968Z"
   },
   {
    "duration": 3,
    "start_time": "2022-09-26T12:17:50.759Z"
   },
   {
    "duration": 180,
    "start_time": "2022-09-26T12:17:50.764Z"
   },
   {
    "duration": 16,
    "start_time": "2022-09-26T12:17:50.946Z"
   },
   {
    "duration": 42,
    "start_time": "2022-09-26T12:17:50.964Z"
   },
   {
    "duration": 3,
    "start_time": "2022-09-26T12:17:51.008Z"
   },
   {
    "duration": 15,
    "start_time": "2022-09-26T12:17:51.013Z"
   },
   {
    "duration": 17,
    "start_time": "2022-09-26T12:17:51.030Z"
   },
   {
    "duration": 5,
    "start_time": "2022-09-26T12:17:51.050Z"
   },
   {
    "duration": 27,
    "start_time": "2022-09-26T12:17:51.057Z"
   },
   {
    "duration": 18,
    "start_time": "2022-09-26T12:17:51.086Z"
   },
   {
    "duration": 49,
    "start_time": "2022-09-26T12:17:51.106Z"
   },
   {
    "duration": 66,
    "start_time": "2022-09-26T12:17:51.157Z"
   },
   {
    "duration": 99,
    "start_time": "2022-09-26T12:17:51.225Z"
   },
   {
    "duration": 62,
    "start_time": "2022-09-26T12:17:59.640Z"
   },
   {
    "duration": 57,
    "start_time": "2022-09-26T12:18:01.663Z"
   },
   {
    "duration": 75,
    "start_time": "2022-09-26T12:24:21.075Z"
   },
   {
    "duration": 71,
    "start_time": "2022-09-26T12:24:30.833Z"
   },
   {
    "duration": 55,
    "start_time": "2022-09-26T12:26:54.428Z"
   },
   {
    "duration": 70,
    "start_time": "2022-09-26T12:27:11.508Z"
   },
   {
    "duration": 52,
    "start_time": "2022-09-26T12:27:18.180Z"
   },
   {
    "duration": 10,
    "start_time": "2022-09-26T12:33:19.195Z"
   },
   {
    "duration": 50,
    "start_time": "2022-09-26T12:33:57.674Z"
   },
   {
    "duration": 8,
    "start_time": "2022-09-26T12:34:26.785Z"
   },
   {
    "duration": 13,
    "start_time": "2022-09-26T12:36:32.708Z"
   },
   {
    "duration": 377,
    "start_time": "2022-09-26T12:37:47.589Z"
   },
   {
    "duration": 181,
    "start_time": "2022-09-26T12:37:47.968Z"
   },
   {
    "duration": 19,
    "start_time": "2022-09-26T12:37:48.151Z"
   },
   {
    "duration": 30,
    "start_time": "2022-09-26T12:37:48.172Z"
   },
   {
    "duration": 2,
    "start_time": "2022-09-26T12:37:48.204Z"
   },
   {
    "duration": 8,
    "start_time": "2022-09-26T12:37:48.208Z"
   },
   {
    "duration": 40,
    "start_time": "2022-09-26T12:37:48.218Z"
   },
   {
    "duration": 15,
    "start_time": "2022-09-26T12:37:48.260Z"
   },
   {
    "duration": 26,
    "start_time": "2022-09-26T12:37:48.277Z"
   },
   {
    "duration": 20,
    "start_time": "2022-09-26T12:37:48.307Z"
   },
   {
    "duration": 36,
    "start_time": "2022-09-26T12:37:48.329Z"
   },
   {
    "duration": 70,
    "start_time": "2022-09-26T12:37:48.367Z"
   },
   {
    "duration": 94,
    "start_time": "2022-09-26T12:37:48.439Z"
   },
   {
    "duration": 87,
    "start_time": "2022-09-26T12:37:48.535Z"
   },
   {
    "duration": 66,
    "start_time": "2022-09-26T12:37:48.625Z"
   },
   {
    "duration": 10,
    "start_time": "2022-09-26T12:37:48.693Z"
   },
   {
    "duration": 9,
    "start_time": "2022-09-26T12:37:48.705Z"
   },
   {
    "duration": 5,
    "start_time": "2022-09-26T12:37:48.716Z"
   },
   {
    "duration": 7,
    "start_time": "2022-09-26T12:37:48.723Z"
   },
   {
    "duration": 22,
    "start_time": "2022-09-26T12:37:48.732Z"
   },
   {
    "duration": 7,
    "start_time": "2022-09-26T12:37:48.756Z"
   },
   {
    "duration": 9,
    "start_time": "2022-09-26T12:37:48.765Z"
   },
   {
    "duration": 8,
    "start_time": "2022-09-26T12:37:48.776Z"
   },
   {
    "duration": 11,
    "start_time": "2022-09-26T12:37:48.786Z"
   },
   {
    "duration": 21,
    "start_time": "2022-09-26T12:37:48.799Z"
   },
   {
    "duration": 10,
    "start_time": "2022-09-26T12:37:48.821Z"
   },
   {
    "duration": 5,
    "start_time": "2022-09-26T12:37:48.832Z"
   },
   {
    "duration": 7,
    "start_time": "2022-09-26T12:37:48.841Z"
   },
   {
    "duration": 8,
    "start_time": "2022-09-26T12:37:48.849Z"
   },
   {
    "duration": 53,
    "start_time": "2022-09-26T12:37:48.858Z"
   },
   {
    "duration": 0,
    "start_time": "2022-09-26T12:37:48.913Z"
   },
   {
    "duration": 0,
    "start_time": "2022-09-26T12:37:48.914Z"
   },
   {
    "duration": 0,
    "start_time": "2022-09-26T12:37:48.915Z"
   },
   {
    "duration": 0,
    "start_time": "2022-09-26T12:37:48.916Z"
   },
   {
    "duration": 0,
    "start_time": "2022-09-26T12:37:48.917Z"
   },
   {
    "duration": 0,
    "start_time": "2022-09-26T12:37:48.919Z"
   },
   {
    "duration": 0,
    "start_time": "2022-09-26T12:37:48.920Z"
   },
   {
    "duration": 0,
    "start_time": "2022-09-26T12:37:48.921Z"
   },
   {
    "duration": 51,
    "start_time": "2022-09-26T12:38:36.761Z"
   },
   {
    "duration": 9,
    "start_time": "2022-09-26T12:38:43.502Z"
   },
   {
    "duration": 10,
    "start_time": "2022-09-26T12:38:46.868Z"
   },
   {
    "duration": 51,
    "start_time": "2022-09-26T12:39:45.960Z"
   },
   {
    "duration": 13,
    "start_time": "2022-09-26T12:42:20.213Z"
   },
   {
    "duration": 10,
    "start_time": "2022-09-26T12:42:34.861Z"
   },
   {
    "duration": 13,
    "start_time": "2022-09-26T12:43:12.451Z"
   },
   {
    "duration": 13,
    "start_time": "2022-09-26T12:43:35.908Z"
   },
   {
    "duration": 10,
    "start_time": "2022-09-26T12:43:49.060Z"
   },
   {
    "duration": 15,
    "start_time": "2022-09-26T12:43:55.604Z"
   },
   {
    "duration": 10,
    "start_time": "2022-09-26T12:44:42.179Z"
   },
   {
    "duration": 72,
    "start_time": "2022-09-26T12:47:30.098Z"
   },
   {
    "duration": 9,
    "start_time": "2022-09-26T12:47:38.193Z"
   },
   {
    "duration": 10,
    "start_time": "2022-09-26T12:49:11.825Z"
   },
   {
    "duration": 3,
    "start_time": "2022-09-26T12:50:50.701Z"
   },
   {
    "duration": 183,
    "start_time": "2022-09-26T12:50:50.707Z"
   },
   {
    "duration": 11,
    "start_time": "2022-09-26T12:50:50.893Z"
   },
   {
    "duration": 59,
    "start_time": "2022-09-26T12:50:50.906Z"
   },
   {
    "duration": 2,
    "start_time": "2022-09-26T12:50:50.968Z"
   },
   {
    "duration": 7,
    "start_time": "2022-09-26T12:50:50.972Z"
   },
   {
    "duration": 31,
    "start_time": "2022-09-26T12:50:50.980Z"
   },
   {
    "duration": 7,
    "start_time": "2022-09-26T12:50:51.013Z"
   },
   {
    "duration": 27,
    "start_time": "2022-09-26T12:50:51.022Z"
   },
   {
    "duration": 21,
    "start_time": "2022-09-26T12:50:51.051Z"
   },
   {
    "duration": 22,
    "start_time": "2022-09-26T12:50:51.075Z"
   },
   {
    "duration": 76,
    "start_time": "2022-09-26T12:50:51.098Z"
   },
   {
    "duration": 80,
    "start_time": "2022-09-26T12:50:51.175Z"
   },
   {
    "duration": 66,
    "start_time": "2022-09-26T12:50:51.256Z"
   },
   {
    "duration": 10,
    "start_time": "2022-09-26T12:50:51.323Z"
   },
   {
    "duration": 29,
    "start_time": "2022-09-26T12:50:51.334Z"
   },
   {
    "duration": 18,
    "start_time": "2022-09-26T12:50:51.365Z"
   },
   {
    "duration": 10,
    "start_time": "2022-09-26T13:03:24.011Z"
   },
   {
    "duration": 12,
    "start_time": "2022-09-26T13:06:44.776Z"
   },
   {
    "duration": 8,
    "start_time": "2022-09-26T13:06:58.081Z"
   },
   {
    "duration": 19,
    "start_time": "2022-09-26T13:10:00.920Z"
   },
   {
    "duration": 28,
    "start_time": "2022-09-26T13:10:53.717Z"
   },
   {
    "duration": 37,
    "start_time": "2022-09-26T13:11:37.608Z"
   },
   {
    "duration": 27,
    "start_time": "2022-09-26T13:13:57.963Z"
   },
   {
    "duration": 25,
    "start_time": "2022-09-26T13:15:39.705Z"
   },
   {
    "duration": 11,
    "start_time": "2022-09-26T13:16:44.533Z"
   },
   {
    "duration": 12,
    "start_time": "2022-09-26T13:17:18.468Z"
   },
   {
    "duration": 3,
    "start_time": "2022-09-26T13:18:08.598Z"
   },
   {
    "duration": 17,
    "start_time": "2022-09-26T13:18:27.301Z"
   },
   {
    "duration": 18,
    "start_time": "2022-09-26T13:18:49.747Z"
   },
   {
    "duration": 18,
    "start_time": "2022-09-26T13:20:02.014Z"
   },
   {
    "duration": 16,
    "start_time": "2022-09-26T13:22:02.765Z"
   },
   {
    "duration": 5198,
    "start_time": "2022-09-26T13:22:21.923Z"
   },
   {
    "duration": 12,
    "start_time": "2022-09-26T13:22:48.854Z"
   },
   {
    "duration": 12,
    "start_time": "2022-09-26T13:22:52.917Z"
   },
   {
    "duration": 8,
    "start_time": "2022-09-26T13:23:02.636Z"
   },
   {
    "duration": 16,
    "start_time": "2022-09-26T13:23:24.348Z"
   },
   {
    "duration": 38,
    "start_time": "2022-09-26T13:23:52.923Z"
   },
   {
    "duration": 34,
    "start_time": "2022-09-26T13:24:37.986Z"
   },
   {
    "duration": 32,
    "start_time": "2022-09-26T13:24:57.660Z"
   },
   {
    "duration": 30,
    "start_time": "2022-09-26T13:25:17.886Z"
   },
   {
    "duration": 55,
    "start_time": "2022-09-26T13:52:07.353Z"
   },
   {
    "duration": 4,
    "start_time": "2022-09-26T13:58:49.554Z"
   },
   {
    "duration": 14,
    "start_time": "2022-09-26T14:02:18.134Z"
   },
   {
    "duration": 5,
    "start_time": "2022-09-26T14:05:12.698Z"
   },
   {
    "duration": 4,
    "start_time": "2022-09-26T14:05:15.292Z"
   },
   {
    "duration": 17,
    "start_time": "2022-09-26T14:05:19.690Z"
   },
   {
    "duration": 11,
    "start_time": "2022-09-26T14:05:32.218Z"
   },
   {
    "duration": 14,
    "start_time": "2022-09-26T14:05:33.934Z"
   },
   {
    "duration": 5,
    "start_time": "2022-09-26T14:07:27.806Z"
   },
   {
    "duration": 15,
    "start_time": "2022-09-26T14:07:29.949Z"
   },
   {
    "duration": 3,
    "start_time": "2022-09-26T14:09:03.974Z"
   },
   {
    "duration": 18,
    "start_time": "2022-09-26T14:09:06.459Z"
   },
   {
    "duration": 5,
    "start_time": "2022-09-26T14:09:19.773Z"
   },
   {
    "duration": 871,
    "start_time": "2022-09-26T14:09:21.651Z"
   },
   {
    "duration": 63,
    "start_time": "2022-09-26T14:14:43.259Z"
   },
   {
    "duration": 81,
    "start_time": "2022-09-26T14:15:34.515Z"
   },
   {
    "duration": 106,
    "start_time": "2022-09-26T14:15:54.937Z"
   },
   {
    "duration": 55,
    "start_time": "2022-09-26T14:19:37.083Z"
   },
   {
    "duration": 131,
    "start_time": "2022-09-26T14:20:55.082Z"
   },
   {
    "duration": 110,
    "start_time": "2022-09-26T14:40:11.607Z"
   },
   {
    "duration": 4,
    "start_time": "2022-09-26T14:41:21.049Z"
   },
   {
    "duration": 14,
    "start_time": "2022-09-26T14:41:30.986Z"
   },
   {
    "duration": 5,
    "start_time": "2022-09-26T14:42:18.823Z"
   },
   {
    "duration": 4,
    "start_time": "2022-09-26T14:42:48.952Z"
   },
   {
    "duration": 15,
    "start_time": "2022-09-26T14:42:50.989Z"
   },
   {
    "duration": 4,
    "start_time": "2022-09-26T14:43:09.005Z"
   },
   {
    "duration": 4,
    "start_time": "2022-09-26T14:50:45.734Z"
   },
   {
    "duration": 13,
    "start_time": "2022-09-26T14:50:47.565Z"
   },
   {
    "duration": 4,
    "start_time": "2022-09-26T14:51:41.408Z"
   },
   {
    "duration": 14,
    "start_time": "2022-09-26T14:51:42.557Z"
   },
   {
    "duration": 3,
    "start_time": "2022-09-26T14:52:25.766Z"
   },
   {
    "duration": 186,
    "start_time": "2022-09-26T14:52:25.771Z"
   },
   {
    "duration": 12,
    "start_time": "2022-09-26T14:52:25.960Z"
   },
   {
    "duration": 35,
    "start_time": "2022-09-26T14:52:25.975Z"
   },
   {
    "duration": 18,
    "start_time": "2022-09-26T14:52:26.012Z"
   },
   {
    "duration": 6,
    "start_time": "2022-09-26T14:52:26.032Z"
   },
   {
    "duration": 20,
    "start_time": "2022-09-26T14:52:26.040Z"
   },
   {
    "duration": 4,
    "start_time": "2022-09-26T14:52:26.062Z"
   },
   {
    "duration": 29,
    "start_time": "2022-09-26T14:52:26.069Z"
   },
   {
    "duration": 19,
    "start_time": "2022-09-26T14:52:26.099Z"
   },
   {
    "duration": 43,
    "start_time": "2022-09-26T14:52:26.120Z"
   },
   {
    "duration": 66,
    "start_time": "2022-09-26T14:52:26.165Z"
   },
   {
    "duration": 94,
    "start_time": "2022-09-26T14:52:26.233Z"
   },
   {
    "duration": 77,
    "start_time": "2022-09-26T14:52:26.329Z"
   },
   {
    "duration": 10,
    "start_time": "2022-09-26T14:52:26.408Z"
   },
   {
    "duration": 93,
    "start_time": "2022-09-26T14:52:26.420Z"
   },
   {
    "duration": 28,
    "start_time": "2022-09-26T14:52:26.515Z"
   },
   {
    "duration": 23,
    "start_time": "2022-09-26T14:52:26.545Z"
   },
   {
    "duration": 32,
    "start_time": "2022-09-26T14:52:26.570Z"
   },
   {
    "duration": 35,
    "start_time": "2022-09-26T14:52:26.604Z"
   },
   {
    "duration": 15,
    "start_time": "2022-09-26T14:52:26.641Z"
   },
   {
    "duration": 4,
    "start_time": "2022-09-26T14:52:33.695Z"
   },
   {
    "duration": 15,
    "start_time": "2022-09-26T14:52:34.788Z"
   },
   {
    "duration": 4,
    "start_time": "2022-09-26T14:53:14.943Z"
   },
   {
    "duration": 13,
    "start_time": "2022-09-26T14:53:15.923Z"
   },
   {
    "duration": 4,
    "start_time": "2022-09-26T14:53:42.460Z"
   },
   {
    "duration": 14,
    "start_time": "2022-09-26T14:53:43.745Z"
   },
   {
    "duration": 5,
    "start_time": "2022-09-26T14:53:48.940Z"
   },
   {
    "duration": 15,
    "start_time": "2022-09-26T14:53:49.913Z"
   },
   {
    "duration": 4,
    "start_time": "2022-09-26T14:54:47.976Z"
   },
   {
    "duration": 13,
    "start_time": "2022-09-26T14:54:48.976Z"
   },
   {
    "duration": 39,
    "start_time": "2022-09-26T15:25:40.512Z"
   },
   {
    "duration": 13,
    "start_time": "2022-09-26T15:25:50.230Z"
   },
   {
    "duration": 14,
    "start_time": "2022-09-26T15:26:38.870Z"
   },
   {
    "duration": 14,
    "start_time": "2022-09-26T15:27:10.710Z"
   },
   {
    "duration": 4,
    "start_time": "2022-09-26T15:29:41.296Z"
   },
   {
    "duration": 13,
    "start_time": "2022-09-26T15:30:28.229Z"
   },
   {
    "duration": 5,
    "start_time": "2022-09-26T15:30:40.652Z"
   },
   {
    "duration": 18,
    "start_time": "2022-09-26T15:30:41.749Z"
   },
   {
    "duration": 12,
    "start_time": "2022-09-26T15:31:06.595Z"
   },
   {
    "duration": 99,
    "start_time": "2022-09-26T15:32:17.490Z"
   },
   {
    "duration": 11,
    "start_time": "2022-09-26T15:32:28.268Z"
   },
   {
    "duration": 20,
    "start_time": "2022-09-26T15:34:15.620Z"
   },
   {
    "duration": 17,
    "start_time": "2022-09-26T15:36:24.075Z"
   },
   {
    "duration": 18,
    "start_time": "2022-09-26T15:36:24.714Z"
   },
   {
    "duration": 15,
    "start_time": "2022-09-26T15:36:25.231Z"
   },
   {
    "duration": 24,
    "start_time": "2022-09-26T15:36:25.749Z"
   },
   {
    "duration": 14,
    "start_time": "2022-09-26T15:36:26.260Z"
   },
   {
    "duration": 14,
    "start_time": "2022-09-26T15:41:12.671Z"
   },
   {
    "duration": 9,
    "start_time": "2022-09-26T15:41:41.647Z"
   },
   {
    "duration": 10,
    "start_time": "2022-09-26T15:42:53.442Z"
   },
   {
    "duration": 11,
    "start_time": "2022-09-26T15:43:07.853Z"
   },
   {
    "duration": 12,
    "start_time": "2022-09-26T15:43:12.099Z"
   },
   {
    "duration": 4,
    "start_time": "2022-09-26T15:46:00.042Z"
   },
   {
    "duration": 37,
    "start_time": "2022-09-26T15:46:12.844Z"
   },
   {
    "duration": 117,
    "start_time": "2022-09-26T15:47:03.615Z"
   },
   {
    "duration": 59,
    "start_time": "2022-09-26T15:48:22.986Z"
   },
   {
    "duration": 9,
    "start_time": "2022-09-26T15:48:27.401Z"
   },
   {
    "duration": 10,
    "start_time": "2022-09-26T15:52:53.921Z"
   },
   {
    "duration": 10,
    "start_time": "2022-09-26T15:53:34.479Z"
   },
   {
    "duration": 10,
    "start_time": "2022-09-26T15:58:40.315Z"
   },
   {
    "duration": 7,
    "start_time": "2022-09-26T15:58:54.626Z"
   },
   {
    "duration": 9,
    "start_time": "2022-09-26T15:59:22.441Z"
   },
   {
    "duration": 963,
    "start_time": "2022-09-26T15:59:31.895Z"
   },
   {
    "duration": 3,
    "start_time": "2022-09-26T16:03:20.172Z"
   },
   {
    "duration": 6,
    "start_time": "2022-09-26T16:03:29.635Z"
   },
   {
    "duration": 13,
    "start_time": "2022-09-26T16:08:34.340Z"
   },
   {
    "duration": 15,
    "start_time": "2022-09-26T16:09:20.641Z"
   },
   {
    "duration": 5,
    "start_time": "2022-09-26T16:20:10.783Z"
   },
   {
    "duration": 5,
    "start_time": "2022-09-26T16:23:30.674Z"
   },
   {
    "duration": 15,
    "start_time": "2022-09-26T16:40:15.111Z"
   },
   {
    "duration": 17,
    "start_time": "2022-09-26T16:40:56.058Z"
   },
   {
    "duration": 14,
    "start_time": "2022-09-26T16:43:18.864Z"
   },
   {
    "duration": 14,
    "start_time": "2022-09-26T16:43:22.441Z"
   },
   {
    "duration": 13,
    "start_time": "2022-09-26T16:43:57.996Z"
   },
   {
    "duration": 14,
    "start_time": "2022-09-26T16:43:58.650Z"
   },
   {
    "duration": 5,
    "start_time": "2022-09-26T16:44:00.979Z"
   },
   {
    "duration": 24,
    "start_time": "2022-09-26T16:44:02.546Z"
   },
   {
    "duration": 15,
    "start_time": "2022-09-26T16:44:03.994Z"
   },
   {
    "duration": 21,
    "start_time": "2022-09-26T16:44:04.569Z"
   },
   {
    "duration": 14,
    "start_time": "2022-09-26T16:44:06.114Z"
   },
   {
    "duration": 9,
    "start_time": "2022-09-26T16:49:30.831Z"
   },
   {
    "duration": 25,
    "start_time": "2022-09-26T16:49:49.958Z"
   },
   {
    "duration": 39,
    "start_time": "2022-09-26T16:51:42.853Z"
   },
   {
    "duration": 26,
    "start_time": "2022-09-26T16:52:23.739Z"
   },
   {
    "duration": 7,
    "start_time": "2022-09-26T16:52:54.839Z"
   },
   {
    "duration": 9,
    "start_time": "2022-09-26T16:57:59.883Z"
   },
   {
    "duration": 9,
    "start_time": "2022-09-26T16:58:26.284Z"
   },
   {
    "duration": 8,
    "start_time": "2022-09-26T16:59:04.429Z"
   },
   {
    "duration": 8,
    "start_time": "2022-09-26T17:00:38.853Z"
   },
   {
    "duration": 8,
    "start_time": "2022-09-26T17:01:32.560Z"
   },
   {
    "duration": 8,
    "start_time": "2022-09-26T17:01:56.454Z"
   },
   {
    "duration": 9,
    "start_time": "2022-09-26T17:02:43.256Z"
   },
   {
    "duration": 4,
    "start_time": "2022-09-26T17:06:35.513Z"
   },
   {
    "duration": 8,
    "start_time": "2022-09-26T17:07:20.473Z"
   },
   {
    "duration": 8,
    "start_time": "2022-09-26T17:09:34.221Z"
   },
   {
    "duration": 8,
    "start_time": "2022-09-26T17:10:04.421Z"
   },
   {
    "duration": 3,
    "start_time": "2022-09-26T17:11:31.958Z"
   },
   {
    "duration": 191,
    "start_time": "2022-09-26T17:11:31.963Z"
   },
   {
    "duration": 13,
    "start_time": "2022-09-26T17:11:32.156Z"
   },
   {
    "duration": 35,
    "start_time": "2022-09-26T17:11:32.171Z"
   },
   {
    "duration": 5,
    "start_time": "2022-09-26T17:11:32.208Z"
   },
   {
    "duration": 8,
    "start_time": "2022-09-26T17:11:32.215Z"
   },
   {
    "duration": 29,
    "start_time": "2022-09-26T17:11:32.225Z"
   },
   {
    "duration": 5,
    "start_time": "2022-09-26T17:11:32.256Z"
   },
   {
    "duration": 29,
    "start_time": "2022-09-26T17:11:32.263Z"
   },
   {
    "duration": 32,
    "start_time": "2022-09-26T17:11:32.294Z"
   },
   {
    "duration": 39,
    "start_time": "2022-09-26T17:11:32.329Z"
   },
   {
    "duration": 103,
    "start_time": "2022-09-26T17:11:32.370Z"
   },
   {
    "duration": 114,
    "start_time": "2022-09-26T17:11:32.475Z"
   },
   {
    "duration": 118,
    "start_time": "2022-09-26T17:11:32.591Z"
   },
   {
    "duration": 16,
    "start_time": "2022-09-26T17:11:32.711Z"
   },
   {
    "duration": 25,
    "start_time": "2022-09-26T17:11:32.729Z"
   },
   {
    "duration": 12,
    "start_time": "2022-09-26T17:11:32.756Z"
   },
   {
    "duration": 17,
    "start_time": "2022-09-26T17:11:32.770Z"
   },
   {
    "duration": 12,
    "start_time": "2022-09-26T17:11:32.789Z"
   },
   {
    "duration": 4,
    "start_time": "2022-09-26T17:11:32.804Z"
   },
   {
    "duration": 56,
    "start_time": "2022-09-26T17:11:32.811Z"
   },
   {
    "duration": 16,
    "start_time": "2022-09-26T17:11:32.870Z"
   },
   {
    "duration": 22,
    "start_time": "2022-09-26T17:11:32.888Z"
   },
   {
    "duration": 17,
    "start_time": "2022-09-26T17:11:32.913Z"
   },
   {
    "duration": 23,
    "start_time": "2022-09-26T17:11:32.954Z"
   },
   {
    "duration": 19,
    "start_time": "2022-09-26T17:11:32.978Z"
   },
   {
    "duration": 12,
    "start_time": "2022-09-26T17:11:32.999Z"
   },
   {
    "duration": 41,
    "start_time": "2022-09-26T17:11:33.013Z"
   },
   {
    "duration": 17,
    "start_time": "2022-09-26T17:11:33.056Z"
   },
   {
    "duration": 6,
    "start_time": "2022-09-26T17:11:33.074Z"
   },
   {
    "duration": 28,
    "start_time": "2022-09-26T17:11:33.081Z"
   },
   {
    "duration": 13,
    "start_time": "2022-09-26T17:11:33.112Z"
   },
   {
    "duration": 44,
    "start_time": "2022-09-26T17:11:33.127Z"
   },
   {
    "duration": 16,
    "start_time": "2022-09-26T17:11:33.173Z"
   },
   {
    "duration": 12,
    "start_time": "2022-09-26T17:11:45.106Z"
   },
   {
    "duration": 7,
    "start_time": "2022-09-26T19:12:21.807Z"
   },
   {
    "duration": 5,
    "start_time": "2022-09-26T19:12:45.889Z"
   },
   {
    "duration": 5,
    "start_time": "2022-09-26T19:13:06.360Z"
   },
   {
    "duration": 6,
    "start_time": "2022-09-26T19:16:01.950Z"
   },
   {
    "duration": 6,
    "start_time": "2022-09-26T19:16:16.574Z"
   },
   {
    "duration": 387,
    "start_time": "2022-09-26T19:20:34.422Z"
   },
   {
    "duration": 177,
    "start_time": "2022-09-26T19:20:34.811Z"
   },
   {
    "duration": 17,
    "start_time": "2022-09-26T19:20:34.990Z"
   },
   {
    "duration": 34,
    "start_time": "2022-09-26T19:20:35.008Z"
   },
   {
    "duration": 2,
    "start_time": "2022-09-26T19:20:35.045Z"
   },
   {
    "duration": 9,
    "start_time": "2022-09-26T19:20:35.049Z"
   },
   {
    "duration": 40,
    "start_time": "2022-09-26T19:20:35.060Z"
   },
   {
    "duration": 8,
    "start_time": "2022-09-26T19:20:35.102Z"
   },
   {
    "duration": 32,
    "start_time": "2022-09-26T19:20:35.111Z"
   },
   {
    "duration": 20,
    "start_time": "2022-09-26T19:20:35.145Z"
   },
   {
    "duration": 44,
    "start_time": "2022-09-26T19:20:35.167Z"
   },
   {
    "duration": 86,
    "start_time": "2022-09-26T19:20:35.213Z"
   },
   {
    "duration": 94,
    "start_time": "2022-09-26T19:20:35.301Z"
   },
   {
    "duration": 68,
    "start_time": "2022-09-26T19:20:35.401Z"
   },
   {
    "duration": 24,
    "start_time": "2022-09-26T19:20:35.471Z"
   },
   {
    "duration": 40,
    "start_time": "2022-09-26T19:20:35.496Z"
   },
   {
    "duration": 14,
    "start_time": "2022-09-26T19:20:35.537Z"
   },
   {
    "duration": 14,
    "start_time": "2022-09-26T19:20:35.553Z"
   },
   {
    "duration": 12,
    "start_time": "2022-09-26T19:20:35.569Z"
   },
   {
    "duration": 34,
    "start_time": "2022-09-26T19:20:35.583Z"
   },
   {
    "duration": 24,
    "start_time": "2022-09-26T19:20:35.619Z"
   },
   {
    "duration": 18,
    "start_time": "2022-09-26T19:20:35.645Z"
   },
   {
    "duration": 16,
    "start_time": "2022-09-26T19:20:35.665Z"
   },
   {
    "duration": 29,
    "start_time": "2022-09-26T19:20:35.683Z"
   },
   {
    "duration": 17,
    "start_time": "2022-09-26T19:20:35.714Z"
   },
   {
    "duration": 29,
    "start_time": "2022-09-26T19:20:35.733Z"
   },
   {
    "duration": 10,
    "start_time": "2022-09-26T19:20:35.764Z"
   },
   {
    "duration": 15,
    "start_time": "2022-09-26T19:20:35.776Z"
   },
   {
    "duration": 22,
    "start_time": "2022-09-26T19:20:35.793Z"
   },
   {
    "duration": 15,
    "start_time": "2022-09-26T19:20:35.817Z"
   },
   {
    "duration": 32,
    "start_time": "2022-09-26T19:20:35.834Z"
   },
   {
    "duration": 12,
    "start_time": "2022-09-26T19:20:35.868Z"
   },
   {
    "duration": 23,
    "start_time": "2022-09-26T19:20:35.882Z"
   },
   {
    "duration": 15,
    "start_time": "2022-09-26T19:20:35.907Z"
   },
   {
    "duration": 10,
    "start_time": "2022-09-26T19:20:35.923Z"
   },
   {
    "duration": 4,
    "start_time": "2022-09-26T19:20:35.934Z"
   },
   {
    "duration": 9,
    "start_time": "2022-09-26T19:20:35.940Z"
   },
   {
    "duration": 4,
    "start_time": "2022-09-26T19:20:35.951Z"
   },
   {
    "duration": 85,
    "start_time": "2022-09-26T19:29:30.252Z"
   },
   {
    "duration": 75,
    "start_time": "2022-09-26T19:29:33.394Z"
   },
   {
    "duration": 55,
    "start_time": "2022-09-26T19:29:37.666Z"
   },
   {
    "duration": 41,
    "start_time": "2022-09-26T19:30:46.838Z"
   },
   {
    "duration": 63,
    "start_time": "2022-09-26T19:32:27.852Z"
   },
   {
    "duration": 8,
    "start_time": "2022-09-26T19:32:56.400Z"
   },
   {
    "duration": 17,
    "start_time": "2022-09-26T19:39:24.161Z"
   },
   {
    "duration": 43,
    "start_time": "2022-09-26T19:39:35.827Z"
   },
   {
    "duration": 10,
    "start_time": "2022-09-26T19:39:41.177Z"
   },
   {
    "duration": 70,
    "start_time": "2022-09-26T19:41:11.740Z"
   },
   {
    "duration": 11,
    "start_time": "2022-09-26T19:42:11.778Z"
   },
   {
    "duration": 41,
    "start_time": "2022-09-26T19:42:28.866Z"
   },
   {
    "duration": 13,
    "start_time": "2022-09-26T19:48:37.192Z"
   },
   {
    "duration": 23,
    "start_time": "2022-09-26T19:48:42.053Z"
   }
  ],
  "colab": {
   "collapsed_sections": [
    "E0vqbgi9ay0H",
    "VUC88oWjTJw2"
   ],
   "name": "automatization_template_upd4.ipynb",
   "provenance": []
  },
  "kernelspec": {
   "display_name": "gym",
   "language": "python",
   "name": "gym"
  },
  "language_info": {
   "codemirror_mode": {
    "name": "ipython",
    "version": 3
   },
   "file_extension": ".py",
   "mimetype": "text/x-python",
   "name": "python",
   "nbconvert_exporter": "python",
   "pygments_lexer": "ipython3",
   "version": "3.9.13"
  },
  "toc": {
   "base_numbering": 1,
   "nav_menu": {
    "height": "215px",
    "width": "403px"
   },
   "number_sections": true,
   "sideBar": true,
   "skip_h1_title": true,
   "title_cell": "Table of Contents",
   "title_sidebar": "Contents",
   "toc_cell": false,
   "toc_position": {
    "height": "calc(100% - 180px)",
    "left": "10px",
    "top": "150px",
    "width": "285.825px"
   },
   "toc_section_display": true,
   "toc_window_display": false
  },
  "vscode": {
   "interpreter": {
    "hash": "89185f1d76ef577cc2d4739618d89e54ce27dc64c7072a3fa05407085d934f49"
   }
  }
 },
 "nbformat": 4,
 "nbformat_minor": 1
}
